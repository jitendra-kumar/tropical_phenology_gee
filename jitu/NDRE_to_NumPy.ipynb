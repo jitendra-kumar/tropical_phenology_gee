{
 "cells": [
  {
   "cell_type": "markdown",
   "metadata": {},
   "source": [
    "Dervied from Example at:\n",
    "https://mygeoblog.com/2019/08/21/google-earth-engine-to-numpy/"
   ]
  },
  {
   "cell_type": "code",
   "execution_count": 1,
   "metadata": {},
   "outputs": [],
   "source": [
    "import ee\n",
    "import numpy as np\n",
    "#from osgeo import gdal\n",
    "#from osgeo import osr\n",
    "import time\n",
    " \n",
    "# init the ee object\n",
    "ee.Initialize()\n",
    " \n",
    " \n",
    " \n"
   ]
  },
  {
   "cell_type": "code",
   "execution_count": 2,
   "metadata": {},
   "outputs": [
    {
     "name": "stdout",
     "output_type": "stream",
     "text": [
      " number of image:  12\n"
     ]
    }
   ],
   "source": [
    "# Define the roi\n",
    "#brma2_point = ee.Geometry.Point(-60.20929722, -2.609097222)\n",
    "area = ee.Geometry.Rectangle(-60.50, -2.85, -60.00, -2.35)\n",
    "#area = ee.Geometry.Rectangle(-60.25, -2.70, -60.00, -2.50)\n",
    "#area = ee.Geometry.Polygon([[105.4084512289977,12.960956032145036],\\\n",
    "#                            [105.46544280614614,12.960956032145036],\\\n",
    "#                            [105.46544280614614,13.006454200439705],\\\n",
    "#                            [105.4084512289977,13.006454200439705],\\\n",
    "#                            [105.4084512289977,12.960956032145036]])\n",
    " \n",
    "# define the image\n",
    "collection = ee.ImageCollection(\"COPERNICUS/S2\").filterBounds(area)\\\n",
    "                                      .filterDate(\"2019-01-01\",\"2019-01-31\")\\\n",
    "                                      .filterMetadata(\"CLOUDY_PIXEL_PERCENTAGE\",\"less_than\",50)\\\n",
    "                                      .select(['B8', 'B5'])\n",
    " \n",
    "print(\" number of image: \",collection.size().getInfo())\n",
    "#print(collection)"
   ]
  },
  {
   "cell_type": "code",
   "execution_count": 3,
   "metadata": {},
   "outputs": [],
   "source": [
    "# perform any calculation on the image collection here\n",
    "def addNDRE(img):\n",
    "    ndre = ee.Image(img.normalizedDifference(['B8', 'B5'])).rename([\"ndre\"])\n",
    "    return ndre\n",
    " \n",
    "# export the latitude, longitude and array\n",
    "def LatLonImg(img):\n",
    "    img = img.addBands(ee.Image.pixelLonLat())\n",
    " \n",
    "    img = img.reduceRegion(reducer=ee.Reducer.toList(),\\\n",
    "                                        geometry=area,\\\n",
    "                                        maxPixels=1e50,\\\n",
    "                                        scale=10);\n",
    " \n",
    "    data = np.array((ee.Array(img.get(\"result\")).getInfo()))\n",
    "    lats = np.array((ee.Array(img.get(\"latitude\")).getInfo()))\n",
    "    lons = np.array((ee.Array(img.get(\"longitude\")).getInfo()))\n",
    "    return lats, lons, data\n",
    " \n",
    "# covert the lat, lon and array into an image\n",
    "def toImage(lats,lons,data):\n",
    " \n",
    "    # get the unique coordinates\n",
    "    uniqueLats = np.unique(lats)\n",
    "    uniqueLons = np.unique(lons)\n",
    " \n",
    "    # get number of columns and rows from coordinates\n",
    "    ncols = len(uniqueLons)\n",
    "    nrows = len(uniqueLats)\n",
    " \n",
    "    # determine pixelsizes\n",
    "    ys = uniqueLats[1] - uniqueLats[0]\n",
    "    xs = uniqueLons[1] - uniqueLons[0]\n",
    " \n",
    "    # create an array with dimensions of image\n",
    "    arr = np.zeros([nrows, ncols], np.float32) #-9999\n",
    " \n",
    "    # fill the array with values\n",
    "    counter =0\n",
    "    for y in range(0,len(arr),1):\n",
    "        for x in range(0,len(arr[0]),1):\n",
    "            if lats[counter] == uniqueLats[y] and lons[counter] == uniqueLons[x] and counter < len(lats)-1:\n",
    "                counter+=1\n",
    "                arr[len(uniqueLats)-1-y,x] = data[counter] # we start from lower left corner\n",
    "    return arr\n"
   ]
  },
  {
   "cell_type": "code",
   "execution_count": 4,
   "metadata": {},
   "outputs": [],
   "source": [
    "# map over the image collection\n",
    "ndreCollection  = collection.map(addNDRE)\n",
    " \n",
    "# get the median\n",
    "ndreMedian = ee.Image(ndreCollection.median()).rename(['results'])\n",
    " \n",
    "## get the lon, lat and result as 1d array\n",
    "#lat, lon, data = LatLonImg(ndreMedian)\n",
    " \n",
    "# 1d to 2d array\n",
    "#image  = toImage(lat,lon,data)\n",
    " \n",
    "# in case you want to plot the image\n",
    "#import matplotlib.pyplot as plt\n",
    "#plt.imshow(image)\n",
    "#plt.show()"
   ]
  },
  {
   "cell_type": "code",
   "execution_count": 74,
   "metadata": {},
   "outputs": [],
   "source": [
    "# Jitu Kumar: Adding functions to calculate regional statistics using ee.Reducers routines\n",
    "\n",
    "# Mean\n",
    "def region_mean_Image(img):\n",
    "    # mean over all pixels in the region for the image\n",
    "    return img.set('mean', img.reduceRegion(ee.Reducer.mean(), geometry=area, scale=20)) \n",
    "\n",
    "def region_mean_ImageCollection(ic):\n",
    "    # mean over all pixels in the region, for each image in the ImageCollection\n",
    "    stats = ic.map(region_mean_Image)\n",
    "    stats_list = stats.aggregate_array('mean')\n",
    "    return np.array(stats_list.getInfo())\n",
    "\n",
    "# Median\n",
    "def region_median_Image(img):\n",
    "    # mean over all pixels in the region for the image\n",
    "    return img.set('median', img.reduceRegion(ee.Reducer.median(), geometry=area, scale=20)) \n",
    "\n",
    "def region_median_ImageCollection(ic):\n",
    "    # mean over all pixels in the region, for each image in the ImageCollection\n",
    "    stats = ic.map(region_median_Image)\n",
    "    stats_list = stats.aggregate_array('median')\n",
    "    return np.array(stats_list.getInfo())\n",
    "\n",
    "# Stddev\n",
    "def region_stddev_Image(img):\n",
    "    # stddev over all pixels in the region for the image\n",
    "    return img.set('stddev', img.reduceRegion(ee.Reducer.stdDev(), geometry=area, scale=20)) \n",
    "\n",
    "def region_stddev_ImageCollection(ic):\n",
    "    # stddev over all pixels in the region, for each image in the ImageCollection\n",
    "    stats = ic.map(region_stddev_Image)\n",
    "    stats_list = stats.aggregate_array('stddev')\n",
    "    return np.array(stats_list.getInfo())\n",
    "\n",
    "# Percentiles\n",
    "def region_percentiles_Image(img):\n",
    "    # 5,10,25,75,90,95 percentiles over all pixels in the region for the image\n",
    "    return img.set('percentiles', img.reduceRegion(ee.Reducer.percentile([5,10,25,75,90,95]), geometry=area, scale=20)) #) mean, median, stdDev, percentiles\n",
    "\n",
    "def region_percentiles_ImageCollection(ic):\n",
    "    # percentiles over all pixels in the region, for each image in the ImageCollection\n",
    "    stats = ic.map(region_percentiles_Image)\n",
    "    stats_list = stats.aggregate_array('percentiles')\n",
    "    return np.array(stats_list.getInfo())\n",
    "    "
   ]
  },
  {
   "cell_type": "code",
   "execution_count": 75,
   "metadata": {},
   "outputs": [],
   "source": [
    "mean_list = region_mean_ImageCollection(ndreCollection)\n",
    "median_list = region_median_ImageCollection(ndreCollection)\n",
    "stddev_list = region_stddev_ImageCollection(ndreCollection)\n",
    "percentiles_list = region_percentiles_ImageCollection(ndreCollection)"
   ]
  },
  {
   "cell_type": "code",
   "execution_count": 76,
   "metadata": {},
   "outputs": [
    {
     "name": "stdout",
     "output_type": "stream",
     "text": [
      "[{'ndre': 0.2444862373196642} {'ndre': 0.24265197156912838}\n",
      " {'ndre': 0.21672902684661105} {'ndre': 0.2218715198468275}\n",
      " {'ndre': 0.22110884993185262} {'ndre': 0.32352893896930734}\n",
      " {'ndre': 0.423432421350117} {'ndre': 0.37027115547613937}\n",
      " {'ndre': 0.43552997784775926} {'ndre': 0.39778245154816105}\n",
      " {'ndre': 0.4381995630705758} {'ndre': 0.21119927409490866}]\n"
     ]
    }
   ],
   "source": [
    "print(mean_list)"
   ]
  },
  {
   "cell_type": "code",
   "execution_count": 77,
   "metadata": {},
   "outputs": [
    {
     "name": "stdout",
     "output_type": "stream",
     "text": [
      "[{'ndre_p10': 0.04294852977891597, 'ndre_p25': 0.13678747218617207, 'ndre_p5': 0.019594792023632936, 'ndre_p75': 0.3319874416011698, 'ndre_p90': 0.5038777219840984, 'ndre_p95': 0.5664725630823043}\n",
      " {'ndre_p10': 0.01949448240887162, 'ndre_p25': 0.08202751613910964, 'ndre_p5': 0.004056480356633859, 'ndre_p75': 0.39454535092601933, 'ndre_p90': 0.5352249603947525, 'ndre_p95': 0.5741810138862006}\n",
      " {'ndre_p10': 0.1269675936456005, 'ndre_p25': 0.15821982583840621, 'ndre_p5': 0.10745101168078015, 'ndre_p75': 0.25584925889381116, 'ndre_p90': 0.3300633197226467, 'ndre_p95': 0.3964963929193256}\n",
      " {'ndre_p10': 0.0195144999364196, 'ndre_p25': 0.08982455344640713, 'ndre_p5': 0.0040872436220549604, 'ndre_p75': 0.31639518316996507, 'ndre_p90': 0.4804261067965295, 'ndre_p95': 0.5586554540028115}\n",
      " {'ndre_p10': 0.011781982326922699, 'ndre_p25': 0.042891425152814695, 'ndre_p5': -0.003626410028946759, 'ndre_p75': 0.3945010943825622, 'ndre_p90': 0.5509036275235385, 'ndre_p95': 0.574207353391762}\n",
      " {'ndre_p10': 0.09181844698658674, 'ndre_p25': 0.15429736218905912, 'ndre_p5': 0.06835275566010643, 'ndre_p75': 0.5058590053302662, 'ndre_p90': 0.5761787710654301, 'ndre_p95': 0.5917694660687973}\n",
      " {'ndre_p10': 0.09756572935099113, 'ndre_p25': 0.2930027500462386, 'ndre_p5': 0.0585882203400858, 'ndre_p75': 0.5742866164584202, 'ndre_p90': 0.5974713954620396, 'ndre_p95': 0.6052222024175254}\n",
      " {'ndre_p10': 0.0585960639062578, 'ndre_p25': 0.16799481507810707, 'ndre_p5': 0.035227253784371526, 'ndre_p75': 0.5665316367926978, 'ndre_p90': 0.5897717015762313, 'ndre_p95': 0.6052229068932352}\n",
      " {'ndre_p10': 0.2831713837558879, 'ndre_p25': 0.38476848541667485, 'ndre_p5': 0.18946047570355862, 'ndre_p75': 0.5175681583410567, 'ndre_p90': 0.5644603879870794, 'ndre_p95': 0.5839459912956124}\n",
      " {'ndre_p10': 0.18552702698545256, 'ndre_p25': 0.2949287515838668, 'ndre_p5': 0.16604343795156482, 'ndre_p75': 0.5058571712725441, 'ndre_p90': 0.5527268305512706, 'ndre_p95': 0.5722494617522077}\n",
      " {'ndre_p10': 0.25587602316997904, 'ndre_p25': 0.3769489539967231, 'ndre_p5': 0.17384055455488678, 'ndre_p75': 0.5331999336556682, 'ndre_p90': 0.5722437632332825, 'ndre_p95': 0.5878433397447513}\n",
      " {'ndre_p10': 0.07433700998120295, 'ndre_p25': 0.11328399254564138, 'ndre_p5': 0.05875260546535152, 'ndre_p75': 0.2851356806053244, 'ndre_p90': 0.42580954065875043, 'ndre_p95': 0.5038368538964996}]\n"
     ]
    }
   ],
   "source": [
    "print(percentiles_list)"
   ]
  },
  {
   "cell_type": "code",
   "execution_count": null,
   "metadata": {},
   "outputs": [],
   "source": []
  }
 ],
 "metadata": {
  "kernelspec": {
   "display_name": "Python 3",
   "language": "python",
   "name": "python3"
  },
  "language_info": {
   "codemirror_mode": {
    "name": "ipython",
    "version": 3
   },
   "file_extension": ".py",
   "mimetype": "text/x-python",
   "name": "python",
   "nbconvert_exporter": "python",
   "pygments_lexer": "ipython3",
   "version": "3.8.3"
  }
 },
 "nbformat": 4,
 "nbformat_minor": 4
}
