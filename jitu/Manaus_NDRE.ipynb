{
 "cells": [
  {
   "cell_type": "code",
   "execution_count": 1,
   "metadata": {},
   "outputs": [],
   "source": [
    "import ee\n",
    "import geemap"
   ]
  },
  {
   "cell_type": "code",
   "execution_count": 2,
   "metadata": {},
   "outputs": [
    {
     "data": {
      "application/vnd.jupyter.widget-view+json": {
       "model_id": "d5bc3d0f9f98473ba84ddbc0ee19fcb2",
       "version_major": 2,
       "version_minor": 0
      },
      "text/plain": [
       "Map(center=[-2.609097222, -60.20929722], controls=(WidgetControl(options=['position'], widget=HBox(children=(T…"
      ]
     },
     "metadata": {},
     "output_type": "display_data"
    }
   ],
   "source": [
    "#Create Map and center on Manauas EC Flux Tower coordinates\n",
    "Map = geemap.Map(center = (-2.609097222, -60.20929722), zoom = 10)\n",
    "#Create a point for EC Flux Tower\n",
    "brma2_point = ee.Geometry.Point(-60.20929722, -2.609097222)\n",
    "#Create a 0.5x0.5 deg region centered over the EC Flux Tower\n",
    "brma2_region = ee.Geometry.Rectangle(-60.50, -2.85, -60.00, -2.35)\n",
    "Map"
   ]
  },
  {
   "cell_type": "code",
   "execution_count": 3,
   "metadata": {},
   "outputs": [],
   "source": [
    "#Add the rectangle to the map\n",
    "Map.addLayer(brma2_region, {}, 'Manauas Region')"
   ]
  },
  {
   "cell_type": "code",
   "execution_count": 5,
   "metadata": {},
   "outputs": [],
   "source": [
    "#Load Sentinel-2 data and filter out cloud cover for tiles with less than 20% coverage\n",
    "#Note: there is also a cloud masking function that I haven't tried. This was just easy.\n",
    "sentinel2 = (ee.ImageCollection(\"COPERNICUS/S2\") \n",
    "    .filterDate('2015-01-01', '2020-01-01') \n",
    "    .filter(ee.Filter.lt('CLOUDY_PIXEL_PERCENTAGE', 20)) \n",
    "    .sort('CLOUDY_PIXEL_PERCENTAGE', False)\n",
    "#    .filterBounds(brma2))\n",
    "    .map(lambda image : image.clip(brma2_region)))\n",
    "\n",
    "#Create some parameters\n",
    "vis_params = {\n",
    "    'bands': ['B4', 'B3', 'B2'],\n",
    "    'max': 2000\n",
    "}\n",
    "\n",
    "Map.addLayer(sentinel2, vis_params, 'Raw Sentinel')"
   ]
  },
  {
   "cell_type": "code",
   "execution_count": 6,
   "metadata": {},
   "outputs": [],
   "source": [
    "# Add function to calculate NDRE\n",
    "def addNDRE(image):\n",
    "    return image.addBands(image.normalizedDifference(['B8', 'B5']).rename('NDRE'))\n",
    "\n",
    "# Map addNDRE function to all sentinel2 images\n",
    "sentinel2 = sentinel2.map(addNDRE)\n",
    "\n",
    "# extract just the NDRE band from all images\n",
    "sentinel2_ndre= sentinel2.select('NDRE')\n",
    "\n",
    "# take median over the image stack to get a single NDRE image\n",
    "sentinel2_ndre_median = sentinel2_ndre.median()"
   ]
  },
  {
   "cell_type": "code",
   "execution_count": 7,
   "metadata": {},
   "outputs": [],
   "source": [
    "# visualize the NDRE\n",
    "ndreParams={'min': 0.0,\n",
    "            'max': 1.0,\n",
    "            'palette' : ['FFFFFF', 'CE7E45', 'DF923D', 'F1B555', 'FCD163', '99B718',\n",
    "               '74A901', '66A000', '529400', '3E8601', '207401', '056201',\n",
    "               '004C00', '023B01', '012E01', '011D01', '011301']\n",
    "           }\n",
    "\n",
    "Map.addLayer(sentinel2_ndre_median, ndreParams, 'NDRE Image')"
   ]
  },
  {
   "cell_type": "code",
   "execution_count": 8,
   "metadata": {},
   "outputs": [],
   "source": [
    "#Add the Manaus location to the map\n",
    "Map.addLayer(brma2_point, {}, 'Manauas EC Tower')"
   ]
  },
  {
   "cell_type": "code",
   "execution_count": null,
   "metadata": {},
   "outputs": [],
   "source": []
  }
 ],
 "metadata": {
  "kernelspec": {
   "display_name": "Python 3",
   "language": "python",
   "name": "python3"
  },
  "language_info": {
   "codemirror_mode": {
    "name": "ipython",
    "version": 3
   },
   "file_extension": ".py",
   "mimetype": "text/x-python",
   "name": "python",
   "nbconvert_exporter": "python",
   "pygments_lexer": "ipython3",
   "version": "3.8.2"
  }
 },
 "nbformat": 4,
 "nbformat_minor": 4
}
