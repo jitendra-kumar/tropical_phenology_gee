{
 "cells": [
  {
   "cell_type": "markdown",
   "metadata": {},
   "source": [
    "# Download 1/2 degree plots"
   ]
  },
  {
   "cell_type": "code",
   "execution_count": 1,
   "metadata": {},
   "outputs": [
    {
     "name": "stdout",
     "output_type": "stream",
     "text": [
      "0.1.221\n",
      "0.6.13\n"
     ]
    }
   ],
   "source": [
    "import ee, geemap\n",
    "print(ee.__version__)\n",
    "print(geemap.__version__)"
   ]
  },
  {
   "cell_type": "code",
   "execution_count": 2,
   "metadata": {},
   "outputs": [],
   "source": [
    "ee.Initialize()"
   ]
  },
  {
   "cell_type": "markdown",
   "metadata": {},
   "source": [
    "### Create cloud mask and NDRE functions"
   ]
  },
  {
   "cell_type": "code",
   "execution_count": 3,
   "metadata": {},
   "outputs": [],
   "source": [
    "# Cloud mask function\n",
    "def s2_cloud_mask(img):\n",
    "    \"\"\"Function using built-in bit mask to mask clouds/cirrus.\"\"\"\n",
    "    qa = img.select('QA60')\n",
    "    \n",
    "    cloud_mask = 1 << 10\n",
    "    cirrus_mask = 1 << 11\n",
    "    \n",
    "    mask = (qa.bitwiseAnd(cloud_mask).eq(0)\n",
    "            .And(qa.bitwiseAnd(cirrus_mask).eq(0))\n",
    "           )\n",
    "    \n",
    "    return img.updateMask(mask).divide(10000)"
   ]
  },
  {
   "cell_type": "code",
   "execution_count": 4,
   "metadata": {},
   "outputs": [],
   "source": [
    "# Calculate NDRE\n",
    "def ndre_band(img):\n",
    "    \"\"\"Function to calculate ndre for an image.\"\"\"\n",
    "    ndre = img.normalizedDifference(['B8', 'B5']).rename('NDRE')\n",
    "    return img.addBands(ndre)"
   ]
  },
  {
   "cell_type": "markdown",
   "metadata": {},
   "source": [
    "### Get region data and sentinel-2 data from GEE"
   ]
  },
  {
   "cell_type": "code",
   "execution_count": 5,
   "metadata": {},
   "outputs": [
    {
     "name": "stdout",
     "output_type": "stream",
     "text": [
      "['Alagoas', 'Bahia', 'Ceara', 'Espirito Santo', 'Maranhao', 'Minas Gerais', 'Paraiba', 'Pernambuco', 'Piaui', 'Rio De Janeiro', 'Rio Grande Do Norte', 'Sao Paulo', 'Sergipe', 'Name Unknown', 'Name Unknown', 'Name Unknown', 'Acre', 'Amapa', 'Amazonas', 'Distrito Federal', 'Goias', 'Mato Grosso', 'Mato Grosso Do Sul', 'Para', 'Parana', 'Rio Grande Do Sul', 'Rondonia', 'Roraima', 'Santa Catarina', 'Tocantins', 'Name Unknown']\n"
     ]
    }
   ],
   "source": [
    "# List sub-regions using GAUL polygon data\n",
    "br = (ee.FeatureCollection(\"FAO/GAUL/2015/level1\")\n",
    "      .filterMetadata('ADM0_NAME', 'equals', 'Brazil')\n",
    "      .aggregate_array('ADM1_NAME')\n",
    "     )\n",
    "\n",
    "print(br.getInfo())"
   ]
  },
  {
   "cell_type": "code",
   "execution_count": 6,
   "metadata": {},
   "outputs": [],
   "source": [
    "# Get a sub-region from above to test grid function later\n",
    "br = (ee.FeatureCollection(\"FAO/GAUL/2015/level1\")\n",
    "      .filterMetadata('ADM0_NAME', 'equals', 'Brazil')\n",
    "      .filterMetadata('ADM1_NAME', 'equals', 'Espirito Santo')\n",
    "     )"
   ]
  },
  {
   "cell_type": "code",
   "execution_count": 7,
   "metadata": {},
   "outputs": [],
   "source": [
    "# Get sentinel-2 level-1C TOA data\n",
    "s2_col = (ee.ImageCollection('COPERNICUS/S2_SR')\n",
    "              .select(['B4', 'B3', 'B2', 'B5', 'B8', 'QA60'])\n",
    "              .filterDate('2016-01-01', '2018-12-30')\n",
    "              .sort('CLOUDY_PIXEL_PERCENTAGE', False)\n",
    "              .map(s2_cloud_mask)\n",
    "              .map(ndre_band)\n",
    "              .filterBounds(br)\n",
    "              .qualityMosaic('NDRE')\n",
    "             )"
   ]
  },
  {
   "cell_type": "code",
   "execution_count": 8,
   "metadata": {},
   "outputs": [
    {
     "name": "stdout",
     "output_type": "stream",
     "text": [
      "{'type': 'Projection', 'crs': 'EPSG:4326', 'transform': [1, 0, 0, 0, 1, 0]}\n"
     ]
    }
   ],
   "source": [
    "# Just to note the crs\n",
    "proj = s2_col.projection().getInfo()\n",
    "print(proj)"
   ]
  },
  {
   "cell_type": "markdown",
   "metadata": {},
   "source": [
    "## Create a grid"
   ]
  },
  {
   "cell_type": "markdown",
   "metadata": {},
   "source": [
    "### Method 1 (failed)\n",
    "This method will could probably work better than the second, but I couldn't get it perfectly translated from javascript."
   ]
  },
  {
   "cell_type": "code",
   "execution_count": 9,
   "metadata": {},
   "outputs": [],
   "source": [
    "# Method 1 -- Failed, ends up in the ocean and invisible\n",
    "# https://code.earthengine.google.com/cf1d2e6e8c6375d33c48f0a121293bb0#\n",
    "import math\n",
    "\n",
    "lon_start = -60.00\n",
    "lon_end = -60.50\n",
    "lat_start = -2.35\n",
    "lat_end = -2.85\n",
    "\n",
    "num_cells = 4\n",
    "lon_edge = (lon_end-lon_start)/ math.sqrt(num_cells)\n",
    "lat_edge = (lat_end-lat_start)/ math.sqrt(num_cells)\n",
    "\n",
    "polys = []\n",
    "cell_id = 0\n",
    "\n",
    "lon = lon_start\n",
    "while lon < lon_end:\n",
    "    x1 = lon\n",
    "    x2 = lon + lon_edge\n",
    "    lon += lon_edge\n",
    "    \n",
    "    lat = lat_start\n",
    "    while lat < lat_end:\n",
    "        cell_id = cell_id + 1\n",
    "        y1 = lat\n",
    "        y2 = lat + lat_edge\n",
    "        lat += lat_edge\n",
    "        \n",
    "        ee.List(polys).add(ee.Feature(ee.Geometry.Rectangle(x1, y1, x2, y2), {'label': cell_id}))\n",
    "\n",
    "grid = ee.FeatureCollection(polys)"
   ]
  },
  {
   "cell_type": "markdown",
   "metadata": {},
   "source": [
    "### Method 2\n",
    "Not 100% perfect. You have to have a reasonably-sized roi drawn. If it's too big, it's hard to predict where the grid will be drawn. But hey, at least it gives me some squares."
   ]
  },
  {
   "cell_type": "code",
   "execution_count": 10,
   "metadata": {},
   "outputs": [],
   "source": [
    "# Method 2: geemap.show_youtube('N7rK2aV1R4c')\n",
    "# Create a map and draw a square interactively\n",
    "Map = geemap.Map()\n",
    "Map.addLayer(br)\n",
    "Map.center_object(br, zoom=7)\n",
    "\n",
    "palette = ['#d73027', '#f46d43', '#fdae61', '#fee08b', \n",
    "           '#d9ef8b', '#a6d96a', '#66bd63', '#1a9850']\n",
    "\n",
    "Map.addLayer(s2_col.select('NDRE'), {'palette': palette}, 'NDRE')\n",
    "#Map"
   ]
  },
  {
   "cell_type": "code",
   "execution_count": 11,
   "metadata": {},
   "outputs": [],
   "source": [
    "# Set name\n",
    "my_roi = br\n",
    "#print(my_roi)"
   ]
  },
  {
   "cell_type": "code",
   "execution_count": 12,
   "metadata": {},
   "outputs": [],
   "source": [
    "# Save feature\n",
    "my_roi = ee.FeatureCollection(my_roi)"
   ]
  },
  {
   "cell_type": "code",
   "execution_count": 13,
   "metadata": {},
   "outputs": [],
   "source": [
    "# Create grid\n",
    "# https://developers.google.com/earth-engine/tutorials/community/drawing-tools\n",
    "\n",
    "def make_grid(region, a_scale):\n",
    "    \"\"\"\n",
    "    Creates a grid around a specified ROI.\n",
    "    User inputs their reasonably small ROI.\n",
    "    User inputs a scale where 100000 = 100km.\n",
    "    \"\"\"\n",
    "    # Creates image with 2 bands ('longitude', 'latitude') in degrees\n",
    "    lonLat = ee.Image.pixelLonLat()\n",
    "\n",
    "    # Select bands, multiply times big number, and truncate\n",
    "    lonGrid = (lonLat\n",
    "               .select('latitude')\n",
    "               .multiply(10000000)\n",
    "               .toInt()\n",
    "              )\n",
    "    latGrid = (lonLat\n",
    "              .select('longitude')\n",
    "              .multiply(10000000)\n",
    "              .toInt()\n",
    "              )\n",
    "\n",
    "    # Multiply lat and lon images and reduce to vectors\n",
    "    grid = (lonGrid\n",
    "            .multiply(latGrid)\n",
    "            .reduceToVectors(\n",
    "                geometry = region,\n",
    "                scale = a_scale, # 100km-sized boxes needs 100,000\n",
    "                geometryType = 'polygon')\n",
    "           )\n",
    "    \n",
    "    return(grid)"
   ]
  },
  {
   "cell_type": "code",
   "execution_count": 14,
   "metadata": {},
   "outputs": [],
   "source": [
    "# Make test grid and add to map\n",
    "grid_55km = make_grid(br, 55000)"
   ]
  },
  {
   "cell_type": "markdown",
   "metadata": {},
   "source": [
    "## Visualize selected grid tiles + images"
   ]
  },
  {
   "cell_type": "code",
   "execution_count": 15,
   "metadata": {},
   "outputs": [],
   "source": [
    "# Access coordinates of grid squares\n",
    "grid_dict = grid_55km.getInfo()\n",
    "\n",
    "feats = grid_dict['features']\n",
    "coord_list = []\n",
    "for d in feats:\n",
    "    geom = d['geometry']\n",
    "    coords = geom['coordinates']\n",
    "    coord_list.append(coords)"
   ]
  },
  {
   "cell_type": "code",
   "execution_count": 16,
   "metadata": {},
   "outputs": [],
   "source": [
    "# Create a list of several ee.Geometry.Polygons\n",
    "polys = []\n",
    "for coord in coord_list:\n",
    "    poly = ee.Geometry.Polygon(coord)\n",
    "    polys.append(poly)"
   ]
  },
  {
   "cell_type": "code",
   "execution_count": 17,
   "metadata": {},
   "outputs": [
    {
     "name": "stdout",
     "output_type": "stream",
     "text": [
      "[<ee.image.Image object at 0x7fa09d1d1dd8>, <ee.image.Image object at 0x7fa09d1d1e80>, <ee.image.Image object at 0x7fa09d1d1f28>, <ee.image.Image object at 0x7fa09d1d1fd0>, <ee.image.Image object at 0x7fa09d1de0b8>, <ee.image.Image object at 0x7fa09d1de160>, <ee.image.Image object at 0x7fa09d1de208>, <ee.image.Image object at 0x7fa09d1de2b0>, <ee.image.Image object at 0x7fa09d1de358>, <ee.image.Image object at 0x7fa09d1de400>, <ee.image.Image object at 0x7fa09d1de4a8>, <ee.image.Image object at 0x7fa09d1de550>, <ee.image.Image object at 0x7fa09d1de5f8>, <ee.image.Image object at 0x7fa09d1de6a0>, <ee.image.Image object at 0x7fa09d1de748>, <ee.image.Image object at 0x7fa09d1de7f0>, <ee.image.Image object at 0x7fa09d1de898>, <ee.image.Image object at 0x7fa09d1de940>]\n",
      "18\n"
     ]
    }
   ],
   "source": [
    "# Clip image to polygons\n",
    "clipped_imgs = []\n",
    "for poly in polys:\n",
    "    ndre_img = s2_col.select(['NDRE'])\n",
    "    clipped_img = ndre_img.clip(poly)\n",
    "    clipped_imgs.append(clipped_img)\n",
    "\n",
    "print(clipped_imgs)\n",
    "print(len(clipped_imgs))"
   ]
  },
  {
   "cell_type": "code",
   "execution_count": 19,
   "metadata": {},
   "outputs": [
    {
     "ename": "AttributeError",
     "evalue": "\n\nThe image argument in 'addLayer' function must be an instace of one of ee.Image, ee.Geometry, ee.Feature or ee.FeatureCollection.",
     "output_type": "error",
     "traceback": [
      "\u001b[0;31m---------------------------------------------------------------------------\u001b[0m",
      "\u001b[0;31mAttributeError\u001b[0m                            Traceback (most recent call last)",
      "\u001b[0;32m<ipython-input-19-ee7721713c37>\u001b[0m in \u001b[0;36m<module>\u001b[0;34m\u001b[0m\n\u001b[1;32m      5\u001b[0m            '#d9ef8b', '#a6d96a', '#66bd63', '#1a9850']\n\u001b[1;32m      6\u001b[0m \u001b[0;34m\u001b[0m\u001b[0m\n\u001b[0;32m----> 7\u001b[0;31m \u001b[0mMap\u001b[0m\u001b[0;34m.\u001b[0m\u001b[0maddLayer\u001b[0m\u001b[0;34m(\u001b[0m\u001b[0mpolys\u001b[0m\u001b[0;34m)\u001b[0m\u001b[0;34m\u001b[0m\u001b[0m\n\u001b[0m\u001b[1;32m      8\u001b[0m \u001b[0mMap\u001b[0m\u001b[0;34m.\u001b[0m\u001b[0maddLayer\u001b[0m\u001b[0;34m(\u001b[0m\u001b[0mclipped_imgs\u001b[0m\u001b[0;34m[\u001b[0m\u001b[0;36m0\u001b[0m\u001b[0;34m]\u001b[0m\u001b[0;34m,\u001b[0m \u001b[0;34m{\u001b[0m\u001b[0;34m'palette'\u001b[0m\u001b[0;34m:\u001b[0m \u001b[0mpalette\u001b[0m\u001b[0;34m}\u001b[0m\u001b[0;34m,\u001b[0m \u001b[0;34m'grid1'\u001b[0m\u001b[0;34m)\u001b[0m\u001b[0;34m\u001b[0m\u001b[0m\n\u001b[1;32m      9\u001b[0m \u001b[0mMap\u001b[0m\u001b[0;34m.\u001b[0m\u001b[0mcenter_object\u001b[0m\u001b[0;34m(\u001b[0m\u001b[0mpolys\u001b[0m\u001b[0;34m[\u001b[0m\u001b[0;36m0\u001b[0m\u001b[0;34m]\u001b[0m\u001b[0;34m,\u001b[0m \u001b[0mzoom\u001b[0m\u001b[0;34m=\u001b[0m\u001b[0;36m7\u001b[0m\u001b[0;34m)\u001b[0m\u001b[0;34m\u001b[0m\u001b[0m\n",
      "\u001b[0;32m/Library/Frameworks/Python.framework/Versions/3.7/lib/python3.7/site-packages/geemap/geemap.py\u001b[0m in \u001b[0;36madd_ee_layer\u001b[0;34m(self, ee_object, vis_params, name, shown, opacity)\u001b[0m\n\u001b[1;32m    746\u001b[0m         \u001b[0;32mif\u001b[0m \u001b[0;32mnot\u001b[0m \u001b[0misinstance\u001b[0m\u001b[0;34m(\u001b[0m\u001b[0mee_object\u001b[0m\u001b[0;34m,\u001b[0m \u001b[0mee\u001b[0m\u001b[0;34m.\u001b[0m\u001b[0mImage\u001b[0m\u001b[0;34m)\u001b[0m \u001b[0;32mand\u001b[0m \u001b[0;32mnot\u001b[0m \u001b[0misinstance\u001b[0m\u001b[0;34m(\u001b[0m\u001b[0mee_object\u001b[0m\u001b[0;34m,\u001b[0m \u001b[0mee\u001b[0m\u001b[0;34m.\u001b[0m\u001b[0mImageCollection\u001b[0m\u001b[0;34m)\u001b[0m \u001b[0;32mand\u001b[0m \u001b[0;32mnot\u001b[0m \u001b[0misinstance\u001b[0m\u001b[0;34m(\u001b[0m\u001b[0mee_object\u001b[0m\u001b[0;34m,\u001b[0m \u001b[0mee\u001b[0m\u001b[0;34m.\u001b[0m\u001b[0mFeatureCollection\u001b[0m\u001b[0;34m)\u001b[0m \u001b[0;32mand\u001b[0m \u001b[0;32mnot\u001b[0m \u001b[0misinstance\u001b[0m\u001b[0;34m(\u001b[0m\u001b[0mee_object\u001b[0m\u001b[0;34m,\u001b[0m \u001b[0mee\u001b[0m\u001b[0;34m.\u001b[0m\u001b[0mFeature\u001b[0m\u001b[0;34m)\u001b[0m \u001b[0;32mand\u001b[0m \u001b[0;32mnot\u001b[0m \u001b[0misinstance\u001b[0m\u001b[0;34m(\u001b[0m\u001b[0mee_object\u001b[0m\u001b[0;34m,\u001b[0m \u001b[0mee\u001b[0m\u001b[0;34m.\u001b[0m\u001b[0mGeometry\u001b[0m\u001b[0;34m)\u001b[0m\u001b[0;34m:\u001b[0m\u001b[0;34m\u001b[0m\u001b[0m\n\u001b[1;32m    747\u001b[0m             \u001b[0merr_str\u001b[0m \u001b[0;34m=\u001b[0m \u001b[0;34m\"\\n\\nThe image argument in 'addLayer' function must be an instace of one of ee.Image, ee.Geometry, ee.Feature or ee.FeatureCollection.\"\u001b[0m\u001b[0;34m\u001b[0m\u001b[0m\n\u001b[0;32m--> 748\u001b[0;31m             \u001b[0;32mraise\u001b[0m \u001b[0mAttributeError\u001b[0m\u001b[0;34m(\u001b[0m\u001b[0merr_str\u001b[0m\u001b[0;34m)\u001b[0m\u001b[0;34m\u001b[0m\u001b[0m\n\u001b[0m\u001b[1;32m    749\u001b[0m \u001b[0;34m\u001b[0m\u001b[0m\n\u001b[1;32m    750\u001b[0m         \u001b[0;32mif\u001b[0m \u001b[0misinstance\u001b[0m\u001b[0;34m(\u001b[0m\u001b[0mee_object\u001b[0m\u001b[0;34m,\u001b[0m \u001b[0mee\u001b[0m\u001b[0;34m.\u001b[0m\u001b[0mgeometry\u001b[0m\u001b[0;34m.\u001b[0m\u001b[0mGeometry\u001b[0m\u001b[0;34m)\u001b[0m \u001b[0;32mor\u001b[0m \u001b[0misinstance\u001b[0m\u001b[0;34m(\u001b[0m\u001b[0mee_object\u001b[0m\u001b[0;34m,\u001b[0m \u001b[0mee\u001b[0m\u001b[0;34m.\u001b[0m\u001b[0mfeature\u001b[0m\u001b[0;34m.\u001b[0m\u001b[0mFeature\u001b[0m\u001b[0;34m)\u001b[0m \u001b[0;32mor\u001b[0m \u001b[0misinstance\u001b[0m\u001b[0;34m(\u001b[0m\u001b[0mee_object\u001b[0m\u001b[0;34m,\u001b[0m \u001b[0mee\u001b[0m\u001b[0;34m.\u001b[0m\u001b[0mfeaturecollection\u001b[0m\u001b[0;34m.\u001b[0m\u001b[0mFeatureCollection\u001b[0m\u001b[0;34m)\u001b[0m\u001b[0;34m:\u001b[0m\u001b[0;34m\u001b[0m\u001b[0m\n",
      "\u001b[0;31mAttributeError\u001b[0m: \n\nThe image argument in 'addLayer' function must be an instace of one of ee.Image, ee.Geometry, ee.Feature or ee.FeatureCollection."
     ]
    }
   ],
   "source": [
    "# Visualize a polygon or two\n",
    "Map = geemap.Map()\n",
    "\n",
    "palette = ['#d73027', '#f46d43', '#fdae61', '#fee08b', \n",
    "           '#d9ef8b', '#a6d96a', '#66bd63', '#1a9850']\n",
    "\n",
    "Map.addLayer(polys)\n",
    "Map.addLayer(clipped_imgs[0], {'palette': palette}, 'grid1')\n",
    "Map.center_object(polys[0], zoom=7)\n",
    "Map"
   ]
  },
  {
   "cell_type": "markdown",
   "metadata": {},
   "source": [
    "## Export all grid tiles + img individually"
   ]
  },
  {
   "cell_type": "code",
   "execution_count": 44,
   "metadata": {},
   "outputs": [
    {
     "name": "stdout",
     "output_type": "stream",
     "text": [
      "The filename must end with .tif\n",
      "The filename must end with .tif\n",
      "The filename must end with .tif\n",
      "The filename must end with .tif\n",
      "The filename must end with .tif\n",
      "The filename must end with .tif\n",
      "The filename must end with .tif\n",
      "The filename must end with .tif\n",
      "The filename must end with .tif\n",
      "The filename must end with .tif\n",
      "The filename must end with .tif\n",
      "The filename must end with .tif\n",
      "The filename must end with .tif\n",
      "The filename must end with .tif\n",
      "The filename must end with .tif\n",
      "The filename must end with .tif\n",
      "The filename must end with .tif\n",
      "The filename must end with .tif\n"
     ]
    }
   ],
   "source": [
    "for num in range(len(clipped_imgs)):\n",
    "    filename = '/Users/morgansteckler/Desktop/test/img_{}.tif'.format(num)\n",
    "    geemap.ee_export_image(clipped_imgs[num], filename=filename, \n",
    "                                scale=20, region=polys[num], file_per_band=False)"
   ]
  },
  {
   "cell_type": "markdown",
   "metadata": {},
   "source": [
    "## Export grid as shapfile"
   ]
  },
  {
   "cell_type": "code",
   "execution_count": 40,
   "metadata": {},
   "outputs": [
    {
     "data": {
      "text/plain": [
       "[<ee.feature.Feature at 0x7fe46dec68b0>,\n",
       " <ee.feature.Feature at 0x7fe46dec6880>,\n",
       " <ee.feature.Feature at 0x7fe46dec6910>,\n",
       " <ee.feature.Feature at 0x7fe46dec6970>,\n",
       " <ee.feature.Feature at 0x7fe46dec6a00>,\n",
       " <ee.feature.Feature at 0x7fe46dec6a60>,\n",
       " <ee.feature.Feature at 0x7fe46dec6ac0>,\n",
       " <ee.feature.Feature at 0x7fe46dec6b20>,\n",
       " <ee.feature.Feature at 0x7fe46dec6b80>,\n",
       " <ee.feature.Feature at 0x7fe46dec6be0>,\n",
       " <ee.feature.Feature at 0x7fe46dec6c40>,\n",
       " <ee.feature.Feature at 0x7fe46dec6ca0>,\n",
       " <ee.feature.Feature at 0x7fe46dec6d30>,\n",
       " <ee.feature.Feature at 0x7fe46dec6dc0>,\n",
       " <ee.feature.Feature at 0x7fe46dec6e80>,\n",
       " <ee.feature.Feature at 0x7fe46dec6f10>,\n",
       " <ee.feature.Feature at 0x7fe46dec6fd0>,\n",
       " <ee.feature.Feature at 0x7fe46dec6d60>]"
      ]
     },
     "execution_count": 40,
     "metadata": {},
     "output_type": "execute_result"
    }
   ],
   "source": [
    "# Set all ee.Geometry.Polygon to ee.Feature\n",
    "feat_list = []\n",
    "for poly in polys:\n",
    "    feat = ee.Feature(poly)\n",
    "    feat_list.append(feat)\n",
    "feat_list"
   ]
  },
  {
   "cell_type": "code",
   "execution_count": 41,
   "metadata": {},
   "outputs": [
    {
     "data": {
      "text/plain": [
       "<ee.featurecollection.FeatureCollection at 0x7fe46de20c10>"
      ]
     },
     "execution_count": 41,
     "metadata": {},
     "output_type": "execute_result"
    }
   ],
   "source": [
    "# Create collection from features\n",
    "fromList = ee.FeatureCollection(feat_list)\n",
    "fromList"
   ]
  },
  {
   "cell_type": "code",
   "execution_count": 46,
   "metadata": {},
   "outputs": [
    {
     "name": "stdout",
     "output_type": "stream",
     "text": [
      "Generating URL ...\n",
      "Downloading data from https://earthengine.googleapis.com/v1alpha/projects/earthengine-legacy/tables/57e3f14fc5a4d0c5ecc73ddcc13b9ac3-02e6a7902e9f9f1697c2431694372274:getFeatures\n",
      "Please wait ...\n",
      "Data downloaded to /Users/morgansteckler/Desktop/tropical_phenology_gee/morgan/grid.shp\n"
     ]
    }
   ],
   "source": [
    "# Export entire grid as shapefile\n",
    "geemap.ee_to_shp(fromList, filename='/Users/morgansteckler/Desktop/tropical_phenology_gee/morgan/grid.shp')"
   ]
  },
  {
   "cell_type": "code",
   "execution_count": null,
   "metadata": {},
   "outputs": [],
   "source": []
  }
 ],
 "metadata": {
  "kernelspec": {
   "display_name": "Python 3",
   "language": "python",
   "name": "python3"
  },
  "language_info": {
   "codemirror_mode": {
    "name": "ipython",
    "version": 3
   },
   "file_extension": ".py",
   "mimetype": "text/x-python",
   "name": "python",
   "nbconvert_exporter": "python",
   "pygments_lexer": "ipython3",
   "version": "3.7.0"
  }
 },
 "nbformat": 4,
 "nbformat_minor": 4
}
