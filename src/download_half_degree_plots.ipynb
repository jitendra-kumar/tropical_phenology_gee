{
 "cells": [
  {
   "cell_type": "markdown",
   "metadata": {},
   "source": [
    "# Download 1/2 degree plots"
   ]
  },
  {
   "cell_type": "code",
   "execution_count": 1,
   "metadata": {},
   "outputs": [
    {
     "name": "stdout",
     "output_type": "stream",
     "text": [
      "0.1.249\n",
      "0.8.8\n"
     ]
    }
   ],
   "source": [
    "import ee, geemap\n",
    "print(ee.__version__)\n",
    "print(geemap.__version__)"
   ]
  },
  {
   "cell_type": "code",
   "execution_count": 2,
   "metadata": {},
   "outputs": [],
   "source": [
    "ee.Initialize()"
   ]
  },
  {
   "cell_type": "markdown",
   "metadata": {},
   "source": [
    "### Get region data and sentinel-2 data from GEE"
   ]
  },
  {
   "cell_type": "code",
   "execution_count": 3,
   "metadata": {},
   "outputs": [
    {
     "name": "stdout",
     "output_type": "stream",
     "text": [
      "['Alagoas', 'Bahia', 'Ceara', 'Espirito Santo', 'Maranhao', 'Minas Gerais', 'Paraiba', 'Pernambuco', 'Piaui', 'Rio De Janeiro', 'Rio Grande Do Norte', 'Sao Paulo', 'Sergipe', 'Name Unknown', 'Name Unknown', 'Name Unknown', 'Acre', 'Amapa', 'Amazonas', 'Distrito Federal', 'Goias', 'Mato Grosso', 'Mato Grosso Do Sul', 'Para', 'Parana', 'Rio Grande Do Sul', 'Rondonia', 'Roraima', 'Santa Catarina', 'Tocantins', 'Name Unknown']\n"
     ]
    }
   ],
   "source": [
    "# List sub-regions using GAUL polygon data\n",
    "br = (ee.FeatureCollection(\"FAO/GAUL/2015/level1\")\n",
    "      .filterMetadata('ADM0_NAME', 'equals', 'Brazil')\n",
    "      .aggregate_array('ADM1_NAME')\n",
    "     )\n",
    "\n",
    "print(br.getInfo())"
   ]
  },
  {
   "cell_type": "code",
   "execution_count": 4,
   "metadata": {},
   "outputs": [],
   "source": [
    "# Get a sub-region from above to test grid function later\n",
    "br = (ee.FeatureCollection(\"FAO/GAUL/2015/level1\")\n",
    "      .filterMetadata('ADM0_NAME', 'equals', 'Brazil')\n",
    "      .filterMetadata('ADM1_NAME', 'equals', 'Rondonia')\n",
    "     )"
   ]
  },
  {
   "cell_type": "markdown",
   "metadata": {},
   "source": [
    "## Create a grid"
   ]
  },
  {
   "cell_type": "markdown",
   "metadata": {},
   "source": [
    "Not 100% perfect. You have to have a reasonably-sized roi drawn. If it's too big, it's hard to predict where the grid will be drawn. But hey, at least it gives me some squares."
   ]
  },
  {
   "cell_type": "code",
   "execution_count": 24,
   "metadata": {},
   "outputs": [
    {
     "data": {
      "application/vnd.jupyter.widget-view+json": {
       "model_id": "052a85f77b884806b8d954698017b843",
       "version_major": 2,
       "version_minor": 0
      },
      "text/plain": [
       "Map(center=[-4.186394628415986, -64.69261254089228], controls=(WidgetControl(options=['position', 'transparent…"
      ]
     },
     "metadata": {},
     "output_type": "display_data"
    }
   ],
   "source": [
    "# Method 2: geemap.show_youtube('N7rK2aV1R4c')\n",
    "# Create a map and draw a square interactively\n",
    "Map = geemap.Map()\n",
    "Map.addLayer(br)\n",
    "Map.center_object(br, zoom=5)\n",
    "\n",
    "Map"
   ]
  },
  {
   "cell_type": "code",
   "execution_count": 5,
   "metadata": {},
   "outputs": [],
   "source": [
    "# Set name\n",
    "my_roi = br"
   ]
  },
  {
   "cell_type": "code",
   "execution_count": 6,
   "metadata": {},
   "outputs": [],
   "source": [
    "# Save feature\n",
    "my_roi = ee.FeatureCollection(my_roi)"
   ]
  },
  {
   "cell_type": "code",
   "execution_count": 16,
   "metadata": {},
   "outputs": [],
   "source": [
    "# Create grid\n",
    "# https://developers.google.com/earth-engine/tutorials/community/drawing-tools\n",
    "\n",
    "def make_grid(region, a_scale):\n",
    "    \"\"\"\n",
    "    Creates a grid around a specified ROI.\n",
    "    User inputs their reasonably small ROI.\n",
    "    User inputs a scale where 100000 = 100km.\n",
    "    \"\"\"\n",
    "    # Creates image with 2 bands ('longitude', 'latitude') in degrees\n",
    "    lonLat = ee.Image.pixelLonLat()\n",
    "\n",
    "    # Select bands, multiply times big number, and truncate\n",
    "    lonGrid = (lonLat\n",
    "               .select('latitude')\n",
    "               .multiply(10000000)\n",
    "               .toInt()\n",
    "              )\n",
    "    latGrid = (lonLat\n",
    "              .select('longitude')\n",
    "              .multiply(10000000)\n",
    "              .toInt()\n",
    "              )\n",
    "\n",
    "    # Multiply lat and lon images and reduce to vectors\n",
    "    grid = (lonGrid\n",
    "            .multiply(latGrid)\n",
    "            .reduceToVectors(\n",
    "                geometry = region,\n",
    "                scale = a_scale, # 100km-sized boxes needs 100,000\n",
    "                geometryType = 'polygon')\n",
    "           )\n",
    "    \n",
    "    return(grid)"
   ]
  },
  {
   "cell_type": "code",
   "execution_count": 17,
   "metadata": {},
   "outputs": [],
   "source": [
    "# Make test grid and add to map\n",
    "grid_55km = make_grid(br, 55000)"
   ]
  },
  {
   "cell_type": "markdown",
   "metadata": {},
   "source": [
    "## Visualize selected grid tiles + images"
   ]
  },
  {
   "cell_type": "code",
   "execution_count": 18,
   "metadata": {},
   "outputs": [],
   "source": [
    "# Access coordinates of grid squares\n",
    "grid_dict = grid_55km.getInfo()\n",
    "\n",
    "feats = grid_dict['features']\n",
    "coord_list = []\n",
    "for d in feats:\n",
    "    geom = d['geometry']\n",
    "    coords = geom['coordinates']\n",
    "    coord_list.append(coords)"
   ]
  },
  {
   "cell_type": "code",
   "execution_count": 19,
   "metadata": {},
   "outputs": [],
   "source": [
    "# Create a list of several ee.Geometry.Polygons\n",
    "polys = []\n",
    "for coord in coord_list:\n",
    "    poly = ee.Geometry.Polygon(coord)\n",
    "    polys.append(poly)"
   ]
  },
  {
   "cell_type": "code",
   "execution_count": 20,
   "metadata": {},
   "outputs": [],
   "source": [
    "# Limit grid tiles to export\n",
    "#idx = list(range(0,100))\n",
    "idx = [64] #64 is test area in rondonia\n",
    "polys = [ polys[i] for i in idx]"
   ]
  },
  {
   "cell_type": "code",
   "execution_count": 21,
   "metadata": {},
   "outputs": [],
   "source": [
    "# Make the whole grid a feature collection for export purposes\n",
    "grid = ee.FeatureCollection(polys)"
   ]
  },
  {
   "cell_type": "code",
   "execution_count": 22,
   "metadata": {},
   "outputs": [
    {
     "data": {
      "application/vnd.jupyter.widget-view+json": {
       "model_id": "09124c8477be476a9e461fd4e60d3184",
       "version_major": 2,
       "version_minor": 0
      },
      "text/plain": [
       "Map(center=[-9.634459022148878, -64.47657951767819], controls=(WidgetControl(options=['position', 'transparent…"
      ]
     },
     "metadata": {},
     "output_type": "display_data"
    }
   ],
   "source": [
    "# Visualize a polygon or two\n",
    "Map = geemap.Map()\n",
    "\n",
    "Map.addLayer(grid)\n",
    "Map.addLayer(polys[0])\n",
    "Map.center_object(polys[0], zoom=5)\n",
    "\n",
    "Map"
   ]
  },
  {
   "cell_type": "markdown",
   "metadata": {},
   "source": [
    "## Export grid as shapfile"
   ]
  },
  {
   "cell_type": "code",
   "execution_count": 21,
   "metadata": {},
   "outputs": [
    {
     "name": "stdout",
     "output_type": "stream",
     "text": [
      "1\n"
     ]
    }
   ],
   "source": [
    "# Set all ee.Geometry.Polygon to ee.Feature\n",
    "feat_list = []\n",
    "for poly in polys:\n",
    "    feat = ee.Feature(poly)\n",
    "    feat_list.append(feat)\n",
    "print(len(feat_list))"
   ]
  },
  {
   "cell_type": "code",
   "execution_count": 23,
   "metadata": {},
   "outputs": [
    {
     "name": "stdout",
     "output_type": "stream",
     "text": [
      "Generating URL ...\n",
      "Downloading data from https://earthengine.googleapis.com/v1alpha/projects/earthengine-legacy/tables/bc298b016674c4c3e7d57ed632af0275-173c26bb6c20d38f702df6e72505a21f:getFeatures\n",
      "Please wait ...\n",
      "Data downloaded to /data/6ru/shapefiles/rondonia_0.shp\n"
     ]
    }
   ],
   "source": [
    "# Export entire grid as shapefile\n",
    "geemap.ee_to_shp(grid, filename='/data/6ru/shapefiles/rondonia_0.shp')"
   ]
  },
  {
   "cell_type": "markdown",
   "metadata": {},
   "source": [
    "## Make sub-grid from Rondonia AOI"
   ]
  },
  {
   "cell_type": "code",
   "execution_count": 38,
   "metadata": {},
   "outputs": [],
   "source": [
    "# Import grid\n",
    "grid_shp = '/data/6ru/shapefiles/rondonia_0.shp'\n",
    "grid_fc = geemap.shp_to_ee(grid_shp)"
   ]
  },
  {
   "cell_type": "code",
   "execution_count": 39,
   "metadata": {},
   "outputs": [],
   "source": [
    "# Create grid\n",
    "# https://developers.google.com/earth-engine/tutorials/community/drawing-tools\n",
    "\n",
    "def make_grid(region, a_scale):\n",
    "    \"\"\"\n",
    "    Creates a grid around a specified ROI.\n",
    "    User inputs their reasonably small ROI.\n",
    "    User inputs a scale where 100000 = 100km.\n",
    "    \"\"\"\n",
    "    # Creates image with 2 bands ('longitude', 'latitude') in degrees\n",
    "    lonLat = ee.Image.pixelLonLat()\n",
    "\n",
    "    # Select bands, multiply times big number, and truncate\n",
    "    lonGrid = (lonLat\n",
    "               .select('latitude')\n",
    "               .multiply(10000000)\n",
    "               .toInt()\n",
    "              )\n",
    "    latGrid = (lonLat\n",
    "              .select('longitude')\n",
    "              .multiply(10000000)\n",
    "              .toInt()\n",
    "              )\n",
    "\n",
    "    # Multiply lat and lon images and reduce to vectors\n",
    "    grid = (lonGrid\n",
    "            .multiply(latGrid)\n",
    "            .reduceToVectors(\n",
    "                geometry = region,\n",
    "                scale = a_scale, # 100km-sized boxes needs 100,000\n",
    "                geometryType = 'polygon')\n",
    "           )\n",
    "    \n",
    "    return(grid)"
   ]
  },
  {
   "cell_type": "code",
   "execution_count": 40,
   "metadata": {},
   "outputs": [],
   "source": [
    "# Make test grid and add to map\n",
    "grid_55km = make_grid(grid_fc, 27500)"
   ]
  },
  {
   "cell_type": "code",
   "execution_count": 41,
   "metadata": {},
   "outputs": [],
   "source": [
    "# Access coordinates of grid squares\n",
    "grid_dict = grid_55km.getInfo()\n",
    "\n",
    "feats = grid_dict['features']\n",
    "coord_list = []\n",
    "for d in feats:\n",
    "    geom = d['geometry']\n",
    "    coords = geom['coordinates']\n",
    "    coord_list.append(coords)"
   ]
  },
  {
   "cell_type": "code",
   "execution_count": 42,
   "metadata": {},
   "outputs": [],
   "source": [
    "# Create a list of several ee.Geometry.Polygons\n",
    "polys = []\n",
    "for coord in coord_list:\n",
    "    poly = ee.Geometry.Polygon(coord)\n",
    "    polys.append(poly)"
   ]
  },
  {
   "cell_type": "code",
   "execution_count": 43,
   "metadata": {},
   "outputs": [],
   "source": [
    "# Make the whole grid a feature collection for export purposes\n",
    "grid = ee.FeatureCollection(polys)"
   ]
  },
  {
   "cell_type": "code",
   "execution_count": 44,
   "metadata": {},
   "outputs": [
    {
     "data": {
      "application/vnd.jupyter.widget-view+json": {
       "model_id": "1be92f7c2016479cba9bd026faf3b4bc",
       "version_major": 2,
       "version_minor": 0
      },
      "text/plain": [
       "Map(center=[-9.510919896800196, -64.35306116611251], controls=(WidgetControl(options=['position', 'transparent…"
      ]
     },
     "metadata": {},
     "output_type": "display_data"
    }
   ],
   "source": [
    "# Visualize a polygon or two\n",
    "Map = geemap.Map()\n",
    "\n",
    "Map.addLayer(polys[0])\n",
    "Map.addLayer(grid)\n",
    "Map.center_object(polys[0], zoom=5)\n",
    "\n",
    "Map"
   ]
  },
  {
   "cell_type": "code",
   "execution_count": 45,
   "metadata": {},
   "outputs": [
    {
     "name": "stdout",
     "output_type": "stream",
     "text": [
      "Generating URL ...\n",
      "Downloading data from https://earthengine.googleapis.com/v1alpha/projects/earthengine-legacy/tables/84ef06c14ff921d7ea31ad196ed07ec4-dd3af3d4b8a4016389435323b542b828:getFeatures\n",
      "Please wait ...\n",
      "Data downloaded to /data/6ru/shapefiles/rondonia_0_subgrid.shp\n"
     ]
    }
   ],
   "source": [
    "# Export entire grid as shapefile\n",
    "geemap.ee_to_shp(grid, filename='/data/6ru/shapefiles/rondonia_0_subgrid.shp')"
   ]
  },
  {
   "cell_type": "code",
   "execution_count": null,
   "metadata": {},
   "outputs": [],
   "source": []
  }
 ],
 "metadata": {
  "kernelspec": {
   "display_name": "Python 3",
   "language": "python",
   "name": "python3"
  },
  "language_info": {
   "codemirror_mode": {
    "name": "ipython",
    "version": 3
   },
   "file_extension": ".py",
   "mimetype": "text/x-python",
   "name": "python",
   "nbconvert_exporter": "python",
   "pygments_lexer": "ipython3",
   "version": "3.7.7"
  }
 },
 "nbformat": 4,
 "nbformat_minor": 4
}
