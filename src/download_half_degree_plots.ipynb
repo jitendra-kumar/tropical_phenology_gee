{
 "cells": [
  {
   "cell_type": "markdown",
   "metadata": {},
   "source": [
    "# Download 1/2 degree plots"
   ]
  },
  {
   "cell_type": "code",
   "execution_count": 1,
   "metadata": {},
   "outputs": [
    {
     "name": "stdout",
     "output_type": "stream",
     "text": [
      "0.1.249\n",
      "0.8.8\n"
     ]
    }
   ],
   "source": [
    "import ee, geemap\n",
    "print(ee.__version__)\n",
    "print(geemap.__version__)"
   ]
  },
  {
   "cell_type": "code",
   "execution_count": 2,
   "metadata": {},
   "outputs": [],
   "source": [
    "ee.Initialize()"
   ]
  },
  {
   "cell_type": "markdown",
   "metadata": {},
   "source": [
    "### Get region data and sentinel-2 data from GEE"
   ]
  },
  {
   "cell_type": "code",
   "execution_count": 4,
   "metadata": {},
   "outputs": [
    {
     "name": "stdout",
     "output_type": "stream",
     "text": [
      "['Alagoas', 'Bahia', 'Ceara', 'Espirito Santo', 'Maranhao', 'Minas Gerais', 'Paraiba', 'Pernambuco', 'Piaui', 'Rio De Janeiro', 'Rio Grande Do Norte', 'Sao Paulo', 'Sergipe', 'Name Unknown', 'Name Unknown', 'Name Unknown', 'Acre', 'Amapa', 'Amazonas', 'Distrito Federal', 'Goias', 'Mato Grosso', 'Mato Grosso Do Sul', 'Para', 'Parana', 'Rio Grande Do Sul', 'Rondonia', 'Roraima', 'Santa Catarina', 'Tocantins', 'Name Unknown']\n"
     ]
    }
   ],
   "source": [
    "# List sub-regions using GAUL polygon data\n",
    "br = (ee.FeatureCollection(\"FAO/GAUL/2015/level1\")\n",
    "      .filterMetadata('ADM0_NAME', 'equals', 'Brazil')\n",
    "      .aggregate_array('ADM1_NAME')\n",
    "     )\n",
    "\n",
    "print(br.getInfo())"
   ]
  },
  {
   "cell_type": "code",
   "execution_count": 5,
   "metadata": {},
   "outputs": [],
   "source": [
    "# Get a sub-region from above to test grid function later\n",
    "br = (ee.FeatureCollection(\"FAO/GAUL/2015/level1\")\n",
    "      .filterMetadata('ADM0_NAME', 'equals', 'Brazil')\n",
    "      .filterMetadata('ADM1_NAME', 'equals', 'Amazonas')\n",
    "     )"
   ]
  },
  {
   "cell_type": "markdown",
   "metadata": {},
   "source": [
    "## Create a grid"
   ]
  },
  {
   "cell_type": "markdown",
   "metadata": {},
   "source": [
    "### Method 1 (failed)\n",
    "This method will could probably work better than the second, but I couldn't get it perfectly translated from javascript."
   ]
  },
  {
   "cell_type": "code",
   "execution_count": 9,
   "metadata": {},
   "outputs": [],
   "source": [
    "# Method 1 -- Failed, ends up in the ocean and invisible\n",
    "# https://code.earthengine.google.com/cf1d2e6e8c6375d33c48f0a121293bb0#\n",
    "import math\n",
    "\n",
    "lon_start = -60.00\n",
    "lon_end = -60.50\n",
    "lat_start = -2.35\n",
    "lat_end = -2.85\n",
    "\n",
    "num_cells = 4\n",
    "lon_edge = (lon_end-lon_start)/ math.sqrt(num_cells)\n",
    "lat_edge = (lat_end-lat_start)/ math.sqrt(num_cells)\n",
    "\n",
    "polys = []\n",
    "cell_id = 0\n",
    "\n",
    "lon = lon_start\n",
    "while lon < lon_end:\n",
    "    x1 = lon\n",
    "    x2 = lon + lon_edge\n",
    "    lon += lon_edge\n",
    "    \n",
    "    lat = lat_start\n",
    "    while lat < lat_end:\n",
    "        cell_id = cell_id + 1\n",
    "        y1 = lat\n",
    "        y2 = lat + lat_edge\n",
    "        lat += lat_edge\n",
    "        \n",
    "        ee.List(polys).add(ee.Feature(ee.Geometry.Rectangle(x1, y1, x2, y2), {'label': cell_id}))\n",
    "\n",
    "grid = ee.FeatureCollection(polys)"
   ]
  },
  {
   "cell_type": "markdown",
   "metadata": {},
   "source": [
    "### Method 2\n",
    "Not 100% perfect. You have to have a reasonably-sized roi drawn. If it's too big, it's hard to predict where the grid will be drawn. But hey, at least it gives me some squares."
   ]
  },
  {
   "cell_type": "code",
   "execution_count": 24,
   "metadata": {},
   "outputs": [
    {
     "data": {
      "application/vnd.jupyter.widget-view+json": {
       "model_id": "052a85f77b884806b8d954698017b843",
       "version_major": 2,
       "version_minor": 0
      },
      "text/plain": [
       "Map(center=[-4.186394628415986, -64.69261254089228], controls=(WidgetControl(options=['position', 'transparent…"
      ]
     },
     "metadata": {},
     "output_type": "display_data"
    }
   ],
   "source": [
    "# Method 2: geemap.show_youtube('N7rK2aV1R4c')\n",
    "# Create a map and draw a square interactively\n",
    "Map = geemap.Map()\n",
    "Map.addLayer(br)\n",
    "Map.center_object(br, zoom=5)\n",
    "\n",
    "Map"
   ]
  },
  {
   "cell_type": "code",
   "execution_count": 25,
   "metadata": {},
   "outputs": [],
   "source": [
    "# Set name\n",
    "my_roi = br"
   ]
  },
  {
   "cell_type": "code",
   "execution_count": 26,
   "metadata": {},
   "outputs": [],
   "source": [
    "# Save feature\n",
    "my_roi = ee.FeatureCollection(my_roi)"
   ]
  },
  {
   "cell_type": "code",
   "execution_count": 27,
   "metadata": {},
   "outputs": [],
   "source": [
    "# Create grid\n",
    "# https://developers.google.com/earth-engine/tutorials/community/drawing-tools\n",
    "\n",
    "def make_grid(region, a_scale):\n",
    "    \"\"\"\n",
    "    Creates a grid around a specified ROI.\n",
    "    User inputs their reasonably small ROI.\n",
    "    User inputs a scale where 100000 = 100km.\n",
    "    \"\"\"\n",
    "    # Creates image with 2 bands ('longitude', 'latitude') in degrees\n",
    "    lonLat = ee.Image.pixelLonLat()\n",
    "\n",
    "    # Select bands, multiply times big number, and truncate\n",
    "    lonGrid = (lonLat\n",
    "               .select('latitude')\n",
    "               .multiply(10000000)\n",
    "               .toInt()\n",
    "              )\n",
    "    latGrid = (lonLat\n",
    "              .select('longitude')\n",
    "              .multiply(10000000)\n",
    "              .toInt()\n",
    "              )\n",
    "\n",
    "    # Multiply lat and lon images and reduce to vectors\n",
    "    grid = (lonGrid\n",
    "            .multiply(latGrid)\n",
    "            .reduceToVectors(\n",
    "                geometry = region,\n",
    "                scale = a_scale, # 100km-sized boxes needs 100,000\n",
    "                geometryType = 'polygon')\n",
    "           )\n",
    "    \n",
    "    return(grid)"
   ]
  },
  {
   "cell_type": "code",
   "execution_count": 28,
   "metadata": {},
   "outputs": [],
   "source": [
    "# Make test grid and add to map\n",
    "grid_55km = make_grid(br, 55000)"
   ]
  },
  {
   "cell_type": "markdown",
   "metadata": {},
   "source": [
    "## Visualize selected grid tiles + images"
   ]
  },
  {
   "cell_type": "code",
   "execution_count": 29,
   "metadata": {},
   "outputs": [],
   "source": [
    "# Access coordinates of grid squares\n",
    "grid_dict = grid_55km.getInfo()\n",
    "\n",
    "feats = grid_dict['features']\n",
    "coord_list = []\n",
    "for d in feats:\n",
    "    geom = d['geometry']\n",
    "    coords = geom['coordinates']\n",
    "    coord_list.append(coords)"
   ]
  },
  {
   "cell_type": "code",
   "execution_count": 30,
   "metadata": {},
   "outputs": [],
   "source": [
    "# Create a list of several ee.Geometry.Polygons\n",
    "polys = []\n",
    "for coord in coord_list:\n",
    "    poly = ee.Geometry.Polygon(coord)\n",
    "    polys.append(poly)"
   ]
  },
  {
   "cell_type": "code",
   "execution_count": 31,
   "metadata": {},
   "outputs": [],
   "source": [
    "# Limit grid tiles to export\n",
    "idx = list(range(0,100))\n",
    "polys = [ polys[i] for i in idx]"
   ]
  },
  {
   "cell_type": "code",
   "execution_count": 34,
   "metadata": {},
   "outputs": [],
   "source": [
    "# Make the whole grid a feature collection for export purposes\n",
    "grid = ee.FeatureCollection(polys)"
   ]
  },
  {
   "cell_type": "code",
   "execution_count": 35,
   "metadata": {},
   "outputs": [
    {
     "data": {
      "application/vnd.jupyter.widget-view+json": {
       "model_id": "7e5d028f30bf408e8d46dc667216d837",
       "version_major": 2,
       "version_minor": 0
      },
      "text/plain": [
       "Map(center=[-2.223337188443923, -56.57140501742681], controls=(WidgetControl(options=['position', 'transparent…"
      ]
     },
     "metadata": {},
     "output_type": "display_data"
    }
   ],
   "source": [
    "# Visualize a polygon or two\n",
    "Map = geemap.Map()\n",
    "\n",
    "Map.addLayer(grid)\n",
    "Map.center_object(polys[0], zoom=5)\n",
    "\n",
    "Map"
   ]
  },
  {
   "cell_type": "markdown",
   "metadata": {},
   "source": [
    "## Export grid as shapfile"
   ]
  },
  {
   "cell_type": "code",
   "execution_count": 37,
   "metadata": {},
   "outputs": [
    {
     "name": "stdout",
     "output_type": "stream",
     "text": [
      "100\n"
     ]
    }
   ],
   "source": [
    "# Set all ee.Geometry.Polygon to ee.Feature\n",
    "feat_list = []\n",
    "for poly in polys:\n",
    "    feat = ee.Feature(poly)\n",
    "    feat_list.append(feat)\n",
    "print(len(feat_list))"
   ]
  },
  {
   "cell_type": "code",
   "execution_count": 38,
   "metadata": {},
   "outputs": [
    {
     "name": "stdout",
     "output_type": "stream",
     "text": [
      "Generating URL ...\n",
      "Downloading data from https://earthengine.googleapis.com/v1alpha/projects/earthengine-legacy/tables/ca08a5523aa6e0af9aa3052a20769e8b-48e030c46b91ea3e768a6ee2ba826377:getFeatures\n",
      "Please wait ...\n",
      "Data downloaded to /data/6ru/amazonas_grid.shp\n"
     ]
    }
   ],
   "source": [
    "# Export entire grid as shapefile\n",
    "geemap.ee_to_shp(grid, filename='/data/6ru/amazonas_grid.shp')"
   ]
  }
 ],
 "metadata": {
  "kernelspec": {
   "display_name": "Python 3",
   "language": "python",
   "name": "python3"
  },
  "language_info": {
   "codemirror_mode": {
    "name": "ipython",
    "version": 3
   },
   "file_extension": ".py",
   "mimetype": "text/x-python",
   "name": "python",
   "nbconvert_exporter": "python",
   "pygments_lexer": "ipython3",
   "version": "3.7.7"
  }
 },
 "nbformat": 4,
 "nbformat_minor": 4
}
