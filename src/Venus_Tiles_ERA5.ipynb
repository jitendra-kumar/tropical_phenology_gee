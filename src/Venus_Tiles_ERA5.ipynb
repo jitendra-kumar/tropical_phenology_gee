{
 "cells": [
  {
   "cell_type": "code",
   "execution_count": 1,
   "metadata": {},
   "outputs": [],
   "source": [
    "import ee\n",
    "import geemap\n",
    "import os\n",
    "import numpy as np\n",
    "from scipy import signal as sp\n",
    "from matplotlib import pyplot as plt"
   ]
  },
  {
   "cell_type": "code",
   "execution_count": 2,
   "metadata": {},
   "outputs": [],
   "source": [
    "manaus_shp = '/Users/morgansteckler/Desktop/tile_shapefiles/venus_fgmanaus_footprint/venus_fgmanaus_footprint.shp'\n",
    "manaus = geemap.shp_to_ee(manaus_shp)\n",
    "info = manaus.geometry()\n",
    "manaus = ee.Geometry(info)"
   ]
  },
  {
   "cell_type": "code",
   "execution_count": 8,
   "metadata": {},
   "outputs": [
    {
     "data": {
      "application/vnd.jupyter.widget-view+json": {
       "model_id": "62dc1ce91d2747dd8d05f4f78642613d",
       "version_major": 2,
       "version_minor": 0
      },
      "text/plain": [
       "Map(center=[-2.4396454678431994, -59.78996156231432], controls=(WidgetControl(options=['position'], widget=HBo…"
      ]
     },
     "metadata": {},
     "output_type": "display_data"
    }
   ],
   "source": [
    "Map = geemap.Map()\n",
    "Map.centerObject(manaus, 10)\n",
    "Map"
   ]
  },
  {
   "cell_type": "code",
   "execution_count": 9,
   "metadata": {},
   "outputs": [],
   "source": [
    "#Load ERA 5 mean air temp daily data (.25 arc degree res)\n",
    "era = (ee.ImageCollection(\"ECMWF/ERA5/DAILY\")\n",
    "       .select(['mean_2m_air_temperature']) #select temp\n",
    "       .map(lambda image: image.clip(manaus))\n",
    "       .filterDate(ee.Date('2016-01-01'), ee.Date('2019-12-31')))"
   ]
  },
  {
   "cell_type": "code",
   "execution_count": 11,
   "metadata": {},
   "outputs": [
    {
     "name": "stdout",
     "output_type": "stream",
     "text": [
      "1460\n"
     ]
    }
   ],
   "source": [
    "times = era.aggregate_array('system:time_start').getInfo()\n",
    "print(len(times))\n",
    "#Note: images appear to be daily (365*4=1460)"
   ]
  },
  {
   "cell_type": "code",
   "execution_count": 10,
   "metadata": {},
   "outputs": [],
   "source": [
    "#Visualize coarseness on map\n",
    "Map.addLayer(era, {'min': 295, 'max': 300}, \"era temp\")"
   ]
  },
  {
   "cell_type": "code",
   "execution_count": 11,
   "metadata": {},
   "outputs": [],
   "source": [
    "#Loead ERA 5 total precip daily data\n",
    "era_precip = (ee.ImageCollection(\"ECMWF/ERA5/DAILY\")\n",
    "       .select(['total_precipitation'])\n",
    "       .map(lambda image: image.clip(manaus))\n",
    "       .filterDate(ee.Date('2016-01-01'), ee.Date('2019-12-31')))"
   ]
  },
  {
   "cell_type": "code",
   "execution_count": 12,
   "metadata": {},
   "outputs": [],
   "source": [
    "#Visualize\n",
    "Map.addLayer(era_precip, {'min': 0, 'max': .04}, \"era precip\")"
   ]
  },
  {
   "cell_type": "code",
   "execution_count": null,
   "metadata": {},
   "outputs": [],
   "source": []
  },
  {
   "cell_type": "code",
   "execution_count": null,
   "metadata": {},
   "outputs": [],
   "source": []
  },
  {
   "cell_type": "code",
   "execution_count": null,
   "metadata": {},
   "outputs": [],
   "source": []
  },
  {
   "cell_type": "code",
   "execution_count": null,
   "metadata": {},
   "outputs": [],
   "source": [
    "#Try out GSMaP collection to see how the precip data differs (.1 arc degree res)\n",
    "gsmap = ee.ImageCollection(\"JAXA/GPM_L3/GSMaP/v6/operational\")"
   ]
  }
 ],
 "metadata": {
  "kernelspec": {
   "display_name": "Python 3",
   "language": "python",
   "name": "python3"
  },
  "language_info": {
   "codemirror_mode": {
    "name": "ipython",
    "version": 3
   },
   "file_extension": ".py",
   "mimetype": "text/x-python",
   "name": "python",
   "nbconvert_exporter": "python",
   "pygments_lexer": "ipython3",
   "version": "3.8.2"
  }
 },
 "nbformat": 4,
 "nbformat_minor": 4
}
