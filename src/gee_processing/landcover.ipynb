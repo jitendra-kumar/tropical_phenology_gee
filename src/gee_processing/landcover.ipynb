{
 "cells": [
  {
   "cell_type": "markdown",
   "id": "exceptional-editing",
   "metadata": {},
   "source": [
    "## Copernicus global land cover\n",
    "Available 2015 to 2019"
   ]
  },
  {
   "cell_type": "code",
   "execution_count": 1,
   "id": "detailed-parker",
   "metadata": {},
   "outputs": [],
   "source": [
    "import ee, geemap"
   ]
  },
  {
   "cell_type": "code",
   "execution_count": 2,
   "id": "organic-benefit",
   "metadata": {},
   "outputs": [],
   "source": [
    "ee.Initialize()"
   ]
  },
  {
   "cell_type": "code",
   "execution_count": 3,
   "id": "banned-penetration",
   "metadata": {},
   "outputs": [],
   "source": [
    "br = (ee.FeatureCollection(\"FAO/GAUL/2015/level1\")\n",
    "       .filterMetadata('ADM0_NAME', 'equals', 'Brazil')\n",
    "       .filterMetadata('ADM1_NAME', 'equals', 'Roraima')\n",
    "      )"
   ]
  },
  {
   "cell_type": "code",
   "execution_count": 5,
   "id": "leading-electricity",
   "metadata": {},
   "outputs": [
    {
     "data": {
      "application/vnd.jupyter.widget-view+json": {
       "model_id": "54b35e996738499bae87c0bc1c3abfe0",
       "version_major": 2,
       "version_minor": 0
      },
      "text/plain": [
       "Map(center=[2.082465819696796, -61.39215640405955], controls=(WidgetControl(options=['position', 'transparent_…"
      ]
     },
     "metadata": {},
     "output_type": "display_data"
    }
   ],
   "source": [
    "Map = geemap.Map()\n",
    "Map.addLayer(br, {}, 'Amazonas')\n",
    "Map.center_object(br, zoom=6)\n",
    "Map"
   ]
  },
  {
   "cell_type": "code",
   "execution_count": 6,
   "id": "approximate-builder",
   "metadata": {},
   "outputs": [],
   "source": [
    "# Create grid\n",
    "# https://developers.google.com/earth-engine/tutorials/community/drawing-tools\n",
    "\n",
    "def make_grid(region, a_scale):\n",
    "    \"\"\"\n",
    "    Creates a grid around a specified ROI.\n",
    "    User inputs their reasonably small ROI.\n",
    "    User inputs a scale where 100000 = 100km.\n",
    "    \"\"\"\n",
    "    # Creates image with 2 bands ('longitude', 'latitude') in degrees\n",
    "    lonLat = ee.Image.pixelLonLat()\n",
    "\n",
    "    # Select bands, multiply times big number, and truncate\n",
    "    lonGrid = (lonLat\n",
    "               .select('latitude')\n",
    "               .multiply(10000000)\n",
    "               .toInt()\n",
    "              )\n",
    "    latGrid = (lonLat\n",
    "              .select('longitude')\n",
    "              .multiply(10000000)\n",
    "              .toInt()\n",
    "              )\n",
    "\n",
    "    # Multiply lat and lon images and reduce to vectors\n",
    "    grid = (lonGrid\n",
    "            .multiply(latGrid)\n",
    "            .reduceToVectors(\n",
    "                geometry = region,\n",
    "                scale = a_scale, # 100km-sized boxes needs 100,000\n",
    "                geometryType = 'polygon')\n",
    "           )\n",
    "    \n",
    "    return(grid)"
   ]
  },
  {
   "cell_type": "code",
   "execution_count": 7,
   "id": "further-connecticut",
   "metadata": {},
   "outputs": [],
   "source": [
    "# Make test grid (half degree squares)\n",
    "grid1 = make_grid(br, 40000)"
   ]
  },
  {
   "cell_type": "code",
   "execution_count": 12,
   "id": "relevant-tumor",
   "metadata": {},
   "outputs": [
    {
     "data": {
      "application/vnd.jupyter.widget-view+json": {
       "model_id": "a6a822cf9f8a4031bea00fc5ca7e350c",
       "version_major": 2,
       "version_minor": 0
      },
      "text/plain": [
       "Map(center=[2.082465819696796, -61.39215640405955], controls=(WidgetControl(options=['position', 'transparent_…"
      ]
     },
     "metadata": {},
     "output_type": "display_data"
    }
   ],
   "source": [
    "Map = geemap.Map()\n",
    "Map.addLayer(grid1, {}, 'grid')\n",
    "Map.center_object(br, zoom=5)\n",
    "Map"
   ]
  },
  {
   "cell_type": "code",
   "execution_count": 13,
   "id": "occupational-reunion",
   "metadata": {},
   "outputs": [],
   "source": [
    "# Access coordinates of grid squares\n",
    "grid_dict = grid1.getInfo()\n",
    "\n",
    "feats = grid_dict['features']\n",
    "coord_list = []\n",
    "for d in feats:\n",
    "    geom = d['geometry']\n",
    "    coords = geom['coordinates']\n",
    "    coord_list.append(coords)"
   ]
  },
  {
   "cell_type": "code",
   "execution_count": 14,
   "id": "premium-guest",
   "metadata": {},
   "outputs": [],
   "source": [
    "# Create a list of several ee.Geometry.Polygons\n",
    "polys = []\n",
    "for coord in coord_list:\n",
    "    poly = ee.Geometry.Polygon(coord)\n",
    "    polys.append(poly)"
   ]
  },
  {
   "cell_type": "code",
   "execution_count": 15,
   "id": "artificial-handling",
   "metadata": {},
   "outputs": [],
   "source": [
    "# Make grid smaller if it's huge\n",
    "idx = [10]\n",
    "polys = [polys[i] for i in idx]"
   ]
  },
  {
   "cell_type": "code",
   "execution_count": 16,
   "id": "palestinian-webmaster",
   "metadata": {},
   "outputs": [],
   "source": [
    "# Make the whole grid a feature collection for export purposes\n",
    "grid = ee.FeatureCollection(polys[0])"
   ]
  },
  {
   "cell_type": "code",
   "execution_count": 17,
   "id": "spare-rocket",
   "metadata": {},
   "outputs": [
    {
     "data": {
      "application/vnd.jupyter.widget-view+json": {
       "model_id": "7ef0d0cc3b154f8ebebee5b0f1d5a42a",
       "version_major": 2,
       "version_minor": 0
      },
      "text/plain": [
       "Map(center=[0.8983167552200919, -59.82779792235959], controls=(WidgetControl(options=['position', 'transparent…"
      ]
     },
     "metadata": {},
     "output_type": "display_data"
    }
   ],
   "source": [
    "Map = geemap.Map()\n",
    "Map.addLayer(grid, {}, 'grid')\n",
    "Map.center_object(grid, zoom=10)\n",
    "Map"
   ]
  },
  {
   "cell_type": "code",
   "execution_count": 18,
   "id": "pharmaceutical-anniversary",
   "metadata": {},
   "outputs": [],
   "source": [
    "ecoregions = (ee.FeatureCollection(\"RESOLVE/ECOREGIONS/2017\")\n",
    "             .select('ECO_NAME', 'BIOME_NUM', 'COLOR')\n",
    "             .filterBounds(grid))\n",
    "\n",
    "def setcolor(f):\n",
    "    color = f.get('COLOR')\n",
    "    return f.set('style', {'color': color, 'width': 0})\n",
    "\n",
    "ecoregions = ecoregions.map(setcolor)\n",
    "imageRGB = ecoregions.style(styleProperty='style')\n",
    "Map.addLayer(imageRGB, {}, 'fills')"
   ]
  },
  {
   "cell_type": "code",
   "execution_count": 19,
   "id": "african-administration",
   "metadata": {},
   "outputs": [],
   "source": [
    "lc = (ee.Image(\"COPERNICUS/Landcover/100m/Proba-V-C3/Global/2019\")\n",
    "      .select('discrete_classification')\n",
    "     .clip(polys[0]))\n",
    "Map.addLayer(lc, {}, 'lc')"
   ]
  },
  {
   "cell_type": "code",
   "execution_count": 20,
   "id": "enhanced-academy",
   "metadata": {},
   "outputs": [],
   "source": [
    "empty = ee.Image().byte()\n",
    "outline = empty.paint(\n",
    "    featureCollection=grid,\n",
    "    color=1,\n",
    "    width=3)\n",
    "Map.addLayer(outline, {}, 'outline')"
   ]
  },
  {
   "cell_type": "code",
   "execution_count": null,
   "id": "alert-abortion",
   "metadata": {},
   "outputs": [],
   "source": []
  }
 ],
 "metadata": {
  "kernelspec": {
   "display_name": "Python 3",
   "language": "python",
   "name": "python3"
  },
  "language_info": {
   "codemirror_mode": {
    "name": "ipython",
    "version": 3
   },
   "file_extension": ".py",
   "mimetype": "text/x-python",
   "name": "python",
   "nbconvert_exporter": "python",
   "pygments_lexer": "ipython3",
   "version": "3.8.2"
  }
 },
 "nbformat": 4,
 "nbformat_minor": 5
}
