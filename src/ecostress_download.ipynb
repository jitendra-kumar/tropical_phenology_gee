{
 "cells": [
  {
   "cell_type": "markdown",
   "metadata": {},
   "source": [
    "# Access EcoStress data from AppEEARS API\n",
    "Note: /Users/morgansteckler/opt/miniconda3/envs/gee/lib/python3.8/site-packages/shapely/geos.py throws an error at line 113. I had to change the line to `free = CDLL(None).free` to prevent an error."
   ]
  },
  {
   "cell_type": "code",
   "execution_count": 2,
   "metadata": {},
   "outputs": [],
   "source": [
    "# Import packages \n",
    "import requests as r\n",
    "import getpass, pprint, time, os, cgi, json\n",
    "import geopandas as gpd "
   ]
  },
  {
   "cell_type": "code",
   "execution_count": 3,
   "metadata": {},
   "outputs": [],
   "source": [
    "# Set input directory, change working directory\n",
    "inDir = '/Users/morgansteckler/Desktop/tropical_phenology_gee/morgan/appeears-api-getting-started-master@f64abca248a'\n",
    "os.chdir(inDir)\n",
    "api = 'https://lpdaacsvc.cr.usgs.gov/appeears/api/'"
   ]
  },
  {
   "cell_type": "code",
   "execution_count": 4,
   "metadata": {},
   "outputs": [
    {
     "name": "stdout",
     "output_type": "stream",
     "text": [
      "Enter NASA Earthdata Login Username: ········\n",
      "Enter NASA Earthdata Login Password: ········\n"
     ]
    }
   ],
   "source": [
    "# Sign in\n",
    "user = getpass.getpass(prompt = 'Enter NASA Earthdata Login Username: ')      # Input NASA Earthdata Login Username\n",
    "password = getpass.getpass(prompt = 'Enter NASA Earthdata Login Password: ')  # Input NASA Earthdata Login Password"
   ]
  },
  {
   "cell_type": "code",
   "execution_count": 5,
   "metadata": {},
   "outputs": [
    {
     "data": {
      "text/plain": [
       "{'token_type': 'Bearer',\n",
       " 'token': 'omkV9ZFrqAbxQ2qAUIl8nl60maZJcHSd5ywgXN52tcAKvNN1FvhB1us37-nRcGLZs7KndRCqrx2iDqQFyWzBNg',\n",
       " 'expiration': '2021-01-21T19:08:08Z'}"
      ]
     },
     "execution_count": 5,
     "metadata": {},
     "output_type": "execute_result"
    }
   ],
   "source": [
    "# Get bearer token\n",
    "token_response = r.post('{}login'.format(api), auth=(user, password)).json() # Insert API URL, call login service, provide credentials & return json\n",
    "del user, password                                                           # Remove user and password information\n",
    "token_response                                                               # Print response"
   ]
  },
  {
   "cell_type": "markdown",
   "metadata": {},
   "source": [
    "## 1. Look at all products and find ecostress"
   ]
  },
  {
   "cell_type": "code",
   "execution_count": 60,
   "metadata": {},
   "outputs": [
    {
     "name": "stdout",
     "output_type": "stream",
     "text": [
      "GPW_DataQualityInd.004: Quality of Input Data for Population Count and Density Grids\n",
      "GPW_UN_Adj_PopCount.004: UN-adjusted Population Count\n",
      "GPW_UN_Adj_PopDensity.004: UN-adjusted Population Density\n",
      "MCD12Q1.006: Land Cover Type\n",
      "MCD12Q2.006: Land Cover Dynamics\n",
      "MCD15A2H.006: Leaf Area Index (LAI) and Fraction of Photosynthetically Active Radiation (FPAR)\n",
      "MCD15A3H.006: Leaf Area Index (LAI) and Fraction of Photosynthetically Active Radiation (FPAR)\n",
      "MCD43A1.006: Bidirectional Reflectance Distribution Function (BRDF) and Albedo\n",
      "MCD43A3.006: Bidirectional Reflectance Distribution Function (BRDF) and Albedo\n",
      "MCD43A4.006: Bidirectional Reflectance Distribution Function (BRDF) and Albedo\n",
      "MCD64A1.006: Burned Area (fire)\n",
      "MOD09A1.006: Surface Reflectance Bands 1-7\n",
      "MOD09GA.006: Surface Reflectance Bands 1-7\n",
      "MOD09GQ.006: Surface Reflectance Bands 1-2\n",
      "MOD09Q1.006: Surface Reflectance Bands 1-2\n",
      "MOD10A1.005: Snow Cover\n",
      "MOD10A1.006: Snow Cover (NDSI)\n",
      "MOD10A2.005: Snow Cover\n",
      "MOD10A2.006: Snow Cover\n",
      "MOD11A1.006: Land Surface Temperature & Emissivity (LST&E)\n",
      "MOD11A2.006: Land Surface Temperature & Emissivity (LST&E)\n",
      "MOD13A1.006: Vegetation Indices (NDVI & EVI)\n",
      "MOD13A2.006: Vegetation Indices (NDVI & EVI)\n",
      "MOD13A3.006: Vegetation Indices (NDVI & EVI)\n",
      "MOD13Q1.006: Vegetation Indices (NDVI & EVI)\n",
      "MOD14A2.006: Thermal Anomalies and Fire\n",
      "MOD15A2H.006: Leaf Area Index (LAI) and Fraction of Photosynthetically Active Radiation (FPAR)\n",
      "MOD16A2.006: Evapotranspiration (ET & LE)\n",
      "MOD16A2GF.006: Net Evapotranspiration Gap-Filled (ET & LE)\n",
      "MOD16A3GF.006: Net Evapotranspiration Gap-Filled (ET & LE)\n",
      "MOD17A2H.006: Gross Primary Productivity (GPP)\n",
      "MOD17A2HGF.006: Gross Primary Productivity (GPP)\n",
      "MOD17A3HGF.006: Net Primary Production (NPP) Gap-Filled\n",
      "MOD44B.006: Vegetation Continuous Fields (VCF)\n",
      "MOD44W.006: Land/Water Mask\n",
      "MODOCGA.006: Ocean Reflectance Bands 8-16\n",
      "MODTBGA.006: Thermal Bands and Albedo\n",
      "MYD09A1.006: Surface Reflectance Bands 1-7\n",
      "MYD09GA.006: Surface Reflectance Bands 1-7\n",
      "MYD09GQ.006: Surface Reflectance Bands 1-2\n",
      "MYD09Q1.006: Surface Reflectance Bands 1-2\n",
      "MYD10A1.005: Snow Cover\n",
      "MYD10A1.006: Snow Cover (NDSI)\n",
      "MYD10A2.005: Snow Cover\n",
      "MYD10A2.006: Snow Cover\n",
      "MYD11A1.006: Land Surface Temperature & Emissivity (LST&E)\n",
      "MYD11A2.006: Land Surface Temperature & Emissivity (LST&E)\n",
      "MYD13A1.006: Vegetation Indices (NDVI & EVI)\n",
      "MYD13A2.006: Vegetation Indices (NDVI & EVI)\n",
      "MYD13A3.006: Vegetation Indices (NDVI & EVI)\n",
      "MYD13Q1.006: Vegetation Indices (NDVI & EVI)\n",
      "MYD14A2.006: Thermal Anomalies and Fire\n",
      "MYD15A2H.006: Leaf Area Index (LAI) and Fraction of Photosynthetically Active Radiation (FPAR)\n",
      "MYD16A2.006: Evapotranspiration (ET & LE)\n",
      "MYD16A2GF.006: Net Evapotranspiration Gap-Filled (ET & LE)\n",
      "MYD16A3GF.006: Net Evapotranspiration Gap-Filled (ET & LE)\n",
      "MYD17A2H.006: Gross Primary Productivity (GPP)\n",
      "MYD17A2HGF.006: Gross Primary Productivity (GPP) Gap-Filled\n",
      "MYD17A3HGF.006: Net Primary Production (NPP) Gap-Filled\n",
      "MYD21A1D.006: Land Surface Temperature & Emissivity (LST&E)\n",
      "MYD21A1N.006: Land Surface Temperature & Emissivity (LST&E)\n",
      "MYD21A2.006: Land Surface Temperature & Emissivity (LST&E)\n",
      "MYDOCGA.006: Ocean Reflectance Bands 8-16\n",
      "MYDTBGA.006: Thermal Bands and Albedo\n",
      "NASADEM_NC.001: Elevation\n",
      "NASADEM_NUMNC.001: Source\n",
      "SPL3SMP_E.004: Enhanced L3 Radiometer Soil Moisture\n",
      "SPL3SMP.007: Soil Moisture\n",
      "SPL4CMDL.005: Carbon Net Ecosystem Exchange\n",
      "SPL4SMGP.005: Surface and Root Zone Soil Moisture\n",
      "SPL3FTP.003: Freeze/Thaw State\n",
      "SRTMGL1_NC.003: Elevation (DEM)\n",
      "SRTMGL1_NUMNC.003: Source (DEM)\n",
      "SRTMGL3_NC.003: Elevation (DEM)\n",
      "SRTMGL3_NUMNC.003: Source (DEM)\n",
      "ASTGTM_NC.003: Elevation\n",
      "ASTGTM_NUMNC.003: Source\n",
      "ASTWBD_ATTNC.001: Water Bodies Database Attributes\n",
      "ASTWBD_NC.001: Water Bodies Database Elevation\n",
      "VNP09H1.001: Surface Reflectance\n",
      "VNP09A1.001: Surface Reflectance\n",
      "VNP09GA.001: Surface Reflectance\n",
      "VNP13A1.001: Vegetation Indices (NDVI & EVI)\n",
      "VNP13A2.001: Vegetation Indices (NDVI & EVI)\n",
      "VNP13A3.001: Vegetation Indices (NDVI & EVI)\n",
      "VNP14A1.001: Thermal Anomalies/Fire\n",
      "VNP15A2H.001: Leaf Area Index (LAI) and Fraction of Photosynthetically Active Radiation (FPAR)\n",
      "VNP21A1D.001: Land Surface Temperature & Emissivity Day (LST&E)\n",
      "VNP21A1N.001: Land Surface Temperature & Emissivity Night (LST&E)\n",
      "VNP21A2.001: Land Surface Temperature & Emissivity (LST&E)\n",
      "VNP43IA1.001: BRDF-Albedo Model Parameters\n",
      "VNP43IA2.001: BRDF-Albedo Quality\n",
      "VNP43IA3.001: Albedo (BRDF)\n",
      "VNP43IA4.001: Nadir BRDF-Adjusted Reflectance\n",
      "VNP43MA1.001: BRDF-Albedo Model Parameters\n",
      "VNP43MA2.001: BRDF-Albedo Quality\n",
      "VNP43MA3.001: Albedo (BRDF)\n",
      "VNP43MA4.001: Nadir BRDF-Adjusted Reflectance\n",
      "CU_LC08.001: CONUS Landsat 8 Surface Reflectance\n",
      "CU_LE07.001: CONUS Landsat 7 Surface Reflectance\n",
      "CU_LT05.001: CONUS Landsat 5 Surface Reflectance\n",
      "CU_LT04.001: CONUS Landsat 4 Surface Reflectance\n",
      "AK_LC08.001: Alaska Landsat 8 Surface Reflectance\n",
      "AK_LE07.001: Alaska Landsat 7 Surface Reflectance\n",
      "AK_LT05.001: Alaska Landsat 5 Surface Reflectance\n",
      "AK_LT04.001: Alaska Landsat 4 Surface Reflectance\n",
      "HI_LC08.001: Hawaii Landsat 8 Surface Reflectance\n",
      "HI_LE07.001: Hawaii Landsat 7 Surface Reflectance\n",
      "HI_LT05.001: Hawaii Landsat 5 Surface Reflectance\n",
      "HI_LT04.001: Hawaii Landsat 4 Surface Reflectance\n",
      "DAYMET.003: Daily Surface Weather Data for North America\n",
      "SSEBop_ET.004: SSEBop Actual Evapotranspiration (ETa)\n",
      "eMODIS_Smoothed_NDVI.001: eMODIS Smoothed Normalized Difference Vegetation Index (NDVI)\n",
      "ECO2LSTE.001: Land Surface Temperature & Emissivity (LST&E)\n",
      "ECO2CLD.001: Cloud Mask\n",
      "ECO3ETPTJPL.001: Evapotranspiration PT-JPL\n",
      "ECO3ANCQA.001: L3/L4 Ancillary Data Quality Assurance (QA) Flags\n",
      "ECO4ESIPTJPL.001: Evaporative Stress Index PT-JPL\n",
      "ECO4WUE.001: Water Use Efficiency\n",
      "ECO1BGEO.001: Geolocation\n",
      "ECO1BMAPRAD.001: Resampled Radiance\n"
     ]
    }
   ],
   "source": [
    "# List all products\n",
    "product_response = r.get('{}product'.format(api)).json()\n",
    "products = {p['ProductAndVersion']: p for p in product_response}\n",
    "for key, val in products.items():\n",
    "    name = val['ProductAndVersion']\n",
    "    desc = val['Description']\n",
    "    print(str(name) + \": \" + str(desc))"
   ]
  },
  {
   "cell_type": "code",
   "execution_count": 61,
   "metadata": {},
   "outputs": [
    {
     "name": "stdout",
     "output_type": "stream",
     "text": [
      "{'Available': True,\n",
      " 'DOI': '10.5067/ECOSTRESS/ECO4ESIPTJPL.001',\n",
      " 'Deleted': False,\n",
      " 'Description': 'Evaporative Stress Index PT-JPL',\n",
      " 'DocLink': 'https://doi.org/10.5067/ECOSTRESS/ECO4ESIPTJPL.001',\n",
      " 'Platform': 'ECOSTRESS',\n",
      " 'Product': 'ECO4ESIPTJPL',\n",
      " 'ProductAndVersion': 'ECO4ESIPTJPL.001',\n",
      " 'RasterType': 'Swath',\n",
      " 'Resolution': '70m',\n",
      " 'Source': 'LP DAAC',\n",
      " 'TemporalExtentEnd': 'Present',\n",
      " 'TemporalExtentStart': '2018-07-09',\n",
      " 'TemporalGranularity': 'ISS-dependent',\n",
      " 'Version': '001'}\n"
     ]
    }
   ],
   "source": [
    "# Get info on an Ecostress product\n",
    "pprint.pprint(products['ECO4ESIPTJPL.001'])"
   ]
  },
  {
   "cell_type": "code",
   "execution_count": 63,
   "metadata": {},
   "outputs": [
    {
     "data": {
      "text/plain": [
       "['ECO2LSTE.001', 'ECO3ETPTJPL.001']"
      ]
     },
     "execution_count": 63,
     "metadata": {},
     "output_type": "execute_result"
    }
   ],
   "source": [
    "# Create a list of products I want\n",
    "prods = ['ECO2LSTE.001'] # Lands surface temp and emissivity\n",
    "prods.append('ECO3ETPTJPL.001') # Evapotranspiration\n",
    "#prods.append('ECO4ESIPTJPL.001') # Evaporative stress index\n",
    "prods"
   ]
  },
  {
   "cell_type": "markdown",
   "metadata": {},
   "source": [
    "## 2. Look at ecostress evapotranspiration product layers"
   ]
  },
  {
   "cell_type": "code",
   "execution_count": 64,
   "metadata": {},
   "outputs": [
    {
     "data": {
      "text/plain": [
       "['EVAPOTRANSPIRATION_PT_JPL_ETcanopy',\n",
       " 'EVAPOTRANSPIRATION_PT_JPL_ETdaily',\n",
       " 'EVAPOTRANSPIRATION_PT_JPL_ETinst',\n",
       " 'EVAPOTRANSPIRATION_PT_JPL_ETinstUncertainty',\n",
       " 'EVAPOTRANSPIRATION_PT_JPL_ETinterception',\n",
       " 'EVAPOTRANSPIRATION_PT_JPL_ETsoil']"
      ]
     },
     "execution_count": 64,
     "metadata": {},
     "output_type": "execute_result"
    }
   ],
   "source": [
    "# Request layers for the 2nd product (index 1) in the list: 'ECO3ETPTJPL.001'\n",
    "canopy_response = r.get('{}product/{}'.format(api, prods[1])).json()\n",
    "list(canopy_response.keys())"
   ]
  },
  {
   "cell_type": "code",
   "execution_count": 65,
   "metadata": {},
   "outputs": [
    {
     "data": {
      "text/plain": [
       "{'AddOffset': '',\n",
       " 'Available': True,\n",
       " 'DataType': 'float32',\n",
       " 'Description': 'Canopy Evaporation',\n",
       " 'Dimensions': ['FakeDim0', 'FakeDim1'],\n",
       " 'FillValue': '',\n",
       " 'IsQA': False,\n",
       " 'Layer': 'EVAPOTRANSPIRATION_PT_JPL_ETcanopy',\n",
       " 'OrigDataType': 'float32',\n",
       " 'OrigValidMax': 100.0,\n",
       " 'OrigValidMin': 0.0,\n",
       " 'QualityLayers': '',\n",
       " 'QualityProductAndVersion': '',\n",
       " 'ScaleFactor': '',\n",
       " 'Units': '%',\n",
       " 'ValidMax': 100.0,\n",
       " 'ValidMin': 0.0,\n",
       " 'XSize': 5400,\n",
       " 'YSize': 5632}"
      ]
     },
     "execution_count": 65,
     "metadata": {},
     "output_type": "execute_result"
    }
   ],
   "source": [
    "# Show what info there is for a layer\n",
    "canopy_response['EVAPOTRANSPIRATION_PT_JPL_ETcanopy']"
   ]
  },
  {
   "cell_type": "code",
   "execution_count": 66,
   "metadata": {},
   "outputs": [],
   "source": [
    "# Create list of tuples with the layers I want from 'ECO3ETPTJPL.001'\n",
    "layers = [(prods[1],'EVAPOTRANSPIRATION_PT_JPL_ETcanopy'),\n",
    "          (prods[1],'EVAPOTRANSPIRATION_PT_JPL_ETdaily')]"
   ]
  },
  {
   "cell_type": "markdown",
   "metadata": {},
   "source": [
    "## 3. Look at ecostress emissivity product layers"
   ]
  },
  {
   "cell_type": "code",
   "execution_count": 67,
   "metadata": {},
   "outputs": [
    {
     "data": {
      "text/plain": [
       "['SDS_Emis1',\n",
       " 'SDS_Emis1_err',\n",
       " 'SDS_Emis2',\n",
       " 'SDS_Emis2_err',\n",
       " 'SDS_Emis3',\n",
       " 'SDS_Emis3_err',\n",
       " 'SDS_Emis4',\n",
       " 'SDS_Emis4_err',\n",
       " 'SDS_Emis5',\n",
       " 'SDS_Emis5_err',\n",
       " 'SDS_EmisWB',\n",
       " 'SDS_LST',\n",
       " 'SDS_LST_err',\n",
       " 'SDS_PWV',\n",
       " 'SDS_QC']"
      ]
     },
     "execution_count": 67,
     "metadata": {},
     "output_type": "execute_result"
    }
   ],
   "source": [
    "# Request layers for the 1st product (index 0) in the list: 'ECO2LSTE.001'\n",
    "temp_response = r.get('{}product/{}'.format(api, prods[0])).json()  # Request layers for the 1st product (index 0) in the list: MCD15A3H.006\n",
    "list(temp_response.keys())  "
   ]
  },
  {
   "cell_type": "code",
   "execution_count": 68,
   "metadata": {},
   "outputs": [
    {
     "data": {
      "text/plain": [
       "{'AddOffset': 0.0,\n",
       " 'Available': True,\n",
       " 'DataType': 'uint16',\n",
       " 'Description': 'Land Surface Temperature',\n",
       " 'Dimensions': ['FakeDim0', 'FakeDim1'],\n",
       " 'FillValue': 0.0,\n",
       " 'IsQA': False,\n",
       " 'Layer': 'SDS_LST',\n",
       " 'OrigDataType': 'uint16',\n",
       " 'OrigValidMax': 65535,\n",
       " 'OrigValidMin': 7500,\n",
       " 'QualityLayers': \"['SDS_QC']\",\n",
       " 'QualityProductAndVersion': 'ECO2LSTE.001',\n",
       " 'ScaleFactor': 0.02,\n",
       " 'Units': 'K',\n",
       " 'ValidMax': 1310.7,\n",
       " 'ValidMin': 150.0,\n",
       " 'XSize': 5400,\n",
       " 'YSize': 5632}"
      ]
     },
     "execution_count": 68,
     "metadata": {},
     "output_type": "execute_result"
    }
   ],
   "source": [
    "temp_response['SDS_LST']"
   ]
  },
  {
   "cell_type": "code",
   "execution_count": 69,
   "metadata": {},
   "outputs": [],
   "source": [
    "layers.append((prods[0],'SDS_LST'))"
   ]
  },
  {
   "cell_type": "markdown",
   "metadata": {},
   "source": [
    "## 4. Look at evaporative stress index product layers"
   ]
  },
  {
   "cell_type": "code",
   "execution_count": 70,
   "metadata": {},
   "outputs": [],
   "source": [
    "# Request layers for the 3rd product (index 2) in the list: 'ECO4ESIPTJPL.001'\n",
    "#esi_response = r.get('{}product/{}'.format(api, prods[2])).json()  # Request layers for the 1st product (index 0) in the list: MCD15A3H.006\n",
    "#list(esi_response.keys())"
   ]
  },
  {
   "cell_type": "code",
   "execution_count": 71,
   "metadata": {},
   "outputs": [],
   "source": [
    "#esi_response['Evaporative_Stress_Index_PT_JPL_ESIavg']"
   ]
  },
  {
   "cell_type": "code",
   "execution_count": 72,
   "metadata": {},
   "outputs": [],
   "source": [
    "#layers.append((prods[0], 'ESI'))"
   ]
  },
  {
   "cell_type": "markdown",
   "metadata": {},
   "source": [
    "## 5. Submit a request\n",
    "### 5a. Get a shapefile"
   ]
  },
  {
   "cell_type": "code",
   "execution_count": 73,
   "metadata": {},
   "outputs": [
    {
     "data": {
      "text/plain": [
       "[{'layer': 'EVAPOTRANSPIRATION_PT_JPL_ETcanopy', 'product': 'ECO3ETPTJPL.001'},\n",
       " {'layer': 'EVAPOTRANSPIRATION_PT_JPL_ETdaily', 'product': 'ECO3ETPTJPL.001'},\n",
       " {'layer': 'SDS_LST', 'product': 'ECO2LSTE.001'}]"
      ]
     },
     "execution_count": 73,
     "metadata": {},
     "output_type": "execute_result"
    }
   ],
   "source": [
    "# Create easy to process dictionary of products and layers I want\n",
    "prodLayer = []\n",
    "for l in layers:\n",
    "    prodLayer.append({\n",
    "            \"layer\": l[1],\n",
    "            \"product\": l[0]\n",
    "          })\n",
    "prodLayer"
   ]
  },
  {
   "cell_type": "code",
   "execution_count": 74,
   "metadata": {},
   "outputs": [],
   "source": [
    "# Save token for request\n",
    "token = token_response['token']\n",
    "head = {'Authorization': 'Bearer {}'.format(token)}"
   ]
  },
  {
   "cell_type": "code",
   "execution_count": 75,
   "metadata": {},
   "outputs": [
    {
     "name": "stdout",
     "output_type": "stream",
     "text": [
      "geometry\n"
     ]
    }
   ],
   "source": [
    "# Import shapefile\n",
    "inDir = '/Users/morgansteckler/Desktop/tropical_phenology_gee/morgan/'\n",
    "grid = gpd.read_file('{}/grid.shp'.format(inDir + os.sep)) # Read in shapefile as dataframe using geopandas\n",
    "for col in grid.columns: # Print headers\n",
    "    print(col)"
   ]
  },
  {
   "cell_type": "code",
   "execution_count": 76,
   "metadata": {},
   "outputs": [],
   "source": [
    "# Select first plot\n",
    "grid0 = grid[grid['geometry']=='0'].to_json() # Extract Grand Canyon NP and set to variable\n",
    "grid0 = json.loads(grid0)"
   ]
  },
  {
   "cell_type": "markdown",
   "metadata": {},
   "source": [
    "### 5b. Get a projection"
   ]
  },
  {
   "cell_type": "code",
   "execution_count": 77,
   "metadata": {},
   "outputs": [
    {
     "data": {
      "text/plain": [
       "[{'Name': 'native',\n",
       "  'Description': 'Native Projection',\n",
       "  'Platforms': '',\n",
       "  'Proj4': '',\n",
       "  'Datum': '',\n",
       "  'EPSG': '',\n",
       "  'Units': '',\n",
       "  'GridMapping': '',\n",
       "  'Available': True},\n",
       " {'Name': 'geographic',\n",
       "  'Description': 'Geographic',\n",
       "  'Platforms': \"['SRTM', 'ECOSTRESS', 'SSEBop ET', 'GPW', 'ASTER GDEM', 'NASADEM']\",\n",
       "  'Proj4': '+proj=longlat +datum=WGS84 +no_defs',\n",
       "  'Datum': 'wgs84',\n",
       "  'EPSG': 4326.0,\n",
       "  'Units': 'degrees',\n",
       "  'GridMapping': 'latitude_longitude',\n",
       "  'Available': True},\n",
       " {'Name': 'sinu_modis',\n",
       "  'Description': 'MODIS Sinusoidal',\n",
       "  'Platforms': \"['Combined MODIS', 'Terra MODIS', 'Aqua MODIS', 'S-NPP NASA VIIRS', 'Global WELD']\",\n",
       "  'Proj4': '+proj=sinu +lon_0=0 +x_0=0 +y_0=0 +a=6371007.181 +b=6371007.181 +units=m +no_defs',\n",
       "  'Datum': '',\n",
       "  'EPSG': '',\n",
       "  'Units': 'meters',\n",
       "  'GridMapping': 'sinusoidal',\n",
       "  'Available': True},\n",
       " {'Name': 'albers_weld_alaska',\n",
       "  'Description': 'WELD Albers Equal Area Alaska',\n",
       "  'Platforms': \"['WELD']\",\n",
       "  'Proj4': '+proj=aea +lat_1=55 +lat_2=65 +lat_0=50 +lon_0=-154 +x_0=0 +y_0=0 +datum=WGS84 +units=m +no_defs',\n",
       "  'Datum': 'wgs84',\n",
       "  'EPSG': '',\n",
       "  'Units': 'meters',\n",
       "  'GridMapping': 'albers_conical_equal_area',\n",
       "  'Available': True},\n",
       " {'Name': 'albers_weld_conus',\n",
       "  'Description': 'WELD Albers Equal Area CONUS',\n",
       "  'Platforms': \"['WELD']\",\n",
       "  'Proj4': '+proj=aea +lat_1=29.5 +lat_2=45.5 +lat_0=23 +lon_0=-96 +x_0=0 +y_0=0 +datum=WGS84 +units=m +no_defs',\n",
       "  'Datum': 'wgs84',\n",
       "  'EPSG': '',\n",
       "  'Units': 'meters',\n",
       "  'GridMapping': 'albers_conical_equal_area',\n",
       "  'Available': True},\n",
       " {'Name': 'albers_ard_alaska',\n",
       "  'Description': 'Landsat ARD Albers Equal Area Alaska',\n",
       "  'Platforms': \"['Landsat ARD']\",\n",
       "  'Proj4': '+proj=aea +lat_1=55 +lat_2=65 +lat_0=50 +lon_0=-154 +x_0=0 +y_0=0 +datum=WGS84 +units=m +no_defs',\n",
       "  'Datum': 'wgs84',\n",
       "  'EPSG': '',\n",
       "  'Units': 'meters',\n",
       "  'GridMapping': 'albers_conical_equal_area',\n",
       "  'Available': True},\n",
       " {'Name': 'albers_ard_conus',\n",
       "  'Description': 'Landsat ARD Albers Equal Area CONUS',\n",
       "  'Platforms': \"['Landsat ARD']\",\n",
       "  'Proj4': '+proj=aea +lat_1=29.5 +lat_2=45.5 +lat_0=23 +lon_0=-96 +x_0=0 +y_0=0 +datum=WGS84 +units=m +no_defs',\n",
       "  'Datum': 'wgs84',\n",
       "  'EPSG': '',\n",
       "  'Units': 'meters',\n",
       "  'GridMapping': 'albers_conical_equal_area',\n",
       "  'Available': True},\n",
       " {'Name': 'albers_ard_hawaii',\n",
       "  'Description': 'Landsat ARD Albers Equal Area Hawaii',\n",
       "  'Platforms': \"['Landsat ARD']\",\n",
       "  'Proj4': '+proj=aea +lat_1=8 +lat_2=18 +lat_0=3 +lon_0=-157 +x_0=0 +y_0=0 +datum=WGS84 +units=m +no_defs',\n",
       "  'Datum': 'wgs84',\n",
       "  'EPSG': '',\n",
       "  'Units': 'meters',\n",
       "  'GridMapping': 'albers_conical_equal_area',\n",
       "  'Available': True},\n",
       " {'Name': 'easegrid_2_global',\n",
       "  'Description': 'EASE-Grid 2.0 Global',\n",
       "  'Platforms': \"['SMAP']\",\n",
       "  'Proj4': '+proj=cea +lon_0=0 +lat_ts=30 +x_0=0 +y_0=0 +datum=WGS84 +units=m +no_defs',\n",
       "  'Datum': 'wgs84',\n",
       "  'EPSG': 6933.0,\n",
       "  'Units': 'meters',\n",
       "  'GridMapping': 'lambert_cylindrical_equal_area',\n",
       "  'Available': True},\n",
       " {'Name': 'easegrid_2_north',\n",
       "  'Description': 'EASE-Grid 2.0 Northern Hemisphere',\n",
       "  'Platforms': \"['SMAP']\",\n",
       "  'Proj4': '+proj=laea +lat_0=90 +lon_0=0 +x_0=0 +y_0=0 +datum=WGS84 +units=m +no_defs',\n",
       "  'Datum': 'wgs84',\n",
       "  'EPSG': 6931.0,\n",
       "  'Units': 'meters',\n",
       "  'GridMapping': 'lambert_cylindrical_equal_area',\n",
       "  'Available': True},\n",
       " {'Name': 'laea_sphere_19',\n",
       "  'Description': 'Lambert Azimuthal Equal Area Sphere 19',\n",
       "  'Platforms': \"['eMODIS Smoothed NDVI']\",\n",
       "  'Proj4': '+proj=laea +lat_0=45 +lon_0=-100 +x_0=0 +y_0=0 +a=6370997 +b=6370997 +units=m +no_defs',\n",
       "  'Datum': '',\n",
       "  'EPSG': '',\n",
       "  'Units': 'meters',\n",
       "  'GridMapping': 'lambert_azimuthal_equal_area',\n",
       "  'Available': True}]"
      ]
     },
     "execution_count": 77,
     "metadata": {},
     "output_type": "execute_result"
    }
   ],
   "source": [
    "# Show available projections\n",
    "projections = r.get('{}spatial/proj'.format(api)).json()  # Call to spatial API, return projs as json\n",
    "projections "
   ]
  },
  {
   "cell_type": "code",
   "execution_count": 78,
   "metadata": {},
   "outputs": [
    {
     "data": {
      "text/plain": [
       "['native',\n",
       " 'geographic',\n",
       " 'sinu_modis',\n",
       " 'albers_weld_alaska',\n",
       " 'albers_weld_conus',\n",
       " 'albers_ard_alaska',\n",
       " 'albers_ard_conus',\n",
       " 'albers_ard_hawaii',\n",
       " 'easegrid_2_global',\n",
       " 'easegrid_2_north',\n",
       " 'laea_sphere_19']"
      ]
     },
     "execution_count": 78,
     "metadata": {},
     "output_type": "execute_result"
    }
   ],
   "source": [
    "projs = {}                                  # Create an empty dictionary\n",
    "for p in projections: projs[p['Name']] = p  # Fill dictionary with `Name` as keys\n",
    "list(projs.keys())                          # Print dictionary keys"
   ]
  },
  {
   "cell_type": "code",
   "execution_count": 79,
   "metadata": {},
   "outputs": [
    {
     "data": {
      "text/plain": [
       "{'Name': 'geographic',\n",
       " 'Description': 'Geographic',\n",
       " 'Platforms': \"['SRTM', 'ECOSTRESS', 'SSEBop ET', 'GPW', 'ASTER GDEM', 'NASADEM']\",\n",
       " 'Proj4': '+proj=longlat +datum=WGS84 +no_defs',\n",
       " 'Datum': 'wgs84',\n",
       " 'EPSG': 4326.0,\n",
       " 'Units': 'degrees',\n",
       " 'GridMapping': 'latitude_longitude',\n",
       " 'Available': True}"
      ]
     },
     "execution_count": 79,
     "metadata": {},
     "output_type": "execute_result"
    }
   ],
   "source": [
    "projs['geographic']"
   ]
  },
  {
   "cell_type": "markdown",
   "metadata": {},
   "source": [
    "### 5c. Combile JSON task object"
   ]
  },
  {
   "cell_type": "code",
   "execution_count": 80,
   "metadata": {},
   "outputs": [
    {
     "name": "stdout",
     "output_type": "stream",
     "text": [
      "Enter a Task Name: test1\n"
     ]
    }
   ],
   "source": [
    "task_name = input('Enter a Task Name: ')"
   ]
  },
  {
   "cell_type": "code",
   "execution_count": 89,
   "metadata": {},
   "outputs": [],
   "source": [
    "task_type = ['area']        # Type of task, area or point\n",
    "proj = projs['geographic']['Name']  # Set output projection \n",
    "outFormat = ['geotiff']  # Set output file format type\n",
    "startDate = '07-01-2016'            # Start of the date range for which to extract data: MM-DD-YYYY\n",
    "endDate = '07-31-2018'              # End of the date range for which to extract data: MM-DD-YYYY\n",
    "recurring = False                   # Specify True for a recurring date range\n",
    "#yearRange = [2000,2016]            # if recurring = True, set yearRange, change start/end date to MM-DD"
   ]
  },
  {
   "cell_type": "code",
   "execution_count": 90,
   "metadata": {},
   "outputs": [],
   "source": [
    "task = {\n",
    "    'task_type': task_type[0],\n",
    "    'task_name': task_name,\n",
    "    'params': {\n",
    "         'dates': [\n",
    "         {\n",
    "             'startDate': startDate,\n",
    "             'endDate': endDate\n",
    "         }],\n",
    "         'layers': prodLayer,\n",
    "         'output': {\n",
    "                 'format': {\n",
    "                         'type': outFormat[0]}, \n",
    "                         'projection': proj},\n",
    "         'geo': grid0,\n",
    "    }\n",
    "}"
   ]
  },
  {
   "cell_type": "code",
   "execution_count": 91,
   "metadata": {},
   "outputs": [
    {
     "data": {
      "text/plain": [
       "{'task_id': 'b14c379b-f2d5-464d-8a4b-c4914dd96f4c', 'status': 'pending'}"
      ]
     },
     "execution_count": 91,
     "metadata": {},
     "output_type": "execute_result"
    }
   ],
   "source": [
    "task_response = r.post('{}task'.format(api), json=task, headers=head).json()  # Post json to the API task service, return response as json\n",
    "task_response  "
   ]
  },
  {
   "cell_type": "code",
   "execution_count": 92,
   "metadata": {},
   "outputs": [
    {
     "name": "stdout",
     "output_type": "stream",
     "text": [
      "pending\n",
      "done\n"
     ]
    }
   ],
   "source": [
    "task_id = task_response['task_id']\n",
    "status_response = r.get('{}status/{}'.format(api, task_id), headers=head).json()\n",
    "\n",
    "starttime = time.time()\n",
    "while r.get('{}task/{}'.format(api, task_id), headers=head).json()['status'] != 'done':\n",
    "    print(r.get('{}task/{}'.format(api, task_id), headers=head).json()['status'])\n",
    "    time.sleep(20.0 - ((time.time() - starttime) % 20.0))\n",
    "print(r.get('{}task/{}'.format(api, task_id), headers=head).json()['status'])"
   ]
  },
  {
   "cell_type": "code",
   "execution_count": 93,
   "metadata": {},
   "outputs": [],
   "source": [
    "inDir = inDir = '/Users/morgansteckler/Desktop/tropical_phenology_gee/morgan/'\n",
    "destDir = os.path.join(inDir, task_name)                # Set up output directory using input directory and task name\n",
    "if not os.path.exists(destDir):os.makedirs(destDir)     # Create the output directory"
   ]
  },
  {
   "cell_type": "code",
   "execution_count": 94,
   "metadata": {},
   "outputs": [
    {
     "data": {
      "text/plain": [
       "{'files': [{'sha256': '6ed267d52577195e71e72f84f96306f4a0102fc38126a8793f082ef9d8dbd33f',\n",
       "   'file_id': 'ae581515-7e32-4d9b-bb46-aebe562f3177',\n",
       "   'file_name': 'test1-request.json',\n",
       "   'file_size': 913,\n",
       "   'file_type': 'json'},\n",
       "  {'sha256': 'c8dadfa39ddd90669a58351e3b354f0715c83c4d6c4aef662a827a802bb9dcf8',\n",
       "   'file_id': '10f42af6-e6ef-47d3-a2bd-f055c2d0dfbb',\n",
       "   'file_name': 'test1-ECO2LSTE-001-metadata.xml',\n",
       "   'file_size': 20232,\n",
       "   'file_type': 'xml'},\n",
       "  {'sha256': '888391c1d4903446b4719332bc3e3438128ae8cb858dffdcc071e20849468a55',\n",
       "   'file_id': '4179a467-448f-4b2b-9ddc-a0756e5d7c55',\n",
       "   'file_name': 'test1-ECO3ETPTJPL-001-metadata.xml',\n",
       "   'file_size': 20213,\n",
       "   'file_type': 'xml'},\n",
       "  {'sha256': 'e4b8b95891b59b88f7607dc0a89420335a0ecceb80318171125816b4d70f8089',\n",
       "   'file_id': '16423e23-384e-4969-b683-130e32627690',\n",
       "   'file_name': 'README.md',\n",
       "   'file_size': 22748,\n",
       "   'file_type': 'txt'}],\n",
       " 'created': '2021-01-19T21:45:14.196496',\n",
       " 'task_id': 'b14c379b-f2d5-464d-8a4b-c4914dd96f4c',\n",
       " 'updated': '2021-01-19T21:43:49.691247',\n",
       " 'bundle_type': 'area'}"
      ]
     },
     "execution_count": 94,
     "metadata": {},
     "output_type": "execute_result"
    }
   ],
   "source": [
    "bundle = r.get('{}bundle/{}'.format(api,task_id)).json()  # Call API and return bundle contents for the task_id as json\n",
    "bundle                                                    # Print bundle contents"
   ]
  },
  {
   "cell_type": "code",
   "execution_count": 95,
   "metadata": {},
   "outputs": [
    {
     "data": {
      "text/plain": [
       "{'ae581515-7e32-4d9b-bb46-aebe562f3177': 'test1-request.json',\n",
       " '10f42af6-e6ef-47d3-a2bd-f055c2d0dfbb': 'test1-ECO2LSTE-001-metadata.xml',\n",
       " '4179a467-448f-4b2b-9ddc-a0756e5d7c55': 'test1-ECO3ETPTJPL-001-metadata.xml',\n",
       " '16423e23-384e-4969-b683-130e32627690': 'README.md'}"
      ]
     },
     "execution_count": 95,
     "metadata": {},
     "output_type": "execute_result"
    }
   ],
   "source": [
    "files = {}                                                       # Create empty dictionary\n",
    "for f in bundle['files']: files[f['file_id']] = f['file_name']   # Fill dictionary with file_id as keys and file_name as values\n",
    "files    "
   ]
  },
  {
   "cell_type": "code",
   "execution_count": 88,
   "metadata": {},
   "outputs": [
    {
     "name": "stdout",
     "output_type": "stream",
     "text": [
      "Downloaded files can be found at: /Users/morgansteckler/Desktop/tropical_phenology_gee/morgan/test1\n"
     ]
    }
   ],
   "source": [
    "for f in files:\n",
    "    dl = r.get('{}bundle/{}/{}'.format(api, task_id, f), stream=True)                                # Get a stream to the bundle file\n",
    "    filename = os.path.basename(cgi.parse_header(dl.headers['Content-Disposition'])[1]['filename'])  # Parse the name from Content-Disposition header \n",
    "    filepath = os.path.join(destDir, filename)                                                       # Create output file path\n",
    "    with open(filepath, 'wb') as f:                                                                  # Write file to dest dir\n",
    "        for data in dl.iter_content(chunk_size=8192): f.write(data) \n",
    "print('Downloaded files can be found at: {}'.format(destDir))"
   ]
  },
  {
   "cell_type": "code",
   "execution_count": null,
   "metadata": {},
   "outputs": [],
   "source": []
  }
 ],
 "metadata": {
  "kernelspec": {
   "display_name": "Python 3",
   "language": "python",
   "name": "python3"
  },
  "language_info": {
   "codemirror_mode": {
    "name": "ipython",
    "version": 3
   },
   "file_extension": ".py",
   "mimetype": "text/x-python",
   "name": "python",
   "nbconvert_exporter": "python",
   "pygments_lexer": "ipython3",
   "version": "3.7.0"
  }
 },
 "nbformat": 4,
 "nbformat_minor": 4
}
