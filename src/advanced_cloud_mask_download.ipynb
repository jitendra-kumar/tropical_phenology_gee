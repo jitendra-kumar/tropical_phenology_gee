{
 "cells": [
  {
   "cell_type": "markdown",
   "metadata": {},
   "source": [
    "# S2cloudless masking algorithm + grid download\n",
    "https://developers.google.com/earth-engine/tutorials/community/sentinel-2-s2cloudless\n",
    "- This script uses the S2cloudless masking algorithm from the link above, and then creates a grid around my ROI so that I can download 55km cells into a local folder (55km cells maximizes GEE's download capability). I only export the masked image and calculated NDRE band. All other bands are excluded from download. Images exported at 20m scale."
   ]
  },
  {
   "cell_type": "code",
   "execution_count": 4,
   "metadata": {},
   "outputs": [
    {
     "name": "stdout",
     "output_type": "stream",
     "text": [
      "0.1.221\n",
      "0.6.13\n"
     ]
    }
   ],
   "source": [
    "import ee, geemap\n",
    "print(ee.__version__)\n",
    "print(geemap.__version__)"
   ]
  },
  {
   "cell_type": "code",
   "execution_count": 5,
   "metadata": {},
   "outputs": [],
   "source": [
    "ee.Initialize()"
   ]
  },
  {
   "cell_type": "code",
   "execution_count": 6,
   "metadata": {},
   "outputs": [
    {
     "name": "stdout",
     "output_type": "stream",
     "text": [
      "['Alagoas', 'Bahia', 'Ceara', 'Espirito Santo', 'Maranhao', 'Minas Gerais', 'Paraiba', 'Pernambuco', 'Piaui', 'Rio De Janeiro', 'Rio Grande Do Norte', 'Sao Paulo', 'Sergipe', 'Name Unknown', 'Name Unknown', 'Name Unknown', 'Acre', 'Amapa', 'Amazonas', 'Distrito Federal', 'Goias', 'Mato Grosso', 'Mato Grosso Do Sul', 'Para', 'Parana', 'Rio Grande Do Sul', 'Rondonia', 'Roraima', 'Santa Catarina', 'Tocantins', 'Name Unknown']\n"
     ]
    }
   ],
   "source": [
    "br = (ee.FeatureCollection(\"FAO/GAUL/2015/level1\")\n",
    "      .filterMetadata('ADM0_NAME', 'equals', 'Brazil')\n",
    "      .aggregate_array('ADM1_NAME')\n",
    "     )\n",
    "\n",
    "print(br.getInfo())"
   ]
  },
  {
   "cell_type": "code",
   "execution_count": 7,
   "metadata": {},
   "outputs": [],
   "source": [
    "br = (ee.FeatureCollection(\"FAO/GAUL/2015/level1\")\n",
    "      .filterMetadata('ADM0_NAME', 'equals', 'Brazil')\n",
    "      .filterMetadata('ADM1_NAME', 'equals', 'Roraima')\n",
    "     )"
   ]
  },
  {
   "cell_type": "markdown",
   "metadata": {},
   "source": [
    "### Create advanced cloud mask"
   ]
  },
  {
   "cell_type": "code",
   "execution_count": 8,
   "metadata": {},
   "outputs": [],
   "source": [
    "AOI = br\n",
    "START_DATE = '2016-01-01'\n",
    "END_DATE = '2020-12-31'\n",
    "CLOUD_FILTER = 60\n",
    "CLD_PRB_THRESH = 50\n",
    "NIR_DRK_THRESH = 0.15\n",
    "CLD_PRJ_DIST = 1\n",
    "BUFFER = 50"
   ]
  },
  {
   "cell_type": "code",
   "execution_count": 36,
   "metadata": {},
   "outputs": [],
   "source": [
    "def get_s2_sr_cld_col(aoi, start_date, end_date):\n",
    "    \"\"\"Get Sentinel-2 data and join s2cloudless collection\n",
    "    with Sentinel TOA data.\"\"\"\n",
    "    # Import and filter S2 TOA.\n",
    "    s2_sr_col = (ee.ImageCollection('COPERNICUS/S2')\n",
    "        .filterBounds(aoi)\n",
    "        .filterDate(start_date, end_date)\n",
    "        .filter(ee.Filter.lte('CLOUDY_PIXEL_PERCENTAGE', CLOUD_FILTER))\n",
    "        .sort('CLOUDY_PIXEL_PERCENTAGE', False))\n",
    "\n",
    "    # Import and filter s2cloudless.\n",
    "    s2_cloudless_col = (ee.ImageCollection('COPERNICUS/S2_CLOUD_PROBABILITY')\n",
    "        .filterBounds(aoi)\n",
    "        .filterDate(start_date, end_date))\n",
    "\n",
    "    # Join the filtered s2cloudless collection to the SR collection by the 'system:index' property.\n",
    "    return ee.ImageCollection(ee.Join.saveFirst('s2cloudless').apply(**{\n",
    "        'primary': s2_sr_col,\n",
    "        'secondary': s2_cloudless_col,\n",
    "        'condition': ee.Filter.equals(**{\n",
    "            'leftField': 'system:index',\n",
    "            'rightField': 'system:index'\n",
    "        })\n",
    "    }))\n",
    "\n",
    "\n",
    "def add_cloud_bands(img):\n",
    "    \"\"\"Create and add cloud bands.\"\"\"\n",
    "    # Get s2cloudless image, subset the probability band.\n",
    "    cld_prb = ee.Image(img.get('s2cloudless')).select('probability')\n",
    "\n",
    "    # Condition s2cloudless by the probability threshold value.\n",
    "    is_cloud = cld_prb.gt(CLD_PRB_THRESH).rename('clouds')\n",
    "\n",
    "    # Add the cloud probability layer and cloud mask as image bands.\n",
    "    return img.addBands(ee.Image([cld_prb, is_cloud]))\n",
    "\n",
    "\n",
    "def add_shadow_bands(img):\n",
    "    \"\"\"Create and add cloud shadow bands.\"\"\"\n",
    "    # Identify water pixels from the SCL band.\n",
    "    #not_water = img.select('SCL').neq(6) <- this is for SR, not TOA\n",
    "    not_water = img.normalizedDifference(['B3', 'B8']).rename('NDWI')\n",
    "    not_water = not_water.select('NDWI')\n",
    "\n",
    "    # Identify dark NIR pixels that are not water (potential cloud shadow pixels).\n",
    "    SR_BAND_SCALE = 1e4\n",
    "    dark_pixels = img.select('B8').lt(NIR_DRK_THRESH*SR_BAND_SCALE).rename('dark_pixels')\n",
    "\n",
    "    # Determine the direction to project cloud shadow from clouds (assumes UTM projection).\n",
    "    shadow_azimuth = ee.Number(90).subtract(ee.Number(img.get('MEAN_SOLAR_AZIMUTH_ANGLE')));\n",
    "\n",
    "    # Project shadows from clouds for the distance specified by the CLD_PRJ_DIST input.\n",
    "    cld_proj = (img.select('clouds').directionalDistanceTransform(shadow_azimuth, CLD_PRJ_DIST*10)\n",
    "        .reproject(**{'crs': img.select(0).projection(), 'scale': 100})\n",
    "        .select('distance')\n",
    "        .mask()\n",
    "        .rename('cloud_transform'))\n",
    "\n",
    "    # Identify the intersection of dark pixels with cloud shadow projection.\n",
    "    shadows = cld_proj.multiply(dark_pixels).rename('shadows')\n",
    "\n",
    "    # Add dark pixels, cloud projection, and identified shadows as image bands.\n",
    "    return img.addBands(ee.Image([dark_pixels, cld_proj, shadows]))\n",
    "\n",
    "\n",
    "def add_cld_shdw_mask(img):\n",
    "    \"\"\"Use cloud shadow and shadow bands to create masks.\"\"\"\n",
    "    # Add cloud component bands.\n",
    "    img_cloud = add_cloud_bands(img)\n",
    "\n",
    "    # Add cloud shadow component bands.\n",
    "    img_cloud_shadow = add_shadow_bands(img_cloud)\n",
    "\n",
    "    # Combine cloud and shadow mask, set cloud and shadow as value 1, else 0.\n",
    "    is_cld_shdw = img_cloud_shadow.select('clouds').add(img_cloud_shadow.select('shadows')).gt(0)\n",
    "\n",
    "    # Remove small cloud-shadow patches and dilate remaining pixels by BUFFER input.\n",
    "    # 20 m scale is for speed, and assumes clouds don't require 10 m precision.\n",
    "    is_cld_shdw = (is_cld_shdw.focal_min(2).focal_max(BUFFER*2/20)\n",
    "        .reproject(**{'crs': img.select([0]).projection(), 'scale': 20})\n",
    "        .rename('cloudmask'))\n",
    "\n",
    "    # Add the final cloud-shadow mask to the image.\n",
    "    return img_cloud_shadow.addBands(is_cld_shdw)\n",
    "\n",
    "\n",
    "def apply_cld_shdw_mask(img):\n",
    "    \"\"\"Mask cloudy pixels.\"\"\"\n",
    "    # Subset the cloudmask band and invert it so clouds/shadow are 0, else 1.\n",
    "    not_cld_shdw = img.select('cloudmask').Not()\n",
    "\n",
    "    # Subset reflectance bands and update their masks, return the result.\n",
    "    return img.select('B.*').updateMask(not_cld_shdw)"
   ]
  },
  {
   "cell_type": "markdown",
   "metadata": {},
   "source": [
    "### Add and Apply cloud mask"
   ]
  },
  {
   "cell_type": "code",
   "execution_count": 37,
   "metadata": {},
   "outputs": [],
   "source": [
    "# Layers to display\n",
    "s2_sr_cld_col_eval = get_s2_sr_cld_col(AOI, START_DATE, END_DATE)\n",
    "s2_sr_cld_col_eval_disp = s2_sr_cld_col_eval.map(add_cld_shdw_mask)"
   ]
  },
  {
   "cell_type": "code",
   "execution_count": 38,
   "metadata": {},
   "outputs": [],
   "source": [
    "# Run functions to create masks and new properties\n",
    "s2_sr_cld_col = get_s2_sr_cld_col(AOI, START_DATE, END_DATE)\n",
    "\n",
    "# Object with cloud mask applied\n",
    "s2_sr = (s2_sr_cld_col\n",
    "         .map(add_cld_shdw_mask)\n",
    "         .map(apply_cld_shdw_mask))"
   ]
  },
  {
   "cell_type": "markdown",
   "metadata": {},
   "source": [
    "### Visualize components of advanced cloud mask"
   ]
  },
  {
   "cell_type": "code",
   "execution_count": 39,
   "metadata": {},
   "outputs": [],
   "source": [
    "# Create mosaic from collection\n",
    "img = s2_sr_cld_col_eval_disp.mosaic()\n",
    "\n",
    "# Subset layers and prepare for visualization\n",
    "clouds = img.select('clouds').selfMask()\n",
    "shadows = img.select('shadows').selfMask()\n",
    "dark_pixels = img.select('dark_pixels').selfMask()\n",
    "probability = img.select('probability')\n",
    "cloudmask = img.select('cloudmask').selfMask()\n",
    "cloud_transform = img.select('cloud_transform')"
   ]
  },
  {
   "cell_type": "code",
   "execution_count": 40,
   "metadata": {},
   "outputs": [
    {
     "data": {
      "application/vnd.jupyter.widget-view+json": {
       "model_id": "ce1f51b28302415e8f6ce8e0405ad0c9",
       "version_major": 2,
       "version_minor": 0
      },
      "text/plain": [
       "Map(center=[2.082465819696796, -61.39215640405955], controls=(WidgetControl(options=['position'], widget=HBox(…"
      ]
     },
     "metadata": {},
     "output_type": "display_data"
    }
   ],
   "source": [
    "# Create map for visualization\n",
    "Map = geemap.Map()\n",
    "\n",
    "Map.addLayer(img, {'bands': ['B4', 'B3', 'B2'], 'min': 0, 'max': 2500, 'gamma': 1.1}, 'S2 Image')\n",
    "Map.addLayer(clouds, {'palette': 'e056fd'}, 'clouds')\n",
    "Map.addLayer(shadows, {'palette': 'yellow'}, 'shadows')\n",
    "\n",
    "Map.center_object(AOI, zoom=7.5)\n",
    "Map"
   ]
  },
  {
   "cell_type": "markdown",
   "metadata": {},
   "source": [
    "### Create NDRE band"
   ]
  },
  {
   "cell_type": "code",
   "execution_count": 41,
   "metadata": {},
   "outputs": [],
   "source": [
    "# Calculate NDRE\n",
    "def ndre_band(img):\n",
    "    \"\"\"Function to calculate ndre for an image.\"\"\"\n",
    "    ndre = img.normalizedDifference(['B8', 'B5']).rename('NDRE')\n",
    "    return img.addBands(ndre)\n",
    "\n",
    "# Define NDRE palette\n",
    "ndre_palette = ['#d73027', '#f46d43', '#fdae61', '#fee08b', \n",
    "           '#d9ef8b', '#a6d96a', '#66bd63', '#1a9850']"
   ]
  },
  {
   "cell_type": "code",
   "execution_count": 42,
   "metadata": {},
   "outputs": [
    {
     "name": "stdout",
     "output_type": "stream",
     "text": [
      "['NDRE']\n"
     ]
    }
   ],
   "source": [
    "# Apply NDRE function and select only the NDRE band for export\n",
    "mskd_col = s2_sr.select('B5', 'B8')\n",
    "calc_ndre_mskd_imgs = mskd_col.map(ndre_band)\n",
    "ndre_mskd_col = calc_ndre_mskd_imgs.select('NDRE')\n",
    "\n",
    "# Make sure band was added and selected\n",
    "bands = ndre_mskd_col.first().bandNames()\n",
    "print(bands.getInfo())"
   ]
  },
  {
   "cell_type": "markdown",
   "metadata": {},
   "source": [
    "### Create polygon grid for clipping images"
   ]
  },
  {
   "cell_type": "code",
   "execution_count": 43,
   "metadata": {},
   "outputs": [],
   "source": [
    "# Create grid\n",
    "# https://developers.google.com/earth-engine/tutorials/community/drawing-tools\n",
    "\n",
    "def make_grid(region, a_scale):\n",
    "    \"\"\"\n",
    "    Creates a grid around a specified ROI.\n",
    "    User inputs their reasonably small ROI.\n",
    "    User inputs a scale where 100000 = 100km.\n",
    "    \"\"\"\n",
    "    # Creates image with 2 bands ('longitude', 'latitude') in degrees\n",
    "    lonLat = ee.Image.pixelLonLat()\n",
    "\n",
    "    # Select bands, multiply times big number, and truncate\n",
    "    lonGrid = (lonLat\n",
    "               .select('latitude')\n",
    "               .multiply(10000000)\n",
    "               .toInt()\n",
    "              )\n",
    "    latGrid = (lonLat\n",
    "              .select('longitude')\n",
    "              .multiply(10000000)\n",
    "              .toInt()\n",
    "              )\n",
    "\n",
    "    # Multiply lat and lon images and reduce to vectors\n",
    "    grid = (lonGrid\n",
    "            .multiply(latGrid)\n",
    "            .reduceToVectors(\n",
    "                geometry = region,\n",
    "                scale = a_scale, # 100km-sized boxes needs 100,000\n",
    "                geometryType = 'polygon')\n",
    "           )\n",
    "    \n",
    "    return(grid)"
   ]
  },
  {
   "cell_type": "code",
   "execution_count": 44,
   "metadata": {},
   "outputs": [],
   "source": [
    "# Make test grid (half degree squares)\n",
    "grid_55km = make_grid(br, 55000)"
   ]
  },
  {
   "cell_type": "code",
   "execution_count": 45,
   "metadata": {},
   "outputs": [],
   "source": [
    "# Access coordinates of grid squares\n",
    "grid_dict = grid_55km.getInfo()\n",
    "\n",
    "feats = grid_dict['features']\n",
    "coord_list = []\n",
    "for d in feats:\n",
    "    geom = d['geometry']\n",
    "    coords = geom['coordinates']\n",
    "    coord_list.append(coords)"
   ]
  },
  {
   "cell_type": "code",
   "execution_count": 46,
   "metadata": {},
   "outputs": [],
   "source": [
    "# Create a list of several ee.Geometry.Polygons\n",
    "polys = []\n",
    "for coord in coord_list:\n",
    "    poly = ee.Geometry.Polygon(coord)\n",
    "    polys.append(poly)"
   ]
  },
  {
   "cell_type": "code",
   "execution_count": 47,
   "metadata": {},
   "outputs": [],
   "source": [
    "# Make the whole grid a feature collection for export purposes\n",
    "grid = ee.FeatureCollection(polys)"
   ]
  },
  {
   "cell_type": "markdown",
   "metadata": {},
   "source": [
    "### Clip NDRE to each polygon from grid"
   ]
  },
  {
   "cell_type": "code",
   "execution_count": 48,
   "metadata": {},
   "outputs": [
    {
     "name": "stdout",
     "output_type": "stream",
     "text": [
      "[<ee.imagecollection.ImageCollection object at 0x7f8bf4f4eb38>, <ee.imagecollection.ImageCollection object at 0x7f8bf4f4ebe0>, <ee.imagecollection.ImageCollection object at 0x7f8bf4f4ec18>, <ee.imagecollection.ImageCollection object at 0x7f8bf4f4ed30>, <ee.imagecollection.ImageCollection object at 0x7f8bf4f4eeb8>, <ee.imagecollection.ImageCollection object at 0x7f8bf4f4ef98>, <ee.imagecollection.ImageCollection object at 0x7f8bf4f51080>, <ee.imagecollection.ImageCollection object at 0x7f8bf4f51160>, <ee.imagecollection.ImageCollection object at 0x7f8bf4f51278>, <ee.imagecollection.ImageCollection object at 0x7f8bf4f51358>, <ee.imagecollection.ImageCollection object at 0x7f8bf4f51438>, <ee.imagecollection.ImageCollection object at 0x7f8bf4f51518>, <ee.imagecollection.ImageCollection object at 0x7f8bf4f515f8>, <ee.imagecollection.ImageCollection object at 0x7f8bf4f516d8>, <ee.imagecollection.ImageCollection object at 0x7f8bf4f517b8>, <ee.imagecollection.ImageCollection object at 0x7f8bf4f518d0>, <ee.imagecollection.ImageCollection object at 0x7f8bf4f519e8>, <ee.imagecollection.ImageCollection object at 0x7f8bf4f51630>, <ee.imagecollection.ImageCollection object at 0x7f8bf4f51a20>, <ee.imagecollection.ImageCollection object at 0x7f8bf4f51c88>, <ee.imagecollection.ImageCollection object at 0x7f8bf4f51d68>, <ee.imagecollection.ImageCollection object at 0x7f8bf4f51e48>, <ee.imagecollection.ImageCollection object at 0x7f8bf4f51f28>, <ee.imagecollection.ImageCollection object at 0x7f8bf4f51f60>, <ee.imagecollection.ImageCollection object at 0x7f8bf4f5f128>, <ee.imagecollection.ImageCollection object at 0x7f8bf4f5f208>, <ee.imagecollection.ImageCollection object at 0x7f8bf4f5f160>, <ee.imagecollection.ImageCollection object at 0x7f8bf4f5f3c8>, <ee.imagecollection.ImageCollection object at 0x7f8bf4f5f4e0>, <ee.imagecollection.ImageCollection object at 0x7f8bf4f5f588>, <ee.imagecollection.ImageCollection object at 0x7f8bf4f5f668>, <ee.imagecollection.ImageCollection object at 0x7f8bf4f5f748>, <ee.imagecollection.ImageCollection object at 0x7f8bf4f5f828>, <ee.imagecollection.ImageCollection object at 0x7f8bf4f5f908>, <ee.imagecollection.ImageCollection object at 0x7f8bf4f5f9e8>, <ee.imagecollection.ImageCollection object at 0x7f8bf4f5fac8>, <ee.imagecollection.ImageCollection object at 0x7f8bf4f5fba8>, <ee.imagecollection.ImageCollection object at 0x7f8bf4f5fa20>, <ee.imagecollection.ImageCollection object at 0x7f8bf4f5fda0>, <ee.imagecollection.ImageCollection object at 0x7f8bf4f5fe48>, <ee.imagecollection.ImageCollection object at 0x7f8bf4f5ff28>, <ee.imagecollection.ImageCollection object at 0x7f8bf4f5ff60>, <ee.imagecollection.ImageCollection object at 0x7f8bf4f65128>, <ee.imagecollection.ImageCollection object at 0x7f8bf4f65208>, <ee.imagecollection.ImageCollection object at 0x7f8bf4f652e8>, <ee.imagecollection.ImageCollection object at 0x7f8bf4f653c8>, <ee.imagecollection.ImageCollection object at 0x7f8bf4f654a8>, <ee.imagecollection.ImageCollection object at 0x7f8bf4f65320>, <ee.imagecollection.ImageCollection object at 0x7f8bf4f65668>, <ee.imagecollection.ImageCollection object at 0x7f8bf4f65780>, <ee.imagecollection.ImageCollection object at 0x7f8bf4f65828>, <ee.imagecollection.ImageCollection object at 0x7f8bf4f65908>, <ee.imagecollection.ImageCollection object at 0x7f8bf4f659e8>, <ee.imagecollection.ImageCollection object at 0x7f8bf4f65ac8>, <ee.imagecollection.ImageCollection object at 0x7f8bf4f65ba8>, <ee.imagecollection.ImageCollection object at 0x7f8bf4f65c88>, <ee.imagecollection.ImageCollection object at 0x7f8bf4f65d68>, <ee.imagecollection.ImageCollection object at 0x7f8bf4f65be0>, <ee.imagecollection.ImageCollection object at 0x7f8bf4f65f28>, <ee.imagecollection.ImageCollection object at 0x7f8bf4f65f60>, <ee.imagecollection.ImageCollection object at 0x7f8bf4f6d128>, <ee.imagecollection.ImageCollection object at 0x7f8bf4f6d208>, <ee.imagecollection.ImageCollection object at 0x7f8bf4f6d2e8>, <ee.imagecollection.ImageCollection object at 0x7f8bf4f6d3c8>, <ee.imagecollection.ImageCollection object at 0x7f8bf4f6d4a8>, <ee.imagecollection.ImageCollection object at 0x7f8bf4f6d588>, <ee.imagecollection.ImageCollection object at 0x7f8bf4f6d668>, <ee.imagecollection.ImageCollection object at 0x7f8bf4f6d748>, <ee.imagecollection.ImageCollection object at 0x7f8bf4f6d828>, <ee.imagecollection.ImageCollection object at 0x7f8bf4f6d908>, <ee.imagecollection.ImageCollection object at 0x7f8bf4f6d9e8>, <ee.imagecollection.ImageCollection object at 0x7f8bf4f6dac8>]\n",
      "\n",
      "Total squares: 72\n"
     ]
    }
   ],
   "source": [
    "# Clip images in each collection to polygons\n",
    "clipped_cols = []\n",
    "for poly in polys:\n",
    "    ndre_col = ndre_mskd_col\n",
    "    clipped_col = ndre_col.map(lambda image: image.clip(poly))\n",
    "    clipped_cols.append(clipped_col)\n",
    "\n",
    "print(clipped_cols)\n",
    "print(\"\\nTotal squares: \" + str(len(clipped_cols)))"
   ]
  },
  {
   "cell_type": "markdown",
   "metadata": {},
   "source": [
    "### Visualize NDRE of one polygon"
   ]
  },
  {
   "cell_type": "code",
   "execution_count": 22,
   "metadata": {},
   "outputs": [
    {
     "data": {
      "application/vnd.jupyter.widget-view+json": {
       "model_id": "e0f0a6198da54c16828e66e046da2858",
       "version_major": 2,
       "version_minor": 0
      },
      "text/plain": [
       "Map(center=[2.0715522692429005, -61.388346911704495], controls=(WidgetControl(options=['position'], widget=HBo…"
      ]
     },
     "metadata": {},
     "output_type": "display_data"
    }
   ],
   "source": [
    "# Ensure images are clipped properly\n",
    "Map = geemap.Map()\n",
    "\n",
    "Map.addLayer(clipped_cols[5].median(), {'palette': ndre_palette, 'min':0, 'max':1}, 'img_1')\n",
    "Map.addLayer(polys[5], {}, 'outline_1')\n",
    "Map.addLayer(grid, {}, 'full_grid')\n",
    "Map.center_object(grid, zoom=7)\n",
    "\n",
    "Map"
   ]
  },
  {
   "cell_type": "markdown",
   "metadata": {},
   "source": [
    "### Apply monthly step to data before export"
   ]
  },
  {
   "cell_type": "code",
   "execution_count": 49,
   "metadata": {},
   "outputs": [
    {
     "name": "stdout",
     "output_type": "stream",
     "text": [
      "[<ee.imagecollection.ImageCollection object at 0x7f8bf4961cf8>, <ee.imagecollection.ImageCollection object at 0x7f8bf4998c50>, <ee.imagecollection.ImageCollection object at 0x7f8bf496dc88>, <ee.imagecollection.ImageCollection object at 0x7f8bf495c710>, <ee.imagecollection.ImageCollection object at 0x7f8bf496d860>, <ee.imagecollection.ImageCollection object at 0x7f8bf4975dd8>, <ee.imagecollection.ImageCollection object at 0x7f8bf496d0b8>, <ee.imagecollection.ImageCollection object at 0x7f8bf497f860>, <ee.imagecollection.ImageCollection object at 0x7f8bf4961710>, <ee.imagecollection.ImageCollection object at 0x7f8bf497f9e8>, <ee.imagecollection.ImageCollection object at 0x7f8bf49f3588>, <ee.imagecollection.ImageCollection object at 0x7f8bf497f400>, <ee.imagecollection.ImageCollection object at 0x7f8bf49f3b70>, <ee.imagecollection.ImageCollection object at 0x7f8bf498e668>, <ee.imagecollection.ImageCollection object at 0x7f8bf4197908>, <ee.imagecollection.ImageCollection object at 0x7f8bf497f5f8>, <ee.imagecollection.ImageCollection object at 0x7f8bf498e048>, <ee.imagecollection.ImageCollection object at 0x7f8bf49757f0>, <ee.imagecollection.ImageCollection object at 0x7f8bf49a6390>, <ee.imagecollection.ImageCollection object at 0x7f8bf495c518>, <ee.imagecollection.ImageCollection object at 0x7f8bf49a6278>, <ee.imagecollection.ImageCollection object at 0x7f8bf49ac828>, <ee.imagecollection.ImageCollection object at 0x7f8bf49a64e0>, <ee.imagecollection.ImageCollection object at 0x7f8bf495cf60>, <ee.imagecollection.ImageCollection object at 0x7f8bf49acb70>, <ee.imagecollection.ImageCollection object at 0x7f8bf419c2b0>, <ee.imagecollection.ImageCollection object at 0x7f8bf4990b38>, <ee.imagecollection.ImageCollection object at 0x7f8bf419c978>, <ee.imagecollection.ImageCollection object at 0x7f8bf41a5b38>, <ee.imagecollection.ImageCollection object at 0x7f8bf419c240>, <ee.imagecollection.ImageCollection object at 0x7f8bf41a5898>, <ee.imagecollection.ImageCollection object at 0x7f8bf4f24320>, <ee.imagecollection.ImageCollection object at 0x7f8bf4990fd0>, <ee.imagecollection.ImageCollection object at 0x7f8bf4991860>, <ee.imagecollection.ImageCollection object at 0x7f8bf498a4a8>, <ee.imagecollection.ImageCollection object at 0x7f8bf4991438>, <ee.imagecollection.ImageCollection object at 0x7f8bf4995d30>, <ee.imagecollection.ImageCollection object at 0x7f8bf498a7f0>, <ee.imagecollection.ImageCollection object at 0x7f8bf4995320>, <ee.imagecollection.ImageCollection object at 0x7f8bf4999278>, <ee.imagecollection.ImageCollection object at 0x7f8bf49959b0>, <ee.imagecollection.ImageCollection object at 0x7f8bf4999908>, <ee.imagecollection.ImageCollection object at 0x7f8bf498b780>, <ee.imagecollection.ImageCollection object at 0x7f8bf4999710>, <ee.imagecollection.ImageCollection object at 0x7f8bf498bb00>, <ee.imagecollection.ImageCollection object at 0x7f8bf4a11908>, <ee.imagecollection.ImageCollection object at 0x7f8bf498b080>, <ee.imagecollection.ImageCollection object at 0x7f8bf41abe10>, <ee.imagecollection.ImageCollection object at 0x7f8bf498eef0>, <ee.imagecollection.ImageCollection object at 0x7f8bf4a11978>, <ee.imagecollection.ImageCollection object at 0x7f8bf41abb38>, <ee.imagecollection.ImageCollection object at 0x7f8bf4a11860>, <ee.imagecollection.ImageCollection object at 0x7f8bf4a17ac8>, <ee.imagecollection.ImageCollection object at 0x7f8bf4a11278>, <ee.imagecollection.ImageCollection object at 0x7f8bf4a17518>, <ee.imagecollection.ImageCollection object at 0x7f8bf4a2a860>, <ee.imagecollection.ImageCollection object at 0x7f8bf4a17be0>, <ee.imagecollection.ImageCollection object at 0x7f8bf4994ef0>, <ee.imagecollection.ImageCollection object at 0x7f8bf4a2aeb8>, <ee.imagecollection.ImageCollection object at 0x7f8bf4994ac8>, <ee.imagecollection.ImageCollection object at 0x7f8bf4a34da0>, <ee.imagecollection.ImageCollection object at 0x7f8bf4991d68>, <ee.imagecollection.ImageCollection object at 0x7f8bf41b2898>, <ee.imagecollection.ImageCollection object at 0x7f8bf4994cc0>, <ee.imagecollection.ImageCollection object at 0x7f8bf41b2b38>, <ee.imagecollection.ImageCollection object at 0x7f8bf4f74dd8>, <ee.imagecollection.ImageCollection object at 0x7f8bf4a341d0>, <ee.imagecollection.ImageCollection object at 0x7f8bf4a137b8>, <ee.imagecollection.ImageCollection object at 0x7f8bf4a2f3c8>, <ee.imagecollection.ImageCollection object at 0x7f8bf4a13780>, <ee.imagecollection.ImageCollection object at 0x7f8bf4a2f0f0>, <ee.imagecollection.ImageCollection object at 0x7f8bf4a2f128>]\n",
      "48\n"
     ]
    }
   ],
   "source": [
    "#Monthly step\n",
    "#https://gis.stackexchange.com/questions/301165/how-to-get-monthly-averages-from-earth-engine-in-the-python-api\n",
    "months = ee.List.sequence(1, 12) #Create a list with nums 1-12\n",
    "years = ee.List.sequence(2017, 2020)\n",
    "\n",
    "all_cols = []\n",
    "for a_col in clipped_cols:\n",
    "    def byYear(y):\n",
    "        def byMonth(m):\n",
    "            return (a_col\n",
    "                    .filter(ee.Filter.calendarRange(y, y, 'year'))\n",
    "                    .filter(ee.Filter.calendarRange(m, m, 'month'))\n",
    "                    .median() # Find median NDRE for a month\n",
    "                    .set('month', m)\n",
    "                    .set('year', y)\n",
    "                   )\n",
    "        return months.map(byMonth)\n",
    "\n",
    "    col = ee.ImageCollection.fromImages(years.map(byYear).flatten())\n",
    "    all_cols.append(col) # Should have 18 collections, each collection with yrs*months images\n",
    "\n",
    "print(all_cols)\n",
    "imgs = all_cols[0].size()\n",
    "print(imgs.getInfo())"
   ]
  },
  {
   "cell_type": "markdown",
   "metadata": {},
   "source": [
    "### Visualize NDRE time series"
   ]
  },
  {
   "cell_type": "code",
   "execution_count": 50,
   "metadata": {},
   "outputs": [],
   "source": [
    "import matplotlib.pyplot as plt\n",
    "import numpy as np"
   ]
  },
  {
   "cell_type": "code",
   "execution_count": 51,
   "metadata": {},
   "outputs": [],
   "source": [
    "# Mean\n",
    "def region_mean_Image(img):\n",
    "    # mean over all pixels in the region for the image\n",
    "    return img.set('mean', img.reduceRegion(ee.Reducer.mean(), geometry=polys[5], scale=30)) \n",
    "\n",
    "def region_mean_ImageCollection(ic):\n",
    "    # mean over all pixels in the region, for each image in the ImageCollection\n",
    "    stats = ic.map(region_mean_Image)\n",
    "    stats_list = stats.aggregate_array('mean')\n",
    "    return np.array(stats_list.getInfo())\n",
    "\n",
    "\n",
    "# Median\n",
    "def region_median_Image(img):\n",
    "    # mean over all pixels in the region for the image\n",
    "    return img.set('median', img.reduceRegion(ee.Reducer.median(), geometry=polys[5], scale=30)) \n",
    "\n",
    "def region_median_ImageCollection(ic):\n",
    "    # mean over all pixels in the region, for each image in the ImageCollection\n",
    "    stats = ic.map(region_median_Image)\n",
    "    stats_list = stats.aggregate_array('median')\n",
    "    return np.array(stats_list.getInfo())"
   ]
  },
  {
   "cell_type": "code",
   "execution_count": 52,
   "metadata": {},
   "outputs": [],
   "source": [
    "# Make mean and median lists from collection\n",
    "mean_list = region_mean_ImageCollection(all_cols[5])\n",
    "median_list = region_median_ImageCollection(all_cols[5])"
   ]
  },
  {
   "cell_type": "code",
   "execution_count": 53,
   "metadata": {},
   "outputs": [
    {
     "name": "stdout",
     "output_type": "stream",
     "text": [
      "[{'NDRE': 0.5181484148174041} {'NDRE': 0.5577024852555459}\n",
      " {'NDRE': 0.5270850495063659} {'NDRE': None} {'NDRE': 0.5053128924891914}\n",
      " {'NDRE': 0.5137563251522471} {'NDRE': 0.514614792600414}\n",
      " {'NDRE': 0.528797380935452} {'NDRE': 0.5329522139342768}\n",
      " {'NDRE': 0.5520435611209913} {'NDRE': 0.5353351617435151}\n",
      " {'NDRE': 0.512528112680367} {'NDRE': 0.47726653986573636}\n",
      " {'NDRE': 0.5135633900955175} {'NDRE': 0.48929714249781514}\n",
      " {'NDRE': 0.44797110309701593} {'NDRE': 0.5172549890689481}\n",
      " {'NDRE': 0.5454089252528215} {'NDRE': 0.527071055573593}\n",
      " {'NDRE': 0.5192992007558758} {'NDRE': 0.5253362291659661}\n",
      " {'NDRE': 0.5189915645006581} {'NDRE': 0.5074920528158726}\n",
      " {'NDRE': 0.4828912182455498} {'NDRE': 0.5349120484988789}\n",
      " {'NDRE': 0.5121473879900132} {'NDRE': 0.4807651350689961}\n",
      " {'NDRE': 0.4683689617074272} {'NDRE': 0.5121550118440145}\n",
      " {'NDRE': 0.5531650999334111} {'NDRE': 0.5095357067891518}\n",
      " {'NDRE': 0.533084836574937} {'NDRE': 0.5030638301977114}\n",
      " {'NDRE': 0.5248164843653581} {'NDRE': 0.5201370147244717}\n",
      " {'NDRE': 0.5173533306938812} {'NDRE': 0.5417601775728285}\n",
      " {'NDRE': 0.4758818915407378} {'NDRE': 0.508085040117499}\n",
      " {'NDRE': 0.4989888464482405} {'NDRE': 0.54046914028591}\n",
      " {'NDRE': 0.5113123300212353} {'NDRE': 0.5454384602122413}\n",
      " {'NDRE': 0.5085036703985075} {'NDRE': 0.5326416625639286}\n",
      " {'NDRE': 0.5339360935932538} {'NDRE': 0.5344392467014948}\n",
      " {'NDRE': 0.49467110962663746}]\n"
     ]
    }
   ],
   "source": [
    "print(mean_list)"
   ]
  },
  {
   "cell_type": "code",
   "execution_count": 54,
   "metadata": {},
   "outputs": [],
   "source": [
    "# Make list of values\n",
    "empty = {}\n",
    "def newList(alist):\n",
    "    list_name = []\n",
    "    for value in alist:\n",
    "        if value != empty:\n",
    "            list_name.append(value)\n",
    "        else:\n",
    "            list_name.append({'NDRE': np.nan})\n",
    "    return list_name"
   ]
  },
  {
   "cell_type": "code",
   "execution_count": 55,
   "metadata": {},
   "outputs": [],
   "source": [
    "# Make mean and median value lists\n",
    "mean_ndre = newList(mean_list)\n",
    "median_ndre = newList(median_list)"
   ]
  },
  {
   "cell_type": "code",
   "execution_count": 56,
   "metadata": {},
   "outputs": [
    {
     "name": "stdout",
     "output_type": "stream",
     "text": [
      "[{'NDRE': 0.5181484148174041}, {'NDRE': 0.5577024852555459}, {'NDRE': 0.5270850495063659}, {'NDRE': None}, {'NDRE': 0.5053128924891914}, {'NDRE': 0.5137563251522471}, {'NDRE': 0.514614792600414}, {'NDRE': 0.528797380935452}, {'NDRE': 0.5329522139342768}, {'NDRE': 0.5520435611209913}, {'NDRE': 0.5353351617435151}, {'NDRE': 0.512528112680367}, {'NDRE': 0.47726653986573636}, {'NDRE': 0.5135633900955175}, {'NDRE': 0.48929714249781514}, {'NDRE': 0.44797110309701593}, {'NDRE': 0.5172549890689481}, {'NDRE': 0.5454089252528215}, {'NDRE': 0.527071055573593}, {'NDRE': 0.5192992007558758}, {'NDRE': 0.5253362291659661}, {'NDRE': 0.5189915645006581}, {'NDRE': 0.5074920528158726}, {'NDRE': 0.4828912182455498}, {'NDRE': 0.5349120484988789}, {'NDRE': 0.5121473879900132}, {'NDRE': 0.4807651350689961}, {'NDRE': 0.4683689617074272}, {'NDRE': 0.5121550118440145}, {'NDRE': 0.5531650999334111}, {'NDRE': 0.5095357067891518}, {'NDRE': 0.533084836574937}, {'NDRE': 0.5030638301977114}, {'NDRE': 0.5248164843653581}, {'NDRE': 0.5201370147244717}, {'NDRE': 0.5173533306938812}, {'NDRE': 0.5417601775728285}, {'NDRE': 0.4758818915407378}, {'NDRE': 0.508085040117499}, {'NDRE': 0.4989888464482405}, {'NDRE': 0.54046914028591}, {'NDRE': 0.5113123300212353}, {'NDRE': 0.5454384602122413}, {'NDRE': 0.5085036703985075}, {'NDRE': 0.5326416625639286}, {'NDRE': 0.5339360935932538}, {'NDRE': 0.5344392467014948}, {'NDRE': 0.49467110962663746}]\n"
     ]
    }
   ],
   "source": [
    "print(mean_ndre)"
   ]
  },
  {
   "cell_type": "code",
   "execution_count": 57,
   "metadata": {},
   "outputs": [],
   "source": [
    "def valList(aList):\n",
    "    new_list = []\n",
    "    for d in aList:\n",
    "        for key, val in d.items():\n",
    "            new_list.append(val)\n",
    "    return new_list"
   ]
  },
  {
   "cell_type": "code",
   "execution_count": 58,
   "metadata": {},
   "outputs": [
    {
     "name": "stdout",
     "output_type": "stream",
     "text": [
      "[0.5181484148174041 0.5577024852555459 0.5270850495063659 None\n",
      " 0.5053128924891914 0.5137563251522471 0.514614792600414 0.528797380935452\n",
      " 0.5329522139342768 0.5520435611209913 0.5353351617435151\n",
      " 0.512528112680367 0.47726653986573636 0.5135633900955175\n",
      " 0.48929714249781514 0.44797110309701593 0.5172549890689481\n",
      " 0.5454089252528215 0.527071055573593 0.5192992007558758\n",
      " 0.5253362291659661 0.5189915645006581 0.5074920528158726\n",
      " 0.4828912182455498 0.5349120484988789 0.5121473879900132\n",
      " 0.4807651350689961 0.4683689617074272 0.5121550118440145\n",
      " 0.5531650999334111 0.5095357067891518 0.533084836574937\n",
      " 0.5030638301977114 0.5248164843653581 0.5201370147244717\n",
      " 0.5173533306938812 0.5417601775728285 0.4758818915407378\n",
      " 0.508085040117499 0.4989888464482405 0.54046914028591 0.5113123300212353\n",
      " 0.5454384602122413 0.5085036703985075 0.5326416625639286\n",
      " 0.5339360935932538 0.5344392467014948 0.49467110962663746]\n"
     ]
    }
   ],
   "source": [
    "a_mean = np.array(valList(mean_ndre))\n",
    "a_median = np.array(valList(median_ndre))\n",
    "print(a_mean)"
   ]
  },
  {
   "cell_type": "code",
   "execution_count": 59,
   "metadata": {},
   "outputs": [
    {
     "name": "stdout",
     "output_type": "stream",
     "text": [
      "[ 0  1  2  3  4  5  6  7  8  9 10 11 12 13 14 15 16 17 18 19 20 21 22 23\n",
      " 24 25 26 27 28 29 30 31 32 33 34 35 36 37 38 39 40 41 42 43 44 45 46 47]\n"
     ]
    }
   ],
   "source": [
    "# Create month list\n",
    "months = np.array(range(len(a_mean)))\n",
    "print(months)"
   ]
  },
  {
   "cell_type": "code",
   "execution_count": 60,
   "metadata": {},
   "outputs": [
    {
     "data": {
      "image/png": "[encoded data removed]",
      "text/plain": [
       "<Figure size 432x288 with 1 Axes>"
      ]
     },
     "metadata": {
      "needs_background": "light"
     },
     "output_type": "display_data"
    }
   ],
   "source": [
    "# Make plot\n",
    "x = months\n",
    "y = a_mean\n",
    "m = a_median\n",
    "\n",
    "#ticks1 = list(range(0,48))\n",
    "plt.axes([0, 0, 2, 1])\n",
    "plt.grid(b = True, which = 'major', axis = 'x')\n",
    "plt.title('2017-2020 mean and median NDRE')\n",
    "#plt.fill_between(x, plus_error, minus_error, color = \"grey\", alpha = .5, label = \"Standard Deviation\")\n",
    "\n",
    "mean = plt.plot(x,y, color = \"black\", label = \"Mean\")\n",
    "median = plt.plot(x,m, color = \"red\", label = \"Median\")\n",
    "\n",
    "plt.legend(loc = \"lower right\")\n",
    "#plt.xticks(ticks = ticks1)\n",
    "#plt.xticks(ticks = [0, 6, 12, 18, 24, 30, 36, 42, 47], labels = ['2016', 'Jul', '2017', 'Jul', '2018', 'Jul', '2019', 'Jul', 'Dec'])\n",
    "plt.show()"
   ]
  },
  {
   "cell_type": "markdown",
   "metadata": {},
   "source": [
    "### Export monthly images (60) from each collection (18): 1,080 images total"
   ]
  },
  {
   "cell_type": "code",
   "execution_count": 61,
   "metadata": {},
   "outputs": [
    {
     "name": "stdout",
     "output_type": "stream",
     "text": [
      "48\n"
     ]
    }
   ],
   "source": [
    "size = all_cols[0].size()\n",
    "print(size.getInfo())"
   ]
  },
  {
   "cell_type": "code",
   "execution_count": 62,
   "metadata": {},
   "outputs": [
    {
     "name": "stdout",
     "output_type": "stream",
     "text": [
      "['espirito_santo_0', 'espirito_santo_1', 'espirito_santo_2', 'espirito_santo_3', 'espirito_santo_4', 'espirito_santo_5', 'espirito_santo_6', 'espirito_santo_7', 'espirito_santo_8', 'espirito_santo_9', 'espirito_santo_10', 'espirito_santo_11', 'espirito_santo_12', 'espirito_santo_13', 'espirito_santo_14', 'espirito_santo_15', 'espirito_santo_16', 'espirito_santo_17', 'espirito_santo_18', 'espirito_santo_19', 'espirito_santo_20', 'espirito_santo_21', 'espirito_santo_22', 'espirito_santo_23', 'espirito_santo_24', 'espirito_santo_25', 'espirito_santo_26', 'espirito_santo_27', 'espirito_santo_28', 'espirito_santo_29', 'espirito_santo_30', 'espirito_santo_31', 'espirito_santo_32', 'espirito_santo_33', 'espirito_santo_34', 'espirito_santo_35', 'espirito_santo_36', 'espirito_santo_37', 'espirito_santo_38', 'espirito_santo_39', 'espirito_santo_40', 'espirito_santo_41', 'espirito_santo_42', 'espirito_santo_43', 'espirito_santo_44', 'espirito_santo_45', 'espirito_santo_46', 'espirito_santo_47', 'espirito_santo_48', 'espirito_santo_49', 'espirito_santo_50', 'espirito_santo_51', 'espirito_santo_52', 'espirito_santo_53', 'espirito_santo_54', 'espirito_santo_55', 'espirito_santo_56', 'espirito_santo_57', 'espirito_santo_58', 'espirito_santo_59', 'espirito_santo_60', 'espirito_santo_61', 'espirito_santo_62', 'espirito_santo_63', 'espirito_santo_64', 'espirito_santo_65', 'espirito_santo_66', 'espirito_santo_67', 'espirito_santo_68', 'espirito_santo_69', 'espirito_santo_70', 'espirito_santo_71']\n"
     ]
    }
   ],
   "source": [
    "# Make a list of file names for espirito santo\n",
    "tiles = []\n",
    "sitename = 'espirito_santo'\n",
    "for num in range(len(all_cols)):\n",
    "    index = str('espirito_santo' + '_{}'.format(num))\n",
    "    tiles.append(index)\n",
    "\n",
    "print(tiles)"
   ]
  },
  {
   "cell_type": "code",
   "execution_count": 63,
   "metadata": {},
   "outputs": [],
   "source": [
    "import os"
   ]
  },
  {
   "cell_type": "code",
   "execution_count": 64,
   "metadata": {},
   "outputs": [
    {
     "name": "stdout",
     "output_type": "stream",
     "text": [
      "Exporting Image 0\n",
      "Generating URL ...\n",
      "Downloading data from https://earthengine.googleapis.com/v1alpha/projects/earthengine-legacy/thumbnails/8263a75ed447bf32ee8087d924ddf9ab-448c9f7c9f9f661fd231e10fe59946a4:getPixels\n",
      "Please wait ...\n",
      "Data downloaded to /Users/morgansteckler/Desktop/tropical_phenology_gee/morgan/test/espirito_santo_0/0.tif\n",
      "Exporting Image 1\n",
      "Generating URL ...\n",
      "Downloading data from https://earthengine.googleapis.com/v1alpha/projects/earthengine-legacy/thumbnails/a1dce1dc4adc09ce0f954c5e546c7e6f-3baaf1fdcd15465c175ec03e2edd8f4f:getPixels\n",
      "Please wait ...\n",
      "Data downloaded to /Users/morgansteckler/Desktop/tropical_phenology_gee/morgan/test/espirito_santo_0/1.tif\n",
      "Exporting Image 2\n",
      "Generating URL ...\n"
     ]
    },
    {
     "ename": "KeyboardInterrupt",
     "evalue": "",
     "output_type": "error",
     "traceback": [
      "\u001b[0;31m---------------------------------------------------------------------------\u001b[0m",
      "\u001b[0;31mKeyboardInterrupt\u001b[0m                         Traceback (most recent call last)",
      "\u001b[0;32m<ipython-input-64-40cd58ccdf9b>\u001b[0m in \u001b[0;36m<module>\u001b[0;34m\u001b[0m\n\u001b[1;32m     16\u001b[0m                                    \u001b[0mscale\u001b[0m\u001b[0;34m=\u001b[0m\u001b[0;36m30\u001b[0m\u001b[0;34m,\u001b[0m\u001b[0;34m\u001b[0m\u001b[0m\n\u001b[1;32m     17\u001b[0m                                    \u001b[0mregion\u001b[0m\u001b[0;34m=\u001b[0m\u001b[0mpoly\u001b[0m\u001b[0;34m,\u001b[0m\u001b[0;34m\u001b[0m\u001b[0m\n\u001b[0;32m---> 18\u001b[0;31m                                    file_per_band=False)\n\u001b[0m",
      "\u001b[0;32m/Library/Frameworks/Python.framework/Versions/3.7/lib/python3.7/site-packages/geemap/geemap.py\u001b[0m in \u001b[0;36mee_export_image\u001b[0;34m(ee_object, filename, scale, crs, region, file_per_band)\u001b[0m\n\u001b[1;32m   2831\u001b[0m             \u001b[0mparams\u001b[0m\u001b[0;34m[\u001b[0m\u001b[0;34m'crs'\u001b[0m\u001b[0;34m]\u001b[0m \u001b[0;34m=\u001b[0m \u001b[0mcrs\u001b[0m\u001b[0;34m\u001b[0m\u001b[0m\n\u001b[1;32m   2832\u001b[0m \u001b[0;34m\u001b[0m\u001b[0m\n\u001b[0;32m-> 2833\u001b[0;31m         \u001b[0murl\u001b[0m \u001b[0;34m=\u001b[0m \u001b[0mee_object\u001b[0m\u001b[0;34m.\u001b[0m\u001b[0mgetDownloadURL\u001b[0m\u001b[0;34m(\u001b[0m\u001b[0mparams\u001b[0m\u001b[0;34m)\u001b[0m\u001b[0;34m\u001b[0m\u001b[0m\n\u001b[0m\u001b[1;32m   2834\u001b[0m         \u001b[0mprint\u001b[0m\u001b[0;34m(\u001b[0m\u001b[0;34m'Downloading data from {}\\nPlease wait ...'\u001b[0m\u001b[0;34m.\u001b[0m\u001b[0mformat\u001b[0m\u001b[0;34m(\u001b[0m\u001b[0murl\u001b[0m\u001b[0;34m)\u001b[0m\u001b[0;34m)\u001b[0m\u001b[0;34m\u001b[0m\u001b[0m\n\u001b[1;32m   2835\u001b[0m         \u001b[0mr\u001b[0m \u001b[0;34m=\u001b[0m \u001b[0mrequests\u001b[0m\u001b[0;34m.\u001b[0m\u001b[0mget\u001b[0m\u001b[0;34m(\u001b[0m\u001b[0murl\u001b[0m\u001b[0;34m,\u001b[0m \u001b[0mstream\u001b[0m\u001b[0;34m=\u001b[0m\u001b[0;32mTrue\u001b[0m\u001b[0;34m)\u001b[0m\u001b[0;34m\u001b[0m\u001b[0m\n",
      "\u001b[0;32m/Library/Frameworks/Python.framework/Versions/3.7/lib/python3.7/site-packages/ee/image.py\u001b[0m in \u001b[0;36mgetDownloadURL\u001b[0;34m(self, params)\u001b[0m\n\u001b[1;32m    437\u001b[0m     \u001b[0mrequest\u001b[0m \u001b[0;34m=\u001b[0m \u001b[0mparams\u001b[0m \u001b[0;32mor\u001b[0m \u001b[0;34m{\u001b[0m\u001b[0;34m}\u001b[0m\u001b[0;34m\u001b[0m\u001b[0m\n\u001b[1;32m    438\u001b[0m     \u001b[0mrequest\u001b[0m\u001b[0;34m[\u001b[0m\u001b[0;34m'image'\u001b[0m\u001b[0;34m]\u001b[0m \u001b[0;34m=\u001b[0m \u001b[0mself\u001b[0m\u001b[0;34m\u001b[0m\u001b[0m\n\u001b[0;32m--> 439\u001b[0;31m     \u001b[0;32mreturn\u001b[0m \u001b[0mdata\u001b[0m\u001b[0;34m.\u001b[0m\u001b[0mmakeDownloadUrl\u001b[0m\u001b[0;34m(\u001b[0m\u001b[0mdata\u001b[0m\u001b[0;34m.\u001b[0m\u001b[0mgetDownloadId\u001b[0m\u001b[0;34m(\u001b[0m\u001b[0mrequest\u001b[0m\u001b[0;34m)\u001b[0m\u001b[0;34m)\u001b[0m\u001b[0;34m\u001b[0m\u001b[0m\n\u001b[0m\u001b[1;32m    440\u001b[0m \u001b[0;34m\u001b[0m\u001b[0m\n\u001b[1;32m    441\u001b[0m   \u001b[0;32mdef\u001b[0m \u001b[0mgetThumbId\u001b[0m\u001b[0;34m(\u001b[0m\u001b[0mself\u001b[0m\u001b[0;34m,\u001b[0m \u001b[0mparams\u001b[0m\u001b[0;34m)\u001b[0m\u001b[0;34m:\u001b[0m\u001b[0;34m\u001b[0m\u001b[0m\n",
      "\u001b[0;32m/Library/Frameworks/Python.framework/Versions/3.7/lib/python3.7/site-packages/ee/data.py\u001b[0m in \u001b[0;36mgetDownloadId\u001b[0;34m(params)\u001b[0m\n\u001b[1;32m    935\u001b[0m     result = _execute_cloud_call(\n\u001b[1;32m    936\u001b[0m         _cloud_api_resource.projects().thumbnails().create(\n\u001b[0;32m--> 937\u001b[0;31m             parent=_get_projects_path(), fields='name', body=request))\n\u001b[0m\u001b[1;32m    938\u001b[0m     \u001b[0;32mreturn\u001b[0m \u001b[0;34m{\u001b[0m\u001b[0;34m'docid'\u001b[0m\u001b[0;34m:\u001b[0m \u001b[0mresult\u001b[0m\u001b[0;34m[\u001b[0m\u001b[0;34m'name'\u001b[0m\u001b[0;34m]\u001b[0m\u001b[0;34m,\u001b[0m \u001b[0;34m'token'\u001b[0m\u001b[0;34m:\u001b[0m \u001b[0;34m''\u001b[0m\u001b[0;34m}\u001b[0m\u001b[0;34m\u001b[0m\u001b[0m\n\u001b[1;32m    939\u001b[0m \u001b[0;34m\u001b[0m\u001b[0m\n",
      "\u001b[0;32m/Library/Frameworks/Python.framework/Versions/3.7/lib/python3.7/site-packages/ee/data.py\u001b[0m in \u001b[0;36m_execute_cloud_call\u001b[0;34m(call, num_retries)\u001b[0m\n\u001b[1;32m    336\u001b[0m   \"\"\"\n\u001b[1;32m    337\u001b[0m   \u001b[0;32mtry\u001b[0m\u001b[0;34m:\u001b[0m\u001b[0;34m\u001b[0m\u001b[0m\n\u001b[0;32m--> 338\u001b[0;31m     \u001b[0;32mreturn\u001b[0m \u001b[0mcall\u001b[0m\u001b[0;34m.\u001b[0m\u001b[0mexecute\u001b[0m\u001b[0;34m(\u001b[0m\u001b[0mnum_retries\u001b[0m\u001b[0;34m=\u001b[0m\u001b[0mnum_retries\u001b[0m\u001b[0;34m)\u001b[0m\u001b[0;34m\u001b[0m\u001b[0m\n\u001b[0m\u001b[1;32m    339\u001b[0m   \u001b[0;32mexcept\u001b[0m \u001b[0mgoogleapiclient\u001b[0m\u001b[0;34m.\u001b[0m\u001b[0merrors\u001b[0m\u001b[0;34m.\u001b[0m\u001b[0mHttpError\u001b[0m \u001b[0;32mas\u001b[0m \u001b[0me\u001b[0m\u001b[0;34m:\u001b[0m\u001b[0;34m\u001b[0m\u001b[0m\n\u001b[1;32m    340\u001b[0m     \u001b[0;32mraise\u001b[0m \u001b[0m_translate_cloud_exception\u001b[0m\u001b[0;34m(\u001b[0m\u001b[0me\u001b[0m\u001b[0;34m)\u001b[0m\u001b[0;34m\u001b[0m\u001b[0m\n",
      "\u001b[0;32m/Library/Frameworks/Python.framework/Versions/3.7/lib/python3.7/site-packages/googleapiclient/_helpers.py\u001b[0m in \u001b[0;36mpositional_wrapper\u001b[0;34m(*args, **kwargs)\u001b[0m\n\u001b[1;32m    132\u001b[0m                 \u001b[0;32melif\u001b[0m \u001b[0mpositional_parameters_enforcement\u001b[0m \u001b[0;34m==\u001b[0m \u001b[0mPOSITIONAL_WARNING\u001b[0m\u001b[0;34m:\u001b[0m\u001b[0;34m\u001b[0m\u001b[0m\n\u001b[1;32m    133\u001b[0m                     \u001b[0mlogger\u001b[0m\u001b[0;34m.\u001b[0m\u001b[0mwarning\u001b[0m\u001b[0;34m(\u001b[0m\u001b[0mmessage\u001b[0m\u001b[0;34m)\u001b[0m\u001b[0;34m\u001b[0m\u001b[0m\n\u001b[0;32m--> 134\u001b[0;31m             \u001b[0;32mreturn\u001b[0m \u001b[0mwrapped\u001b[0m\u001b[0;34m(\u001b[0m\u001b[0;34m*\u001b[0m\u001b[0margs\u001b[0m\u001b[0;34m,\u001b[0m \u001b[0;34m**\u001b[0m\u001b[0mkwargs\u001b[0m\u001b[0;34m)\u001b[0m\u001b[0;34m\u001b[0m\u001b[0m\n\u001b[0m\u001b[1;32m    135\u001b[0m \u001b[0;34m\u001b[0m\u001b[0m\n\u001b[1;32m    136\u001b[0m         \u001b[0;32mreturn\u001b[0m \u001b[0mpositional_wrapper\u001b[0m\u001b[0;34m\u001b[0m\u001b[0m\n",
      "\u001b[0;32m/Library/Frameworks/Python.framework/Versions/3.7/lib/python3.7/site-packages/googleapiclient/http.py\u001b[0m in \u001b[0;36mexecute\u001b[0;34m(self, http, num_retries)\u001b[0m\n\u001b[1;32m    899\u001b[0m             \u001b[0mmethod\u001b[0m\u001b[0;34m=\u001b[0m\u001b[0mstr\u001b[0m\u001b[0;34m(\u001b[0m\u001b[0mself\u001b[0m\u001b[0;34m.\u001b[0m\u001b[0mmethod\u001b[0m\u001b[0;34m)\u001b[0m\u001b[0;34m,\u001b[0m\u001b[0;34m\u001b[0m\u001b[0m\n\u001b[1;32m    900\u001b[0m             \u001b[0mbody\u001b[0m\u001b[0;34m=\u001b[0m\u001b[0mself\u001b[0m\u001b[0;34m.\u001b[0m\u001b[0mbody\u001b[0m\u001b[0;34m,\u001b[0m\u001b[0;34m\u001b[0m\u001b[0m\n\u001b[0;32m--> 901\u001b[0;31m             \u001b[0mheaders\u001b[0m\u001b[0;34m=\u001b[0m\u001b[0mself\u001b[0m\u001b[0;34m.\u001b[0m\u001b[0mheaders\u001b[0m\u001b[0;34m,\u001b[0m\u001b[0;34m\u001b[0m\u001b[0m\n\u001b[0m\u001b[1;32m    902\u001b[0m         )\n\u001b[1;32m    903\u001b[0m \u001b[0;34m\u001b[0m\u001b[0m\n",
      "\u001b[0;32m/Library/Frameworks/Python.framework/Versions/3.7/lib/python3.7/site-packages/googleapiclient/http.py\u001b[0m in \u001b[0;36m_retry_request\u001b[0;34m(http, num_retries, req_type, sleep, rand, uri, method, *args, **kwargs)\u001b[0m\n\u001b[1;32m    175\u001b[0m         \u001b[0;32mtry\u001b[0m\u001b[0;34m:\u001b[0m\u001b[0;34m\u001b[0m\u001b[0m\n\u001b[1;32m    176\u001b[0m             \u001b[0mexception\u001b[0m \u001b[0;34m=\u001b[0m \u001b[0;32mNone\u001b[0m\u001b[0;34m\u001b[0m\u001b[0m\n\u001b[0;32m--> 177\u001b[0;31m             \u001b[0mresp\u001b[0m\u001b[0;34m,\u001b[0m \u001b[0mcontent\u001b[0m \u001b[0;34m=\u001b[0m \u001b[0mhttp\u001b[0m\u001b[0;34m.\u001b[0m\u001b[0mrequest\u001b[0m\u001b[0;34m(\u001b[0m\u001b[0muri\u001b[0m\u001b[0;34m,\u001b[0m \u001b[0mmethod\u001b[0m\u001b[0;34m,\u001b[0m \u001b[0;34m*\u001b[0m\u001b[0margs\u001b[0m\u001b[0;34m,\u001b[0m \u001b[0;34m**\u001b[0m\u001b[0mkwargs\u001b[0m\u001b[0;34m)\u001b[0m\u001b[0;34m\u001b[0m\u001b[0m\n\u001b[0m\u001b[1;32m    178\u001b[0m         \u001b[0;31m# Retry on SSL errors and socket timeout errors.\u001b[0m\u001b[0;34m\u001b[0m\u001b[0;34m\u001b[0m\u001b[0m\n\u001b[1;32m    179\u001b[0m         \u001b[0;32mexcept\u001b[0m \u001b[0m_ssl_SSLError\u001b[0m \u001b[0;32mas\u001b[0m \u001b[0mssl_error\u001b[0m\u001b[0;34m:\u001b[0m\u001b[0;34m\u001b[0m\u001b[0m\n",
      "\u001b[0;32m/Library/Frameworks/Python.framework/Versions/3.7/lib/python3.7/site-packages/google_auth_httplib2.py\u001b[0m in \u001b[0;36mrequest\u001b[0;34m(self, uri, method, body, headers, **kwargs)\u001b[0m\n\u001b[1;32m    196\u001b[0m         \u001b[0;31m# Make the request.\u001b[0m\u001b[0;34m\u001b[0m\u001b[0;34m\u001b[0m\u001b[0m\n\u001b[1;32m    197\u001b[0m         response, content = self.http.request(\n\u001b[0;32m--> 198\u001b[0;31m             uri, method, body=body, headers=request_headers, **kwargs)\n\u001b[0m\u001b[1;32m    199\u001b[0m \u001b[0;34m\u001b[0m\u001b[0m\n\u001b[1;32m    200\u001b[0m         \u001b[0;31m# If the response indicated that the credentials needed to be\u001b[0m\u001b[0;34m\u001b[0m\u001b[0;34m\u001b[0m\u001b[0m\n",
      "\u001b[0;32m/Library/Frameworks/Python.framework/Versions/3.7/lib/python3.7/site-packages/httplib2/__init__.py\u001b[0m in \u001b[0;36mrequest\u001b[0;34m(self, uri, method, body, headers, redirections, connection_type)\u001b[0m\n\u001b[1;32m   1989\u001b[0m                         \u001b[0mheaders\u001b[0m\u001b[0;34m,\u001b[0m\u001b[0;34m\u001b[0m\u001b[0m\n\u001b[1;32m   1990\u001b[0m                         \u001b[0mredirections\u001b[0m\u001b[0;34m,\u001b[0m\u001b[0;34m\u001b[0m\u001b[0m\n\u001b[0;32m-> 1991\u001b[0;31m                         \u001b[0mcachekey\u001b[0m\u001b[0;34m,\u001b[0m\u001b[0;34m\u001b[0m\u001b[0m\n\u001b[0m\u001b[1;32m   1992\u001b[0m                     )\n\u001b[1;32m   1993\u001b[0m         \u001b[0;32mexcept\u001b[0m \u001b[0mException\u001b[0m \u001b[0;32mas\u001b[0m \u001b[0me\u001b[0m\u001b[0;34m:\u001b[0m\u001b[0;34m\u001b[0m\u001b[0m\n",
      "\u001b[0;32m/Library/Frameworks/Python.framework/Versions/3.7/lib/python3.7/site-packages/httplib2/__init__.py\u001b[0m in \u001b[0;36m_request\u001b[0;34m(self, conn, host, absolute_uri, request_uri, method, body, headers, redirections, cachekey)\u001b[0m\n\u001b[1;32m   1649\u001b[0m \u001b[0;34m\u001b[0m\u001b[0m\n\u001b[1;32m   1650\u001b[0m         (response, content) = self._conn_request(\n\u001b[0;32m-> 1651\u001b[0;31m             \u001b[0mconn\u001b[0m\u001b[0;34m,\u001b[0m \u001b[0mrequest_uri\u001b[0m\u001b[0;34m,\u001b[0m \u001b[0mmethod\u001b[0m\u001b[0;34m,\u001b[0m \u001b[0mbody\u001b[0m\u001b[0;34m,\u001b[0m \u001b[0mheaders\u001b[0m\u001b[0;34m\u001b[0m\u001b[0m\n\u001b[0m\u001b[1;32m   1652\u001b[0m         )\n\u001b[1;32m   1653\u001b[0m \u001b[0;34m\u001b[0m\u001b[0m\n",
      "\u001b[0;32m/Library/Frameworks/Python.framework/Versions/3.7/lib/python3.7/site-packages/httplib2shim/__init__.py\u001b[0m in \u001b[0;36m_conn_request\u001b[0;34m(self, conn, request_uri, method, body, headers)\u001b[0m\n\u001b[1;32m    146\u001b[0m                 \u001b[0mretries\u001b[0m\u001b[0;34m=\u001b[0m\u001b[0murllib3\u001b[0m\u001b[0;34m.\u001b[0m\u001b[0mRetry\u001b[0m\u001b[0;34m(\u001b[0m\u001b[0mtotal\u001b[0m\u001b[0;34m=\u001b[0m\u001b[0;32mFalse\u001b[0m\u001b[0;34m,\u001b[0m \u001b[0mredirect\u001b[0m\u001b[0;34m=\u001b[0m\u001b[0;36m0\u001b[0m\u001b[0;34m)\u001b[0m\u001b[0;34m,\u001b[0m\u001b[0;34m\u001b[0m\u001b[0m\n\u001b[1;32m    147\u001b[0m                 \u001b[0mtimeout\u001b[0m\u001b[0;34m=\u001b[0m\u001b[0murllib3\u001b[0m\u001b[0;34m.\u001b[0m\u001b[0mTimeout\u001b[0m\u001b[0;34m(\u001b[0m\u001b[0mtotal\u001b[0m\u001b[0;34m=\u001b[0m\u001b[0mself\u001b[0m\u001b[0;34m.\u001b[0m\u001b[0mtimeout\u001b[0m\u001b[0;34m)\u001b[0m\u001b[0;34m,\u001b[0m\u001b[0;34m\u001b[0m\u001b[0m\n\u001b[0;32m--> 148\u001b[0;31m                 decode_content=decode)\n\u001b[0m\u001b[1;32m    149\u001b[0m \u001b[0;34m\u001b[0m\u001b[0m\n\u001b[1;32m    150\u001b[0m             \u001b[0mresponse\u001b[0m \u001b[0;34m=\u001b[0m \u001b[0m_map_response\u001b[0m\u001b[0;34m(\u001b[0m\u001b[0murllib3_response\u001b[0m\u001b[0;34m,\u001b[0m \u001b[0mdecode\u001b[0m\u001b[0;34m=\u001b[0m\u001b[0mdecode\u001b[0m\u001b[0;34m)\u001b[0m\u001b[0;34m\u001b[0m\u001b[0m\n",
      "\u001b[0;32m~/Library/Python/3.7/lib/python/site-packages/urllib3/request.py\u001b[0m in \u001b[0;36mrequest\u001b[0;34m(self, method, url, fields, headers, **urlopen_kw)\u001b[0m\n\u001b[1;32m     78\u001b[0m         \u001b[0;32melse\u001b[0m\u001b[0;34m:\u001b[0m\u001b[0;34m\u001b[0m\u001b[0m\n\u001b[1;32m     79\u001b[0m             return self.request_encode_body(\n\u001b[0;32m---> 80\u001b[0;31m                 \u001b[0mmethod\u001b[0m\u001b[0;34m,\u001b[0m \u001b[0murl\u001b[0m\u001b[0;34m,\u001b[0m \u001b[0mfields\u001b[0m\u001b[0;34m=\u001b[0m\u001b[0mfields\u001b[0m\u001b[0;34m,\u001b[0m \u001b[0mheaders\u001b[0m\u001b[0;34m=\u001b[0m\u001b[0mheaders\u001b[0m\u001b[0;34m,\u001b[0m \u001b[0;34m**\u001b[0m\u001b[0murlopen_kw\u001b[0m\u001b[0;34m\u001b[0m\u001b[0m\n\u001b[0m\u001b[1;32m     81\u001b[0m             )\n\u001b[1;32m     82\u001b[0m \u001b[0;34m\u001b[0m\u001b[0m\n",
      "\u001b[0;32m~/Library/Python/3.7/lib/python/site-packages/urllib3/request.py\u001b[0m in \u001b[0;36mrequest_encode_body\u001b[0;34m(self, method, url, fields, headers, encode_multipart, multipart_boundary, **urlopen_kw)\u001b[0m\n\u001b[1;32m    169\u001b[0m         \u001b[0mextra_kw\u001b[0m\u001b[0;34m.\u001b[0m\u001b[0mupdate\u001b[0m\u001b[0;34m(\u001b[0m\u001b[0murlopen_kw\u001b[0m\u001b[0;34m)\u001b[0m\u001b[0;34m\u001b[0m\u001b[0m\n\u001b[1;32m    170\u001b[0m \u001b[0;34m\u001b[0m\u001b[0m\n\u001b[0;32m--> 171\u001b[0;31m         \u001b[0;32mreturn\u001b[0m \u001b[0mself\u001b[0m\u001b[0;34m.\u001b[0m\u001b[0murlopen\u001b[0m\u001b[0;34m(\u001b[0m\u001b[0mmethod\u001b[0m\u001b[0;34m,\u001b[0m \u001b[0murl\u001b[0m\u001b[0;34m,\u001b[0m \u001b[0;34m**\u001b[0m\u001b[0mextra_kw\u001b[0m\u001b[0;34m)\u001b[0m\u001b[0;34m\u001b[0m\u001b[0m\n\u001b[0m",
      "\u001b[0;32m~/Library/Python/3.7/lib/python/site-packages/urllib3/poolmanager.py\u001b[0m in \u001b[0;36murlopen\u001b[0;34m(self, method, url, redirect, **kw)\u001b[0m\n\u001b[1;32m    328\u001b[0m             \u001b[0mresponse\u001b[0m \u001b[0;34m=\u001b[0m \u001b[0mconn\u001b[0m\u001b[0;34m.\u001b[0m\u001b[0murlopen\u001b[0m\u001b[0;34m(\u001b[0m\u001b[0mmethod\u001b[0m\u001b[0;34m,\u001b[0m \u001b[0murl\u001b[0m\u001b[0;34m,\u001b[0m \u001b[0;34m**\u001b[0m\u001b[0mkw\u001b[0m\u001b[0;34m)\u001b[0m\u001b[0;34m\u001b[0m\u001b[0m\n\u001b[1;32m    329\u001b[0m         \u001b[0;32melse\u001b[0m\u001b[0;34m:\u001b[0m\u001b[0;34m\u001b[0m\u001b[0m\n\u001b[0;32m--> 330\u001b[0;31m             \u001b[0mresponse\u001b[0m \u001b[0;34m=\u001b[0m \u001b[0mconn\u001b[0m\u001b[0;34m.\u001b[0m\u001b[0murlopen\u001b[0m\u001b[0;34m(\u001b[0m\u001b[0mmethod\u001b[0m\u001b[0;34m,\u001b[0m \u001b[0mu\u001b[0m\u001b[0;34m.\u001b[0m\u001b[0mrequest_uri\u001b[0m\u001b[0;34m,\u001b[0m \u001b[0;34m**\u001b[0m\u001b[0mkw\u001b[0m\u001b[0;34m)\u001b[0m\u001b[0;34m\u001b[0m\u001b[0m\n\u001b[0m\u001b[1;32m    331\u001b[0m \u001b[0;34m\u001b[0m\u001b[0m\n\u001b[1;32m    332\u001b[0m         \u001b[0mredirect_location\u001b[0m \u001b[0;34m=\u001b[0m \u001b[0mredirect\u001b[0m \u001b[0;32mand\u001b[0m \u001b[0mresponse\u001b[0m\u001b[0;34m.\u001b[0m\u001b[0mget_redirect_location\u001b[0m\u001b[0;34m(\u001b[0m\u001b[0;34m)\u001b[0m\u001b[0;34m\u001b[0m\u001b[0m\n",
      "\u001b[0;32m~/Library/Python/3.7/lib/python/site-packages/urllib3/connectionpool.py\u001b[0m in \u001b[0;36murlopen\u001b[0;34m(self, method, url, body, headers, retries, redirect, assert_same_host, timeout, pool_timeout, release_conn, chunked, body_pos, **response_kw)\u001b[0m\n\u001b[1;32m    670\u001b[0m                 \u001b[0mbody\u001b[0m\u001b[0;34m=\u001b[0m\u001b[0mbody\u001b[0m\u001b[0;34m,\u001b[0m\u001b[0;34m\u001b[0m\u001b[0m\n\u001b[1;32m    671\u001b[0m                 \u001b[0mheaders\u001b[0m\u001b[0;34m=\u001b[0m\u001b[0mheaders\u001b[0m\u001b[0;34m,\u001b[0m\u001b[0;34m\u001b[0m\u001b[0m\n\u001b[0;32m--> 672\u001b[0;31m                 \u001b[0mchunked\u001b[0m\u001b[0;34m=\u001b[0m\u001b[0mchunked\u001b[0m\u001b[0;34m,\u001b[0m\u001b[0;34m\u001b[0m\u001b[0m\n\u001b[0m\u001b[1;32m    673\u001b[0m             )\n\u001b[1;32m    674\u001b[0m \u001b[0;34m\u001b[0m\u001b[0m\n",
      "\u001b[0;32m~/Library/Python/3.7/lib/python/site-packages/urllib3/connectionpool.py\u001b[0m in \u001b[0;36m_make_request\u001b[0;34m(self, conn, method, url, timeout, chunked, **httplib_request_kw)\u001b[0m\n\u001b[1;32m    419\u001b[0m                     \u001b[0;31m# Python 3 (including for exceptions like SystemExit).\u001b[0m\u001b[0;34m\u001b[0m\u001b[0;34m\u001b[0m\u001b[0m\n\u001b[1;32m    420\u001b[0m                     \u001b[0;31m# Otherwise it looks like a bug in the code.\u001b[0m\u001b[0;34m\u001b[0m\u001b[0;34m\u001b[0m\u001b[0m\n\u001b[0;32m--> 421\u001b[0;31m                     \u001b[0msix\u001b[0m\u001b[0;34m.\u001b[0m\u001b[0mraise_from\u001b[0m\u001b[0;34m(\u001b[0m\u001b[0me\u001b[0m\u001b[0;34m,\u001b[0m \u001b[0;32mNone\u001b[0m\u001b[0;34m)\u001b[0m\u001b[0;34m\u001b[0m\u001b[0m\n\u001b[0m\u001b[1;32m    422\u001b[0m         \u001b[0;32mexcept\u001b[0m \u001b[0;34m(\u001b[0m\u001b[0mSocketTimeout\u001b[0m\u001b[0;34m,\u001b[0m \u001b[0mBaseSSLError\u001b[0m\u001b[0;34m,\u001b[0m \u001b[0mSocketError\u001b[0m\u001b[0;34m)\u001b[0m \u001b[0;32mas\u001b[0m \u001b[0me\u001b[0m\u001b[0;34m:\u001b[0m\u001b[0;34m\u001b[0m\u001b[0m\n\u001b[1;32m    423\u001b[0m             \u001b[0mself\u001b[0m\u001b[0;34m.\u001b[0m\u001b[0m_raise_timeout\u001b[0m\u001b[0;34m(\u001b[0m\u001b[0merr\u001b[0m\u001b[0;34m=\u001b[0m\u001b[0me\u001b[0m\u001b[0;34m,\u001b[0m \u001b[0murl\u001b[0m\u001b[0;34m=\u001b[0m\u001b[0murl\u001b[0m\u001b[0;34m,\u001b[0m \u001b[0mtimeout_value\u001b[0m\u001b[0;34m=\u001b[0m\u001b[0mread_timeout\u001b[0m\u001b[0;34m)\u001b[0m\u001b[0;34m\u001b[0m\u001b[0m\n",
      "\u001b[0;32m~/Library/Python/3.7/lib/python/site-packages/urllib3/packages/six.py\u001b[0m in \u001b[0;36mraise_from\u001b[0;34m(value, from_value)\u001b[0m\n",
      "\u001b[0;32m~/Library/Python/3.7/lib/python/site-packages/urllib3/connectionpool.py\u001b[0m in \u001b[0;36m_make_request\u001b[0;34m(self, conn, method, url, timeout, chunked, **httplib_request_kw)\u001b[0m\n\u001b[1;32m    414\u001b[0m                 \u001b[0;31m# Python 3\u001b[0m\u001b[0;34m\u001b[0m\u001b[0;34m\u001b[0m\u001b[0m\n\u001b[1;32m    415\u001b[0m                 \u001b[0;32mtry\u001b[0m\u001b[0;34m:\u001b[0m\u001b[0;34m\u001b[0m\u001b[0m\n\u001b[0;32m--> 416\u001b[0;31m                     \u001b[0mhttplib_response\u001b[0m \u001b[0;34m=\u001b[0m \u001b[0mconn\u001b[0m\u001b[0;34m.\u001b[0m\u001b[0mgetresponse\u001b[0m\u001b[0;34m(\u001b[0m\u001b[0;34m)\u001b[0m\u001b[0;34m\u001b[0m\u001b[0m\n\u001b[0m\u001b[1;32m    417\u001b[0m                 \u001b[0;32mexcept\u001b[0m \u001b[0mBaseException\u001b[0m \u001b[0;32mas\u001b[0m \u001b[0me\u001b[0m\u001b[0;34m:\u001b[0m\u001b[0;34m\u001b[0m\u001b[0m\n\u001b[1;32m    418\u001b[0m                     \u001b[0;31m# Remove the TypeError from the exception chain in\u001b[0m\u001b[0;34m\u001b[0m\u001b[0;34m\u001b[0m\u001b[0m\n",
      "\u001b[0;32m/Library/Frameworks/Python.framework/Versions/3.7/lib/python3.7/http/client.py\u001b[0m in \u001b[0;36mgetresponse\u001b[0;34m(self)\u001b[0m\n\u001b[1;32m   1319\u001b[0m         \u001b[0;32mtry\u001b[0m\u001b[0;34m:\u001b[0m\u001b[0;34m\u001b[0m\u001b[0m\n\u001b[1;32m   1320\u001b[0m             \u001b[0;32mtry\u001b[0m\u001b[0;34m:\u001b[0m\u001b[0;34m\u001b[0m\u001b[0m\n\u001b[0;32m-> 1321\u001b[0;31m                 \u001b[0mresponse\u001b[0m\u001b[0;34m.\u001b[0m\u001b[0mbegin\u001b[0m\u001b[0;34m(\u001b[0m\u001b[0;34m)\u001b[0m\u001b[0;34m\u001b[0m\u001b[0m\n\u001b[0m\u001b[1;32m   1322\u001b[0m             \u001b[0;32mexcept\u001b[0m \u001b[0mConnectionError\u001b[0m\u001b[0;34m:\u001b[0m\u001b[0;34m\u001b[0m\u001b[0m\n\u001b[1;32m   1323\u001b[0m                 \u001b[0mself\u001b[0m\u001b[0;34m.\u001b[0m\u001b[0mclose\u001b[0m\u001b[0;34m(\u001b[0m\u001b[0;34m)\u001b[0m\u001b[0;34m\u001b[0m\u001b[0m\n",
      "\u001b[0;32m/Library/Frameworks/Python.framework/Versions/3.7/lib/python3.7/http/client.py\u001b[0m in \u001b[0;36mbegin\u001b[0;34m(self)\u001b[0m\n\u001b[1;32m    294\u001b[0m         \u001b[0;31m# read until we get a non-100 response\u001b[0m\u001b[0;34m\u001b[0m\u001b[0;34m\u001b[0m\u001b[0m\n\u001b[1;32m    295\u001b[0m         \u001b[0;32mwhile\u001b[0m \u001b[0;32mTrue\u001b[0m\u001b[0;34m:\u001b[0m\u001b[0;34m\u001b[0m\u001b[0m\n\u001b[0;32m--> 296\u001b[0;31m             \u001b[0mversion\u001b[0m\u001b[0;34m,\u001b[0m \u001b[0mstatus\u001b[0m\u001b[0;34m,\u001b[0m \u001b[0mreason\u001b[0m \u001b[0;34m=\u001b[0m \u001b[0mself\u001b[0m\u001b[0;34m.\u001b[0m\u001b[0m_read_status\u001b[0m\u001b[0;34m(\u001b[0m\u001b[0;34m)\u001b[0m\u001b[0;34m\u001b[0m\u001b[0m\n\u001b[0m\u001b[1;32m    297\u001b[0m             \u001b[0;32mif\u001b[0m \u001b[0mstatus\u001b[0m \u001b[0;34m!=\u001b[0m \u001b[0mCONTINUE\u001b[0m\u001b[0;34m:\u001b[0m\u001b[0;34m\u001b[0m\u001b[0m\n\u001b[1;32m    298\u001b[0m                 \u001b[0;32mbreak\u001b[0m\u001b[0;34m\u001b[0m\u001b[0m\n",
      "\u001b[0;32m/Library/Frameworks/Python.framework/Versions/3.7/lib/python3.7/http/client.py\u001b[0m in \u001b[0;36m_read_status\u001b[0;34m(self)\u001b[0m\n\u001b[1;32m    255\u001b[0m \u001b[0;34m\u001b[0m\u001b[0m\n\u001b[1;32m    256\u001b[0m     \u001b[0;32mdef\u001b[0m \u001b[0m_read_status\u001b[0m\u001b[0;34m(\u001b[0m\u001b[0mself\u001b[0m\u001b[0;34m)\u001b[0m\u001b[0;34m:\u001b[0m\u001b[0;34m\u001b[0m\u001b[0m\n\u001b[0;32m--> 257\u001b[0;31m         \u001b[0mline\u001b[0m \u001b[0;34m=\u001b[0m \u001b[0mstr\u001b[0m\u001b[0;34m(\u001b[0m\u001b[0mself\u001b[0m\u001b[0;34m.\u001b[0m\u001b[0mfp\u001b[0m\u001b[0;34m.\u001b[0m\u001b[0mreadline\u001b[0m\u001b[0;34m(\u001b[0m\u001b[0m_MAXLINE\u001b[0m \u001b[0;34m+\u001b[0m \u001b[0;36m1\u001b[0m\u001b[0;34m)\u001b[0m\u001b[0;34m,\u001b[0m \u001b[0;34m\"iso-8859-1\"\u001b[0m\u001b[0;34m)\u001b[0m\u001b[0;34m\u001b[0m\u001b[0m\n\u001b[0m\u001b[1;32m    258\u001b[0m         \u001b[0;32mif\u001b[0m \u001b[0mlen\u001b[0m\u001b[0;34m(\u001b[0m\u001b[0mline\u001b[0m\u001b[0;34m)\u001b[0m \u001b[0;34m>\u001b[0m \u001b[0m_MAXLINE\u001b[0m\u001b[0;34m:\u001b[0m\u001b[0;34m\u001b[0m\u001b[0m\n\u001b[1;32m    259\u001b[0m             \u001b[0;32mraise\u001b[0m \u001b[0mLineTooLong\u001b[0m\u001b[0;34m(\u001b[0m\u001b[0;34m\"status line\"\u001b[0m\u001b[0;34m)\u001b[0m\u001b[0;34m\u001b[0m\u001b[0m\n",
      "\u001b[0;32m/Library/Frameworks/Python.framework/Versions/3.7/lib/python3.7/socket.py\u001b[0m in \u001b[0;36mreadinto\u001b[0;34m(self, b)\u001b[0m\n\u001b[1;32m    587\u001b[0m         \u001b[0;32mwhile\u001b[0m \u001b[0;32mTrue\u001b[0m\u001b[0;34m:\u001b[0m\u001b[0;34m\u001b[0m\u001b[0m\n\u001b[1;32m    588\u001b[0m             \u001b[0;32mtry\u001b[0m\u001b[0;34m:\u001b[0m\u001b[0;34m\u001b[0m\u001b[0m\n\u001b[0;32m--> 589\u001b[0;31m                 \u001b[0;32mreturn\u001b[0m \u001b[0mself\u001b[0m\u001b[0;34m.\u001b[0m\u001b[0m_sock\u001b[0m\u001b[0;34m.\u001b[0m\u001b[0mrecv_into\u001b[0m\u001b[0;34m(\u001b[0m\u001b[0mb\u001b[0m\u001b[0;34m)\u001b[0m\u001b[0;34m\u001b[0m\u001b[0m\n\u001b[0m\u001b[1;32m    590\u001b[0m             \u001b[0;32mexcept\u001b[0m \u001b[0mtimeout\u001b[0m\u001b[0;34m:\u001b[0m\u001b[0;34m\u001b[0m\u001b[0m\n\u001b[1;32m    591\u001b[0m                 \u001b[0mself\u001b[0m\u001b[0;34m.\u001b[0m\u001b[0m_timeout_occurred\u001b[0m \u001b[0;34m=\u001b[0m \u001b[0;32mTrue\u001b[0m\u001b[0;34m\u001b[0m\u001b[0m\n",
      "\u001b[0;32m/Library/Frameworks/Python.framework/Versions/3.7/lib/python3.7/ssl.py\u001b[0m in \u001b[0;36mrecv_into\u001b[0;34m(self, buffer, nbytes, flags)\u001b[0m\n\u001b[1;32m   1047\u001b[0m                   \u001b[0;34m\"non-zero flags not allowed in calls to recv_into() on %s\"\u001b[0m \u001b[0;34m%\u001b[0m\u001b[0;34m\u001b[0m\u001b[0m\n\u001b[1;32m   1048\u001b[0m                   self.__class__)\n\u001b[0;32m-> 1049\u001b[0;31m             \u001b[0;32mreturn\u001b[0m \u001b[0mself\u001b[0m\u001b[0;34m.\u001b[0m\u001b[0mread\u001b[0m\u001b[0;34m(\u001b[0m\u001b[0mnbytes\u001b[0m\u001b[0;34m,\u001b[0m \u001b[0mbuffer\u001b[0m\u001b[0;34m)\u001b[0m\u001b[0;34m\u001b[0m\u001b[0m\n\u001b[0m\u001b[1;32m   1050\u001b[0m         \u001b[0;32melse\u001b[0m\u001b[0;34m:\u001b[0m\u001b[0;34m\u001b[0m\u001b[0m\n\u001b[1;32m   1051\u001b[0m             \u001b[0;32mreturn\u001b[0m \u001b[0msuper\u001b[0m\u001b[0;34m(\u001b[0m\u001b[0;34m)\u001b[0m\u001b[0;34m.\u001b[0m\u001b[0mrecv_into\u001b[0m\u001b[0;34m(\u001b[0m\u001b[0mbuffer\u001b[0m\u001b[0;34m,\u001b[0m \u001b[0mnbytes\u001b[0m\u001b[0;34m,\u001b[0m \u001b[0mflags\u001b[0m\u001b[0;34m)\u001b[0m\u001b[0;34m\u001b[0m\u001b[0m\n",
      "\u001b[0;32m/Library/Frameworks/Python.framework/Versions/3.7/lib/python3.7/ssl.py\u001b[0m in \u001b[0;36mread\u001b[0;34m(self, len, buffer)\u001b[0m\n\u001b[1;32m    906\u001b[0m         \u001b[0;32mtry\u001b[0m\u001b[0;34m:\u001b[0m\u001b[0;34m\u001b[0m\u001b[0m\n\u001b[1;32m    907\u001b[0m             \u001b[0;32mif\u001b[0m \u001b[0mbuffer\u001b[0m \u001b[0;32mis\u001b[0m \u001b[0;32mnot\u001b[0m \u001b[0;32mNone\u001b[0m\u001b[0;34m:\u001b[0m\u001b[0;34m\u001b[0m\u001b[0m\n\u001b[0;32m--> 908\u001b[0;31m                 \u001b[0;32mreturn\u001b[0m \u001b[0mself\u001b[0m\u001b[0;34m.\u001b[0m\u001b[0m_sslobj\u001b[0m\u001b[0;34m.\u001b[0m\u001b[0mread\u001b[0m\u001b[0;34m(\u001b[0m\u001b[0mlen\u001b[0m\u001b[0;34m,\u001b[0m \u001b[0mbuffer\u001b[0m\u001b[0;34m)\u001b[0m\u001b[0;34m\u001b[0m\u001b[0m\n\u001b[0m\u001b[1;32m    909\u001b[0m             \u001b[0;32melse\u001b[0m\u001b[0;34m:\u001b[0m\u001b[0;34m\u001b[0m\u001b[0m\n\u001b[1;32m    910\u001b[0m                 \u001b[0;32mreturn\u001b[0m \u001b[0mself\u001b[0m\u001b[0;34m.\u001b[0m\u001b[0m_sslobj\u001b[0m\u001b[0;34m.\u001b[0m\u001b[0mread\u001b[0m\u001b[0;34m(\u001b[0m\u001b[0mlen\u001b[0m\u001b[0;34m)\u001b[0m\u001b[0;34m\u001b[0m\u001b[0m\n",
      "\u001b[0;31mKeyboardInterrupt\u001b[0m: "
     ]
    }
   ],
   "source": [
    "# Export monthly images from a collection\n",
    "for a_col, a_tile, poly in zip(all_cols, tiles, polys):\n",
    "    ilist = a_col.toList(a_col.size())\n",
    "    for i in range(12*3):\n",
    "        if len(ee.Image(ilist.get(i)).bandNames().getInfo()) <= 0:\n",
    "            print(\"ERROR; No bands found in image index %d... will skip export.\"%(i))\n",
    "        else:\n",
    "            print(\"Exporting Image %d\"%(i))\n",
    "            #print(ee.Image(ilist.get(i)).bandNames().getInfo())\n",
    "            filename = \"/Users/morgansteckler/Desktop/tropical_phenology_gee/morgan/test/{}/{}.tif\".format(a_tile,i)\n",
    "            temp_dir = \"/Users/morgansteckler/Desktop/tropical_phenology_gee/morgan/test/{}\".format(a_tile)\n",
    "            if not os.path.exists(temp_dir):\n",
    "                os.mkdir(temp_dir)\n",
    "            geemap.ee_export_image(ee.Image(ilist.get(i)).select('NDRE'), \n",
    "                                   filename=filename, \n",
    "                                   scale=30, \n",
    "                                   region=poly, \n",
    "                                   file_per_band=False)"
   ]
  },
  {
   "cell_type": "code",
   "execution_count": null,
   "metadata": {},
   "outputs": [],
   "source": []
  }
 ],
 "metadata": {
  "kernelspec": {
   "display_name": "Python 3",
   "language": "python",
   "name": "python3"
  },
  "language_info": {
   "codemirror_mode": {
    "name": "ipython",
    "version": 3
   },
   "file_extension": ".py",
   "mimetype": "text/x-python",
   "name": "python",
   "nbconvert_exporter": "python",
   "pygments_lexer": "ipython3",
   "version": "3.7.0"
  }
 },
 "nbformat": 4,
 "nbformat_minor": 2
}
