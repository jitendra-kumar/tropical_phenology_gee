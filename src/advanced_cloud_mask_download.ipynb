{
 "cells": [
  {
   "cell_type": "markdown",
   "metadata": {},
   "source": [
    "# S2cloudless masking algorithm + grid download\n",
    "https://developers.google.com/earth-engine/tutorials/community/sentinel-2-s2cloudless\n",
    "- This script uses the S2cloudless masking algorithm from the link above, and then creates a grid around my ROI so that I can download 55km cells into a local folder (55km cells maximizes GEE's download capability). I only export the masked image and calculated NDRE band. All other bands are excluded from download. Images exported at 20m scale."
   ]
  },
  {
   "cell_type": "code",
   "execution_count": 65,
   "metadata": {},
   "outputs": [
    {
     "name": "stdout",
     "output_type": "stream",
     "text": [
      "0.1.249\n",
      "0.8.8\n"
     ]
    }
   ],
   "source": [
    "import ee, geemap\n",
    "print(ee.__version__)\n",
    "print(geemap.__version__)"
   ]
  },
  {
   "cell_type": "code",
   "execution_count": 66,
   "metadata": {},
   "outputs": [],
   "source": [
    "ee.Initialize()"
   ]
  },
  {
   "cell_type": "code",
   "execution_count": 180,
   "metadata": {},
   "outputs": [
    {
     "name": "stdout",
     "output_type": "stream",
     "text": [
      "['Alagoas', 'Bahia', 'Ceara', 'Espirito Santo', 'Maranhao', 'Minas Gerais', 'Paraiba', 'Pernambuco', 'Piaui', 'Rio De Janeiro', 'Rio Grande Do Norte', 'Sao Paulo', 'Sergipe', 'Name Unknown', 'Name Unknown', 'Name Unknown', 'Acre', 'Amapa', 'Amazonas', 'Distrito Federal', 'Goias', 'Mato Grosso', 'Mato Grosso Do Sul', 'Para', 'Parana', 'Rio Grande Do Sul', 'Rondonia', 'Roraima', 'Santa Catarina', 'Tocantins', 'Name Unknown']\n"
     ]
    }
   ],
   "source": [
    "br = (ee.FeatureCollection(\"FAO/GAUL/2015/level1\")\n",
    "      .filterMetadata('ADM0_NAME', 'equals', 'Brazil')\n",
    "      .aggregate_array('ADM1_NAME')\n",
    "     )\n",
    "print(br.getInfo())"
   ]
  },
  {
   "cell_type": "code",
   "execution_count": 208,
   "metadata": {},
   "outputs": [],
   "source": [
    "br = (ee.FeatureCollection(\"FAO/GAUL/2015/level1\")\n",
    "       .filterMetadata('ADM0_NAME', 'equals', 'Brazil')\n",
    "       .filterMetadata('ADM1_NAME', 'equals', 'Amazonas')\n",
    "      )"
   ]
  },
  {
   "cell_type": "code",
   "execution_count": 102,
   "metadata": {},
   "outputs": [
    {
     "data": {
      "application/vnd.jupyter.widget-view+json": {
       "model_id": "00d934c9088149f3af3ee194d1d88c7a",
       "version_major": 2,
       "version_minor": 0
      },
      "text/plain": [
       "Map(center=[-4.186394628415986, -64.69261254089228], controls=(WidgetControl(options=['position', 'transparent…"
      ]
     },
     "metadata": {},
     "output_type": "display_data"
    }
   ],
   "source": [
    "Map = geemap.Map()\n",
    "Map.addLayer(br, {}, 'Amazonas')\n",
    "Map.center_object(br1, zoom=6)\n",
    "Map"
   ]
  },
  {
   "cell_type": "markdown",
   "metadata": {},
   "source": [
    "### Create polygon grid for clipping images"
   ]
  },
  {
   "cell_type": "code",
   "execution_count": 226,
   "metadata": {},
   "outputs": [],
   "source": [
    "# Create grid\n",
    "# https://developers.google.com/earth-engine/tutorials/community/drawing-tools\n",
    "\n",
    "def make_grid(region, a_scale):\n",
    "    \"\"\"\n",
    "    Creates a grid around a specified ROI.\n",
    "    User inputs their reasonably small ROI.\n",
    "    User inputs a scale where 100000 = 100km.\n",
    "    \"\"\"\n",
    "    # Creates image with 2 bands ('longitude', 'latitude') in degrees\n",
    "    lonLat = ee.Image.pixelLonLat()\n",
    "\n",
    "    # Select bands, multiply times big number, and truncate\n",
    "    lonGrid = (lonLat\n",
    "               .select('latitude')\n",
    "               .multiply(10000000)\n",
    "               .toInt()\n",
    "              )\n",
    "    latGrid = (lonLat\n",
    "              .select('longitude')\n",
    "              .multiply(10000000)\n",
    "              .toInt()\n",
    "              )\n",
    "\n",
    "    # Multiply lat and lon images and reduce to vectors\n",
    "    grid = (lonGrid\n",
    "            .multiply(latGrid)\n",
    "            .reduceToVectors(\n",
    "                geometry = region,\n",
    "                scale = a_scale, # 100km-sized boxes needs 100,000\n",
    "                geometryType = 'polygon')\n",
    "           )\n",
    "    \n",
    "    return(grid)"
   ]
  },
  {
   "cell_type": "code",
   "execution_count": 241,
   "metadata": {},
   "outputs": [],
   "source": [
    "# Make test grid (half degree squares)\n",
    "grid_55km = make_grid(br, 55000)"
   ]
  },
  {
   "cell_type": "code",
   "execution_count": 242,
   "metadata": {},
   "outputs": [],
   "source": [
    "# Access coordinates of grid squares\n",
    "grid_dict = grid_55km.getInfo()\n",
    "\n",
    "feats = grid_dict['features']\n",
    "coord_list = []\n",
    "for d in feats:\n",
    "    geom = d['geometry']\n",
    "    coords = geom['coordinates']\n",
    "    coord_list.append(coords)"
   ]
  },
  {
   "cell_type": "code",
   "execution_count": 243,
   "metadata": {},
   "outputs": [],
   "source": [
    "# Create a list of several ee.Geometry.Polygons\n",
    "polys = []\n",
    "for coord in coord_list:\n",
    "    poly = ee.Geometry.Polygon(coord)\n",
    "    polys.append(poly)"
   ]
  },
  {
   "cell_type": "code",
   "execution_count": 244,
   "metadata": {},
   "outputs": [],
   "source": [
    "# Make grid smaller if it's huge\n",
    "idx = list(range(0,100))\n",
    "polys = [ polys[i] for i in idx]"
   ]
  },
  {
   "cell_type": "code",
   "execution_count": 245,
   "metadata": {},
   "outputs": [],
   "source": [
    "# Make the whole grid a feature collection for export purposes\n",
    "grid = ee.FeatureCollection(polys)"
   ]
  },
  {
   "cell_type": "markdown",
   "metadata": {},
   "source": [
    "### Create advanced cloud mask"
   ]
  },
  {
   "cell_type": "code",
   "execution_count": 246,
   "metadata": {},
   "outputs": [],
   "source": [
    "AOI = grid\n",
    "START_DATE = '2016-01-01'\n",
    "END_DATE = '2020-12-31'\n",
    "CLOUD_FILTER = 60\n",
    "CLD_PRB_THRESH = 50\n",
    "NIR_DRK_THRESH = 0.15\n",
    "CLD_PRJ_DIST = 1\n",
    "BUFFER = 50"
   ]
  },
  {
   "cell_type": "code",
   "execution_count": 247,
   "metadata": {},
   "outputs": [],
   "source": [
    "def get_s2_sr_cld_col(aoi, start_date, end_date):\n",
    "    \"\"\"Get Sentinel-2 data and join s2cloudless collection\n",
    "    with Sentinel TOA data.\"\"\"\n",
    "    # Import and filter S2 TOA.\n",
    "    s2_sr_col = (ee.ImageCollection('COPERNICUS/S2')\n",
    "        .filterBounds(aoi)\n",
    "        .filterDate(start_date, end_date)\n",
    "        .filter(ee.Filter.lte('CLOUDY_PIXEL_PERCENTAGE', CLOUD_FILTER))\n",
    "        .sort('CLOUDY_PIXEL_PERCENTAGE', False))\n",
    "\n",
    "    # Import and filter s2cloudless.\n",
    "    s2_cloudless_col = (ee.ImageCollection('COPERNICUS/S2_CLOUD_PROBABILITY')\n",
    "        .filterBounds(aoi)\n",
    "        .filterDate(start_date, end_date))\n",
    "\n",
    "    # Join the filtered s2cloudless collection to the SR collection by the 'system:index' property.\n",
    "    return ee.ImageCollection(ee.Join.saveFirst('s2cloudless').apply(**{\n",
    "        'primary': s2_sr_col,\n",
    "        'secondary': s2_cloudless_col,\n",
    "        'condition': ee.Filter.equals(**{\n",
    "            'leftField': 'system:index',\n",
    "            'rightField': 'system:index'\n",
    "        })\n",
    "    }))\n",
    "\n",
    "\n",
    "def add_cloud_bands(img):\n",
    "    \"\"\"Create and add cloud bands.\"\"\"\n",
    "    # Get s2cloudless image, subset the probability band.\n",
    "    cld_prb = ee.Image(img.get('s2cloudless')).select('probability')\n",
    "\n",
    "    # Condition s2cloudless by the probability threshold value.\n",
    "    is_cloud = cld_prb.gt(CLD_PRB_THRESH).rename('clouds')\n",
    "\n",
    "    # Add the cloud probability layer and cloud mask as image bands.\n",
    "    return img.addBands(ee.Image([cld_prb, is_cloud]))\n",
    "\n",
    "\n",
    "def add_shadow_bands(img):\n",
    "    \"\"\"Create and add cloud shadow bands.\"\"\"\n",
    "    # Identify water pixels from the SCL band.\n",
    "    #not_water = img.select('SCL').neq(6) <- this is for SR, not TOA\n",
    "    not_water = img.normalizedDifference(['B3', 'B8']).rename('NDWI')\n",
    "    not_water = not_water.select('NDWI')\n",
    "\n",
    "    # Identify dark NIR pixels that are not water (potential cloud shadow pixels).\n",
    "    SR_BAND_SCALE = 1e4\n",
    "    dark_pixels = img.select('B8').lt(NIR_DRK_THRESH*SR_BAND_SCALE).rename('dark_pixels')\n",
    "\n",
    "    # Determine the direction to project cloud shadow from clouds (assumes UTM projection).\n",
    "    shadow_azimuth = ee.Number(90).subtract(ee.Number(img.get('MEAN_SOLAR_AZIMUTH_ANGLE')));\n",
    "\n",
    "    # Project shadows from clouds for the distance specified by the CLD_PRJ_DIST input.\n",
    "    cld_proj = (img.select('clouds').directionalDistanceTransform(shadow_azimuth, CLD_PRJ_DIST*10)\n",
    "        .reproject(**{'crs': img.select(0).projection(), 'scale': 100})\n",
    "        .select('distance')\n",
    "        .mask()\n",
    "        .rename('cloud_transform'))\n",
    "\n",
    "    # Identify the intersection of dark pixels with cloud shadow projection.\n",
    "    shadows = cld_proj.multiply(dark_pixels).rename('shadows')\n",
    "\n",
    "    # Add dark pixels, cloud projection, and identified shadows as image bands.\n",
    "    return img.addBands(ee.Image([dark_pixels, cld_proj, shadows]))\n",
    "\n",
    "\n",
    "def add_cld_shdw_mask(img):\n",
    "    \"\"\"Use cloud shadow and shadow bands to create masks.\"\"\"\n",
    "    # Add cloud component bands.\n",
    "    img_cloud = add_cloud_bands(img)\n",
    "\n",
    "    # Add cloud shadow component bands.\n",
    "    img_cloud_shadow = add_shadow_bands(img_cloud)\n",
    "\n",
    "    # Combine cloud and shadow mask, set cloud and shadow as value 1, else 0.\n",
    "    is_cld_shdw = img_cloud_shadow.select('clouds').add(img_cloud_shadow.select('shadows')).gt(0)\n",
    "\n",
    "    # Remove small cloud-shadow patches and dilate remaining pixels by BUFFER input.\n",
    "    # 20 m scale is for speed, and assumes clouds don't require 10 m precision.\n",
    "    is_cld_shdw = (is_cld_shdw.focal_min(2).focal_max(BUFFER*2/20)\n",
    "        .reproject(**{'crs': img.select([0]).projection(), 'scale': 20})\n",
    "        .rename('cloudmask'))\n",
    "\n",
    "    # Add the final cloud-shadow mask to the image.\n",
    "    return img_cloud_shadow.addBands(is_cld_shdw)\n",
    "\n",
    "\n",
    "def apply_cld_shdw_mask(img):\n",
    "    \"\"\"Mask cloudy pixels.\"\"\"\n",
    "    # Subset the cloudmask band and invert it so clouds/shadow are 0, else 1.\n",
    "    not_cld_shdw = img.select('cloudmask').Not()\n",
    "\n",
    "    # Subset reflectance bands and update their masks, return the result.\n",
    "    return img.select('B.*').updateMask(not_cld_shdw)"
   ]
  },
  {
   "cell_type": "markdown",
   "metadata": {},
   "source": [
    "### Add and Apply cloud mask"
   ]
  },
  {
   "cell_type": "code",
   "execution_count": 248,
   "metadata": {},
   "outputs": [],
   "source": [
    "# Layers to display\n",
    "s2_sr_cld_col_eval = get_s2_sr_cld_col(AOI, START_DATE, END_DATE)\n",
    "s2_sr_cld_col_eval_disp = s2_sr_cld_col_eval.map(add_cld_shdw_mask)"
   ]
  },
  {
   "cell_type": "code",
   "execution_count": 249,
   "metadata": {},
   "outputs": [],
   "source": [
    "# Run functions to create masks and new properties\n",
    "s2_sr_cld_col = get_s2_sr_cld_col(AOI, START_DATE, END_DATE)\n",
    "\n",
    "# Object with cloud mask applied\n",
    "s2_sr = (s2_sr_cld_col\n",
    "         .map(add_cld_shdw_mask)\n",
    "         .map(apply_cld_shdw_mask))"
   ]
  },
  {
   "cell_type": "markdown",
   "metadata": {},
   "source": [
    "### Visualize components of advanced cloud mask"
   ]
  },
  {
   "cell_type": "code",
   "execution_count": 219,
   "metadata": {},
   "outputs": [],
   "source": [
    "# Create mosaic from collection\n",
    "img = s2_sr_cld_col_eval_disp.mosaic()\n",
    "\n",
    "# Subset layers and prepare for visualization\n",
    "clouds = img.select('clouds').selfMask()\n",
    "shadows = img.select('shadows').selfMask()\n",
    "dark_pixels = img.select('dark_pixels').selfMask()\n",
    "probability = img.select('probability')\n",
    "cloudmask = img.select('cloudmask').selfMask()\n",
    "cloud_transform = img.select('cloud_transform')"
   ]
  },
  {
   "cell_type": "code",
   "execution_count": 220,
   "metadata": {},
   "outputs": [
    {
     "data": {
      "application/vnd.jupyter.widget-view+json": {
       "model_id": "40e62560cc1244d9a9e85616200fc4c1",
       "version_major": 2,
       "version_minor": 0
      },
      "text/plain": [
       "Map(center=[-3.1359149480703574, -57.53448782693524], controls=(WidgetControl(options=['position', 'transparen…"
      ]
     },
     "metadata": {},
     "output_type": "display_data"
    }
   ],
   "source": [
    "# Create map for visualization\n",
    "Map = geemap.Map()\n",
    "\n",
    "Map.addLayer(img, {'bands': ['B4', 'B3', 'B2'], 'min': 0, 'max': 2500, 'gamma': 1.1}, 'S2 Image')\n",
    "Map.addLayer(clouds, {'palette': 'e056fd'}, 'clouds')\n",
    "Map.addLayer(shadows, {'palette': 'yellow'}, 'shadows')\n",
    "\n",
    "Map.center_object(AOI, zoom=7.5)\n",
    "Map"
   ]
  },
  {
   "cell_type": "markdown",
   "metadata": {},
   "source": [
    "### Create NDRE band"
   ]
  },
  {
   "cell_type": "code",
   "execution_count": 250,
   "metadata": {},
   "outputs": [],
   "source": [
    "# Calculate NDRE\n",
    "def ndre_band(img):\n",
    "    \"\"\"Function to calculate ndre for an image.\"\"\"\n",
    "    ndre = img.normalizedDifference(['B8', 'B5']).rename('NDRE')\n",
    "    return img.addBands(ndre)\n",
    "\n",
    "# Define NDRE palette\n",
    "ndre_palette = ['#d73027', '#f46d43', '#fdae61', '#fee08b', \n",
    "           '#d9ef8b', '#a6d96a', '#66bd63', '#1a9850']"
   ]
  },
  {
   "cell_type": "code",
   "execution_count": 251,
   "metadata": {},
   "outputs": [],
   "source": [
    "# Apply NDRE function and select only the NDRE band for export\n",
    "mskd_col = s2_sr.select('B5', 'B8')\n",
    "calc_ndre_mskd_imgs = mskd_col.map(ndre_band)\n",
    "ndre_mskd_col = calc_ndre_mskd_imgs.select('NDRE')\n",
    "\n",
    "# Make sure band was added and selected\n",
    "#bands = ndre_mskd_col.first().bandNames()\n",
    "#print(bands.getInfo())"
   ]
  },
  {
   "cell_type": "markdown",
   "metadata": {},
   "source": [
    "### Clip NDRE to each polygon from grid"
   ]
  },
  {
   "cell_type": "code",
   "execution_count": 252,
   "metadata": {},
   "outputs": [
    {
     "name": "stdout",
     "output_type": "stream",
     "text": [
      "[<ee.imagecollection.ImageCollection object at 0x7f09f4e409d0>, <ee.imagecollection.ImageCollection object at 0x7f09f4e40a90>, <ee.imagecollection.ImageCollection object at 0x7f09f4e40ad0>, <ee.imagecollection.ImageCollection object at 0x7f09f4e40fd0>, <ee.imagecollection.ImageCollection object at 0x7f09f4e402d0>, <ee.imagecollection.ImageCollection object at 0x7f09f4e40c10>, <ee.imagecollection.ImageCollection object at 0x7f09f4e40dd0>, <ee.imagecollection.ImageCollection object at 0x7f09f5a14d10>, <ee.imagecollection.ImageCollection object at 0x7f09f51e3c50>, <ee.imagecollection.ImageCollection object at 0x7f09f4e40450>, <ee.imagecollection.ImageCollection object at 0x7f09f51e3bd0>, <ee.imagecollection.ImageCollection object at 0x7f09f51e3f50>, <ee.imagecollection.ImageCollection object at 0x7f09f51e3d90>, <ee.imagecollection.ImageCollection object at 0x7f09f51e3a50>, <ee.imagecollection.ImageCollection object at 0x7f09f5a14250>, <ee.imagecollection.ImageCollection object at 0x7f09f4f0f2d0>, <ee.imagecollection.ImageCollection object at 0x7f09f58ec550>, <ee.imagecollection.ImageCollection object at 0x7f09f58ecb90>, <ee.imagecollection.ImageCollection object at 0x7f09f58ecb50>, <ee.imagecollection.ImageCollection object at 0x7f09f58ecf50>, <ee.imagecollection.ImageCollection object at 0x7f09f58ec150>, <ee.imagecollection.ImageCollection object at 0x7f09f4f0f4d0>, <ee.imagecollection.ImageCollection object at 0x7f09f58ec290>, <ee.imagecollection.ImageCollection object at 0x7f09f4f0f310>, <ee.imagecollection.ImageCollection object at 0x7f09f58ec5d0>, <ee.imagecollection.ImageCollection object at 0x7f09f5a67c90>, <ee.imagecollection.ImageCollection object at 0x7f09f4e408d0>, <ee.imagecollection.ImageCollection object at 0x7f09f4e405d0>, <ee.imagecollection.ImageCollection object at 0x7f09f4e40110>, <ee.imagecollection.ImageCollection object at 0x7f09f5832d10>, <ee.imagecollection.ImageCollection object at 0x7f09f5832950>, <ee.imagecollection.ImageCollection object at 0x7f09f51e3dd0>, <ee.imagecollection.ImageCollection object at 0x7f09f5d3c850>, <ee.imagecollection.ImageCollection object at 0x7f09f4f0fdd0>, <ee.imagecollection.ImageCollection object at 0x7f09f4f0f150>, <ee.imagecollection.ImageCollection object at 0x7f09f58ec250>, <ee.imagecollection.ImageCollection object at 0x7f09f58ece10>, <ee.imagecollection.ImageCollection object at 0x7f09f58ec050>, <ee.imagecollection.ImageCollection object at 0x7f09f58ec610>, <ee.imagecollection.ImageCollection object at 0x7f09f5a334d0>, <ee.imagecollection.ImageCollection object at 0x7f09f5a33490>, <ee.imagecollection.ImageCollection object at 0x7f09f5a145d0>, <ee.imagecollection.ImageCollection object at 0x7f09f5a14650>, <ee.imagecollection.ImageCollection object at 0x7f09f5509dd0>, <ee.imagecollection.ImageCollection object at 0x7f09f55e85d0>, <ee.imagecollection.ImageCollection object at 0x7f09f55e8150>, <ee.imagecollection.ImageCollection object at 0x7f09f55e83d0>, <ee.imagecollection.ImageCollection object at 0x7f09f55e8650>, <ee.imagecollection.ImageCollection object at 0x7f09f5ba3790>, <ee.imagecollection.ImageCollection object at 0x7f09f5ba3750>, <ee.imagecollection.ImageCollection object at 0x7f09f5ba3b10>, <ee.imagecollection.ImageCollection object at 0x7f09f5a13090>, <ee.imagecollection.ImageCollection object at 0x7f09f5a13790>, <ee.imagecollection.ImageCollection object at 0x7f09f5d32910>, <ee.imagecollection.ImageCollection object at 0x7f09f58d4290>, <ee.imagecollection.ImageCollection object at 0x7f09f58d4110>, <ee.imagecollection.ImageCollection object at 0x7f09f58d4b50>, <ee.imagecollection.ImageCollection object at 0x7f09f62b5550>, <ee.imagecollection.ImageCollection object at 0x7f09f56287d0>, <ee.imagecollection.ImageCollection object at 0x7f09f5016790>, <ee.imagecollection.ImageCollection object at 0x7f09f5844a10>, <ee.imagecollection.ImageCollection object at 0x7f09f5844690>, <ee.imagecollection.ImageCollection object at 0x7f09f5a33110>, <ee.imagecollection.ImageCollection object at 0x7f09f5a13710>, <ee.imagecollection.ImageCollection object at 0x7f09f5a14550>, <ee.imagecollection.ImageCollection object at 0x7f09f59380d0>, <ee.imagecollection.ImageCollection object at 0x7f09f4e40e10>, <ee.imagecollection.ImageCollection object at 0x7f09f4f0fc90>, <ee.imagecollection.ImageCollection object at 0x7f09f4f0f0d0>, <ee.imagecollection.ImageCollection object at 0x7f09f4f0fc50>, <ee.imagecollection.ImageCollection object at 0x7f09f5434f50>, <ee.imagecollection.ImageCollection object at 0x7f09f50359d0>, <ee.imagecollection.ImageCollection object at 0x7f09f50351d0>, <ee.imagecollection.ImageCollection object at 0x7f09f5035e90>, <ee.imagecollection.ImageCollection object at 0x7f09f5035910>, <ee.imagecollection.ImageCollection object at 0x7f09f58ece90>, <ee.imagecollection.ImageCollection object at 0x7f09f58ec110>, <ee.imagecollection.ImageCollection object at 0x7f09f58eca90>, <ee.imagecollection.ImageCollection object at 0x7f09f55fba50>, <ee.imagecollection.ImageCollection object at 0x7f09f58f0790>, <ee.imagecollection.ImageCollection object at 0x7f09f5509a50>, <ee.imagecollection.ImageCollection object at 0x7f09f5509610>, <ee.imagecollection.ImageCollection object at 0x7f09f54278d0>, <ee.imagecollection.ImageCollection object at 0x7f09f50e6250>, <ee.imagecollection.ImageCollection object at 0x7f09f5c2d9d0>, <ee.imagecollection.ImageCollection object at 0x7f09f5c0c250>, <ee.imagecollection.ImageCollection object at 0x7f09f5829c90>, <ee.imagecollection.ImageCollection object at 0x7f09f50e6050>, <ee.imagecollection.ImageCollection object at 0x7f09f5d08a90>, <ee.imagecollection.ImageCollection object at 0x7f09f50e6f90>, <ee.imagecollection.ImageCollection object at 0x7f09f50e62d0>, <ee.imagecollection.ImageCollection object at 0x7f09f4e03e50>, <ee.imagecollection.ImageCollection object at 0x7f09f4e030d0>, <ee.imagecollection.ImageCollection object at 0x7f09f4e03150>, <ee.imagecollection.ImageCollection object at 0x7f09f4e03b90>, <ee.imagecollection.ImageCollection object at 0x7f09f5608810>, <ee.imagecollection.ImageCollection object at 0x7f09f5d08c90>, <ee.imagecollection.ImageCollection object at 0x7f09f5d08790>, <ee.imagecollection.ImageCollection object at 0x7f09f5d08110>, <ee.imagecollection.ImageCollection object at 0x7f09f58e0d50>]\n",
      "\n",
      "Total squares: 100\n"
     ]
    }
   ],
   "source": [
    "# Clip images in each collection to polygons\n",
    "clipped_cols = []\n",
    "for poly in polys:\n",
    "    ndre_col = ndre_mskd_col\n",
    "    clipped_col = ndre_col.map(lambda image: image.clip(poly))\n",
    "    clipped_cols.append(clipped_col)\n",
    "\n",
    "print(clipped_cols)\n",
    "print(\"\\nTotal squares: \" + str(len(clipped_cols)))"
   ]
  },
  {
   "cell_type": "markdown",
   "metadata": {},
   "source": [
    "### Visualize NDRE of one polygon"
   ]
  },
  {
   "cell_type": "code",
   "execution_count": 239,
   "metadata": {},
   "outputs": [
    {
     "data": {
      "application/vnd.jupyter.widget-view+json": {
       "model_id": "f1a81ca716ea4f56b0fc5da96e206a52",
       "version_major": 2,
       "version_minor": 0
      },
      "text/plain": [
       "Map(center=[-4.2521642924499785, -58.219446679089316], controls=(WidgetControl(options=['position', 'transpare…"
      ]
     },
     "metadata": {},
     "output_type": "display_data"
    }
   ],
   "source": [
    "# Ensure images are clipped properly\n",
    "Map = geemap.Map()\n",
    "\n",
    "#Map.addLayer(clipped_cols[5].median(), {'palette': ndre_palette, 'min':0, 'max':1}, 'img_1')\n",
    "Map.addLayer(polys[19], {}, 'outline_1')\n",
    "Map.addLayer(grid, {}, 'full_grid')\n",
    "Map.center_object(grid, zoom=7)\n",
    "\n",
    "Map"
   ]
  },
  {
   "cell_type": "markdown",
   "metadata": {},
   "source": [
    "### Apply monthly step to data before export"
   ]
  },
  {
   "cell_type": "code",
   "execution_count": 253,
   "metadata": {},
   "outputs": [
    {
     "name": "stdout",
     "output_type": "stream",
     "text": [
      "[<ee.imagecollection.ImageCollection object at 0x7f09f5d0a490>, <ee.imagecollection.ImageCollection object at 0x7f09f586d490>, <ee.imagecollection.ImageCollection object at 0x7f09f59f6290>, <ee.imagecollection.ImageCollection object at 0x7f09f64be950>, <ee.imagecollection.ImageCollection object at 0x7f09f568e490>, <ee.imagecollection.ImageCollection object at 0x7f09f5639690>, <ee.imagecollection.ImageCollection object at 0x7f09f55e8ad0>, <ee.imagecollection.ImageCollection object at 0x7f09f5ccaf50>, <ee.imagecollection.ImageCollection object at 0x7f09f58d4190>, <ee.imagecollection.ImageCollection object at 0x7f09f5844390>, <ee.imagecollection.ImageCollection object at 0x7f09f5c12110>, <ee.imagecollection.ImageCollection object at 0x7f09f5938a50>, <ee.imagecollection.ImageCollection object at 0x7f09f6d31850>, <ee.imagecollection.ImageCollection object at 0x7f09f50adad0>, <ee.imagecollection.ImageCollection object at 0x7f09f5a2a690>, <ee.imagecollection.ImageCollection object at 0x7f09f5a14a50>, <ee.imagecollection.ImageCollection object at 0x7f09f5a14050>, <ee.imagecollection.ImageCollection object at 0x7f09f5ad5750>, <ee.imagecollection.ImageCollection object at 0x7f09f50c5490>, <ee.imagecollection.ImageCollection object at 0x7f09f59fc910>, <ee.imagecollection.ImageCollection object at 0x7f09f54ffb90>, <ee.imagecollection.ImageCollection object at 0x7f09f5ac9750>, <ee.imagecollection.ImageCollection object at 0x7f09f590fcd0>, <ee.imagecollection.ImageCollection object at 0x7f09f5687a90>, <ee.imagecollection.ImageCollection object at 0x7f09f5ad8050>, <ee.imagecollection.ImageCollection object at 0x7f09f5a67350>, <ee.imagecollection.ImageCollection object at 0x7f09f5013c10>, <ee.imagecollection.ImageCollection object at 0x7f09f55e1a90>, <ee.imagecollection.ImageCollection object at 0x7f09f58e30d0>, <ee.imagecollection.ImageCollection object at 0x7f09f5350450>, <ee.imagecollection.ImageCollection object at 0x7f09f51e3ad0>, <ee.imagecollection.ImageCollection object at 0x7f09f62b5610>, <ee.imagecollection.ImageCollection object at 0x7f09f5832150>, <ee.imagecollection.ImageCollection object at 0x7f09f5434490>, <ee.imagecollection.ImageCollection object at 0x7f09f5517f90>, <ee.imagecollection.ImageCollection object at 0x7f09f50c1610>, <ee.imagecollection.ImageCollection object at 0x7f09f50c1e10>, <ee.imagecollection.ImageCollection object at 0x7f09f54e7b90>, <ee.imagecollection.ImageCollection object at 0x7f09f5517050>, <ee.imagecollection.ImageCollection object at 0x7f09f5517210>, <ee.imagecollection.ImageCollection object at 0x7f09f4fead90>, <ee.imagecollection.ImageCollection object at 0x7f09f54e7e50>, <ee.imagecollection.ImageCollection object at 0x7f09f5d4f710>, <ee.imagecollection.ImageCollection object at 0x7f09f55fb250>, <ee.imagecollection.ImageCollection object at 0x7f09f58e0750>, <ee.imagecollection.ImageCollection object at 0x7f09f502b0d0>, <ee.imagecollection.ImageCollection object at 0x7f09f5abb750>, <ee.imagecollection.ImageCollection object at 0x7f09f502b250>, <ee.imagecollection.ImageCollection object at 0x7f09f585eb90>, <ee.imagecollection.ImageCollection object at 0x7f09f5427190>, <ee.imagecollection.ImageCollection object at 0x7f09f585ebd0>, <ee.imagecollection.ImageCollection object at 0x7f09f5427810>, <ee.imagecollection.ImageCollection object at 0x7f09f58f0ad0>, <ee.imagecollection.ImageCollection object at 0x7f09f5434950>, <ee.imagecollection.ImageCollection object at 0x7f09f5434990>, <ee.imagecollection.ImageCollection object at 0x7f09f58f0890>, <ee.imagecollection.ImageCollection object at 0x7f09f58f05d0>, <ee.imagecollection.ImageCollection object at 0x7f09f58ea610>, <ee.imagecollection.ImageCollection object at 0x7f09f58ea690>, <ee.imagecollection.ImageCollection object at 0x7f09f591b750>, <ee.imagecollection.ImageCollection object at 0x7f09f591b950>, <ee.imagecollection.ImageCollection object at 0x7f09f591b710>, <ee.imagecollection.ImageCollection object at 0x7f09f5529210>, <ee.imagecollection.ImageCollection object at 0x7f09f55293d0>, <ee.imagecollection.ImageCollection object at 0x7f09f5524c50>, <ee.imagecollection.ImageCollection object at 0x7f09f5524750>, <ee.imagecollection.ImageCollection object at 0x7f09f5525bd0>, <ee.imagecollection.ImageCollection object at 0x7f09f5525d90>, <ee.imagecollection.ImageCollection object at 0x7f09bffec650>, <ee.imagecollection.ImageCollection object at 0x7f09bffecf50>, <ee.imagecollection.ImageCollection object at 0x7f09bffecad0>, <ee.imagecollection.ImageCollection object at 0x7f09f5087850>, <ee.imagecollection.ImageCollection object at 0x7f09f5087390>, <ee.imagecollection.ImageCollection object at 0x7f09f509bbd0>, <ee.imagecollection.ImageCollection object at 0x7f09f509bd90>, <ee.imagecollection.ImageCollection object at 0x7f09f509bc90>, <ee.imagecollection.ImageCollection object at 0x7f09f506ec50>, <ee.imagecollection.ImageCollection object at 0x7f09f506e990>, <ee.imagecollection.ImageCollection object at 0x7f09f5080a50>, <ee.imagecollection.ImageCollection object at 0x7f09f5080c10>, <ee.imagecollection.ImageCollection object at 0x7f09f5445bd0>, <ee.imagecollection.ImageCollection object at 0x7f09f5445d90>, <ee.imagecollection.ImageCollection object at 0x7f09f5445c90>, <ee.imagecollection.ImageCollection object at 0x7f09f5458c50>, <ee.imagecollection.ImageCollection object at 0x7f09f5458990>, <ee.imagecollection.ImageCollection object at 0x7f09f5426c50>, <ee.imagecollection.ImageCollection object at 0x7f09f5426750>, <ee.imagecollection.ImageCollection object at 0x7f09f5428790>, <ee.imagecollection.ImageCollection object at 0x7f09f5428650>, <ee.imagecollection.ImageCollection object at 0x7f09f5428450>, <ee.imagecollection.ImageCollection object at 0x7f09f4e0f590>, <ee.imagecollection.ImageCollection object at 0x7f09f4e0f4d0>, <ee.imagecollection.ImageCollection object at 0x7f09f4df9c50>, <ee.imagecollection.ImageCollection object at 0x7f09f4df9750>, <ee.imagecollection.ImageCollection object at 0x7f09f4e189d0>, <ee.imagecollection.ImageCollection object at 0x7f09f4e18d10>, <ee.imagecollection.ImageCollection object at 0x7f09f4e18d50>, <ee.imagecollection.ImageCollection object at 0x7f09f4fa04d0>, <ee.imagecollection.ImageCollection object at 0x7f09f4fa08d0>, <ee.imagecollection.ImageCollection object at 0x7f09f4fd3c50>]\n",
      "48\n"
     ]
    }
   ],
   "source": [
    "#Monthly step\n",
    "#https://gis.stackexchange.com/questions/301165/how-to-get-monthly-averages-from-earth-engine-in-the-python-api\n",
    "months = ee.List.sequence(1, 12) #Create a list with nums 1-12\n",
    "years = ee.List.sequence(2017, 2020)\n",
    "\n",
    "all_cols = []\n",
    "for a_col in clipped_cols:\n",
    "    def byYear(y):\n",
    "        def byMonth(m):\n",
    "            return (a_col\n",
    "                    .filter(ee.Filter.calendarRange(y, y, 'year'))\n",
    "                    .filter(ee.Filter.calendarRange(m, m, 'month'))\n",
    "                    .median() # Find median NDRE for a month\n",
    "                    .set('month', m)\n",
    "                    .set('year', y)\n",
    "                   )\n",
    "        return months.map(byMonth)\n",
    "\n",
    "    col = ee.ImageCollection.fromImages(years.map(byYear).flatten())\n",
    "    all_cols.append(col) # Should have 18 collections, each collection with yrs*months images\n",
    "\n",
    "print(all_cols)\n",
    "imgs = all_cols[0].size()\n",
    "print(imgs.getInfo())"
   ]
  },
  {
   "cell_type": "markdown",
   "metadata": {},
   "source": [
    "### Visualize NDRE time series"
   ]
  },
  {
   "cell_type": "code",
   "execution_count": null,
   "metadata": {},
   "outputs": [],
   "source": [
    "import matplotlib.pyplot as plt\n",
    "import numpy as np"
   ]
  },
  {
   "cell_type": "code",
   "execution_count": 78,
   "metadata": {},
   "outputs": [],
   "source": [
    "# Mean\n",
    "def region_mean_Image(img):\n",
    "    # mean over all pixels in the region for the image\n",
    "    return img.set('mean', img.reduceRegion(ee.Reducer.mean(), geometry=polys[0], scale=30)) \n",
    "\n",
    "def region_mean_ImageCollection(ic):\n",
    "    # mean over all pixels in the region, for each image in the ImageCollection\n",
    "    stats = ic.map(region_mean_Image)\n",
    "    stats_list = stats.aggregate_array('mean')\n",
    "    return np.array(stats_list.getInfo())\n",
    "\n",
    "\n",
    "# Median\n",
    "def region_median_Image(img):\n",
    "    # mean over all pixels in the region for the image\n",
    "    return img.set('median', img.reduceRegion(ee.Reducer.median(), geometry=polys[0], scale=30)) \n",
    "\n",
    "def region_median_ImageCollection(ic):\n",
    "    # mean over all pixels in the region, for each image in the ImageCollection\n",
    "    stats = ic.map(region_median_Image)\n",
    "    stats_list = stats.aggregate_array('median')\n",
    "    return np.array(stats_list.getInfo())"
   ]
  },
  {
   "cell_type": "code",
   "execution_count": 79,
   "metadata": {},
   "outputs": [],
   "source": [
    "# Make mean and median lists from collection\n",
    "mean_list = region_mean_ImageCollection(all_cols[0])\n",
    "median_list = region_median_ImageCollection(all_cols[0])"
   ]
  },
  {
   "cell_type": "code",
   "execution_count": 80,
   "metadata": {},
   "outputs": [
    {
     "name": "stdout",
     "output_type": "stream",
     "text": [
      "[{'NDRE': None} {'NDRE': 0.5085920350820852} {'NDRE': None}\n",
      " {'NDRE': 0.5147201538006883} {'NDRE': 0.5240618948915532}\n",
      " {'NDRE': 0.5295861636446336} {'NDRE': 0.4831882339786655}\n",
      " {'NDRE': 0.4030138106331039} {'NDRE': 0.16135064282694245}\n",
      " {'NDRE': 0.43779701640514485} {'NDRE': 0.49420852782386504}\n",
      " {'NDRE': 0.4548466348780428} {'NDRE': 0.47269584853575247}\n",
      " {'NDRE': 0.4845737890747785} {'NDRE': 0.4984437904677746}\n",
      " {'NDRE': 0.48096937385164} {'NDRE': 0.5063980816113018}\n",
      " {'NDRE': 0.5165026988362512} {'NDRE': 0.4668002574363099}\n",
      " {'NDRE': 0.4240826998007215} {'NDRE': 0.3913942756043419}\n",
      " {'NDRE': 0.4501792344025485} {'NDRE': 0.4554230246444239}\n",
      " {'NDRE': 0.47746624546487043} {'NDRE': 0.44831077877334335}\n",
      " {'NDRE': 0.4798110550557742} {'NDRE': 0.5027971204682473}\n",
      " {'NDRE': 0.4986228132509536} {'NDRE': 0.5101063499789151}\n",
      " {'NDRE': 0.5061522144023649} {'NDRE': 0.47314697359635266}\n",
      " {'NDRE': 0.35875000301361376} {'NDRE': 0.3608990734424367}\n",
      " {'NDRE': 0.4490356065158813} {'NDRE': 0.47631409009941006}\n",
      " {'NDRE': 0.4975604212433644} {'NDRE': 0.4809298535306823}\n",
      " {'NDRE': 0.4886623208403458} {'NDRE': 0.4624918588662509}\n",
      " {'NDRE': 0.5129483857484641} {'NDRE': 0.5149545844080894}\n",
      " {'NDRE': 0.5016676419021557} {'NDRE': 0.485827662618978}\n",
      " {'NDRE': 0.39880045030599903} {'NDRE': 0.38065833392350223}\n",
      " {'NDRE': 0.3855247499306209} {'NDRE': 0.4477668647610566}\n",
      " {'NDRE': 0.4913104163565991}]\n"
     ]
    }
   ],
   "source": [
    "print(mean_list)"
   ]
  },
  {
   "cell_type": "code",
   "execution_count": 81,
   "metadata": {},
   "outputs": [],
   "source": [
    "# Make list of values\n",
    "empty = {}\n",
    "def newList(alist):\n",
    "    list_name = []\n",
    "    for value in alist:\n",
    "        if value != empty:\n",
    "            list_name.append(value)\n",
    "        else:\n",
    "            list_name.append({'NDRE': np.nan})\n",
    "    return list_name"
   ]
  },
  {
   "cell_type": "code",
   "execution_count": 82,
   "metadata": {},
   "outputs": [],
   "source": [
    "# Make mean and median value lists\n",
    "mean_ndre = newList(mean_list)\n",
    "median_ndre = newList(median_list)"
   ]
  },
  {
   "cell_type": "code",
   "execution_count": 83,
   "metadata": {},
   "outputs": [
    {
     "name": "stdout",
     "output_type": "stream",
     "text": [
      "[{'NDRE': None}, {'NDRE': 0.5085920350820852}, {'NDRE': None}, {'NDRE': 0.5147201538006883}, {'NDRE': 0.5240618948915532}, {'NDRE': 0.5295861636446336}, {'NDRE': 0.4831882339786655}, {'NDRE': 0.4030138106331039}, {'NDRE': 0.16135064282694245}, {'NDRE': 0.43779701640514485}, {'NDRE': 0.49420852782386504}, {'NDRE': 0.4548466348780428}, {'NDRE': 0.47269584853575247}, {'NDRE': 0.4845737890747785}, {'NDRE': 0.4984437904677746}, {'NDRE': 0.48096937385164}, {'NDRE': 0.5063980816113018}, {'NDRE': 0.5165026988362512}, {'NDRE': 0.4668002574363099}, {'NDRE': 0.4240826998007215}, {'NDRE': 0.3913942756043419}, {'NDRE': 0.4501792344025485}, {'NDRE': 0.4554230246444239}, {'NDRE': 0.47746624546487043}, {'NDRE': 0.44831077877334335}, {'NDRE': 0.4798110550557742}, {'NDRE': 0.5027971204682473}, {'NDRE': 0.4986228132509536}, {'NDRE': 0.5101063499789151}, {'NDRE': 0.5061522144023649}, {'NDRE': 0.47314697359635266}, {'NDRE': 0.35875000301361376}, {'NDRE': 0.3608990734424367}, {'NDRE': 0.4490356065158813}, {'NDRE': 0.47631409009941006}, {'NDRE': 0.4975604212433644}, {'NDRE': 0.4809298535306823}, {'NDRE': 0.4886623208403458}, {'NDRE': 0.4624918588662509}, {'NDRE': 0.5129483857484641}, {'NDRE': 0.5149545844080894}, {'NDRE': 0.5016676419021557}, {'NDRE': 0.485827662618978}, {'NDRE': 0.39880045030599903}, {'NDRE': 0.38065833392350223}, {'NDRE': 0.3855247499306209}, {'NDRE': 0.4477668647610566}, {'NDRE': 0.4913104163565991}]\n"
     ]
    }
   ],
   "source": [
    "print(mean_ndre)"
   ]
  },
  {
   "cell_type": "code",
   "execution_count": 84,
   "metadata": {},
   "outputs": [],
   "source": [
    "def valList(aList):\n",
    "    new_list = []\n",
    "    for d in aList:\n",
    "        for key, val in d.items():\n",
    "            new_list.append(val)\n",
    "    return new_list"
   ]
  },
  {
   "cell_type": "code",
   "execution_count": 85,
   "metadata": {},
   "outputs": [
    {
     "name": "stdout",
     "output_type": "stream",
     "text": [
      "[None 0.5085920350820852 None 0.5147201538006883 0.5240618948915532\n",
      " 0.5295861636446336 0.4831882339786655 0.4030138106331039\n",
      " 0.16135064282694245 0.43779701640514485 0.49420852782386504\n",
      " 0.4548466348780428 0.47269584853575247 0.4845737890747785\n",
      " 0.4984437904677746 0.48096937385164 0.5063980816113018 0.5165026988362512\n",
      " 0.4668002574363099 0.4240826998007215 0.3913942756043419\n",
      " 0.4501792344025485 0.4554230246444239 0.47746624546487043\n",
      " 0.44831077877334335 0.4798110550557742 0.5027971204682473\n",
      " 0.4986228132509536 0.5101063499789151 0.5061522144023649\n",
      " 0.47314697359635266 0.35875000301361376 0.3608990734424367\n",
      " 0.4490356065158813 0.47631409009941006 0.4975604212433644\n",
      " 0.4809298535306823 0.4886623208403458 0.4624918588662509\n",
      " 0.5129483857484641 0.5149545844080894 0.5016676419021557\n",
      " 0.485827662618978 0.39880045030599903 0.38065833392350223\n",
      " 0.3855247499306209 0.4477668647610566 0.4913104163565991]\n"
     ]
    }
   ],
   "source": [
    "a_mean = np.array(valList(mean_ndre))\n",
    "a_median = np.array(valList(median_ndre))\n",
    "print(a_mean)"
   ]
  },
  {
   "cell_type": "code",
   "execution_count": 86,
   "metadata": {},
   "outputs": [
    {
     "name": "stdout",
     "output_type": "stream",
     "text": [
      "[ 0  1  2  3  4  5  6  7  8  9 10 11 12 13 14 15 16 17 18 19 20 21 22 23\n",
      " 24 25 26 27 28 29 30 31 32 33 34 35 36 37 38 39 40 41 42 43 44 45 46 47]\n"
     ]
    }
   ],
   "source": [
    "# Create month list\n",
    "months = np.array(range(len(a_mean)))\n",
    "print(months)"
   ]
  },
  {
   "cell_type": "code",
   "execution_count": 87,
   "metadata": {},
   "outputs": [
    {
     "data": {
      "image/png": "[encoded data removed]",
      "text/plain": [
       "<Figure size 432x288 with 1 Axes>"
      ]
     },
     "metadata": {
      "needs_background": "light"
     },
     "output_type": "display_data"
    }
   ],
   "source": [
    "# Make plot\n",
    "x = months\n",
    "y = a_mean\n",
    "m = a_median\n",
    "\n",
    "#ticks1 = list(range(0,48))\n",
    "plt.axes([0, 0, 2, 1])\n",
    "plt.grid(b = True, which = 'major', axis = 'x')\n",
    "plt.title('2017-2020 mean and median NDRE')\n",
    "#plt.fill_between(x, plus_error, minus_error, color = \"grey\", alpha = .5, label = \"Standard Deviation\")\n",
    "\n",
    "mean = plt.plot(x,y, color = \"black\", label = \"Mean\")\n",
    "median = plt.plot(x,m, color = \"red\", label = \"Median\")\n",
    "\n",
    "plt.legend(loc = \"lower right\")\n",
    "#plt.xticks(ticks = ticks1)\n",
    "#plt.xticks(ticks = [0, 6, 12, 18, 24, 30, 36, 42, 47], labels = ['2016', 'Jul', '2017', 'Jul', '2018', 'Jul', '2019', 'Jul', 'Dec'])\n",
    "plt.show()"
   ]
  },
  {
   "cell_type": "markdown",
   "metadata": {},
   "source": [
    "### Export monthly images from each collection"
   ]
  },
  {
   "cell_type": "code",
   "execution_count": 254,
   "metadata": {},
   "outputs": [
    {
     "name": "stdout",
     "output_type": "stream",
     "text": [
      "48\n"
     ]
    }
   ],
   "source": [
    "size = all_cols[0].size()\n",
    "print(size.getInfo())"
   ]
  },
  {
   "cell_type": "code",
   "execution_count": 255,
   "metadata": {},
   "outputs": [
    {
     "name": "stdout",
     "output_type": "stream",
     "text": [
      "['amazonia_0', 'amazonia_1', 'amazonia_2', 'amazonia_3', 'amazonia_4', 'amazonia_5', 'amazonia_6', 'amazonia_7', 'amazonia_8', 'amazonia_9', 'amazonia_10', 'amazonia_11', 'amazonia_12', 'amazonia_13', 'amazonia_14', 'amazonia_15', 'amazonia_16', 'amazonia_17', 'amazonia_18', 'amazonia_19', 'amazonia_20', 'amazonia_21', 'amazonia_22', 'amazonia_23', 'amazonia_24', 'amazonia_25', 'amazonia_26', 'amazonia_27', 'amazonia_28', 'amazonia_29', 'amazonia_30', 'amazonia_31', 'amazonia_32', 'amazonia_33', 'amazonia_34', 'amazonia_35', 'amazonia_36', 'amazonia_37', 'amazonia_38', 'amazonia_39', 'amazonia_40', 'amazonia_41', 'amazonia_42', 'amazonia_43', 'amazonia_44', 'amazonia_45', 'amazonia_46', 'amazonia_47', 'amazonia_48', 'amazonia_49', 'amazonia_50', 'amazonia_51', 'amazonia_52', 'amazonia_53', 'amazonia_54', 'amazonia_55', 'amazonia_56', 'amazonia_57', 'amazonia_58', 'amazonia_59', 'amazonia_60', 'amazonia_61', 'amazonia_62', 'amazonia_63', 'amazonia_64', 'amazonia_65', 'amazonia_66', 'amazonia_67', 'amazonia_68', 'amazonia_69', 'amazonia_70', 'amazonia_71', 'amazonia_72', 'amazonia_73', 'amazonia_74', 'amazonia_75', 'amazonia_76', 'amazonia_77', 'amazonia_78', 'amazonia_79', 'amazonia_80', 'amazonia_81', 'amazonia_82', 'amazonia_83', 'amazonia_84', 'amazonia_85', 'amazonia_86', 'amazonia_87', 'amazonia_88', 'amazonia_89', 'amazonia_90', 'amazonia_91', 'amazonia_92', 'amazonia_93', 'amazonia_94', 'amazonia_95', 'amazonia_96', 'amazonia_97', 'amazonia_98', 'amazonia_99']\n"
     ]
    }
   ],
   "source": [
    "# Make a list of file names\n",
    "tiles = []\n",
    "sitename = 'amazonia'\n",
    "for num in range(len(all_cols)):\n",
    "    index = str(sitename + '_{}'.format(num))\n",
    "    tiles.append(index)\n",
    "\n",
    "print(tiles)"
   ]
  },
  {
   "cell_type": "code",
   "execution_count": 256,
   "metadata": {},
   "outputs": [],
   "source": [
    "import os\n",
    "import time"
   ]
  },
  {
   "cell_type": "code",
   "execution_count": 258,
   "metadata": {},
   "outputs": [
    {
     "name": "stdout",
     "output_type": "stream",
     "text": [
      "Exporting Image 0\n",
      "Generating URL ...\n",
      "Downloading data from https://earthengine.googleapis.com/v1alpha/projects/earthengine-legacy/thumbnails/77666fc569141f999ecea839a3061ca1-799def757178953fe73d2c73a23dc715:getPixels\n",
      "Please wait ...\n",
      "Data downloaded to /data/6ru/amazonia_0/0.tif\n",
      "Time elapsed: 00:01:15.64\n",
      "Exporting Image 1\n",
      "Generating URL ...\n"
     ]
    },
    {
     "ename": "KeyboardInterrupt",
     "evalue": "",
     "output_type": "error",
     "traceback": [
      "\u001b[0;31m---------------------------------------------------------------------------\u001b[0m",
      "\u001b[0;31mKeyboardInterrupt\u001b[0m                         Traceback (most recent call last)",
      "\u001b[0;32m<ipython-input-258-a1c6ad6a2525>\u001b[0m in \u001b[0;36m<module>\u001b[0;34m\u001b[0m\n\u001b[1;32m     21\u001b[0m                                        \u001b[0mscale\u001b[0m\u001b[0;34m=\u001b[0m\u001b[0;36m20\u001b[0m\u001b[0;34m,\u001b[0m\u001b[0;34m\u001b[0m\u001b[0;34m\u001b[0m\u001b[0m\n\u001b[1;32m     22\u001b[0m                                        \u001b[0mregion\u001b[0m\u001b[0;34m=\u001b[0m\u001b[0mpoly\u001b[0m\u001b[0;34m,\u001b[0m\u001b[0;34m\u001b[0m\u001b[0;34m\u001b[0m\u001b[0m\n\u001b[0;32m---> 23\u001b[0;31m                                        file_per_band=False)\n\u001b[0m\u001b[1;32m     24\u001b[0m                 \u001b[0mtoc\u001b[0m \u001b[0;34m=\u001b[0m \u001b[0mtime\u001b[0m\u001b[0;34m.\u001b[0m\u001b[0mtime\u001b[0m\u001b[0;34m(\u001b[0m\u001b[0;34m)\u001b[0m\u001b[0;34m\u001b[0m\u001b[0;34m\u001b[0m\u001b[0m\n\u001b[1;32m     25\u001b[0m                 \u001b[0mhours\u001b[0m\u001b[0;34m,\u001b[0m \u001b[0mrem\u001b[0m \u001b[0;34m=\u001b[0m \u001b[0mdivmod\u001b[0m\u001b[0;34m(\u001b[0m\u001b[0mtoc\u001b[0m\u001b[0;34m-\u001b[0m\u001b[0mtic\u001b[0m\u001b[0;34m,\u001b[0m \u001b[0;36m3600\u001b[0m\u001b[0;34m)\u001b[0m\u001b[0;34m\u001b[0m\u001b[0;34m\u001b[0m\u001b[0m\n",
      "\u001b[0;32m~/anaconda3/envs/gee/lib/python3.7/site-packages/geemap/common.py\u001b[0m in \u001b[0;36mee_export_image\u001b[0;34m(ee_object, filename, scale, crs, region, file_per_band)\u001b[0m\n\u001b[1;32m   1466\u001b[0m             \u001b[0mparams\u001b[0m\u001b[0;34m[\u001b[0m\u001b[0;34m\"crs\"\u001b[0m\u001b[0;34m]\u001b[0m \u001b[0;34m=\u001b[0m \u001b[0mcrs\u001b[0m\u001b[0;34m\u001b[0m\u001b[0;34m\u001b[0m\u001b[0m\n\u001b[1;32m   1467\u001b[0m \u001b[0;34m\u001b[0m\u001b[0m\n\u001b[0;32m-> 1468\u001b[0;31m         \u001b[0murl\u001b[0m \u001b[0;34m=\u001b[0m \u001b[0mee_object\u001b[0m\u001b[0;34m.\u001b[0m\u001b[0mgetDownloadURL\u001b[0m\u001b[0;34m(\u001b[0m\u001b[0mparams\u001b[0m\u001b[0;34m)\u001b[0m\u001b[0;34m\u001b[0m\u001b[0;34m\u001b[0m\u001b[0m\n\u001b[0m\u001b[1;32m   1469\u001b[0m         \u001b[0mprint\u001b[0m\u001b[0;34m(\u001b[0m\u001b[0;34m\"Downloading data from {}\\nPlease wait ...\"\u001b[0m\u001b[0;34m.\u001b[0m\u001b[0mformat\u001b[0m\u001b[0;34m(\u001b[0m\u001b[0murl\u001b[0m\u001b[0;34m)\u001b[0m\u001b[0;34m)\u001b[0m\u001b[0;34m\u001b[0m\u001b[0;34m\u001b[0m\u001b[0m\n\u001b[1;32m   1470\u001b[0m         \u001b[0mr\u001b[0m \u001b[0;34m=\u001b[0m \u001b[0mrequests\u001b[0m\u001b[0;34m.\u001b[0m\u001b[0mget\u001b[0m\u001b[0;34m(\u001b[0m\u001b[0murl\u001b[0m\u001b[0;34m,\u001b[0m \u001b[0mstream\u001b[0m\u001b[0;34m=\u001b[0m\u001b[0;32mTrue\u001b[0m\u001b[0;34m)\u001b[0m\u001b[0;34m\u001b[0m\u001b[0;34m\u001b[0m\u001b[0m\n",
      "\u001b[0;32m~/anaconda3/envs/gee/lib/python3.7/site-packages/ee/image.py\u001b[0m in \u001b[0;36mgetDownloadURL\u001b[0;34m(self, params)\u001b[0m\n\u001b[1;32m    450\u001b[0m     \u001b[0mrequest\u001b[0m \u001b[0;34m=\u001b[0m \u001b[0mparams\u001b[0m \u001b[0;32mor\u001b[0m \u001b[0;34m{\u001b[0m\u001b[0;34m}\u001b[0m\u001b[0;34m\u001b[0m\u001b[0;34m\u001b[0m\u001b[0m\n\u001b[1;32m    451\u001b[0m     \u001b[0mrequest\u001b[0m\u001b[0;34m[\u001b[0m\u001b[0;34m'image'\u001b[0m\u001b[0;34m]\u001b[0m \u001b[0;34m=\u001b[0m \u001b[0mself\u001b[0m\u001b[0;34m\u001b[0m\u001b[0;34m\u001b[0m\u001b[0m\n\u001b[0;32m--> 452\u001b[0;31m     \u001b[0;32mreturn\u001b[0m \u001b[0mdata\u001b[0m\u001b[0;34m.\u001b[0m\u001b[0mmakeDownloadUrl\u001b[0m\u001b[0;34m(\u001b[0m\u001b[0mdata\u001b[0m\u001b[0;34m.\u001b[0m\u001b[0mgetDownloadId\u001b[0m\u001b[0;34m(\u001b[0m\u001b[0mrequest\u001b[0m\u001b[0;34m)\u001b[0m\u001b[0;34m)\u001b[0m\u001b[0;34m\u001b[0m\u001b[0;34m\u001b[0m\u001b[0m\n\u001b[0m\u001b[1;32m    453\u001b[0m \u001b[0;34m\u001b[0m\u001b[0m\n\u001b[1;32m    454\u001b[0m   \u001b[0;32mdef\u001b[0m \u001b[0mgetThumbId\u001b[0m\u001b[0;34m(\u001b[0m\u001b[0mself\u001b[0m\u001b[0;34m,\u001b[0m \u001b[0mparams\u001b[0m\u001b[0;34m)\u001b[0m\u001b[0;34m:\u001b[0m\u001b[0;34m\u001b[0m\u001b[0;34m\u001b[0m\u001b[0m\n",
      "\u001b[0;32m~/anaconda3/envs/gee/lib/python3.7/site-packages/ee/data.py\u001b[0m in \u001b[0;36mgetDownloadId\u001b[0;34m(params)\u001b[0m\n\u001b[1;32m    892\u001b[0m   result = _execute_cloud_call(\n\u001b[1;32m    893\u001b[0m       _get_cloud_api_resource().projects().thumbnails().create(\n\u001b[0;32m--> 894\u001b[0;31m           parent=_get_projects_path(), fields='name', body=request))\n\u001b[0m\u001b[1;32m    895\u001b[0m   \u001b[0;32mreturn\u001b[0m \u001b[0;34m{\u001b[0m\u001b[0;34m'docid'\u001b[0m\u001b[0;34m:\u001b[0m \u001b[0mresult\u001b[0m\u001b[0;34m[\u001b[0m\u001b[0;34m'name'\u001b[0m\u001b[0;34m]\u001b[0m\u001b[0;34m,\u001b[0m \u001b[0;34m'token'\u001b[0m\u001b[0;34m:\u001b[0m \u001b[0;34m''\u001b[0m\u001b[0;34m}\u001b[0m\u001b[0;34m\u001b[0m\u001b[0;34m\u001b[0m\u001b[0m\n\u001b[1;32m    896\u001b[0m \u001b[0;34m\u001b[0m\u001b[0m\n",
      "\u001b[0;32m~/anaconda3/envs/gee/lib/python3.7/site-packages/ee/data.py\u001b[0m in \u001b[0;36m_execute_cloud_call\u001b[0;34m(call, num_retries)\u001b[0m\n\u001b[1;32m    332\u001b[0m   \"\"\"\n\u001b[1;32m    333\u001b[0m   \u001b[0;32mtry\u001b[0m\u001b[0;34m:\u001b[0m\u001b[0;34m\u001b[0m\u001b[0;34m\u001b[0m\u001b[0m\n\u001b[0;32m--> 334\u001b[0;31m     \u001b[0;32mreturn\u001b[0m \u001b[0mcall\u001b[0m\u001b[0;34m.\u001b[0m\u001b[0mexecute\u001b[0m\u001b[0;34m(\u001b[0m\u001b[0mnum_retries\u001b[0m\u001b[0;34m=\u001b[0m\u001b[0mnum_retries\u001b[0m\u001b[0;34m)\u001b[0m\u001b[0;34m\u001b[0m\u001b[0;34m\u001b[0m\u001b[0m\n\u001b[0m\u001b[1;32m    335\u001b[0m   \u001b[0;32mexcept\u001b[0m \u001b[0mgoogleapiclient\u001b[0m\u001b[0;34m.\u001b[0m\u001b[0merrors\u001b[0m\u001b[0;34m.\u001b[0m\u001b[0mHttpError\u001b[0m \u001b[0;32mas\u001b[0m \u001b[0me\u001b[0m\u001b[0;34m:\u001b[0m\u001b[0;34m\u001b[0m\u001b[0;34m\u001b[0m\u001b[0m\n\u001b[1;32m    336\u001b[0m     \u001b[0;32mraise\u001b[0m \u001b[0m_translate_cloud_exception\u001b[0m\u001b[0;34m(\u001b[0m\u001b[0me\u001b[0m\u001b[0;34m)\u001b[0m\u001b[0;34m\u001b[0m\u001b[0;34m\u001b[0m\u001b[0m\n",
      "\u001b[0;32m~/anaconda3/envs/gee/lib/python3.7/site-packages/googleapiclient/_helpers.py\u001b[0m in \u001b[0;36mpositional_wrapper\u001b[0;34m(*args, **kwargs)\u001b[0m\n\u001b[1;32m    132\u001b[0m                 \u001b[0;32melif\u001b[0m \u001b[0mpositional_parameters_enforcement\u001b[0m \u001b[0;34m==\u001b[0m \u001b[0mPOSITIONAL_WARNING\u001b[0m\u001b[0;34m:\u001b[0m\u001b[0;34m\u001b[0m\u001b[0;34m\u001b[0m\u001b[0m\n\u001b[1;32m    133\u001b[0m                     \u001b[0mlogger\u001b[0m\u001b[0;34m.\u001b[0m\u001b[0mwarning\u001b[0m\u001b[0;34m(\u001b[0m\u001b[0mmessage\u001b[0m\u001b[0;34m)\u001b[0m\u001b[0;34m\u001b[0m\u001b[0;34m\u001b[0m\u001b[0m\n\u001b[0;32m--> 134\u001b[0;31m             \u001b[0;32mreturn\u001b[0m \u001b[0mwrapped\u001b[0m\u001b[0;34m(\u001b[0m\u001b[0;34m*\u001b[0m\u001b[0margs\u001b[0m\u001b[0;34m,\u001b[0m \u001b[0;34m**\u001b[0m\u001b[0mkwargs\u001b[0m\u001b[0;34m)\u001b[0m\u001b[0;34m\u001b[0m\u001b[0;34m\u001b[0m\u001b[0m\n\u001b[0m\u001b[1;32m    135\u001b[0m \u001b[0;34m\u001b[0m\u001b[0m\n\u001b[1;32m    136\u001b[0m         \u001b[0;32mreturn\u001b[0m \u001b[0mpositional_wrapper\u001b[0m\u001b[0;34m\u001b[0m\u001b[0;34m\u001b[0m\u001b[0m\n",
      "\u001b[0;32m~/anaconda3/envs/gee/lib/python3.7/site-packages/googleapiclient/http.py\u001b[0m in \u001b[0;36mexecute\u001b[0;34m(self, http, num_retries)\u001b[0m\n\u001b[1;32m    907\u001b[0m             \u001b[0mmethod\u001b[0m\u001b[0;34m=\u001b[0m\u001b[0mstr\u001b[0m\u001b[0;34m(\u001b[0m\u001b[0mself\u001b[0m\u001b[0;34m.\u001b[0m\u001b[0mmethod\u001b[0m\u001b[0;34m)\u001b[0m\u001b[0;34m,\u001b[0m\u001b[0;34m\u001b[0m\u001b[0;34m\u001b[0m\u001b[0m\n\u001b[1;32m    908\u001b[0m             \u001b[0mbody\u001b[0m\u001b[0;34m=\u001b[0m\u001b[0mself\u001b[0m\u001b[0;34m.\u001b[0m\u001b[0mbody\u001b[0m\u001b[0;34m,\u001b[0m\u001b[0;34m\u001b[0m\u001b[0;34m\u001b[0m\u001b[0m\n\u001b[0;32m--> 909\u001b[0;31m             \u001b[0mheaders\u001b[0m\u001b[0;34m=\u001b[0m\u001b[0mself\u001b[0m\u001b[0;34m.\u001b[0m\u001b[0mheaders\u001b[0m\u001b[0;34m,\u001b[0m\u001b[0;34m\u001b[0m\u001b[0;34m\u001b[0m\u001b[0m\n\u001b[0m\u001b[1;32m    910\u001b[0m         )\n\u001b[1;32m    911\u001b[0m \u001b[0;34m\u001b[0m\u001b[0m\n",
      "\u001b[0;32m~/anaconda3/envs/gee/lib/python3.7/site-packages/googleapiclient/http.py\u001b[0m in \u001b[0;36m_retry_request\u001b[0;34m(http, num_retries, req_type, sleep, rand, uri, method, *args, **kwargs)\u001b[0m\n\u001b[1;32m    175\u001b[0m         \u001b[0;32mtry\u001b[0m\u001b[0;34m:\u001b[0m\u001b[0;34m\u001b[0m\u001b[0;34m\u001b[0m\u001b[0m\n\u001b[1;32m    176\u001b[0m             \u001b[0mexception\u001b[0m \u001b[0;34m=\u001b[0m \u001b[0;32mNone\u001b[0m\u001b[0;34m\u001b[0m\u001b[0;34m\u001b[0m\u001b[0m\n\u001b[0;32m--> 177\u001b[0;31m             \u001b[0mresp\u001b[0m\u001b[0;34m,\u001b[0m \u001b[0mcontent\u001b[0m \u001b[0;34m=\u001b[0m \u001b[0mhttp\u001b[0m\u001b[0;34m.\u001b[0m\u001b[0mrequest\u001b[0m\u001b[0;34m(\u001b[0m\u001b[0muri\u001b[0m\u001b[0;34m,\u001b[0m \u001b[0mmethod\u001b[0m\u001b[0;34m,\u001b[0m \u001b[0;34m*\u001b[0m\u001b[0margs\u001b[0m\u001b[0;34m,\u001b[0m \u001b[0;34m**\u001b[0m\u001b[0mkwargs\u001b[0m\u001b[0;34m)\u001b[0m\u001b[0;34m\u001b[0m\u001b[0;34m\u001b[0m\u001b[0m\n\u001b[0m\u001b[1;32m    178\u001b[0m         \u001b[0;31m# Retry on SSL errors and socket timeout errors.\u001b[0m\u001b[0;34m\u001b[0m\u001b[0;34m\u001b[0m\u001b[0;34m\u001b[0m\u001b[0m\n\u001b[1;32m    179\u001b[0m         \u001b[0;32mexcept\u001b[0m \u001b[0m_ssl_SSLError\u001b[0m \u001b[0;32mas\u001b[0m \u001b[0mssl_error\u001b[0m\u001b[0;34m:\u001b[0m\u001b[0;34m\u001b[0m\u001b[0;34m\u001b[0m\u001b[0m\n",
      "\u001b[0;32m~/anaconda3/envs/gee/lib/python3.7/site-packages/google_auth_httplib2.py\u001b[0m in \u001b[0;36mrequest\u001b[0;34m(self, uri, method, body, headers, **kwargs)\u001b[0m\n\u001b[1;32m    199\u001b[0m         \u001b[0;31m# Make the request.\u001b[0m\u001b[0;34m\u001b[0m\u001b[0;34m\u001b[0m\u001b[0;34m\u001b[0m\u001b[0m\n\u001b[1;32m    200\u001b[0m         response, content = self.http.request(\n\u001b[0;32m--> 201\u001b[0;31m             uri, method, body=body, headers=request_headers, **kwargs)\n\u001b[0m\u001b[1;32m    202\u001b[0m \u001b[0;34m\u001b[0m\u001b[0m\n\u001b[1;32m    203\u001b[0m         \u001b[0;31m# If the response indicated that the credentials needed to be\u001b[0m\u001b[0;34m\u001b[0m\u001b[0;34m\u001b[0m\u001b[0;34m\u001b[0m\u001b[0m\n",
      "\u001b[0;32m~/anaconda3/envs/gee/lib/python3.7/site-packages/httplib2/__init__.py\u001b[0m in \u001b[0;36mrequest\u001b[0;34m(self, uri, method, body, headers, redirections, connection_type)\u001b[0m\n\u001b[1;32m   1992\u001b[0m                         \u001b[0mheaders\u001b[0m\u001b[0;34m,\u001b[0m\u001b[0;34m\u001b[0m\u001b[0;34m\u001b[0m\u001b[0m\n\u001b[1;32m   1993\u001b[0m                         \u001b[0mredirections\u001b[0m\u001b[0;34m,\u001b[0m\u001b[0;34m\u001b[0m\u001b[0;34m\u001b[0m\u001b[0m\n\u001b[0;32m-> 1994\u001b[0;31m                         \u001b[0mcachekey\u001b[0m\u001b[0;34m,\u001b[0m\u001b[0;34m\u001b[0m\u001b[0;34m\u001b[0m\u001b[0m\n\u001b[0m\u001b[1;32m   1995\u001b[0m                     )\n\u001b[1;32m   1996\u001b[0m         \u001b[0;32mexcept\u001b[0m \u001b[0mException\u001b[0m \u001b[0;32mas\u001b[0m \u001b[0me\u001b[0m\u001b[0;34m:\u001b[0m\u001b[0;34m\u001b[0m\u001b[0;34m\u001b[0m\u001b[0m\n",
      "\u001b[0;32m~/anaconda3/envs/gee/lib/python3.7/site-packages/httplib2/__init__.py\u001b[0m in \u001b[0;36m_request\u001b[0;34m(self, conn, host, absolute_uri, request_uri, method, body, headers, redirections, cachekey)\u001b[0m\n\u001b[1;32m   1649\u001b[0m \u001b[0;34m\u001b[0m\u001b[0m\n\u001b[1;32m   1650\u001b[0m         (response, content) = self._conn_request(\n\u001b[0;32m-> 1651\u001b[0;31m             \u001b[0mconn\u001b[0m\u001b[0;34m,\u001b[0m \u001b[0mrequest_uri\u001b[0m\u001b[0;34m,\u001b[0m \u001b[0mmethod\u001b[0m\u001b[0;34m,\u001b[0m \u001b[0mbody\u001b[0m\u001b[0;34m,\u001b[0m \u001b[0mheaders\u001b[0m\u001b[0;34m\u001b[0m\u001b[0;34m\u001b[0m\u001b[0m\n\u001b[0m\u001b[1;32m   1652\u001b[0m         )\n\u001b[1;32m   1653\u001b[0m \u001b[0;34m\u001b[0m\u001b[0m\n",
      "\u001b[0;32m~/anaconda3/envs/gee/lib/python3.7/site-packages/httplib2shim/__init__.py\u001b[0m in \u001b[0;36m_conn_request\u001b[0;34m(self, conn, request_uri, method, body, headers)\u001b[0m\n\u001b[1;32m    146\u001b[0m                 \u001b[0mretries\u001b[0m\u001b[0;34m=\u001b[0m\u001b[0murllib3\u001b[0m\u001b[0;34m.\u001b[0m\u001b[0mRetry\u001b[0m\u001b[0;34m(\u001b[0m\u001b[0mtotal\u001b[0m\u001b[0;34m=\u001b[0m\u001b[0;32mFalse\u001b[0m\u001b[0;34m,\u001b[0m \u001b[0mredirect\u001b[0m\u001b[0;34m=\u001b[0m\u001b[0;36m0\u001b[0m\u001b[0;34m)\u001b[0m\u001b[0;34m,\u001b[0m\u001b[0;34m\u001b[0m\u001b[0;34m\u001b[0m\u001b[0m\n\u001b[1;32m    147\u001b[0m                 \u001b[0mtimeout\u001b[0m\u001b[0;34m=\u001b[0m\u001b[0murllib3\u001b[0m\u001b[0;34m.\u001b[0m\u001b[0mTimeout\u001b[0m\u001b[0;34m(\u001b[0m\u001b[0mtotal\u001b[0m\u001b[0;34m=\u001b[0m\u001b[0mself\u001b[0m\u001b[0;34m.\u001b[0m\u001b[0mtimeout\u001b[0m\u001b[0;34m)\u001b[0m\u001b[0;34m,\u001b[0m\u001b[0;34m\u001b[0m\u001b[0;34m\u001b[0m\u001b[0m\n\u001b[0;32m--> 148\u001b[0;31m                 decode_content=decode)\n\u001b[0m\u001b[1;32m    149\u001b[0m \u001b[0;34m\u001b[0m\u001b[0m\n\u001b[1;32m    150\u001b[0m             \u001b[0mresponse\u001b[0m \u001b[0;34m=\u001b[0m \u001b[0m_map_response\u001b[0m\u001b[0;34m(\u001b[0m\u001b[0murllib3_response\u001b[0m\u001b[0;34m,\u001b[0m \u001b[0mdecode\u001b[0m\u001b[0;34m=\u001b[0m\u001b[0mdecode\u001b[0m\u001b[0;34m)\u001b[0m\u001b[0;34m\u001b[0m\u001b[0;34m\u001b[0m\u001b[0m\n",
      "\u001b[0;32m~/anaconda3/envs/gee/lib/python3.7/site-packages/urllib3/request.py\u001b[0m in \u001b[0;36mrequest\u001b[0;34m(self, method, url, fields, headers, **urlopen_kw)\u001b[0m\n\u001b[1;32m     77\u001b[0m         \u001b[0;32melse\u001b[0m\u001b[0;34m:\u001b[0m\u001b[0;34m\u001b[0m\u001b[0;34m\u001b[0m\u001b[0m\n\u001b[1;32m     78\u001b[0m             return self.request_encode_body(\n\u001b[0;32m---> 79\u001b[0;31m                 \u001b[0mmethod\u001b[0m\u001b[0;34m,\u001b[0m \u001b[0murl\u001b[0m\u001b[0;34m,\u001b[0m \u001b[0mfields\u001b[0m\u001b[0;34m=\u001b[0m\u001b[0mfields\u001b[0m\u001b[0;34m,\u001b[0m \u001b[0mheaders\u001b[0m\u001b[0;34m=\u001b[0m\u001b[0mheaders\u001b[0m\u001b[0;34m,\u001b[0m \u001b[0;34m**\u001b[0m\u001b[0murlopen_kw\u001b[0m\u001b[0;34m\u001b[0m\u001b[0;34m\u001b[0m\u001b[0m\n\u001b[0m\u001b[1;32m     80\u001b[0m             )\n\u001b[1;32m     81\u001b[0m \u001b[0;34m\u001b[0m\u001b[0m\n",
      "\u001b[0;32m~/anaconda3/envs/gee/lib/python3.7/site-packages/urllib3/request.py\u001b[0m in \u001b[0;36mrequest_encode_body\u001b[0;34m(self, method, url, fields, headers, encode_multipart, multipart_boundary, **urlopen_kw)\u001b[0m\n\u001b[1;32m    168\u001b[0m         \u001b[0mextra_kw\u001b[0m\u001b[0;34m.\u001b[0m\u001b[0mupdate\u001b[0m\u001b[0;34m(\u001b[0m\u001b[0murlopen_kw\u001b[0m\u001b[0;34m)\u001b[0m\u001b[0;34m\u001b[0m\u001b[0;34m\u001b[0m\u001b[0m\n\u001b[1;32m    169\u001b[0m \u001b[0;34m\u001b[0m\u001b[0m\n\u001b[0;32m--> 170\u001b[0;31m         \u001b[0;32mreturn\u001b[0m \u001b[0mself\u001b[0m\u001b[0;34m.\u001b[0m\u001b[0murlopen\u001b[0m\u001b[0;34m(\u001b[0m\u001b[0mmethod\u001b[0m\u001b[0;34m,\u001b[0m \u001b[0murl\u001b[0m\u001b[0;34m,\u001b[0m \u001b[0;34m**\u001b[0m\u001b[0mextra_kw\u001b[0m\u001b[0;34m)\u001b[0m\u001b[0;34m\u001b[0m\u001b[0;34m\u001b[0m\u001b[0m\n\u001b[0m",
      "\u001b[0;32m~/anaconda3/envs/gee/lib/python3.7/site-packages/urllib3/poolmanager.py\u001b[0m in \u001b[0;36murlopen\u001b[0;34m(self, method, url, redirect, **kw)\u001b[0m\n\u001b[1;32m    373\u001b[0m             \u001b[0mresponse\u001b[0m \u001b[0;34m=\u001b[0m \u001b[0mconn\u001b[0m\u001b[0;34m.\u001b[0m\u001b[0murlopen\u001b[0m\u001b[0;34m(\u001b[0m\u001b[0mmethod\u001b[0m\u001b[0;34m,\u001b[0m \u001b[0murl\u001b[0m\u001b[0;34m,\u001b[0m \u001b[0;34m**\u001b[0m\u001b[0mkw\u001b[0m\u001b[0;34m)\u001b[0m\u001b[0;34m\u001b[0m\u001b[0;34m\u001b[0m\u001b[0m\n\u001b[1;32m    374\u001b[0m         \u001b[0;32melse\u001b[0m\u001b[0;34m:\u001b[0m\u001b[0;34m\u001b[0m\u001b[0;34m\u001b[0m\u001b[0m\n\u001b[0;32m--> 375\u001b[0;31m             \u001b[0mresponse\u001b[0m \u001b[0;34m=\u001b[0m \u001b[0mconn\u001b[0m\u001b[0;34m.\u001b[0m\u001b[0murlopen\u001b[0m\u001b[0;34m(\u001b[0m\u001b[0mmethod\u001b[0m\u001b[0;34m,\u001b[0m \u001b[0mu\u001b[0m\u001b[0;34m.\u001b[0m\u001b[0mrequest_uri\u001b[0m\u001b[0;34m,\u001b[0m \u001b[0;34m**\u001b[0m\u001b[0mkw\u001b[0m\u001b[0;34m)\u001b[0m\u001b[0;34m\u001b[0m\u001b[0;34m\u001b[0m\u001b[0m\n\u001b[0m\u001b[1;32m    376\u001b[0m \u001b[0;34m\u001b[0m\u001b[0m\n\u001b[1;32m    377\u001b[0m         \u001b[0mredirect_location\u001b[0m \u001b[0;34m=\u001b[0m \u001b[0mredirect\u001b[0m \u001b[0;32mand\u001b[0m \u001b[0mresponse\u001b[0m\u001b[0;34m.\u001b[0m\u001b[0mget_redirect_location\u001b[0m\u001b[0;34m(\u001b[0m\u001b[0;34m)\u001b[0m\u001b[0;34m\u001b[0m\u001b[0;34m\u001b[0m\u001b[0m\n",
      "\u001b[0;32m~/anaconda3/envs/gee/lib/python3.7/site-packages/urllib3/connectionpool.py\u001b[0m in \u001b[0;36murlopen\u001b[0;34m(self, method, url, body, headers, retries, redirect, assert_same_host, timeout, pool_timeout, release_conn, chunked, body_pos, **response_kw)\u001b[0m\n\u001b[1;32m    704\u001b[0m                 \u001b[0mbody\u001b[0m\u001b[0;34m=\u001b[0m\u001b[0mbody\u001b[0m\u001b[0;34m,\u001b[0m\u001b[0;34m\u001b[0m\u001b[0;34m\u001b[0m\u001b[0m\n\u001b[1;32m    705\u001b[0m                 \u001b[0mheaders\u001b[0m\u001b[0;34m=\u001b[0m\u001b[0mheaders\u001b[0m\u001b[0;34m,\u001b[0m\u001b[0;34m\u001b[0m\u001b[0;34m\u001b[0m\u001b[0m\n\u001b[0;32m--> 706\u001b[0;31m                 \u001b[0mchunked\u001b[0m\u001b[0;34m=\u001b[0m\u001b[0mchunked\u001b[0m\u001b[0;34m,\u001b[0m\u001b[0;34m\u001b[0m\u001b[0;34m\u001b[0m\u001b[0m\n\u001b[0m\u001b[1;32m    707\u001b[0m             )\n\u001b[1;32m    708\u001b[0m \u001b[0;34m\u001b[0m\u001b[0m\n",
      "\u001b[0;32m~/anaconda3/envs/gee/lib/python3.7/site-packages/urllib3/connectionpool.py\u001b[0m in \u001b[0;36m_make_request\u001b[0;34m(self, conn, method, url, timeout, chunked, **httplib_request_kw)\u001b[0m\n\u001b[1;32m    443\u001b[0m                     \u001b[0;31m# Python 3 (including for exceptions like SystemExit).\u001b[0m\u001b[0;34m\u001b[0m\u001b[0;34m\u001b[0m\u001b[0;34m\u001b[0m\u001b[0m\n\u001b[1;32m    444\u001b[0m                     \u001b[0;31m# Otherwise it looks like a bug in the code.\u001b[0m\u001b[0;34m\u001b[0m\u001b[0;34m\u001b[0m\u001b[0;34m\u001b[0m\u001b[0m\n\u001b[0;32m--> 445\u001b[0;31m                     \u001b[0msix\u001b[0m\u001b[0;34m.\u001b[0m\u001b[0mraise_from\u001b[0m\u001b[0;34m(\u001b[0m\u001b[0me\u001b[0m\u001b[0;34m,\u001b[0m \u001b[0;32mNone\u001b[0m\u001b[0;34m)\u001b[0m\u001b[0;34m\u001b[0m\u001b[0;34m\u001b[0m\u001b[0m\n\u001b[0m\u001b[1;32m    446\u001b[0m         \u001b[0;32mexcept\u001b[0m \u001b[0;34m(\u001b[0m\u001b[0mSocketTimeout\u001b[0m\u001b[0;34m,\u001b[0m \u001b[0mBaseSSLError\u001b[0m\u001b[0;34m,\u001b[0m \u001b[0mSocketError\u001b[0m\u001b[0;34m)\u001b[0m \u001b[0;32mas\u001b[0m \u001b[0me\u001b[0m\u001b[0;34m:\u001b[0m\u001b[0;34m\u001b[0m\u001b[0;34m\u001b[0m\u001b[0m\n\u001b[1;32m    447\u001b[0m             \u001b[0mself\u001b[0m\u001b[0;34m.\u001b[0m\u001b[0m_raise_timeout\u001b[0m\u001b[0;34m(\u001b[0m\u001b[0merr\u001b[0m\u001b[0;34m=\u001b[0m\u001b[0me\u001b[0m\u001b[0;34m,\u001b[0m \u001b[0murl\u001b[0m\u001b[0;34m=\u001b[0m\u001b[0murl\u001b[0m\u001b[0;34m,\u001b[0m \u001b[0mtimeout_value\u001b[0m\u001b[0;34m=\u001b[0m\u001b[0mread_timeout\u001b[0m\u001b[0;34m)\u001b[0m\u001b[0;34m\u001b[0m\u001b[0;34m\u001b[0m\u001b[0m\n",
      "\u001b[0;32m~/anaconda3/envs/gee/lib/python3.7/site-packages/urllib3/packages/six.py\u001b[0m in \u001b[0;36mraise_from\u001b[0;34m(value, from_value)\u001b[0m\n",
      "\u001b[0;32m~/anaconda3/envs/gee/lib/python3.7/site-packages/urllib3/connectionpool.py\u001b[0m in \u001b[0;36m_make_request\u001b[0;34m(self, conn, method, url, timeout, chunked, **httplib_request_kw)\u001b[0m\n\u001b[1;32m    438\u001b[0m                 \u001b[0;31m# Python 3\u001b[0m\u001b[0;34m\u001b[0m\u001b[0;34m\u001b[0m\u001b[0;34m\u001b[0m\u001b[0m\n\u001b[1;32m    439\u001b[0m                 \u001b[0;32mtry\u001b[0m\u001b[0;34m:\u001b[0m\u001b[0;34m\u001b[0m\u001b[0;34m\u001b[0m\u001b[0m\n\u001b[0;32m--> 440\u001b[0;31m                     \u001b[0mhttplib_response\u001b[0m \u001b[0;34m=\u001b[0m \u001b[0mconn\u001b[0m\u001b[0;34m.\u001b[0m\u001b[0mgetresponse\u001b[0m\u001b[0;34m(\u001b[0m\u001b[0;34m)\u001b[0m\u001b[0;34m\u001b[0m\u001b[0;34m\u001b[0m\u001b[0m\n\u001b[0m\u001b[1;32m    441\u001b[0m                 \u001b[0;32mexcept\u001b[0m \u001b[0mBaseException\u001b[0m \u001b[0;32mas\u001b[0m \u001b[0me\u001b[0m\u001b[0;34m:\u001b[0m\u001b[0;34m\u001b[0m\u001b[0;34m\u001b[0m\u001b[0m\n\u001b[1;32m    442\u001b[0m                     \u001b[0;31m# Remove the TypeError from the exception chain in\u001b[0m\u001b[0;34m\u001b[0m\u001b[0;34m\u001b[0m\u001b[0;34m\u001b[0m\u001b[0m\n",
      "\u001b[0;32m~/anaconda3/envs/gee/lib/python3.7/http/client.py\u001b[0m in \u001b[0;36mgetresponse\u001b[0;34m(self)\u001b[0m\n\u001b[1;32m   1342\u001b[0m         \u001b[0;32mtry\u001b[0m\u001b[0;34m:\u001b[0m\u001b[0;34m\u001b[0m\u001b[0;34m\u001b[0m\u001b[0m\n\u001b[1;32m   1343\u001b[0m             \u001b[0;32mtry\u001b[0m\u001b[0;34m:\u001b[0m\u001b[0;34m\u001b[0m\u001b[0;34m\u001b[0m\u001b[0m\n\u001b[0;32m-> 1344\u001b[0;31m                 \u001b[0mresponse\u001b[0m\u001b[0;34m.\u001b[0m\u001b[0mbegin\u001b[0m\u001b[0;34m(\u001b[0m\u001b[0;34m)\u001b[0m\u001b[0;34m\u001b[0m\u001b[0;34m\u001b[0m\u001b[0m\n\u001b[0m\u001b[1;32m   1345\u001b[0m             \u001b[0;32mexcept\u001b[0m \u001b[0mConnectionError\u001b[0m\u001b[0;34m:\u001b[0m\u001b[0;34m\u001b[0m\u001b[0;34m\u001b[0m\u001b[0m\n\u001b[1;32m   1346\u001b[0m                 \u001b[0mself\u001b[0m\u001b[0;34m.\u001b[0m\u001b[0mclose\u001b[0m\u001b[0;34m(\u001b[0m\u001b[0;34m)\u001b[0m\u001b[0;34m\u001b[0m\u001b[0;34m\u001b[0m\u001b[0m\n",
      "\u001b[0;32m~/anaconda3/envs/gee/lib/python3.7/http/client.py\u001b[0m in \u001b[0;36mbegin\u001b[0;34m(self)\u001b[0m\n\u001b[1;32m    304\u001b[0m         \u001b[0;31m# read until we get a non-100 response\u001b[0m\u001b[0;34m\u001b[0m\u001b[0;34m\u001b[0m\u001b[0;34m\u001b[0m\u001b[0m\n\u001b[1;32m    305\u001b[0m         \u001b[0;32mwhile\u001b[0m \u001b[0;32mTrue\u001b[0m\u001b[0;34m:\u001b[0m\u001b[0;34m\u001b[0m\u001b[0;34m\u001b[0m\u001b[0m\n\u001b[0;32m--> 306\u001b[0;31m             \u001b[0mversion\u001b[0m\u001b[0;34m,\u001b[0m \u001b[0mstatus\u001b[0m\u001b[0;34m,\u001b[0m \u001b[0mreason\u001b[0m \u001b[0;34m=\u001b[0m \u001b[0mself\u001b[0m\u001b[0;34m.\u001b[0m\u001b[0m_read_status\u001b[0m\u001b[0;34m(\u001b[0m\u001b[0;34m)\u001b[0m\u001b[0;34m\u001b[0m\u001b[0;34m\u001b[0m\u001b[0m\n\u001b[0m\u001b[1;32m    307\u001b[0m             \u001b[0;32mif\u001b[0m \u001b[0mstatus\u001b[0m \u001b[0;34m!=\u001b[0m \u001b[0mCONTINUE\u001b[0m\u001b[0;34m:\u001b[0m\u001b[0;34m\u001b[0m\u001b[0;34m\u001b[0m\u001b[0m\n\u001b[1;32m    308\u001b[0m                 \u001b[0;32mbreak\u001b[0m\u001b[0;34m\u001b[0m\u001b[0;34m\u001b[0m\u001b[0m\n",
      "\u001b[0;32m~/anaconda3/envs/gee/lib/python3.7/http/client.py\u001b[0m in \u001b[0;36m_read_status\u001b[0;34m(self)\u001b[0m\n\u001b[1;32m    265\u001b[0m \u001b[0;34m\u001b[0m\u001b[0m\n\u001b[1;32m    266\u001b[0m     \u001b[0;32mdef\u001b[0m \u001b[0m_read_status\u001b[0m\u001b[0;34m(\u001b[0m\u001b[0mself\u001b[0m\u001b[0;34m)\u001b[0m\u001b[0;34m:\u001b[0m\u001b[0;34m\u001b[0m\u001b[0;34m\u001b[0m\u001b[0m\n\u001b[0;32m--> 267\u001b[0;31m         \u001b[0mline\u001b[0m \u001b[0;34m=\u001b[0m \u001b[0mstr\u001b[0m\u001b[0;34m(\u001b[0m\u001b[0mself\u001b[0m\u001b[0;34m.\u001b[0m\u001b[0mfp\u001b[0m\u001b[0;34m.\u001b[0m\u001b[0mreadline\u001b[0m\u001b[0;34m(\u001b[0m\u001b[0m_MAXLINE\u001b[0m \u001b[0;34m+\u001b[0m \u001b[0;36m1\u001b[0m\u001b[0;34m)\u001b[0m\u001b[0;34m,\u001b[0m \u001b[0;34m\"iso-8859-1\"\u001b[0m\u001b[0;34m)\u001b[0m\u001b[0;34m\u001b[0m\u001b[0;34m\u001b[0m\u001b[0m\n\u001b[0m\u001b[1;32m    268\u001b[0m         \u001b[0;32mif\u001b[0m \u001b[0mlen\u001b[0m\u001b[0;34m(\u001b[0m\u001b[0mline\u001b[0m\u001b[0;34m)\u001b[0m \u001b[0;34m>\u001b[0m \u001b[0m_MAXLINE\u001b[0m\u001b[0;34m:\u001b[0m\u001b[0;34m\u001b[0m\u001b[0;34m\u001b[0m\u001b[0m\n\u001b[1;32m    269\u001b[0m             \u001b[0;32mraise\u001b[0m \u001b[0mLineTooLong\u001b[0m\u001b[0;34m(\u001b[0m\u001b[0;34m\"status line\"\u001b[0m\u001b[0;34m)\u001b[0m\u001b[0;34m\u001b[0m\u001b[0;34m\u001b[0m\u001b[0m\n",
      "\u001b[0;32m~/anaconda3/envs/gee/lib/python3.7/socket.py\u001b[0m in \u001b[0;36mreadinto\u001b[0;34m(self, b)\u001b[0m\n\u001b[1;32m    587\u001b[0m         \u001b[0;32mwhile\u001b[0m \u001b[0;32mTrue\u001b[0m\u001b[0;34m:\u001b[0m\u001b[0;34m\u001b[0m\u001b[0;34m\u001b[0m\u001b[0m\n\u001b[1;32m    588\u001b[0m             \u001b[0;32mtry\u001b[0m\u001b[0;34m:\u001b[0m\u001b[0;34m\u001b[0m\u001b[0;34m\u001b[0m\u001b[0m\n\u001b[0;32m--> 589\u001b[0;31m                 \u001b[0;32mreturn\u001b[0m \u001b[0mself\u001b[0m\u001b[0;34m.\u001b[0m\u001b[0m_sock\u001b[0m\u001b[0;34m.\u001b[0m\u001b[0mrecv_into\u001b[0m\u001b[0;34m(\u001b[0m\u001b[0mb\u001b[0m\u001b[0;34m)\u001b[0m\u001b[0;34m\u001b[0m\u001b[0;34m\u001b[0m\u001b[0m\n\u001b[0m\u001b[1;32m    590\u001b[0m             \u001b[0;32mexcept\u001b[0m \u001b[0mtimeout\u001b[0m\u001b[0;34m:\u001b[0m\u001b[0;34m\u001b[0m\u001b[0;34m\u001b[0m\u001b[0m\n\u001b[1;32m    591\u001b[0m                 \u001b[0mself\u001b[0m\u001b[0;34m.\u001b[0m\u001b[0m_timeout_occurred\u001b[0m \u001b[0;34m=\u001b[0m \u001b[0;32mTrue\u001b[0m\u001b[0;34m\u001b[0m\u001b[0;34m\u001b[0m\u001b[0m\n",
      "\u001b[0;32m~/anaconda3/envs/gee/lib/python3.7/ssl.py\u001b[0m in \u001b[0;36mrecv_into\u001b[0;34m(self, buffer, nbytes, flags)\u001b[0m\n\u001b[1;32m   1069\u001b[0m                   \u001b[0;34m\"non-zero flags not allowed in calls to recv_into() on %s\"\u001b[0m \u001b[0;34m%\u001b[0m\u001b[0;34m\u001b[0m\u001b[0;34m\u001b[0m\u001b[0m\n\u001b[1;32m   1070\u001b[0m                   self.__class__)\n\u001b[0;32m-> 1071\u001b[0;31m             \u001b[0;32mreturn\u001b[0m \u001b[0mself\u001b[0m\u001b[0;34m.\u001b[0m\u001b[0mread\u001b[0m\u001b[0;34m(\u001b[0m\u001b[0mnbytes\u001b[0m\u001b[0;34m,\u001b[0m \u001b[0mbuffer\u001b[0m\u001b[0;34m)\u001b[0m\u001b[0;34m\u001b[0m\u001b[0;34m\u001b[0m\u001b[0m\n\u001b[0m\u001b[1;32m   1072\u001b[0m         \u001b[0;32melse\u001b[0m\u001b[0;34m:\u001b[0m\u001b[0;34m\u001b[0m\u001b[0;34m\u001b[0m\u001b[0m\n\u001b[1;32m   1073\u001b[0m             \u001b[0;32mreturn\u001b[0m \u001b[0msuper\u001b[0m\u001b[0;34m(\u001b[0m\u001b[0;34m)\u001b[0m\u001b[0;34m.\u001b[0m\u001b[0mrecv_into\u001b[0m\u001b[0;34m(\u001b[0m\u001b[0mbuffer\u001b[0m\u001b[0;34m,\u001b[0m \u001b[0mnbytes\u001b[0m\u001b[0;34m,\u001b[0m \u001b[0mflags\u001b[0m\u001b[0;34m)\u001b[0m\u001b[0;34m\u001b[0m\u001b[0;34m\u001b[0m\u001b[0m\n",
      "\u001b[0;32m~/anaconda3/envs/gee/lib/python3.7/ssl.py\u001b[0m in \u001b[0;36mread\u001b[0;34m(self, len, buffer)\u001b[0m\n\u001b[1;32m    927\u001b[0m         \u001b[0;32mtry\u001b[0m\u001b[0;34m:\u001b[0m\u001b[0;34m\u001b[0m\u001b[0;34m\u001b[0m\u001b[0m\n\u001b[1;32m    928\u001b[0m             \u001b[0;32mif\u001b[0m \u001b[0mbuffer\u001b[0m \u001b[0;32mis\u001b[0m \u001b[0;32mnot\u001b[0m \u001b[0;32mNone\u001b[0m\u001b[0;34m:\u001b[0m\u001b[0;34m\u001b[0m\u001b[0;34m\u001b[0m\u001b[0m\n\u001b[0;32m--> 929\u001b[0;31m                 \u001b[0;32mreturn\u001b[0m \u001b[0mself\u001b[0m\u001b[0;34m.\u001b[0m\u001b[0m_sslobj\u001b[0m\u001b[0;34m.\u001b[0m\u001b[0mread\u001b[0m\u001b[0;34m(\u001b[0m\u001b[0mlen\u001b[0m\u001b[0;34m,\u001b[0m \u001b[0mbuffer\u001b[0m\u001b[0;34m)\u001b[0m\u001b[0;34m\u001b[0m\u001b[0;34m\u001b[0m\u001b[0m\n\u001b[0m\u001b[1;32m    930\u001b[0m             \u001b[0;32melse\u001b[0m\u001b[0;34m:\u001b[0m\u001b[0;34m\u001b[0m\u001b[0;34m\u001b[0m\u001b[0m\n\u001b[1;32m    931\u001b[0m                 \u001b[0;32mreturn\u001b[0m \u001b[0mself\u001b[0m\u001b[0;34m.\u001b[0m\u001b[0m_sslobj\u001b[0m\u001b[0;34m.\u001b[0m\u001b[0mread\u001b[0m\u001b[0;34m(\u001b[0m\u001b[0mlen\u001b[0m\u001b[0;34m)\u001b[0m\u001b[0;34m\u001b[0m\u001b[0;34m\u001b[0m\u001b[0m\n",
      "\u001b[0;31mKeyboardInterrupt\u001b[0m: "
     ]
    }
   ],
   "source": [
    "# Export monthly images from a collection\n",
    "tic1 = time.time()\n",
    "for a_col, a_tile, poly in zip(all_cols, tiles, polys):\n",
    "    ilist = a_col.toList(a_col.size())\n",
    "    for i in range(12*4):\n",
    "        if len(ee.Image(ilist.get(i)).bandNames().getInfo()) <= 0:\n",
    "            print(\"ERROR; No bands found in image index %d... will skip export.\"%(i))\n",
    "        else:\n",
    "            filename = \"/data/6ru/{}/{}.tif\".format(a_tile,i)\n",
    "            temp_dir = \"/data/6ru/{}/\".format(a_tile)\n",
    "            if not os.path.exists(temp_dir):\n",
    "                os.mkdir(temp_dir)\n",
    "            if os.path.exists(filename):\n",
    "                print(\"Image {} already exists. Skipping...\".format(i))\n",
    "                next\n",
    "            else:\n",
    "                tic = time.time()\n",
    "                print(\"Exporting Image %d\"%(i))\n",
    "                geemap.ee_export_image(ee.Image(ilist.get(i)).select('NDRE'), \n",
    "                                       filename=filename, \n",
    "                                       scale=20, \n",
    "                                       region=poly, \n",
    "                                       file_per_band=False)\n",
    "                toc = time.time()\n",
    "                hours, rem = divmod(toc-tic, 3600)\n",
    "                mins, secs = divmod(rem, 60)\n",
    "                print(\"Time elapsed: {:0>2}:{:0>2}:{:05.2f}\"\n",
    "                      .format(int(hours),int(mins),secs))\n",
    "toc1 = time.time()\n",
    "hrs1, rem1 = divmod(toc1-tic1, 3600)\n",
    "mins1, secs1 = divmod(rem1,  60)\n",
    "print(\"Total time elapsed: {:0>2}:{:0>2}:{:05.2f}\"\n",
    "      .format(int(hrs1),int(mins1),secs1))"
   ]
  },
  {
   "cell_type": "code",
   "execution_count": null,
   "metadata": {},
   "outputs": [],
   "source": []
  }
 ],
 "metadata": {
  "kernelspec": {
   "display_name": "Python 3",
   "language": "python",
   "name": "python3"
  },
  "language_info": {
   "codemirror_mode": {
    "name": "ipython",
    "version": 3
   },
   "file_extension": ".py",
   "mimetype": "text/x-python",
   "name": "python",
   "nbconvert_exporter": "python",
   "pygments_lexer": "ipython3",
   "version": "3.7.7"
  }
 },
 "nbformat": 4,
 "nbformat_minor": 2
}
