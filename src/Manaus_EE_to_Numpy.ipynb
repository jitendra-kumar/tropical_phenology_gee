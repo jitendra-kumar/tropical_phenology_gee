{
 "cells": [
  {
   "cell_type": "code",
   "execution_count": 1,
   "metadata": {},
   "outputs": [],
   "source": [
    "import ee\n",
    "import geemap\n",
    "import numpy as np\n",
    "from matplotlib import pyplot as plt"
   ]
  },
  {
   "cell_type": "code",
   "execution_count": null,
   "metadata": {},
   "outputs": [],
   "source": [
    "#Create Map and center on Manauas EC Flux Tower coordinates\n",
    "Map = geemap.Map(center = (-2.609097222, -60.20929722), zoom = 10)\n",
    "brma2_point = ee.Geometry.Point(-60.20929722, -2.609097222)\n",
    "brma2_region = ee.Geometry.Rectangle(-60.50, -2.85, -60.00, -2.35)\n",
    "Map"
   ]
  },
  {
   "cell_type": "code",
   "execution_count": 10,
   "metadata": {},
   "outputs": [],
   "source": [
    "#Calculate NDRE and set palette\n",
    "def addNDRE(image):\n",
    "    ndre = image.normalizedDifference(['B8', 'B5']).rename('NDRE')\n",
    "    return image.addBands(ndre)\n",
    "ndre_params = ({'min': 0.0,'max': 1.0, 'palette' : \n",
    "               ['FFFFFF', 'CE7E45', 'DF923D', 'F1B555', 'FCD163', '99B718',\n",
    "               '74A901', '66A000', '529400', '3E8601', '207401', '056201',\n",
    "               '004C00', '023B01', '012E01', '011D01', '011301']})"
   ]
  },
  {
   "cell_type": "code",
   "execution_count": 11,
   "metadata": {},
   "outputs": [],
   "source": [
    "#Create cloud mask\n",
    "cloudBitMask = ee.Number(2).pow(10).int()\n",
    "cirrusBitMask = ee.Number(2).pow(11).int()\n",
    "def maskS2clouds(image):\n",
    "    qa = image.select('QA60')\n",
    "    # Both flags should be set to zero, indicating clear conditions.\n",
    "    mask = (qa.bitwiseAnd(cloudBitMask).eq(0).And(\n",
    "             qa.bitwiseAnd(cirrusBitMask).eq(0)))\n",
    "    return image.updateMask(mask)"
   ]
  },
  {
   "cell_type": "code",
   "execution_count": 12,
   "metadata": {},
   "outputs": [],
   "source": [
    "#Load sentinel-2 data and clip to brma_2; set visual params\n",
    "s2 = (ee.ImageCollection('COPERNICUS/S2') #Select S2 1-C level data\n",
    "     .filterBounds(brma2_region) #Grab tiles that intersect Manaus, BR, region\n",
    "     .filterDate('2016-01-01', '2016-12-31') #Select year I want\n",
    "     .map(addNDRE)) #Select bands I want"
   ]
  },
  {
   "cell_type": "code",
   "execution_count": 13,
   "metadata": {},
   "outputs": [],
   "source": [
    "#Create a masked collection\n",
    "masked = s2.map(maskS2clouds)"
   ]
  },
  {
   "cell_type": "code",
   "execution_count": 87,
   "metadata": {},
   "outputs": [],
   "source": [
    "#Find median NDRE of each month in 2016 and save to image collection\n",
    "months = ee.List.sequence(1, 12) #Create a list with nums 1-12\n",
    "\n",
    "def byMonth (m):\n",
    "    month = (masked.filter(ee.Filter.calendarRange(m, m, 'month')) #(start, end, field)\n",
    "             .median() #Calculate median for all bands I selected\n",
    "             .set('month', m)) #Make month a property\n",
    "    return month\n",
    "\n",
    "masked_collection = ee.ImageCollection.fromImages(months.map(byMonth))\n",
    "masked_collection = masked_collection.map(lambda image: image.clip(brma2_region))"
   ]
  },
  {
   "cell_type": "code",
   "execution_count": 90,
   "metadata": {},
   "outputs": [],
   "source": [
    "#Select one image from the collection\n",
    "july = masked_collection.filterMetadata('month', 'equals', 7) #1 is January, 12 is December\n",
    "july = july.select('NDRE').median() #Have to do this for below to work"
   ]
  },
  {
   "cell_type": "code",
   "execution_count": 98,
   "metadata": {},
   "outputs": [
    {
     "name": "stdout",
     "output_type": "stream",
     "text": [
      "band names: ['NDRE']\n",
      "band values: [0.52534008]\n"
     ]
    }
   ],
   "source": [
    "#Dr. Wu's ee_to_numpy function re-written:\n",
    "bands = july.bandNames().getInfo()\n",
    "print(str('band names: ') + str(bands))\n",
    "\n",
    "band_arrs = july.sampleRectangle(region=brma2_point) #2-D pixel array as property per band\n",
    "band_values = [] #Create empty array\n",
    "for band in bands:\n",
    "    band_arr = band_arrs.get(band).getInfo() #Get property values for each band\n",
    "    band_value = np.array(band_arr) #Create numpy array\n",
    "    band_values.append(band_value) #Fill empty array\n",
    "    \n",
    "values = np.dstack(band_values) #Create variable for filled array\n",
    "values = image.flatten() #Turn 3D array into 1D array\n",
    "print(str('band values: ') + str(values)) #Print the filled array"
   ]
  },
  {
   "cell_type": "code",
   "execution_count": 99,
   "metadata": {},
   "outputs": [
    {
     "data": {
      "image/png": "[encoded data removed]",
      "text/plain": [
       "<Figure size 432x288 with 1 Axes>"
      ]
     },
     "metadata": {
      "needs_background": "light"
     },
     "output_type": "display_data"
    }
   ],
   "source": [
    "x = bands\n",
    "y = values\n",
    "plt.plot(x,y) \n",
    "plt.show()"
   ]
  },
  {
   "cell_type": "code",
   "execution_count": null,
   "metadata": {},
   "outputs": [],
   "source": []
  }
 ],
 "metadata": {
  "kernelspec": {
   "display_name": "Python 3",
   "language": "python",
   "name": "python3"
  },
  "language_info": {
   "codemirror_mode": {
    "name": "ipython",
    "version": 3
   },
   "file_extension": ".py",
   "mimetype": "text/x-python",
   "name": "python",
   "nbconvert_exporter": "python",
   "pygments_lexer": "ipython3",
   "version": "3.8.2"
  }
 },
 "nbformat": 4,
 "nbformat_minor": 4
}
