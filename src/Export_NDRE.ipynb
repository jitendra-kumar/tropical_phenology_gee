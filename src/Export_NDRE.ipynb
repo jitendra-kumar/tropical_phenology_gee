{
 "cells": [
  {
   "cell_type": "code",
   "execution_count": null,
   "metadata": {},
   "outputs": [],
   "source": [
    "import ee\n",
    "import geemap\n",
    "import os\n",
    "import numpy as np\n",
    "from matplotlib import pyplot as plt\n",
    "import matplotlib"
   ]
  },
  {
   "cell_type": "code",
   "execution_count": null,
   "metadata": {},
   "outputs": [],
   "source": [
    "manaus_shp = '/Users/morgansteckler/Desktop/Work/tile_shapefiles/venus_fgmanaus_footprint/venus_fgmanaus_footprint.shp'\n",
    "#manaus_shp = '/home/6ru/tile_shapefiles/manaus/venus_fgmanaus_footprint.shp'\n",
    "manaus = geemap.shp_to_ee(manaus_shp)\n",
    "info = manaus.geometry()\n",
    "manaus = ee.Geometry(info)"
   ]
  },
  {
   "cell_type": "code",
   "execution_count": null,
   "metadata": {},
   "outputs": [],
   "source": [
    "atto_shp = '/Users/morgansteckler/Desktop/Work/tile_shapefiles/venus_atto_footprint/venus_atto_footprint.shp'\n",
    "#atto_shp = '/home/6ru/tile_shapefiles/atto/venus_atto_footprint.shp'\n",
    "atto = geemap.shp_to_ee(atto_shp)\n",
    "info = atto.geometry()\n",
    "atto = ee.Geometry(info)"
   ]
  },
  {
   "cell_type": "code",
   "execution_count": null,
   "metadata": {},
   "outputs": [],
   "source": [
    "corumba_shp = '/Users/morgansteckler/Desktop/Work/tile_shapefiles/venus_corumba_footprint/venus_corumba_footprint.shp'\n",
    "#corumba_shp = '/home/6ru/tile_shapefiles/corumba/venus_corumba_footprint.shp'\n",
    "corumba = geemap.shp_to_ee(corumba_shp)\n",
    "info = corumba.geometry()\n",
    "corumba = ee.Geometry(info)"
   ]
  },
  {
   "cell_type": "code",
   "execution_count": null,
   "metadata": {},
   "outputs": [],
   "source": [
    "mato_shp = '/Users/morgansteckler/Desktop/Work/tile_shapefiles/venus_mato_footprint/venus_mato_footprint.shp'\n",
    "#mato_shp = '/home/6ru/tile_shapefiles/mato/venus_mato_footprint.shp'\n",
    "mato = geemap.shp_to_ee(mato_shp)\n",
    "info = mato.geometry()\n",
    "mato = ee.Geometry(info)"
   ]
  },
  {
   "cell_type": "code",
   "execution_count": null,
   "metadata": {},
   "outputs": [],
   "source": [
    "saop_shp = '/Users/morgansteckler/Desktop/Work/tile_shapefiles/venus_saop_footprint/venus_saop_footprint.shp'\n",
    "#saop_shp = '/home/6ru/tile_shapefiles/saop/venus_saop_footprint.shp'\n",
    "saop = geemap.shp_to_ee(saop_shp)\n",
    "info = saop.geometry()\n",
    "saop = ee.Geometry(info)"
   ]
  },
  {
   "cell_type": "code",
   "execution_count": null,
   "metadata": {},
   "outputs": [],
   "source": [
    "#Select geom of interest to export\n",
    "fc = manaus"
   ]
  },
  {
   "cell_type": "code",
   "execution_count": null,
   "metadata": {},
   "outputs": [],
   "source": [
    "#Calculate NDRE and set palette\n",
    "def addNDRE(image):\n",
    "    ndre = image.normalizedDifference(['B8', 'B5']).rename('NDRE')\n",
    "    return image.addBands(ndre)"
   ]
  },
  {
   "cell_type": "code",
   "execution_count": null,
   "metadata": {},
   "outputs": [],
   "source": [
    "#Create cloud mask\n",
    "cloudBitMask = ee.Number(2).pow(10).int() #bit 10 is clouds\n",
    "cirrusBitMask = ee.Number(2).pow(11).int() #bit 11 is cirrus clouds\n",
    "def maskS2clouds(image):\n",
    "    qa = image.select('QA60')\n",
    "    # Both flags should be set to zero, indicating clear conditions.\n",
    "    mask = (qa.bitwiseAnd(cloudBitMask).eq(0).And(\n",
    "             qa.bitwiseAnd(cirrusBitMask).eq(0)))\n",
    "    return image.updateMask(mask)"
   ]
  },
  {
   "cell_type": "code",
   "execution_count": null,
   "metadata": {},
   "outputs": [],
   "source": [
    "#Load sentinel-2 data\n",
    "s2 = (ee.ImageCollection('COPERNICUS/S2')#Select S2 1-C level data\n",
    "      .select(['B5', 'B8', 'QA60']) #Select necessary bands to reduce memory usage\n",
    "      .filterBounds(fc) #Narrow data spatially\n",
    "      .filterDate(ee.Date('2016-01-01'), ee.Date('2019-12-31')) #Select years of interest\n",
    "      .sort('CLOUDY_PIXEL_PERCENTAGE', False) #Put smallest %cloud image on top of stack\n",
    "      .map(addNDRE)) #calculate NDRE and add as band"
   ]
  },
  {
   "cell_type": "code",
   "execution_count": null,
   "metadata": {},
   "outputs": [],
   "source": [
    "#Create collection with cloud mask\n",
    "col = s2.map(maskS2clouds)"
   ]
  },
  {
   "cell_type": "code",
   "execution_count": null,
   "metadata": {},
   "outputs": [],
   "source": [
    "#15-day step\n",
    "years = ee.List.sequence(2016, 2019)\n",
    "step = ee.List.sequence(1, 365, 15)\n",
    "\n",
    "def byYear(y):\n",
    "    y = ee.Number(y)\n",
    "    def byStep(d):\n",
    "        d = ee.Number(d)\n",
    "        return (col\n",
    "                .filter(ee.Filter.calendarRange(y, y.add(1), 'year')) #yearly step\n",
    "                .filter(ee.Filter.calendarRange(d, d.add(15), 'day_of_year')) #15-day step\n",
    "                .qualityMosaic('NDRE') #Max greenness\n",
    "                .set('step', [d, y])) #Add properties\n",
    "    return step.map(byStep)\n",
    "\n",
    "col = ee.ImageCollection.fromImages(years.map(byYear).flatten())\n",
    "col = col.map(lambda image: image.clip(fc)).select('NDRE')"
   ]
  },
  {
   "cell_type": "code",
   "execution_count": null,
   "metadata": {},
   "outputs": [],
   "source": [
    "##ONLY RUN THIS BLOCK FOR ATTO, OTHERWISE SKIP##\n",
    "#Atto removal: 5, 24\n",
    "col = (col.filter(ee.Filter.neq('step', [76, 2016])) #5\n",
    "       .filter(ee.Filter.neq('step', [361, 2016]))) #24"
   ]
  },
  {
   "cell_type": "code",
   "execution_count": null,
   "metadata": {},
   "outputs": [],
   "source": [
    "##ONLY RUN THIS BLOCK FOR SAOP, OTHERWISE SKIP##\n",
    "#Saop removal: 9, 24, 99\n",
    "col = (col.filter(ee.Filter.neq('step', [361, 2019])) #99\n",
    "       .filter(ee.Filter.neq('step', [361, 2016])) #24\n",
    "       .filter(ee.Filter.neq('step', [136, 2016]))) #9"
   ]
  },
  {
   "cell_type": "code",
   "execution_count": null,
   "metadata": {},
   "outputs": [],
   "source": [
    "#Export images from a collection\n",
    "out_dir = '/Users/morgansteckler/Desktop/'\n",
    "geemap.ee_export_image_collection(col, out_dir, region = fc, scale = 20, file_per_band=False)"
   ]
  }
 ],
 "metadata": {
  "kernelspec": {
   "display_name": "Python 3",
   "language": "python",
   "name": "python3"
  },
  "language_info": {
   "codemirror_mode": {
    "name": "ipython",
    "version": 3
   },
   "file_extension": ".py",
   "mimetype": "text/x-python",
   "name": "python",
   "nbconvert_exporter": "python",
   "pygments_lexer": "ipython3",
   "version": "3.7.0"
  }
 },
 "nbformat": 4,
 "nbformat_minor": 2
}
