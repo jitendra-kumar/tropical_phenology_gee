{
 "cells": [
  {
   "cell_type": "code",
   "execution_count": 1,
   "metadata": {},
   "outputs": [],
   "source": [
    "#ee version 0.1.221\n",
    "##geemap version 0.6.13"
   ]
  },
  {
   "cell_type": "code",
   "execution_count": 2,
   "metadata": {},
   "outputs": [],
   "source": [
    "import ee\n",
    "import geemap\n",
    "import os\n",
    "import numpy as np\n",
    "from matplotlib import pyplot as plt\n",
    "import matplotlib"
   ]
  },
  {
   "cell_type": "code",
   "execution_count": 3,
   "metadata": {},
   "outputs": [
    {
     "name": "stdout",
     "output_type": "stream",
     "text": [
      "0.1.242\n",
      "0.8.2\n"
     ]
    }
   ],
   "source": [
    "print(ee.__version__)\n",
    "print(geemap.__version__)\n",
    "ee.Initialize()"
   ]
  },
  {
   "cell_type": "code",
   "execution_count": 4,
   "metadata": {},
   "outputs": [],
   "source": [
    "manaus_shp = '/home/jbk/projects/climate/tropics/venus/footprints/venus_fgmanaus_footprint/venus_fgmanaus_footprint.shp'\n",
    "manaus = geemap.shp_to_ee(manaus_shp)\n",
    "info = manaus.geometry()\n",
    "manaus = ee.Geometry(info)"
   ]
  },
  {
   "cell_type": "code",
   "execution_count": 5,
   "metadata": {},
   "outputs": [],
   "source": [
    "atto_shp = '/home/jbk/projects/climate/tropics/venus/footprints/venus_atto_footprint/venus_atto_footprint.shp'\n",
    "atto = geemap.shp_to_ee(atto_shp)\n",
    "info = atto.geometry()\n",
    "atto = ee.Geometry(info)"
   ]
  },
  {
   "cell_type": "code",
   "execution_count": 6,
   "metadata": {},
   "outputs": [],
   "source": [
    "corumba_shp = '/home/jbk/projects/climate/tropics/venus/footprints/venus_corumba_footprint/venus_corumba_footprint.shp'\n",
    "corumba = geemap.shp_to_ee(corumba_shp)\n",
    "info = corumba.geometry()\n",
    "corumba = ee.Geometry(info)"
   ]
  },
  {
   "cell_type": "code",
   "execution_count": 7,
   "metadata": {},
   "outputs": [],
   "source": [
    "mato_shp = '/home/jbk/projects/climate/tropics/venus/footprints/venus_mato_footprint/venus_mato_footprint.shp'\n",
    "mato = geemap.shp_to_ee(mato_shp)\n",
    "info = mato.geometry()\n",
    "mato = ee.Geometry(info)"
   ]
  },
  {
   "cell_type": "code",
   "execution_count": 8,
   "metadata": {},
   "outputs": [],
   "source": [
    "saop_shp = '/home/jbk/projects/climate/tropics/venus/footprints/venus_saop_footprint/venus_saop_footprint.shp'\n",
    "saop = geemap.shp_to_ee(saop_shp)\n",
    "info = saop.geometry()\n",
    "saop = ee.Geometry(info)"
   ]
  },
  {
   "cell_type": "code",
   "execution_count": 9,
   "metadata": {},
   "outputs": [],
   "source": [
    "#Select geom of interest to export\n",
    "#fc = manaus\n",
    "fc = atto"
   ]
  },
  {
   "cell_type": "code",
   "execution_count": 10,
   "metadata": {},
   "outputs": [],
   "source": [
    "#Calculate NDRE and set palette\n",
    "def addNDRE(image):\n",
    "    ndre = image.normalizedDifference(['B8', 'B5']).rename('NDRE')\n",
    "    return image.addBands(ndre)"
   ]
  },
  {
   "cell_type": "code",
   "execution_count": 11,
   "metadata": {},
   "outputs": [],
   "source": [
    "#Create cloud mask\n",
    "cloudBitMask = ee.Number(2).pow(10).int() #bit 10 is clouds\n",
    "cirrusBitMask = ee.Number(2).pow(11).int() #bit 11 is cirrus clouds\n",
    "def maskS2clouds(image):\n",
    "    qa = image.select('QA60')\n",
    "    # Both flags should be set to zero, indicating clear conditions.\n",
    "    cloudBitMask = 1 << 10\n",
    "    cirrusBitMask = 1<< 11\n",
    "    mask = (qa.bitwiseAnd(cloudBitMask).eq(0).And(\n",
    "             qa.bitwiseAnd(cirrusBitMask).eq(0)))\n",
    "    return image.updateMask(mask)"
   ]
  },
  {
   "cell_type": "code",
   "execution_count": 21,
   "metadata": {},
   "outputs": [],
   "source": [
    "#Load sentinel-2 data\n",
    "s2 = (ee.ImageCollection('COPERNICUS/S2')#Select S2 1-C level data\n",
    "      .select(['B5', 'B8', 'QA60']) #Select necessary bands to reduce memory usage\n",
    "      .filterBounds(fc) #Narrow data spatially\n",
    "      .filterDate(ee.Date('2016-01-01'), ee.Date('2019-12-31')) #Select years of interest\n",
    "      .sort('CLOUDY_PIXEL_PERCENTAGE', False) #Put smallest %cloud image on top of stack\n",
    "      .map(addNDRE)) #calculate NDRE and add as band"
   ]
  },
  {
   "cell_type": "code",
   "execution_count": 22,
   "metadata": {},
   "outputs": [],
   "source": [
    "#Create collection with cloud mask\n",
    "col = s2.map(maskS2clouds)"
   ]
  },
  {
   "cell_type": "code",
   "execution_count": 23,
   "metadata": {},
   "outputs": [],
   "source": [
    "#15-day step\n",
    "years = ee.List.sequence(2016, 2019)\n",
    "step = ee.List.sequence(1, 365, 15)\n",
    "\n",
    "def byYear(y):\n",
    "    y = ee.Number(y)\n",
    "    def byStep(d):\n",
    "        d = ee.Number(d)\n",
    "        return (col\n",
    "                .filter(ee.Filter.calendarRange(y, y, 'year')) #yearly step\n",
    "                .filter(ee.Filter.calendarRange(d, d.add(14), 'day_of_year')) #15-day step\n",
    "#                .max()\n",
    "                .qualityMosaic('NDRE') #Max greenness\n",
    "                .set('step', [d, y])) #Add properties\n",
    "                \n",
    "    return step.map(byStep)\n",
    "\n",
    "col = ee.ImageCollection.fromImages(years.map(byYear).flatten())\n",
    "col = col.map(lambda image: image.clip(fc))#.select('NDRE')"
   ]
  },
  {
   "cell_type": "code",
   "execution_count": 28,
   "metadata": {},
   "outputs": [
    {
     "name": "stdout",
     "output_type": "stream",
     "text": [
      "Exporting Image 0\n",
      "['B5', 'B8', 'QA60', 'NDRE']\n",
      "Generating URL ...\n",
      "Downloading data from https://earthengine.googleapis.com/v1alpha/projects/earthengine-legacy/thumbnails/8dfb2a7c18b42ef01400da980d7e5f3a-42437178d6e3d6ef7a794eec8e37ad22:getPixels\n",
      "Please wait ...\n",
      "Data downloaded to /home/jbk/projects/climate/tropics/sentinel-2/15day_composites/atto/0.tif\n",
      "ERROR; No bands found in image index 1... will skip export.\n",
      "Exporting Image 2\n",
      "['B5', 'B8', 'QA60', 'NDRE']\n",
      "Generating URL ...\n",
      "Downloading data from https://earthengine.googleapis.com/v1alpha/projects/earthengine-legacy/thumbnails/674f84e9853c49c4c52d3d57b70ccdde-ad73856b530bb8de5a4fc670e2c8f53f:getPixels\n",
      "Please wait ...\n",
      "Data downloaded to /home/jbk/projects/climate/tropics/sentinel-2/15day_composites/atto/2.tif\n",
      "ERROR; No bands found in image index 3... will skip export.\n"
     ]
    }
   ],
   "source": [
    "# RUN THIS TO IDENTIFY periods when we are missing data, those null images need to be deleted else our exports will fail \n",
    "#print(col.size().getInfo())\n",
    "ilist = col.toList(col.size())\n",
    "for i in range(4):\n",
    "    if len(ee.Image(ilist.get(i)).bandNames().getInfo()) <= 0:\n",
    "        print(\"ERROR; No bands found in image index %d... will skip export.\"%(i))\n",
    "    else:\n",
    "        print(\"Exporting Image %d\"%(i))\n",
    "        print(ee.Image(ilist.get(i)).bandNames().getInfo())\n",
    "        filename = \"/home/jbk/projects/climate/tropics/sentinel-2/15day_composites/atto/%d.tif\"%(i)\n",
    "        geemap.ee_export_image(ee.Image(ilist.get(i)).select('NDRE'), filename=filename, scale=20, region=fc, file_per_band=False)"
   ]
  },
  {
   "cell_type": "markdown",
   "metadata": {},
   "source": [
    "## ONLY RUN THIS BLOCK FOR ATTO (2016-2019), OTHERWISE SKIP##\n",
    "# 15 day composite \n",
    "# Atto removal: 5, 24\n",
    "col = (col.filter(ee.Filter.neq('step', [76, 2016])) #5\n",
    "       .filter(ee.Filter.neq('step', [361, 2016]))) #24"
   ]
  },
  {
   "cell_type": "markdown",
   "metadata": {},
   "source": [
    "##ONLY RUN THIS BLOCK FOR SAOP, OTHERWISE SKIP##\n",
    "#Saop removal: 9, 24, 99\n",
    "col = (col.filter(ee.Filter.neq('step', [361, 2019])) #99\n",
    "       .filter(ee.Filter.neq('step', [361, 2016])) #24\n",
    "       .filter(ee.Filter.neq('step', [136, 2016]))) #9"
   ]
  },
  {
   "cell_type": "code",
   "execution_count": 15,
   "metadata": {},
   "outputs": [
    {
     "name": "stdout",
     "output_type": "stream",
     "text": [
      "Total number of images: 100\n",
      "\n",
      "Collection.toList: Error in map(ID=1):\n",
      "Image.select: Pattern 'NDRE' did not match any bands.\n"
     ]
    }
   ],
   "source": [
    "#Export images from a collection\n",
    "#out_dir = '/home/jbk/projects/climate/tropics/sentinel-2/15day_composites/manaus/'\n",
    "out_dir = '/home/jbk/projects/climate/tropics/sentinel-2/15day_composites/atto/'\n",
    "geemap.ee_export_image_collection(col.select('NDRE'), out_dir, region = fc, scale = 20, file_per_band=False)"
   ]
  },
  {
   "cell_type": "markdown",
   "metadata": {},
   "source": [
    "## Monthly composites"
   ]
  },
  {
   "cell_type": "code",
   "execution_count": null,
   "metadata": {},
   "outputs": [],
   "source": [
    "mcol = s2.map(maskS2clouds)\n",
    "\n",
    "#Monthly step\n",
    "#https://gis.stackexchange.com/questions/301165/how-to-get-monthly-averages-from-earth-engine-in-the-python-api\n",
    "months = ee.List.sequence(1, 12) #Create a list with nums 1-12\n",
    "years = ee.List.sequence(2016, 2016)\n",
    "\n",
    "def byYear(y):\n",
    "    def byMonth(m):\n",
    "        return (mcol\n",
    "                .filter(ee.Filter.calendarRange(y, y, 'year'))\n",
    "                .filter(ee.Filter.calendarRange(m, m, 'month'))\n",
    "                .qualityMosaic('NDRE') #What is best way to compile images before running stats?\n",
    "                .set('month', m).set('year', y))\n",
    "    return months.map(byMonth)\n",
    "\n",
    "mcol = ee.ImageCollection.fromImages(years.map(byYear).flatten())\n",
    "mcol = mcol.map(lambda image: image.clip(fc)).select('NDRE') #Choose JUST NDRE band and clip to region"
   ]
  },
  {
   "cell_type": "code",
   "execution_count": null,
   "metadata": {},
   "outputs": [],
   "source": [
    "#Export images from a collection\n",
    "out_dir = '/home/jbk/projects/climate/tropics/sentinel-2/monthly_composites/manaus/qm/'\n",
    "geemap.ee_export_image_collection(mcol, out_dir, region = fc, scale = 20, file_per_band=False)"
   ]
  },
  {
   "cell_type": "markdown",
   "metadata": {},
   "source": [
    "## Visualize Map"
   ]
  },
  {
   "cell_type": "code",
   "execution_count": null,
   "metadata": {},
   "outputs": [],
   "source": [
    "Map = geemap.Map(center = (-2.609097222, -60.20929722), zoom = 10)\n",
    "brma2_point = ee.Geometry.Point(-60.20929722, -2.609097222)\n",
    "brma2_region = ee.Geometry.Rectangle(-61.00, -3.0, -60.00, -2.0)\n",
    "Map\n",
    "#Map.addLayer(brma2_region, {}, 'Manauas Region')"
   ]
  },
  {
   "cell_type": "code",
   "execution_count": null,
   "metadata": {},
   "outputs": [],
   "source": [
    "#Load sentinel-2 data\n",
    "s2 = (ee.ImageCollection('COPERNICUS/S2')#Select S2 1-C level data\n",
    "#      .select(['B5', 'B8', 'QA60']) #Select necessary bands to reduce memory usage\n",
    "      .filterBounds(fc) #Narrow data spatially\n",
    "      .filterDate(ee.Date('2017-01-01'), ee.Date('2017-01-15')) #Select years of interest\n",
    "      .sort('CLOUDY_PIXEL_PERCENTAGE', False) #Put smallest %cloud image on top of stack\n",
    "      .map(addNDRE)) #calculate NDRE and add as band"
   ]
  },
  {
   "cell_type": "code",
   "execution_count": null,
   "metadata": {},
   "outputs": [],
   "source": [
    "print(s2.size().getInfo())"
   ]
  },
  {
   "cell_type": "code",
   "execution_count": null,
   "metadata": {},
   "outputs": [],
   "source": [
    "maxval = s2.max()\n",
    "\n",
    "visParams = {\n",
    "  'bands': ['B4', 'B3', 'B2'],\n",
    "  'min': 0,\n",
    "  'max': 3000,\n",
    "}\n",
    "\n",
    "Map.addLayer(maxval, visParams, 'MaxVal')\n",
    "#Map.addLayer(s2, {'bands': ['B4', 'B3', 'B2'], 'min': 0, 'max': 3000}, 'RGB Manaus Clouds')"
   ]
  },
  {
   "cell_type": "code",
   "execution_count": null,
   "metadata": {},
   "outputs": [],
   "source": [
    "maxndre = s2.qualityMosaic('NDRE')\n",
    "print(maxndre.getInfo())"
   ]
  },
  {
   "cell_type": "code",
   "execution_count": null,
   "metadata": {},
   "outputs": [],
   "source": [
    "#maxndre = s2.median()\n",
    "palette = ['#d73027', '#f46d43', '#fdae61', '#fee08b', '#d9ef8b', '#a6d96a', '#66bd63', '#1a9850']\n",
    "Map.addLayer(maxndre.select('NDRE'), {'palette': palette}, 'NDRE')"
   ]
  },
  {
   "cell_type": "code",
   "execution_count": null,
   "metadata": {},
   "outputs": [],
   "source": [
    "#Export images from a collection\n",
    "out_dir = '/home/jbk/projects/climate/tropics/sentinel-2/monthly_composites/manaus/qm/'\n",
    "geemap.ee_export_image_collection(mcol, out_dir, region = fc, scale = 20, file_per_band=False)"
   ]
  },
  {
   "cell_type": "code",
   "execution_count": null,
   "metadata": {},
   "outputs": [],
   "source": []
  },
  {
   "cell_type": "markdown",
   "metadata": {},
   "source": [
    "## Time series plots"
   ]
  },
  {
   "cell_type": "code",
   "execution_count": null,
   "metadata": {},
   "outputs": [],
   "source": [
    "# Mean\n",
    "def region_mean_Image(img):\n",
    "    # mean over all pixels in the region for the image\n",
    "    return img.set('mean', img.reduceRegion(ee.Reducer.mean(), geometry=fc, scale=20)) \n",
    "\n",
    "\n",
    "def region_mean_ImageCollection(ic):\n",
    "    # mean over all pixels in the region, for each image in the ImageCollection\n",
    "    stats = ic.map(region_mean_Image)\n",
    "    stats_list = stats.aggregate_array('mean')\n",
    "    return np.array(stats_list.getInfo())\n",
    "\n",
    "# Median\n",
    "def region_median_Image(img):\n",
    "    # mean over all pixels in the region for the image\n",
    "    return img.set('median', img.reduceRegion(ee.Reducer.median(), geometry=fc, scale=20)) \n",
    "\n",
    "def region_median_ImageCollection(ic):\n",
    "    # mean over all pixels in the region, for each image in the ImageCollection\n",
    "    stats = ic.map(region_median_Image)\n",
    "    stats_list = stats.aggregate_array('median')\n",
    "    return np.array(stats_list.getInfo())\n",
    "\n",
    "# Stddev\n",
    "def region_stddev_Image(img):\n",
    "    # stddev over all pixels in the region for the image\n",
    "    return img.set('stddev', img.reduceRegion(ee.Reducer.stdDev(), geometry=fc, scale=20)) \n",
    "\n",
    "def region_stddev_ImageCollection(ic):\n",
    "    # stddev over all pixels in the region, for each image in the ImageCollection\n",
    "    stats = ic.map(region_stddev_Image)\n",
    "    stats_list = stats.aggregate_array('stddev')\n",
    "    return np.array(stats_list.getInfo())\n",
    "\n",
    "# Percentiles\n",
    "def region_percentiles_Image(img):\n",
    "    # 5,10,25,75,90,95 percentiles over all pixels in the region for the image\n",
    "    return img.set('percentiles', img.reduceRegion(ee.Reducer.percentile([5,10,25,75,90,95]), geometry=fc, scale=20)) #) mean, median, stdDev, percentiles\n",
    "\n",
    "def region_percentiles_ImageCollection(ic):\n",
    "    # percentiles over all pixels in the region, for each image in the ImageCollection\n",
    "    stats = ic.map(region_percentiles_Image)\n",
    "    stats_list = stats.aggregate_array('percentiles')\n",
    "    return np.array(stats_list.getInfo())\n"
   ]
  },
  {
   "cell_type": "code",
   "execution_count": null,
   "metadata": {},
   "outputs": [],
   "source": [
    "#Take only the ndre mean, med, stddev dict values and append to new list\n",
    "def newList(alist, varname):\n",
    "    list_name = []\n",
    "    for value in alist:\n",
    "        list_name.append(value[varname])\n",
    "    return list_name"
   ]
  },
  {
   "cell_type": "code",
   "execution_count": null,
   "metadata": {},
   "outputs": [],
   "source": [
    "#Append ndre percentile dict values to new lists\n",
    "def p_list(alist, varname):\n",
    "    p10, p25, p5, p75, p90, p95 = [], [], [], [], [], []\n",
    "    for value in alist:\n",
    "        p5.append(value[varname+'_p5'])\n",
    "        p10.append(value[varname+'_p10'])\n",
    "        p25.append(value[varname+'_p25'])\n",
    "        p75.append(value[varname+'_p75'])\n",
    "        p90.append(value[varname+'_p90'])\n",
    "        p95.append(value[varname+'_p95'])\n",
    "    return p5, p10, p25, p75, p90, p95"
   ]
  },
  {
   "cell_type": "code",
   "execution_count": null,
   "metadata": {},
   "outputs": [],
   "source": [
    "# total precipitation\n",
    "# get area statistics\n",
    "col_mean_list = region_mean_ImageCollection(col)\n",
    "col_median_list = region_median_ImageCollection(col)\n",
    "col_stddev_list = region_stddev_ImageCollection(col)\n",
    "col_percentile_list = region_percentiles_ImageCollection(col)\n",
    "\n",
    "# turn it into numpy array\n",
    "col_mean = newList(col_mean_list, 'NDRE')\n",
    "col_median = newList(col_median_list, 'NDRE')\n",
    "col_stddev = newList(col_stddev_list, 'NDRE')\n",
    "col_percentile = p_list(col_percentile_list, 'NDRE')\n"
   ]
  },
  {
   "cell_type": "code",
   "execution_count": null,
   "metadata": {},
   "outputs": [],
   "source": [
    "# get list of dates from ImageCollection\n",
    "def ymdList(imgcol):\n",
    "    def iter_func(image, newlist):\n",
    "        date = ee.Number.parse(image.date().format(\"YYYYMMdd\"));\n",
    "        newlist = ee.List(newlist);\n",
    "        return ee.List(newlist.add(date).sort())\n",
    "    ymd = imgcol.iterate(iter_func, ee.List([]))\n",
    "    return list(ee.List(ymd).reduce(ee.Reducer.frequencyHistogram()).getInfo().keys())"
   ]
  },
  {
   "cell_type": "code",
   "execution_count": null,
   "metadata": {},
   "outputs": [],
   "source": [
    "icdates = ymdList(col)"
   ]
  },
  {
   "cell_type": "code",
   "execution_count": null,
   "metadata": {},
   "outputs": [],
   "source": [
    "def plot_mean_stddev(var_mean, var_stddev, var_name):\n",
    "    #Make lists with +/- SD\n",
    "    months=np.array(list(range(0,25*3)))\n",
    "    plus_error = [x + y for x,y in zip(var_mean, var_stddev)]\n",
    "    minus_error = [x - y for x,y in zip(var_mean, var_stddev)]\n",
    "\n",
    "    plt.axes([2, 0, 2, 1])\n",
    "    plt.grid(b = True, which = 'major', axis = 'x')\n",
    "    plt.fill_between(months, plus_error, minus_error, color = \"grey\", alpha = .5, label = \"Standard Deviation\")\n",
    "    plt.plot(months, var_mean, label=var_name)\n",
    "    plt.legend(loc = \"upper right\")"
   ]
  },
  {
   "cell_type": "code",
   "execution_count": null,
   "metadata": {},
   "outputs": [],
   "source": [
    "plot_mean_stddev(col_mean, col_stddev, var_name=\"NDRE\")"
   ]
  },
  {
   "cell_type": "code",
   "execution_count": null,
   "metadata": {},
   "outputs": [],
   "source": [
    "plot_mean_stddev(col_mean, col_stddev, var_name=\"NDRE\")"
   ]
  },
  {
   "cell_type": "code",
   "execution_count": null,
   "metadata": {},
   "outputs": [],
   "source": []
  }
 ],
 "metadata": {
  "kernelspec": {
   "display_name": "Python 3",
   "language": "python",
   "name": "python3"
  },
  "language_info": {
   "codemirror_mode": {
    "name": "ipython",
    "version": 3
   },
   "file_extension": ".py",
   "mimetype": "text/x-python",
   "name": "python",
   "nbconvert_exporter": "python",
   "pygments_lexer": "ipython3",
   "version": "3.9.0"
  }
 },
 "nbformat": 4,
 "nbformat_minor": 2
}
