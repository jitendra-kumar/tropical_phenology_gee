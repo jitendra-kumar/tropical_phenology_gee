{
 "cells": [
  {
   "cell_type": "code",
   "execution_count": 154,
   "metadata": {},
   "outputs": [],
   "source": [
    "import ee\n",
    "import geemap\n",
    "import numpy as np"
   ]
  },
  {
   "cell_type": "code",
   "execution_count": 155,
   "metadata": {},
   "outputs": [
    {
     "data": {
      "application/vnd.jupyter.widget-view+json": {
       "model_id": "6ce162a0a2074ad9b7b669282bb33975",
       "version_major": 2,
       "version_minor": 0
      },
      "text/plain": [
       "Map(center=[-2.609097222, -60.20929722], controls=(WidgetControl(options=['position'], widget=HBox(children=(T…"
      ]
     },
     "metadata": {},
     "output_type": "display_data"
    }
   ],
   "source": [
    "#Create Map and center on Manauas EC Flux Tower coordinates\n",
    "Map = geemap.Map(center = (-2.609097222, -60.20929722), zoom = 10)\n",
    "brma2_point = ee.Geometry.Point(-60.20929722, -2.609097222)\n",
    "brma2_region = ee.Geometry.Rectangle(-60.50, -2.85, -60.00, -2.35)\n",
    "Map"
   ]
  },
  {
   "cell_type": "code",
   "execution_count": 156,
   "metadata": {},
   "outputs": [],
   "source": [
    "Map.addLayer(brma2_region, {}, 'Manauas Region')"
   ]
  },
  {
   "cell_type": "code",
   "execution_count": 157,
   "metadata": {},
   "outputs": [],
   "source": [
    "sent2 = ee.ImageCollection('COPERNICUS/S2')"
   ]
  },
  {
   "cell_type": "code",
   "execution_count": 158,
   "metadata": {},
   "outputs": [],
   "source": [
    "#Load s2 data for July 2016\n",
    "s2 = (ee.ImageCollection('COPERNICUS/S2')\n",
    "      .filterDate('2016-07-01', '2016-07-31')\n",
    "     .filterMetadata('CLOUDY_PIXEL_PERCENTAGE', 'less_than', 10)\n",
    "     .map(lambda image : image.clip(brma2_region)))\n",
    "visParams = {'bands' : ['B4', 'B3', 'B2'], 'max': 3000}\n",
    "Map.addLayer(s2, visParams, \"July 2016 Raw\")"
   ]
  },
  {
   "cell_type": "code",
   "execution_count": null,
   "metadata": {},
   "outputs": [],
   "source": [
    "#Calculate NDRE and get median image for July 2016\n",
    "def addNDRE(image):\n",
    "    ndre = image.normalizedDifference(['B8', 'B5']).rename('NDRE')\n",
    "    return image.addBands(ndre)\n",
    "ndre_params = ({'min': 0.0,'max': 1.0, 'palette' : \n",
    "               ['FFFFFF', 'CE7E45', 'DF923D', 'F1B555', 'FCD163', '99B718',\n",
    "               '74A901', '66A000', '529400', '3E8601', '207401', '056201',\n",
    "               '004C00', '023B01', '012E01', '011D01', '011301']})"
   ]
  },
  {
   "cell_type": "code",
   "execution_count": 159,
   "metadata": {},
   "outputs": [],
   "source": [
    "#User Dr. Wu's ee_to_numpy function\n",
    "#Only accepts an image, not a collection\n",
    "jul2016 = (s2.filterDate('2016-07-01', '2016-07-31')\n",
    "           .map(addNDRE).select('NDRE'))\n",
    "jul16_med = ee.Image(jul2016.median())\n",
    "array = geemap.ee_to_numpy(jul16_med, region = brma2_point)\n",
    "print(array)"
   ]
  },
  {
   "cell_type": "code",
   "execution_count": 162,
   "metadata": {},
   "outputs": [
    {
     "name": "stdout",
     "output_type": "stream",
     "text": [
      "band names: ['NDRE']\n",
      "[[[0.53382969]]]\n"
     ]
    }
   ],
   "source": [
    "#Dr. Wu's function broken down\n",
    "bands = jul16_med.bandNames().getInfo()\n",
    "print(str('band names: ') + str(bands))\n",
    "\n",
    "band_arrs = jul16_med.sampleRectangle(region=brma2_point)\n",
    "band_values = []\n",
    "for band in bands:\n",
    "    band_arr = band_arrs.get(band).getInfo()\n",
    "    band_value = np.array(band_arr)\n",
    "    band_values.append(band_value)\n",
    "    \n",
    "image = np.dstack(band_values)\n",
    "print(image)"
   ]
  },
  {
   "cell_type": "code",
   "execution_count": 150,
   "metadata": {},
   "outputs": [
    {
     "name": "stdout",
     "output_type": "stream",
     "text": [
      "['system:footprint', 'DATATAKE_IDENTIFIER', 'SPACECRAFT_NAME', 'FORMAT_CORRECTNESS_FLAG', 'IERS_BULLETIN_FILENAME', 'system:id', 'MEAN_INCIDENCE_AZIMUTH_ANGLE_B8A', 'MEAN_SOLAR_AZIMUTH_ANGLE', 'SOLAR_IRRADIANCE_B12', 'system:version', 'SOLAR_IRRADIANCE_B10', 'SOLAR_IRRADIANCE_B11', 'GENERATION_TIME', 'SOLAR_IRRADIANCE_B8A', 'PRODUCT_URI', 'SENSOR_QUALITY_FLAG', 'CLOUD_COVERAGE_ASSESSMENT', 'system:time_end', 'system:time_start', 'DATASTRIP_ID', 'PROCESSING_BASELINE', 'SENSING_ORBIT_NUMBER', 'GEOMETRIC_QUALITY_FLAG', 'SENSING_ORBIT_DIRECTION', 'GRANULE_ID', 'REFLECTANCE_CONVERSION_CORRECTION', 'MEAN_INCIDENCE_AZIMUTH_ANGLE_B8', 'DATATAKE_TYPE', 'MEAN_INCIDENCE_AZIMUTH_ANGLE_B9', 'MEAN_INCIDENCE_AZIMUTH_ANGLE_B6', 'MEAN_INCIDENCE_AZIMUTH_ANGLE_B7', 'RADIOMETRIC_QUALITY_FLAG', 'MEAN_INCIDENCE_AZIMUTH_ANGLE_B4', 'MEAN_INCIDENCE_ZENITH_ANGLE_B1', 'MEAN_INCIDENCE_AZIMUTH_ANGLE_B5', 'MEAN_INCIDENCE_AZIMUTH_ANGLE_B2', 'MEAN_INCIDENCE_AZIMUTH_ANGLE_B3', 'MEAN_INCIDENCE_ZENITH_ANGLE_B5', 'MEAN_INCIDENCE_AZIMUTH_ANGLE_B1', 'MEAN_INCIDENCE_ZENITH_ANGLE_B4', 'MEAN_INCIDENCE_ZENITH_ANGLE_B3', 'MEAN_INCIDENCE_ZENITH_ANGLE_B2', 'MEAN_INCIDENCE_ZENITH_ANGLE_B9', 'MEAN_INCIDENCE_ZENITH_ANGLE_B8', 'MEAN_INCIDENCE_ZENITH_ANGLE_B7', 'MEAN_INCIDENCE_ZENITH_ANGLE_B6', 'MEAN_SOLAR_ZENITH_ANGLE', 'MEAN_INCIDENCE_ZENITH_ANGLE_B8A', 'GRI_FILENAME', 'MGRS_TILE', 'PRODUCTION_DEM_TYPE', 'CLOUDY_PIXEL_PERCENTAGE', 'GENERAL_QUALITY_FLAG', 'PRODUCT_ID', 'ECMWF_DATA_REF', 'MEAN_INCIDENCE_ZENITH_ANGLE_B10', 'SOLAR_IRRADIANCE_B9', 'DEGRADED_MSI_DATA_PERCENTAGE', 'MEAN_INCIDENCE_ZENITH_ANGLE_B11', 'MEAN_INCIDENCE_ZENITH_ANGLE_B12', 'SOLAR_IRRADIANCE_B6', 'MEAN_INCIDENCE_AZIMUTH_ANGLE_B10', 'SOLAR_IRRADIANCE_B5', 'MEAN_INCIDENCE_AZIMUTH_ANGLE_B11', 'SOLAR_IRRADIANCE_B8', 'MEAN_INCIDENCE_AZIMUTH_ANGLE_B12', 'SOLAR_IRRADIANCE_B7', 'SOLAR_IRRADIANCE_B2', 'SOLAR_IRRADIANCE_B1', 'SOLAR_IRRADIANCE_B4', 'SOLAR_IRRADIANCE_B3', 'system:asset_size', 'system:index', 'system:bands', 'system:band_names']\n"
     ]
    }
   ],
   "source": [
    "#List sentinel2 metadata properties to see what I can select\n",
    "properties = s2.first().propertyNames().getInfo()\n",
    "print(properties)"
   ]
  },
  {
   "cell_type": "code",
   "execution_count": null,
   "metadata": {},
   "outputs": [],
   "source": []
  }
 ],
 "metadata": {
  "kernelspec": {
   "display_name": "Python 3",
   "language": "python",
   "name": "python3"
  },
  "language_info": {
   "codemirror_mode": {
    "name": "ipython",
    "version": 3
   },
   "file_extension": ".py",
   "mimetype": "text/x-python",
   "name": "python",
   "nbconvert_exporter": "python",
   "pygments_lexer": "ipython3",
   "version": "3.8.2"
  }
 },
 "nbformat": 4,
 "nbformat_minor": 4
}
