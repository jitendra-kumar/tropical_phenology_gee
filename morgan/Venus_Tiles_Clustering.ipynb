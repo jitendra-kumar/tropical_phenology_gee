{
 "cells": [
  {
   "cell_type": "code",
   "execution_count": 1,
   "metadata": {},
   "outputs": [],
   "source": [
    "import ee\n",
    "import geemap\n",
    "import os\n",
    "import numpy as np\n",
    "from matplotlib import pyplot as plt"
   ]
  },
  {
   "cell_type": "code",
   "execution_count": 4,
   "metadata": {},
   "outputs": [],
   "source": [
    "manaus_shp = '/Users/morgansteckler/Downloads/venus_fgmanaus_footprint/venus_fgmanaus_footprint.shp'\n",
    "manaus = geemap.shp_to_ee(manaus_shp)"
   ]
  },
  {
   "cell_type": "code",
   "execution_count": 47,
   "metadata": {},
   "outputs": [
    {
     "data": {
      "application/vnd.jupyter.widget-view+json": {
       "model_id": "06ee77ed99404d708f793e8393acdddc",
       "version_major": 2,
       "version_minor": 0
      },
      "text/plain": [
       "Map(center=[-2.4396454678431994, -59.78996156231432], controls=(WidgetControl(options=['position'], widget=HBo…"
      ]
     },
     "metadata": {},
     "output_type": "display_data"
    }
   ],
   "source": [
    "Map = geemap.Map()\n",
    "Map.centerObject(manaus, 9)\n",
    "Map"
   ]
  },
  {
   "cell_type": "code",
   "execution_count": 48,
   "metadata": {},
   "outputs": [],
   "source": [
    "#Calculate NDRE and set palette\n",
    "def addNDRE(image):\n",
    "    ndre = image.normalizedDifference(['B8', 'B5']).rename('NDRE')\n",
    "    return image.addBands(ndre)\n",
    "ndre_params = ({'min': 0.0,'max': 1.0, 'palette' : \n",
    "               ['FFFFFF', 'CE7E45', 'DF923D', 'F1B555', 'FCD163', '99B718',\n",
    "               '74A901', '66A000', '529400', '3E8601', '207401', '056201',\n",
    "               '004C00', '023B01', '012E01', '011D01', '011301']})\n",
    "\n",
    "#Create cloud mask\n",
    "cloudBitMask = ee.Number(2).pow(10).int()\n",
    "cirrusBitMask = ee.Number(2).pow(11).int()\n",
    "def maskS2clouds(image):\n",
    "    qa = image.select('QA60')\n",
    "    # Both flags should be set to zero, indicating clear conditions.\n",
    "    mask = (qa.bitwiseAnd(cloudBitMask).eq(0).And(\n",
    "             qa.bitwiseAnd(cirrusBitMask).eq(0)))\n",
    "    return image.updateMask(mask)"
   ]
  },
  {
   "cell_type": "code",
   "execution_count": 49,
   "metadata": {},
   "outputs": [],
   "source": [
    "fc= manaus"
   ]
  },
  {
   "cell_type": "code",
   "execution_count": 50,
   "metadata": {},
   "outputs": [],
   "source": [
    "#Load Sentinel-2 data for 2016 clipped to manaus; select only a few bands\n",
    "s2 = (ee.ImageCollection('COPERNICUS/S2')\n",
    "      .filterDate('2016-01-01', '2016-12-31')\n",
    "      .filter(ee.Filter.lt('CLOUDY_PIXEL_PERCENTAGE', 20))\n",
    "      .map(lambda image: image.clip(fc))\n",
    "      .map(maskS2clouds)\n",
    "      .map(addNDRE)\n",
    "      .select(['B4', 'B3', 'B2', 'B8', 'B5', 'NDRE']))\n",
    "\n",
    "#Test out a true color image\n",
    "single_composite = s2.median()\n",
    "Map.addLayer(single_composite, {'bands': ['B4', 'B3', 'B2'], 'min': 0, 'max': 3000}, 'single composite', False)"
   ]
  },
  {
   "cell_type": "code",
   "execution_count": 51,
   "metadata": {},
   "outputs": [],
   "source": [
    "#Create months list with 3-month step (end with 4 image collections) w/ median band values\n",
    "months = ee.List.sequence(1, 12, 3);\n",
    "def monthStep(m):\n",
    "    return (s2\n",
    "            .filter(ee.Filter.calendarRange(start=m,\n",
    "                                            end=ee.Number(m).add(2),\n",
    "                                            field='month'))\n",
    "            .median())\n",
    "\n",
    "#Apply tri-monthly step\n",
    "compositesS2 = months.map(monthStep)"
   ]
  },
  {
   "cell_type": "code",
   "execution_count": 52,
   "metadata": {},
   "outputs": [],
   "source": [
    "#Add bands from previous image to next image in collection\n",
    "def mergeBands(previous, image):\n",
    "    return ee.Image(previous).addBands(image)\n",
    "\n",
    "#Create one composite with band values for each month attached\n",
    "composite = ee.Image(compositesS2.iterate(mergeBands, ee.Image()));"
   ]
  },
  {
   "cell_type": "code",
   "execution_count": 53,
   "metadata": {},
   "outputs": [],
   "source": [
    "composite = composite.select(['NDRE', 'NDRE_1', 'NDRE_1_1'])"
   ]
  },
  {
   "cell_type": "code",
   "execution_count": 27,
   "metadata": {},
   "outputs": [],
   "source": [
    "Map.addLayer(composite, {}, 'complete composite')"
   ]
  },
  {
   "cell_type": "code",
   "execution_count": 13,
   "metadata": {},
   "outputs": [
    {
     "name": "stdout",
     "output_type": "stream",
     "text": [
      "['NDRE', 'NDRE_1', 'NDRE_1_1']\n"
     ]
    }
   ],
   "source": [
    "bands = composite.bandNames().getInfo()\n",
    "print(bands)"
   ]
  },
  {
   "cell_type": "code",
   "execution_count": 14,
   "metadata": {},
   "outputs": [],
   "source": [
    "#K-means\n",
    "training = composite.sample(region=fc, \n",
    "                        scale=20, \n",
    "                        numPixels=1000)\n",
    "clusterer = ee.Clusterer.wekaKMeans(nClusters=4).train(training)\n",
    "result = composite.cluster(clusterer)\n",
    "Map.addLayer(result.randomVisualizer(), {})"
   ]
  },
  {
   "cell_type": "code",
   "execution_count": 54,
   "metadata": {},
   "outputs": [
    {
     "name": "stdout",
     "output_type": "stream",
     "text": [
      "Generating URL ...\n",
      "An error occurred while downloading.\n",
      "Image.clipToBoundsAndScale: The geometry for image clipping must be bounded.\n"
     ]
    }
   ],
   "source": [
    "#Export composite\n",
    "out_dir = '/Users/morgansteckler/Desktop/All_Months/2016_Composite.tif'\n",
    "geemap.ee_export_image(composite, out_dir)"
   ]
  },
  {
   "cell_type": "code",
   "execution_count": null,
   "metadata": {},
   "outputs": [],
   "source": []
  },
  {
   "cell_type": "code",
   "execution_count": null,
   "metadata": {},
   "outputs": [],
   "source": []
  },
  {
   "cell_type": "code",
   "execution_count": null,
   "metadata": {},
   "outputs": [],
   "source": []
  },
  {
   "cell_type": "code",
   "execution_count": null,
   "metadata": {},
   "outputs": [],
   "source": []
  },
  {
   "cell_type": "code",
   "execution_count": null,
   "metadata": {},
   "outputs": [],
   "source": []
  },
  {
   "cell_type": "code",
   "execution_count": 146,
   "metadata": {},
   "outputs": [],
   "source": [
    "#Create texture band from NDRE\n",
    "nir = composite.select('B8')\n",
    "red = composite.select('B5')\n",
    "ndre = nir.subtract(red).divide(nir.add(red))\n",
    "texture = ndre.reduceNeighborhood(reducer=ee.Reducer.stdDev(), kernel=ee.Kernel.square(5)).rename('texture')\n",
    "Map.addLayer(texture, {'min': 0, 'max': .25}, 'Texture', False)"
   ]
  },
  {
   "cell_type": "code",
   "execution_count": 147,
   "metadata": {},
   "outputs": [],
   "source": [
    "#Add the texture band\n",
    "image = composite.addBands(texture)"
   ]
  },
  {
   "cell_type": "code",
   "execution_count": 148,
   "metadata": {},
   "outputs": [
    {
     "name": "stdout",
     "output_type": "stream",
     "text": [
      "['NDRE', 'B2', 'B3', 'B4', 'B8', 'B5', 'texture']\n"
     ]
    }
   ],
   "source": [
    "#Make sure it shows up\n",
    "bands = image.bandNames().getInfo()\n",
    "print(bands)"
   ]
  },
  {
   "cell_type": "code",
   "execution_count": null,
   "metadata": {},
   "outputs": [],
   "source": []
  },
  {
   "cell_type": "code",
   "execution_count": null,
   "metadata": {},
   "outputs": [],
   "source": []
  },
  {
   "cell_type": "code",
   "execution_count": null,
   "metadata": {},
   "outputs": [],
   "source": []
  },
  {
   "cell_type": "code",
   "execution_count": null,
   "metadata": {},
   "outputs": [],
   "source": []
  },
  {
   "cell_type": "code",
   "execution_count": null,
   "metadata": {},
   "outputs": [],
   "source": []
  },
  {
   "cell_type": "code",
   "execution_count": null,
   "metadata": {},
   "outputs": [],
   "source": [
    "#Different Clusterers below:"
   ]
  },
  {
   "cell_type": "code",
   "execution_count": 61,
   "metadata": {},
   "outputs": [],
   "source": [
    "#Cascade K-means\n",
    "training = image.sample(region=fc, \n",
    "                        scale=20, \n",
    "                        numPixels=1000)\n",
    "clusterer = ee.Clusterer.wekaCascadeKMeans().train(training)\n",
    "result = image.cluster(clusterer)\n",
    "Map.addLayer(result.randomVisualizer(), {}, 'Cascade K-means')"
   ]
  },
  {
   "cell_type": "code",
   "execution_count": 43,
   "metadata": {},
   "outputs": [],
   "source": [
    "#Cobweb\n",
    "#This didn't work very well...\n",
    "training = image.sample(region=fc, \n",
    "                        scale=20, \n",
    "                        numPixels=1000)\n",
    "clusterer = ee.Clusterer.wekaCobweb().train(training)\n",
    "result = image.cluster(clusterer)\n",
    "Map.addLayer(result.randomVisualizer(), {}, 'Cobweb')"
   ]
  },
  {
   "cell_type": "code",
   "execution_count": 2,
   "metadata": {},
   "outputs": [],
   "source": [
    "#K-means\n",
    "training = composite.sample(region=fc, \n",
    "                        scale=20, \n",
    "                        numPixels=1000)\n",
    "clusterer = ee.Clusterer.wekaKMeans(nClusters=4).train(training)\n",
    "result = composite.cluster(clusterer)\n",
    "Map.addLayer(result.randomVisualizer(), {})"
   ]
  },
  {
   "cell_type": "code",
   "execution_count": 46,
   "metadata": {},
   "outputs": [],
   "source": [
    "#Learning Vector Quantization\n",
    "#This didn't work very well...\n",
    "training = image.sample(region=fc, \n",
    "                        scale=20, \n",
    "                        numPixels=1000)\n",
    "clusterer = ee.Clusterer.wekaLVQ().train(training)\n",
    "result = image.cluster(clusterer)\n",
    "Map.addLayer(result.randomVisualizer(), {}, 'Learning Vector Quantization')"
   ]
  },
  {
   "cell_type": "code",
   "execution_count": 47,
   "metadata": {},
   "outputs": [],
   "source": [
    "#X-means\n",
    "training = image.sample(region=fc, \n",
    "                        scale=20, \n",
    "                        numPixels=1000)\n",
    "clusterer = ee.Clusterer.wekaXMeans().train(training)\n",
    "result = image.cluster(clusterer)\n",
    "Map.addLayer(result.randomVisualizer(), {}, 'X-means')"
   ]
  },
  {
   "cell_type": "code",
   "execution_count": null,
   "metadata": {},
   "outputs": [],
   "source": []
  }
 ],
 "metadata": {
  "kernelspec": {
   "display_name": "Python 3",
   "language": "python",
   "name": "python3"
  },
  "language_info": {
   "codemirror_mode": {
    "name": "ipython",
    "version": 3
   },
   "file_extension": ".py",
   "mimetype": "text/x-python",
   "name": "python",
   "nbconvert_exporter": "python",
   "pygments_lexer": "ipython3",
   "version": "3.8.2"
  }
 },
 "nbformat": 4,
 "nbformat_minor": 4
}
