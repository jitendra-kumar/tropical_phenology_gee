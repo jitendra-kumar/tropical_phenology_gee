{
 "cells": [
  {
   "cell_type": "code",
   "execution_count": 1,
   "metadata": {},
   "outputs": [],
   "source": [
    "import ee\n",
    "import geemap\n",
    "import os\n",
    "import numpy as np\n",
    "from matplotlib import pyplot as plt"
   ]
  },
  {
   "cell_type": "code",
   "execution_count": 154,
   "metadata": {},
   "outputs": [
    {
     "data": {
      "application/vnd.jupyter.widget-view+json": {
       "model_id": "217a10af7ab24ff6a00ce2e627c72bf6",
       "version_major": 2,
       "version_minor": 0
      },
      "text/plain": [
       "Map(center=[-2.609097222, -60.20929722], controls=(WidgetControl(options=['position'], widget=HBox(children=(T…"
      ]
     },
     "metadata": {},
     "output_type": "display_data"
    }
   ],
   "source": [
    "Map = geemap.Map(center = (-2.609097222, -60.20929722), zoom = 5)\n",
    "Map"
   ]
  },
  {
   "cell_type": "code",
   "execution_count": 3,
   "metadata": {},
   "outputs": [],
   "source": [
    "manaus_shp = '/Users/morgansteckler/Downloads/venus_fgmanaus_footprint/venus_fgmanaus_footprint.shp'\n",
    "manaus = geemap.shp_to_ee(manaus_shp)"
   ]
  },
  {
   "cell_type": "code",
   "execution_count": 4,
   "metadata": {},
   "outputs": [],
   "source": [
    "atto_shp = '/Users/morgansteckler/Downloads/venus_atto_footprint/venus_atto_footprint.shp'\n",
    "atto = geemap.shp_to_ee(atto_shp)"
   ]
  },
  {
   "cell_type": "code",
   "execution_count": 5,
   "metadata": {},
   "outputs": [],
   "source": [
    "corumba_shp = '/Users/morgansteckler/Downloads/venus_corumba_footprint/venus_corumba_footprint.shp'\n",
    "corumba = geemap.shp_to_ee(corumba_shp)"
   ]
  },
  {
   "cell_type": "code",
   "execution_count": 6,
   "metadata": {},
   "outputs": [],
   "source": [
    "mato_shp = '/Users/morgansteckler/Downloads/venus_mato_footprint/venus_mato_footprint.shp'\n",
    "mato = geemap.shp_to_ee(mato_shp)"
   ]
  },
  {
   "cell_type": "code",
   "execution_count": 7,
   "metadata": {},
   "outputs": [],
   "source": [
    "saop_shp = '/Users/morgansteckler/Downloads/venus_saop_footprint/venus_saop_footprint.shp'\n",
    "saop = geemap.shp_to_ee(saop_shp)"
   ]
  },
  {
   "cell_type": "code",
   "execution_count": 185,
   "metadata": {},
   "outputs": [],
   "source": [
    "#IMPORTANT\n",
    "#Select geom of interest\n",
    "fc = manaus"
   ]
  },
  {
   "cell_type": "code",
   "execution_count": 186,
   "metadata": {},
   "outputs": [],
   "source": [
    "#Calculate NDRE and set palette\n",
    "def addNDRE(image):\n",
    "    ndre = image.normalizedDifference(['B8', 'B5']).rename('NDRE')\n",
    "    return image.addBands(ndre)\n",
    "\n",
    "#Create cloud mask\n",
    "cloudBitMask = ee.Number(2).pow(10).int()\n",
    "cirrusBitMask = ee.Number(2).pow(11).int()\n",
    "def maskS2clouds(image):\n",
    "    qa = image.select('QA60')\n",
    "    # Both flags should be set to zero, indicating clear conditions.\n",
    "    mask = (qa.bitwiseAnd(cloudBitMask).eq(0).And(\n",
    "             qa.bitwiseAnd(cirrusBitMask).eq(0)))\n",
    "    return image.updateMask(mask)"
   ]
  },
  {
   "cell_type": "code",
   "execution_count": 187,
   "metadata": {},
   "outputs": [],
   "source": [
    "#Load sentinel-2 data\n",
    "s2 = (ee.ImageCollection('COPERNICUS/S2')#Select S2 1-C level data\n",
    "      .select(['B5','B8', 'QA60']) #Select necessary bands to reduce memory usage\n",
    "      .filterBounds(fc) #Narrow data spatially\n",
    "      .filterDate(ee.Date('2016-01-01'), ee.Date('2019-12-31')) #Select years of interest\n",
    "      .sort('CLOUDY_PIXEL_PERCENTAGE', False) #Put smallest %cloud image on top of stack\n",
    "      .map(addNDRE)) #calculate NDRE and add as band\n",
    "\n",
    "#Load copernicus land cover data\n",
    "lc = (ee.Image(\"COPERNICUS/Landcover/100m/Proba-V/Global/2015\") #select 2015\n",
    "      .select('discrete_classification') #choose classification band\n",
    "      .clip(fc)) #clip to geom"
   ]
  },
  {
   "cell_type": "code",
   "execution_count": 188,
   "metadata": {},
   "outputs": [],
   "source": [
    "#Create a masked s2 collection\n",
    "masked = s2.map(maskS2clouds)"
   ]
  },
  {
   "cell_type": "code",
   "execution_count": 189,
   "metadata": {},
   "outputs": [],
   "source": [
    "#15-day step\n",
    "years = ee.List.sequence(2016, 2019)\n",
    "period = ee.List.sequence(1, 365, 15)\n",
    "col = masked.select('NDRE')\n",
    "\n",
    "def byYear(y):\n",
    "    y = ee.Number(y)\n",
    "    def ndreStepList(startDoy):\n",
    "        startDoy = ee.Number(startDoy)\n",
    "        return (col\n",
    "                .filter(ee.Filter.calendarRange(y, y.add(1), 'year'))\n",
    "                .filter(ee.Filter.calendarRange(startDoy, startDoy.add(15), 'day_of_year'))\n",
    "                .qualityMosaic('NDRE')\n",
    "               .set('day_of_year', [startDoy, y]))\n",
    "    return period.map(ndreStepList)\n",
    "\n",
    "mapped_doy = years.map(byYear).flatten()\n",
    "col = ee.ImageCollection.fromImages(mapped_doy)"
   ]
  },
  {
   "cell_type": "code",
   "execution_count": 190,
   "metadata": {},
   "outputs": [],
   "source": [
    "col = s2.map(lambda image: image.clip(fc)) #Reduce data to just area for analysis"
   ]
  },
  {
   "cell_type": "code",
   "execution_count": 144,
   "metadata": {},
   "outputs": [
    {
     "name": "stdout",
     "output_type": "stream",
     "text": [
      "[[1, 2016], [16, 2016], [31, 2016], [46, 2016], [61, 2016], [76, 2016], [91, 2016], [106, 2016], [121, 2016], [136, 2016], [151, 2016], [166, 2016], [181, 2016], [196, 2016], [211, 2016], [226, 2016], [241, 2016], [256, 2016], [271, 2016], [286, 2016], [301, 2016], [316, 2016], [331, 2016], [346, 2016], [361, 2016], [1, 2017], [16, 2017], [31, 2017], [46, 2017], [61, 2017], [76, 2017], [91, 2017], [106, 2017], [121, 2017], [136, 2017], [151, 2017], [166, 2017], [181, 2017], [196, 2017], [211, 2017], [226, 2017], [241, 2017], [256, 2017], [271, 2017], [286, 2017], [301, 2017], [316, 2017], [331, 2017], [346, 2017], [361, 2017], [1, 2018], [16, 2018], [31, 2018], [46, 2018], [61, 2018], [76, 2018], [91, 2018], [106, 2018], [121, 2018], [136, 2018], [151, 2018], [166, 2018], [181, 2018], [196, 2018], [211, 2018], [226, 2018], [241, 2018], [256, 2018], [271, 2018], [286, 2018], [301, 2018], [316, 2018], [331, 2018], [346, 2018], [361, 2018], [1, 2019], [16, 2019], [31, 2019], [46, 2019], [61, 2019], [76, 2019], [91, 2019], [106, 2019], [121, 2019], [136, 2019], [151, 2019], [166, 2019], [181, 2019], [196, 2019], [211, 2019], [226, 2019], [241, 2019], [256, 2019], [271, 2019], [286, 2019], [301, 2019], [316, 2019], [331, 2019], [346, 2019], [361, 2019]]\n"
     ]
    }
   ],
   "source": [
    "info = col.aggregate_array('day_of_year').getInfo()\n",
    "print(info)"
   ]
  },
  {
   "cell_type": "code",
   "execution_count": 220,
   "metadata": {},
   "outputs": [],
   "source": [
    "an_img = col.first().select('NDRE')"
   ]
  },
  {
   "cell_type": "code",
   "execution_count": 224,
   "metadata": {},
   "outputs": [],
   "source": [
    "#Manaus classes\n",
    "shrub = lc.eq(20)\n",
    "herb = lc.eq(30)\n",
    "ag = lc.eq(40)\n",
    "cl_ebl = lc.eq(112) #closed evergreen broad leaf\n",
    "cl_forest = lc.eq(116)\n",
    "op_ebl = lc.eq(122) #open evergreen broad leaf\n",
    "op_forest = lc.eq(126)"
   ]
  },
  {
   "cell_type": "code",
   "execution_count": 225,
   "metadata": {},
   "outputs": [],
   "source": [
    "def createVectors(classif):\n",
    "    return classif.reduceToVectors(geometry=fc, scale=20, eightConnected=True, labelProperty='landcover')"
   ]
  },
  {
   "cell_type": "code",
   "execution_count": 226,
   "metadata": {},
   "outputs": [],
   "source": [
    "shrub = createVectors(shrub)\n",
    "herb = createVectors(herb)\n",
    "ag = createVectors(ag)\n",
    "cl_ebl = createVectors(cl_ebl)\n",
    "cl_forest = createVectors(cl_forest)\n",
    "op_ebl = createVectors(op_ebl)\n",
    "op_forest = createVectors(op_forest)"
   ]
  },
  {
   "cell_type": "code",
   "execution_count": 227,
   "metadata": {},
   "outputs": [],
   "source": [
    "shrub = shrub.filter(ee.Filter.equals('landcover',1))\n",
    "herb = herb.filter(ee.Filter.equals('landcover',1))\n",
    "ag = ag.filter(ee.Filter.equals('landcover',1))\n",
    "cl_ebl = cl_ebl.filter(ee.Filter.equals('landcover',1))\n",
    "cl_forest = cl_forest.filter(ee.Filter.equals('landcover',1))\n",
    "op_ebl = op_ebl.filter(ee.Filter.equals('landcover',1))\n",
    "op_forest = op_forest.filter(ee.Filter.equals('landcover',1))"
   ]
  },
  {
   "cell_type": "code",
   "execution_count": 228,
   "metadata": {},
   "outputs": [],
   "source": [
    "shrubu = shrub.geometry()\n",
    "herbu = herb.geometry()\n",
    "agu = ag.geometry()\n",
    "cl_eblu = cl_ebl.geometry()\n",
    "cl_forestu = cl_forest.geometry()\n",
    "op_eblu = op_ebl.geometry()\n",
    "op_forestu = op_forest.geometry()"
   ]
  },
  {
   "cell_type": "code",
   "execution_count": 229,
   "metadata": {},
   "outputs": [],
   "source": [
    "#Create an FC of a few classes\n",
    "union = (ee.FeatureCollection([\n",
    "    ee.Feature(shrubu, {'label':'Shrub'}),\n",
    "    ee.Feature(herbu, {'label':'Forest'}),\n",
    "    ee.Feature(agu, {'label':'Crop'}),\n",
    "    ee.Feature(cl_eblu, {'label':'Closed EBL'}),\n",
    "    ee.Feature(cl_forestu, {'label':'Closed Forest'}),\n",
    "    ee.Feature(op_eblu, {'label':'Open EBL'}),\n",
    "    ee.Feature(op_forestu, {'label':'Open Forest'})]))"
   ]
  },
  {
   "cell_type": "code",
   "execution_count": 231,
   "metadata": {},
   "outputs": [
    {
     "name": "stdout",
     "output_type": "stream",
     "text": [
      "['Shrub', 'Forest', 'Crop', 'Closed EBL', 'Closed Forest', 'Open EBL', 'Open Forest']\n"
     ]
    }
   ],
   "source": [
    "#Make sure above worked\n",
    "print(union.aggregate_array('label').getInfo())\n",
    "Map.addLayer(union, {}, 'union')"
   ]
  },
  {
   "cell_type": "code",
   "execution_count": 153,
   "metadata": {},
   "outputs": [
    {
     "name": "stdout",
     "output_type": "stream",
     "text": [
      "The input image band must be integer type.\n"
     ]
    }
   ],
   "source": [
    "#Try Dr. Wu's zonal stats method and export as csv\n",
    "#This isn't working. Maybe I can cast the values to an int rather than int8?\n",
    "out_dir = \"/Users/morgansteckler/Desktop/Test/\"\n",
    "geemap.zonal_statistics_by_group(an_img, union, out_dir, 'MEAN', scale=20)"
   ]
  },
  {
   "cell_type": "code",
   "execution_count": 221,
   "metadata": {},
   "outputs": [],
   "source": [
    "#Calculate mean of (something? NDRE?) for each class in the collection\n",
    "def zonalStats(img):\n",
    "    mean = ee.Reducer.mean()\n",
    "    result = img.reduceRegions(collection=union, reducer=mean, scale=20)\n",
    "    return result #Returns a feature collection\n",
    "\n",
    "stats = zonalStats(an_img)"
   ]
  },
  {
   "cell_type": "code",
   "execution_count": 223,
   "metadata": {},
   "outputs": [
    {
     "name": "stdout",
     "output_type": "stream",
     "text": [
      "[0.005196842364966869, 0.0048230369575321674, 0.0034133470617234707, 0.0046998136676847935, 0.004713194910436869, 0.004642040468752384]\n"
     ]
    }
   ],
   "source": [
    "#This works, though I expect 7 values and only get 6...\n",
    "#Also, I'm not sure what it's taking the mean of. Hopefully NDRE? But the values are quite small.\n",
    "info = stats.aggregate_array('mean').getInfo()\n",
    "print(info)"
   ]
  },
  {
   "cell_type": "code",
   "execution_count": null,
   "metadata": {},
   "outputs": [],
   "source": []
  }
 ],
 "metadata": {
  "kernelspec": {
   "display_name": "Python 3",
   "language": "python",
   "name": "python3"
  },
  "language_info": {
   "codemirror_mode": {
    "name": "ipython",
    "version": 3
   },
   "file_extension": ".py",
   "mimetype": "text/x-python",
   "name": "python",
   "nbconvert_exporter": "python",
   "pygments_lexer": "ipython3",
   "version": "3.7.0"
  }
 },
 "nbformat": 4,
 "nbformat_minor": 4
}
