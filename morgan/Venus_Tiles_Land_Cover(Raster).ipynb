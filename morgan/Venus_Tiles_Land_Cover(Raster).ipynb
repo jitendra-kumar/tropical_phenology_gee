{
 "cells": [
  {
   "cell_type": "code",
   "execution_count": 1,
   "metadata": {},
   "outputs": [],
   "source": [
    "import ee\n",
    "import geemap\n",
    "import os\n",
    "import numpy as np\n",
    "from matplotlib import pyplot as plt"
   ]
  },
  {
   "cell_type": "code",
   "execution_count": 2,
   "metadata": {},
   "outputs": [
    {
     "data": {
      "application/vnd.jupyter.widget-view+json": {
       "model_id": "deadfbc06481414cb90f871c4f6b14b8",
       "version_major": 2,
       "version_minor": 0
      },
      "text/plain": [
       "Map(center=[-2.609097222, -60.20929722], controls=(WidgetControl(options=['position'], widget=HBox(children=(T…"
      ]
     },
     "metadata": {},
     "output_type": "display_data"
    }
   ],
   "source": [
    "Map = geemap.Map(center = (-2.609097222, -60.20929722), zoom = 5)\n",
    "Map"
   ]
  },
  {
   "cell_type": "code",
   "execution_count": 3,
   "metadata": {},
   "outputs": [],
   "source": [
    "manaus_shp = '/Users/morgansteckler/Downloads/venus_fgmanaus_footprint/venus_fgmanaus_footprint.shp'\n",
    "manaus = geemap.shp_to_ee(manaus_shp)"
   ]
  },
  {
   "cell_type": "code",
   "execution_count": 4,
   "metadata": {},
   "outputs": [],
   "source": [
    "#Select geom of interest\n",
    "fc = manaus"
   ]
  },
  {
   "cell_type": "code",
   "execution_count": 5,
   "metadata": {},
   "outputs": [],
   "source": [
    "#Calculate NDRE and set palette\n",
    "def addNDRE(image):\n",
    "    ndre = image.normalizedDifference(['B8', 'B5']).rename('NDRE')\n",
    "    return image.addBands(ndre)\n",
    "\n",
    "#Create cloud mask\n",
    "cloudBitMask = ee.Number(2).pow(10).int()\n",
    "cirrusBitMask = ee.Number(2).pow(11).int()\n",
    "def maskS2clouds(image):\n",
    "    qa = image.select('QA60')\n",
    "    # Both flags should be set to zero, indicating clear conditions.\n",
    "    mask = (qa.bitwiseAnd(cloudBitMask).eq(0).And(\n",
    "             qa.bitwiseAnd(cirrusBitMask).eq(0)))\n",
    "    return image.updateMask(mask)"
   ]
  },
  {
   "cell_type": "code",
   "execution_count": 76,
   "metadata": {},
   "outputs": [],
   "source": [
    "#Load sentinel-2 data\n",
    "s2 = (ee.ImageCollection('COPERNICUS/S2')#Select S2 1-C level data\n",
    "      .select(['B5','B8', 'QA60']) #Select necessary bands to reduce memory usage\n",
    "      .filterBounds(fc) #Narrow data spatially\n",
    "      .filterDate(ee.Date('2018-01-01'), ee.Date('2019-12-31')) #Select years of interest\n",
    "      .sort('CLOUDY_PIXEL_PERCENTAGE', False) #Put smallest %cloud image on top of stack\n",
    "      .map(addNDRE)) #calculate NDRE and add as band\n",
    "\n",
    "#Load copernicus land cover data\n",
    "lc = (ee.Image(\"COPERNICUS/Landcover/100m/Proba-V/Global/2015\") #select 2015\n",
    "      .select('discrete_classification') #choose classification band\n",
    "      .clip(fc)) #clip to geom"
   ]
  },
  {
   "cell_type": "code",
   "execution_count": 77,
   "metadata": {},
   "outputs": [],
   "source": [
    "#Create a masked s2 collection\n",
    "masked = s2.map(maskS2clouds)"
   ]
  },
  {
   "cell_type": "code",
   "execution_count": 78,
   "metadata": {},
   "outputs": [],
   "source": [
    "clipped = masked.map(lambda image: image.clip(fc))"
   ]
  },
  {
   "cell_type": "code",
   "execution_count": 10,
   "metadata": {},
   "outputs": [
    {
     "name": "stdout",
     "output_type": "stream",
     "text": [
      "['DATATAKE_IDENTIFIER', 'SPACECRAFT_NAME', 'FORMAT_CORRECTNESS_FLAG', 'system:id', 'MEAN_SOLAR_AZIMUTH_ANGLE', 'SOLAR_IRRADIANCE_B12', 'system:version', 'SOLAR_IRRADIANCE_B10', 'SOLAR_IRRADIANCE_B11', 'GENERATION_TIME', 'SOLAR_IRRADIANCE_B8A', 'SENSOR_QUALITY_FLAG', 'CLOUD_COVERAGE_ASSESSMENT', 'system:time_end', 'system:time_start', 'DATASTRIP_ID', 'PROCESSING_BASELINE', 'SENSING_ORBIT_NUMBER', 'GEOMETRIC_QUALITY_FLAG', 'SENSING_ORBIT_DIRECTION', 'GRANULE_ID', 'REFLECTANCE_CONVERSION_CORRECTION', 'MEAN_INCIDENCE_AZIMUTH_ANGLE_B8', 'DATATAKE_TYPE', 'MEAN_INCIDENCE_AZIMUTH_ANGLE_B9', 'RADIOMETRIC_QUALITY_FLAG', 'MEAN_INCIDENCE_AZIMUTH_ANGLE_B4', 'MEAN_INCIDENCE_ZENITH_ANGLE_B1', 'MEAN_INCIDENCE_AZIMUTH_ANGLE_B2', 'MEAN_INCIDENCE_AZIMUTH_ANGLE_B3', 'MEAN_INCIDENCE_AZIMUTH_ANGLE_B1', 'MEAN_INCIDENCE_ZENITH_ANGLE_B4', 'MEAN_INCIDENCE_ZENITH_ANGLE_B3', 'MEAN_INCIDENCE_ZENITH_ANGLE_B2', 'MEAN_INCIDENCE_ZENITH_ANGLE_B9', 'MEAN_INCIDENCE_ZENITH_ANGLE_B8', 'MEAN_SOLAR_ZENITH_ANGLE', 'MGRS_TILE', 'CLOUDY_PIXEL_PERCENTAGE', 'GENERAL_QUALITY_FLAG', 'PRODUCT_ID', 'MEAN_INCIDENCE_ZENITH_ANGLE_B10', 'SOLAR_IRRADIANCE_B9', 'DEGRADED_MSI_DATA_PERCENTAGE', 'SOLAR_IRRADIANCE_B6', 'MEAN_INCIDENCE_AZIMUTH_ANGLE_B10', 'SOLAR_IRRADIANCE_B5', 'SOLAR_IRRADIANCE_B8', 'SOLAR_IRRADIANCE_B7', 'SOLAR_IRRADIANCE_B2', 'SOLAR_IRRADIANCE_B1', 'SOLAR_IRRADIANCE_B4', 'SOLAR_IRRADIANCE_B3', 'system:asset_size', 'system:index', 'system:bands', 'system:band_names']\n"
     ]
    }
   ],
   "source": [
    "info = clipped.first().propertyNames().getInfo()\n",
    "print(info)"
   ]
  },
  {
   "cell_type": "code",
   "execution_count": 14,
   "metadata": {},
   "outputs": [
    {
     "name": "stdout",
     "output_type": "stream",
     "text": [
      "['forest_type_class_names', 'forest_type_class_palette', 'copyright', 'references', 'processing_level', 'system:id', 'source', 'platform', 'discrete_classification_class_values', 'institution', 'product_tags', 'contact', 'system:version', 'orbit_type', 'forest_type_class_values', 'discrete_classification_class_names', 'creator', 'product_version', 'system:time_end', 'NODATA_value', 'system:time_start', 'discrete_classification_class_palette', 'system:description', 'production_grid', 'processing_mode', 'sensor', 'system:asset_size', 'production_crs', 'doi', 'system:index', 'system:bands', 'system:band_names']\n"
     ]
    }
   ],
   "source": [
    "info2 = lc.propertyNames().getInfo()\n",
    "print(info2)"
   ]
  },
  {
   "cell_type": "code",
   "execution_count": 93,
   "metadata": {},
   "outputs": [],
   "source": [
    "ndre_col = clipped.select('NDRE') #Just to make sure\n",
    "ndre_img = ndre_col.first() #Grab one image to test\n",
    "classed_img = ndre_img.addBands(lc)"
   ]
  },
  {
   "cell_type": "code",
   "execution_count": 82,
   "metadata": {},
   "outputs": [],
   "source": [
    "Map.addLayer(classed_col, {}, 'test')"
   ]
  },
  {
   "cell_type": "code",
   "execution_count": 83,
   "metadata": {},
   "outputs": [],
   "source": [
    "Map.addLayer(classed_img, {}, 'test img')"
   ]
  },
  {
   "cell_type": "code",
   "execution_count": 95,
   "metadata": {},
   "outputs": [
    {
     "name": "stdout",
     "output_type": "stream",
     "text": [
      "{'groups': [{'class': 20}, {'class': 30}, {'class': 40}, {'class': 112}, {'class': 116}, {'class': 122}, {'class': 126}]}\n"
     ]
    }
   ],
   "source": [
    "#Calculate mean per class\n",
    "def classMean(img):\n",
    "    reducer = (ee.Reducer\n",
    "               .mean() #For some reason, mean wont work\n",
    "               .group(groupField= 1, groupName= 'class'))\n",
    "    return img.reduceRegion(reducer=reducer, geometry=fc, scale=20, maxPixels=1e8)\n",
    "\n",
    "d = classMean(classed_img)\n",
    "print(d.getInfo())"
   ]
  }
 ],
 "metadata": {
  "kernelspec": {
   "display_name": "Python 3",
   "language": "python",
   "name": "python3"
  },
  "language_info": {
   "codemirror_mode": {
    "name": "ipython",
    "version": 3
   },
   "file_extension": ".py",
   "mimetype": "text/x-python",
   "name": "python",
   "nbconvert_exporter": "python",
   "pygments_lexer": "ipython3",
   "version": "3.7.0"
  }
 },
 "nbformat": 4,
 "nbformat_minor": 2
}
