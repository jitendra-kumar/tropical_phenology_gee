{
 "cells": [
  {
   "cell_type": "code",
   "execution_count": 1,
   "metadata": {},
   "outputs": [],
   "source": [
    "import ee\n",
    "import geemap\n",
    "import os\n",
    "import numpy as np\n",
    "from scipy import signal as sp\n",
    "from matplotlib import pyplot as plt"
   ]
  },
  {
   "cell_type": "code",
   "execution_count": null,
   "metadata": {},
   "outputs": [],
   "source": [
    "manaus_shp = '/home/6ru/tile_shapefiles/manaus/venus_fgmanaus_footprint.shp'\n",
    "manaus = geemap.shp_to_ee(manaus_shp)\n",
    "info = manaus.geometry()\n",
    "manaus = ee.Geometry(info)"
   ]
  },
  {
   "cell_type": "code",
   "execution_count": null,
   "metadata": {},
   "outputs": [],
   "source": [
    "atto_shp = '/Users/morgansteckler/Downloads/venus_atto_footprint/venus_atto_footprint.shp'\n",
    "atto = geemap.shp_to_ee(atto_shp)\n",
    "info = atto.geometry()\n",
    "atto = ee.Geometry(info)"
   ]
  },
  {
   "cell_type": "code",
   "execution_count": null,
   "metadata": {},
   "outputs": [],
   "source": [
    "corumba_shp = '/Users/morgansteckler/Downloads/venus_corumba_footprint/venus_corumba_footprint.shp'\n",
    "corumba = geemap.shp_to_ee(corumba_shp)\n",
    "info = corumba.geometry()\n",
    "corumba = ee.Geometry(info)"
   ]
  },
  {
   "cell_type": "code",
   "execution_count": null,
   "metadata": {},
   "outputs": [],
   "source": [
    "mato_shp = '/Users/morgansteckler/Downloads/venus_mato_footprint/venus_mato_footprint.shp'\n",
    "mato = geemap.shp_to_ee(mato_shp)\n",
    "info = mato.geometry()\n",
    "mato = ee.Geometry(info)"
   ]
  },
  {
   "cell_type": "code",
   "execution_count": null,
   "metadata": {},
   "outputs": [],
   "source": [
    "saop_shp = '/Users/morgansteckler/Downloads/venus_saop_footprint/venus_saop_footprint.shp'\n",
    "saop = geemap.shp_to_ee(saop_shp)\n",
    "info = saop.geometry()\n",
    "saop = ee.Geometry(info)"
   ]
  },
  {
   "cell_type": "code",
   "execution_count": null,
   "metadata": {},
   "outputs": [],
   "source": [
    "#IMPORTANT\n",
    "#Select geom of interest\n",
    "fc = manaus"
   ]
  },
  {
   "cell_type": "code",
   "execution_count": null,
   "metadata": {},
   "outputs": [],
   "source": [
    "Map = geemap.Map()\n",
    "Map.centerObject(fc, 10)\n",
    "Map"
   ]
  },
  {
   "cell_type": "code",
   "execution_count": null,
   "metadata": {},
   "outputs": [],
   "source": [
    "#Calculate NDRE and set palette\n",
    "def addNDRE(image):\n",
    "    ndre = image.normalizedDifference(['B8', 'B5']).rename('NDRE')\n",
    "    return image.addBands(ndre)\n",
    "\n",
    "#Set NDRE parameters for visualization\n",
    "ndre_params = ({'min': 0.0,'max': 1.0, 'palette' : \n",
    "               ['FFFFFF', 'CE7E45', 'DF923D', 'F1B555', 'FCD163', '99B718',\n",
    "               '74A901', '66A000', '529400', '3E8601', '207401', '056201',\n",
    "               '004C00', '023B01', '012E01', '011D01', '011301']})\n",
    "\n",
    "#Create cloud mask\n",
    "cloudBitMask = ee.Number(2).pow(10).int() #bit 10 is clouds\n",
    "cirrusBitMask = ee.Number(2).pow(11).int() #bit 11 is cirrus clouds\n",
    "def maskS2clouds(image):\n",
    "    qa = image.select('QA60')\n",
    "    # Both flags should be set to zero, indicating clear conditions.\n",
    "    mask = (qa.bitwiseAnd(cloudBitMask).eq(0).And(\n",
    "             qa.bitwiseAnd(cirrusBitMask).eq(0)))\n",
    "    return image.updateMask(mask)"
   ]
  },
  {
   "cell_type": "code",
   "execution_count": null,
   "metadata": {},
   "outputs": [],
   "source": [
    "#Load sentinel-2 data\n",
    "s2 = (ee.ImageCollection('COPERNICUS/S2')#Select S2 1-C level data\n",
    "      .select(['B5', 'B8', 'QA60']) #Select necessary bands to reduce memory usage\n",
    "      .filterBounds(fc) #Narrow data spatially\n",
    "      .filterDate(ee.Date('2016-01-01'), ee.Date('2019-12-31')) #Select years of interest\n",
    "      .sort('CLOUDY_PIXEL_PERCENTAGE', False) #Put smallest %cloud image on top of stack\n",
    "      .map(addNDRE)) #calculate NDRE and add as band"
   ]
  },
  {
   "cell_type": "code",
   "execution_count": null,
   "metadata": {},
   "outputs": [],
   "source": [
    "#Create collection with cloud mask\n",
    "col = s2.map(maskS2clouds)"
   ]
  },
  {
   "cell_type": "code",
   "execution_count": null,
   "metadata": {},
   "outputs": [],
   "source": [
    "#15-day step\n",
    "years = ee.List.sequence(2016, 2019)\n",
    "step = ee.List.sequence(1, 365, 15)\n",
    "\n",
    "def byYear(y):\n",
    "    y = ee.Number(y)\n",
    "    def byStep(d):\n",
    "        d = ee.Number(d)\n",
    "        return (col\n",
    "                .filter(ee.Filter.calendarRange(y, y.add(1), 'year')) #yearly step\n",
    "                .filter(ee.Filter.calendarRange(d, d.add(15), 'day_of_year')) #15-day step\n",
    "                .qualityMosaic('NDRE') #Max greenness\n",
    "                .set('step', [d, y])) #Add properties\n",
    "    return step.map(byStep)\n",
    "\n",
    "col = ee.ImageCollection.fromImages(years.map(byYear).flatten())\n",
    "col = col.map(lambda image: image.clip(fc)).select('NDRE')"
   ]
  },
  {
   "cell_type": "code",
   "execution_count": null,
   "metadata": {},
   "outputs": [],
   "source": [
    "#Makes sure there are 100 (25 15-day steps * 4 years = 100 composites)\n",
    "count = col.size().getInfo()\n",
    "print(count)"
   ]
  },
  {
   "cell_type": "code",
   "execution_count": null,
   "metadata": {},
   "outputs": [],
   "source": [
    "#Check step property\n",
    "properties = col.aggregate_array('step').getInfo()\n",
    "print(properties)"
   ]
  },
  {
   "cell_type": "code",
   "execution_count": null,
   "metadata": {},
   "outputs": [],
   "source": [
    "#Check that only one band is selected\n",
    "bands = col.first().bandNames().getInfo()\n",
    "print(bands)"
   ]
  },
  {
   "cell_type": "code",
   "execution_count": null,
   "metadata": {},
   "outputs": [],
   "source": [
    "geom = fc\n",
    "\n",
    "# Mean\n",
    "def region_mean_Image(img):\n",
    "    # mean over all pixels in the region for the image\n",
    "    return img.set('mean', img.reduceRegion(ee.Reducer.mean(), geometry=geom, scale=20)) \n",
    "\n",
    "def region_mean_ImageCollection(ic):\n",
    "    # mean over all pixels in the region, for each image in the ImageCollection\n",
    "    stats = ic.map(region_mean_Image)\n",
    "    stats_list = stats.aggregate_array('mean')\n",
    "    return np.array(stats_list.getInfo())\n",
    "\n",
    "# Median\n",
    "def region_median_Image(img):\n",
    "    # mean over all pixels in the region for the image\n",
    "    return img.set('median', img.reduceRegion(ee.Reducer.median(), geometry=geom, scale=20)) \n",
    "\n",
    "def region_median_ImageCollection(ic):\n",
    "    # mean over all pixels in the region, for each image in the ImageCollection\n",
    "    stats = ic.map(region_median_Image)\n",
    "    stats_list = stats.aggregate_array('median')\n",
    "    return np.array(stats_list.getInfo())\n",
    "\n",
    "# Stddev\n",
    "def region_stddev_Image(img):\n",
    "    # stddev over all pixels in the region for the image\n",
    "    return img.set('stddev', img.reduceRegion(ee.Reducer.stdDev(), geometry=geom, scale=20)) \n",
    "\n",
    "def region_stddev_ImageCollection(ic):\n",
    "    # stddev over all pixels in the region, for each image in the ImageCollection\n",
    "    stats = ic.map(region_stddev_Image)\n",
    "    stats_list = stats.aggregate_array('stddev')\n",
    "    return np.array(stats_list.getInfo())\n",
    "\n",
    "# Percentiles\n",
    "def region_percentiles_Image(img):\n",
    "    # 5,10,25,75,90,95 percentiles over all pixels in the region for the image\n",
    "    return img.set('percentiles', img.reduceRegion(ee.Reducer.percentile([5,10,25,75,90,95]), geometry=geom, scale=20)) #) mean, median, stdDev, percentiles\n",
    "\n",
    "def region_percentiles_ImageCollection(ic):\n",
    "    # percentiles over all pixels in the region, for each image in the ImageCollection\n",
    "    stats = ic.map(region_percentiles_Image)\n",
    "    stats_list = stats.aggregate_array('percentiles')\n",
    "    return np.array(stats_list.getInfo())"
   ]
  },
  {
   "cell_type": "code",
   "execution_count": null,
   "metadata": {},
   "outputs": [],
   "source": [
    "#Create list of dictionaries as [{'NDRE': value} ...]\n",
    "mean_list = region_mean_ImageCollection(col)\n",
    "median_list = region_median_ImageCollection(col)\n",
    "stddev_list = region_stddev_ImageCollection(col)\n",
    "percentile_list = region_percentiles_ImageCollection(col)"
   ]
  },
  {
   "cell_type": "code",
   "execution_count": null,
   "metadata": {},
   "outputs": [],
   "source": [
    "#Show if there are any blank {} dictionaries\n",
    "print(mean_list)"
   ]
  },
  {
   "cell_type": "code",
   "execution_count": null,
   "metadata": {},
   "outputs": [],
   "source": [
    "#Replace empty dicts with {'NDRE': None}\n",
    "#Atto: 5, 24\n",
    "#Saop: 9, 24, 99\n",
    "dic = {'NDRE': None}\n",
    "p_dic = {'NDRE_p10': None, 'NDRE_p25': None, 'NDRE_p5': None, 'NDRE_p75': None, 'NDRE_p90': None, 'NDRE_p95': None}\n",
    "mean_list[5], mean_list[24] = dic, dic\n",
    "median_list[5], median_list[24] = dic, dic\n",
    "stddev_list[5], stddev_list[24] = dic, dic\n",
    "percentile_list[5], percentile_list[24] = p_dic, p_dic"
   ]
  },
  {
   "cell_type": "code",
   "execution_count": null,
   "metadata": {},
   "outputs": [],
   "source": [
    "#Take only the ndre mean, med, stddev dict values and append to new list\n",
    "def newList(alist):\n",
    "    list_name = []\n",
    "    for value in alist:\n",
    "        list_name.append(value['NDRE'])\n",
    "    return list_name\n",
    "\n",
    "#Append ndre percentile dict values to new lists\n",
    "def p_list(alist):\n",
    "    p10, p25, p5, p75, p90, p95 = [], [], [], [], [], []\n",
    "    for value in alist:\n",
    "        p5.append(value['NDRE_p5'])\n",
    "        p10.append(value['NDRE_p10'])\n",
    "        p25.append(value['NDRE_p25'])\n",
    "        p75.append(value['NDRE_p75'])\n",
    "        p90.append(value['NDRE_p90'])\n",
    "        p95.append(value['NDRE_p95'])\n",
    "    return p5, p10, p25, p75, p90, p95"
   ]
  },
  {
   "cell_type": "code",
   "execution_count": null,
   "metadata": {},
   "outputs": [],
   "source": [
    "#Make lists for each set of values\n",
    "mean_ndre = newList(mean_list)\n",
    "median_ndre = newList(median_list)\n",
    "stddev_ndre = newList(stddev_list)\n",
    "percentile_ndre = p_list(percentile_list)"
   ]
  },
  {
   "cell_type": "code",
   "execution_count": null,
   "metadata": {},
   "outputs": [],
   "source": [
    "#Change None values to np.nan so graphs will skip those Nulls\n",
    "mean_ndre = [np.nan if v is None else v for v in mean_ndre]\n",
    "median_ndre = [np.nan if v is None else v for v in median_ndre]\n",
    "stddev_ndre = [np.nan if v is None else v for v in stddev_ndre]\n",
    "percentile_ndre = [np.nan if v is None else v for v in percentile_ndre]"
   ]
  },
  {
   "cell_type": "code",
   "execution_count": null,
   "metadata": {},
   "outputs": [],
   "source": [
    "#Make lists with +/- SD\n",
    "plus_error = [x + y for x,y in zip(mean_ndre, stddev_ndre)]\n",
    "minus_error = [x - y for x,y in zip(mean_ndre, stddev_ndre)]"
   ]
  },
  {
   "cell_type": "code",
   "execution_count": null,
   "metadata": {},
   "outputs": [],
   "source": [
    "#Create 15-step list for four years\n",
    "period = list(range(0,100))\n",
    "period = np.array(period)"
   ]
  },
  {
   "cell_type": "code",
   "execution_count": null,
   "metadata": {},
   "outputs": [],
   "source": [
    "#Manaus\n",
    "#Mean and SD\n",
    "x = period\n",
    "y = mean_ndre\n",
    "m = median_ndre\n",
    "plt.axes([2, 0, 2, 1])\n",
    "plt.ylim(bottom = 0, top = 1)\n",
    "plt.grid(b = True, which = 'major', axis = 'x')\n",
    "plt.title('2016-2019 (15-day step) mean, median, and SD of NDRE for Manaus Tile')\n",
    "plt.fill_between(x, plus_error, minus_error, color = \"grey\", alpha = .5, label = \"Standard Deviation\")\n",
    "mean = plt.plot(x,y, color = \"black\", label = \"Mean\")\n",
    "median = plt.plot(x,m, color = \"red\", label = \"Median\")\n",
    "plt.legend(loc = \"lower right\")\n",
    "plt.xticks(ticks = [0, 25, 50, 75, 99], labels = ['Jan 2016', 'Jan 2017', 'Jan 2018', 'Jan 2019', '26 Dec 2019'])\n",
    "plt.show()"
   ]
  },
  {
   "cell_type": "code",
   "execution_count": null,
   "metadata": {},
   "outputs": [],
   "source": [
    "#Manaus\n",
    "#Median and Percentiles\n",
    "x = period\n",
    "plt.axes([2, 0, 2, 1])\n",
    "plt.ylim(bottom = 0, top = 1)\n",
    "plt.grid(b = True, which = 'major', axis = 'x')\n",
    "y5 = plt.plot(x,percentile_ndre[0], color = \"red\", label = \"P5\")\n",
    "y10 = plt.plot(x,percentile_ndre[1], color = \"orange\", label = \"P10\")\n",
    "y25 = plt.plot(x,percentile_ndre[2], color = \"green\", label = \"P25\")\n",
    "y75 = plt.plot(x,percentile_ndre[3], color = \"blue\", label = \"P75\")\n",
    "y90 = plt.plot(x,percentile_ndre[4], color = \"purple\", label = \"P90\")\n",
    "y95 = plt.plot(x,percentile_ndre[5], color = \"black\", label = \"P95\")\n",
    "plt.title('2016-2019 (15-day step) median NDRE and percentiles for Manaus Tile')\n",
    "median = plt.plot(x,y, color = \"black\", linestyle = \":\", label = \"Median\")\n",
    "plt.legend(loc = \"lower right\")\n",
    "plt.xticks(ticks = [0, 25, 50, 75, 99], labels = ['Jan 2016', 'Jan 2017', 'Jan 2018', 'Jan 2019', '26 Dec 2019'])\n",
    "plt.show()"
   ]
  },
  {
   "cell_type": "code",
   "execution_count": null,
   "metadata": {},
   "outputs": [],
   "source": [
    "#Atto\n",
    "#Mean and SD\n",
    "x = period\n",
    "y = mean_ndre\n",
    "m = median_ndre\n",
    "plt.axes([2, 0, 2, 1])\n",
    "plt.ylim(bottom = 0, top = 1)\n",
    "plt.grid(b = True, which = 'major', axis = 'x')\n",
    "plt.title('2016-2019 (15-day step) mean, median, and SD of NDRE for Atto Tile')\n",
    "plt.fill_between(x, plus_error, minus_error, color = \"grey\", alpha = .5, label = \"Standard Deviation\")\n",
    "mean = plt.plot(x,y, color = \"black\", label = \"Mean\")\n",
    "median = plt.plot(x,m, color = \"red\", label = \"Median\")\n",
    "plt.legend(loc = \"lower right\")\n",
    "plt.xticks(ticks = [0, 25, 50, 75, 99], labels = ['Jan 2016', 'Jan 2017', 'Jan 2018', 'Jan 2019', '26 Dec 2019'])\n",
    "plt.show()"
   ]
  },
  {
   "cell_type": "code",
   "execution_count": null,
   "metadata": {},
   "outputs": [],
   "source": [
    "#Atto\n",
    "#Median and Percentiles\n",
    "x = period\n",
    "plt.axes([2, 0, 2, 1])\n",
    "plt.ylim(bottom = 0, top = 1)\n",
    "plt.grid(b = True, which = 'major', axis = 'x')\n",
    "y5 = plt.plot(x,percentile_ndre[0], color = \"red\", label = \"P5\")\n",
    "y10 = plt.plot(x,percentile_ndre[1], color = \"orange\", label = \"P10\")\n",
    "y25 = plt.plot(x,percentile_ndre[2], color = \"green\", label = \"P25\")\n",
    "y75 = plt.plot(x,percentile_ndre[3], color = \"blue\", label = \"P75\")\n",
    "y90 = plt.plot(x,percentile_ndre[4], color = \"purple\", label = \"P90\")\n",
    "y95 = plt.plot(x,percentile_ndre[5], color = \"black\", label = \"P95\")\n",
    "plt.title('2016-2019 (15-day step) median NDRE and percentiles for Atto Tile')\n",
    "median = plt.plot(x,m, color = \"black\", linestyle = \":\", label = \"Median\")\n",
    "plt.legend(loc = \"lower right\")\n",
    "plt.xticks(ticks = [0, 25, 50, 75, 99], labels = ['Jan 2016', 'Jan 2017', 'Jan 2018', 'Jan 2019', '26 Dec 2019'])\n",
    "plt.show()"
   ]
  },
  {
   "cell_type": "code",
   "execution_count": null,
   "metadata": {},
   "outputs": [],
   "source": [
    "#Corumba\n",
    "#Mean and SD\n",
    "x = period\n",
    "y = mean_ndre\n",
    "m = median_ndre\n",
    "plt.axes([2, 0, 2, 1])\n",
    "plt.ylim(bottom = 0, top = 1)\n",
    "plt.grid(b = True, which = 'major', axis = 'x')\n",
    "plt.title('2016-2019 (15-day step) mean, median, and SD of NDRE for Corumba Tile')\n",
    "plt.fill_between(x, plus_error, minus_error, color = \"grey\", alpha = .5, label = \"Standard Deviation\")\n",
    "mean = plt.plot(x,y, color = \"black\", label = \"Mean\")\n",
    "median = plt.plot(x,m, color = \"red\", label = \"Median\")\n",
    "plt.legend(loc = \"lower right\")\n",
    "plt.xticks(ticks = [0, 25, 50, 75, 99], labels = ['Jan 2016', 'Jan 2017', 'Jan 2018', 'Jan 2019', '26 Dec 2019'])\n",
    "plt.show()"
   ]
  },
  {
   "cell_type": "code",
   "execution_count": null,
   "metadata": {},
   "outputs": [],
   "source": [
    "#Corumba\n",
    "#Median and Percentiles\n",
    "x = period\n",
    "plt.axes([2, 0, 2, 1])\n",
    "plt.ylim(bottom = 0, top = 1)\n",
    "plt.grid(b = True, which = 'major', axis = 'x')\n",
    "y5 = plt.plot(x,percentile_ndre[0], color = \"red\", label = \"P5\")\n",
    "y10 = plt.plot(x,percentile_ndre[1], color = \"orange\", label = \"P10\")\n",
    "y25 = plt.plot(x,percentile_ndre[2], color = \"green\", label = \"P25\")\n",
    "y75 = plt.plot(x,percentile_ndre[3], color = \"blue\", label = \"P75\")\n",
    "y90 = plt.plot(x,percentile_ndre[4], color = \"purple\", label = \"P90\")\n",
    "y95 = plt.plot(x,percentile_ndre[5], color = \"black\", label = \"P95\")\n",
    "plt.title('2016-2019 (15-day step) median NDRE and percentiles for Corumba Tile')\n",
    "median = plt.plot(x,m, color = \"black\", linestyle = \":\", label = \"Median\")\n",
    "plt.legend(loc = \"lower right\")\n",
    "plt.xticks(ticks = [0, 25, 50, 75, 99], labels = ['Jan 2016', 'Jan 2017', 'Jan 2018', 'Jan 2019', '26 Dec 2019'])\n",
    "plt.show()"
   ]
  },
  {
   "cell_type": "code",
   "execution_count": null,
   "metadata": {},
   "outputs": [],
   "source": [
    "#Mato\n",
    "#Mean and SD\n",
    "x = period\n",
    "y = mean_ndre\n",
    "m = median_ndre\n",
    "plt.axes([2, 0, 2, 1])\n",
    "plt.ylim(bottom = 0, top = 1)\n",
    "plt.grid(b = True, which = 'major', axis = 'x')\n",
    "plt.title('2016-2019 (15-day step) mean, median, and SD of NDRE for Mato Tile')\n",
    "plt.fill_between(x, plus_error, minus_error, color = \"grey\", alpha = .5, label = \"Standard Deviation\")\n",
    "mean = plt.plot(x,y, color = \"black\", label = \"Mean\")\n",
    "median = plt.plot(x,m, color = \"red\", label = \"Median\")\n",
    "plt.legend(loc = \"lower right\")\n",
    "plt.xticks(ticks = [0, 25, 50, 75, 99], labels = ['Jan 2016', 'Jan 2017', 'Jan 2018', 'Jan 2019', '26 Dec 2019'])\n",
    "plt.show()"
   ]
  },
  {
   "cell_type": "code",
   "execution_count": null,
   "metadata": {},
   "outputs": [],
   "source": [
    "#Mato\n",
    "#Median and Percentiles\n",
    "x = period\n",
    "plt.axes([2, 0, 2, 1])\n",
    "plt.ylim(bottom = 0, top = 1)\n",
    "plt.grid(b = True, which = 'major', axis = 'x')\n",
    "y5 = plt.plot(x,percentile_ndre[0], color = \"red\", label = \"P5\")\n",
    "y10 = plt.plot(x,percentile_ndre[1], color = \"orange\", label = \"P10\")\n",
    "y25 = plt.plot(x,percentile_ndre[2], color = \"green\", label = \"P25\")\n",
    "y75 = plt.plot(x,percentile_ndre[3], color = \"blue\", label = \"P75\")\n",
    "y90 = plt.plot(x,percentile_ndre[4], color = \"purple\", label = \"P90\")\n",
    "y95 = plt.plot(x,percentile_ndre[5], color = \"black\", label = \"P95\")\n",
    "plt.title('2016-2019 (15-day step) median NDRE and percentiles for Mato Tile')\n",
    "median = plt.plot(x,m, color = \"black\", linestyle = \":\", label = \"Median\")\n",
    "plt.legend(loc = \"lower right\")\n",
    "plt.xticks(ticks = [0, 25, 50, 75, 99], labels = ['Jan 2016', 'Jan 2017', 'Jan 2018', 'Jan 2019', '26 Dec 2019'])\n",
    "plt.show()"
   ]
  },
  {
   "cell_type": "code",
   "execution_count": null,
   "metadata": {},
   "outputs": [],
   "source": [
    "#Saop\n",
    "#Mean and SD\n",
    "x = period\n",
    "y = mean_ndre\n",
    "m = median_ndre\n",
    "plt.axes([2, 0, 2, 1])\n",
    "plt.ylim(bottom = 0, top = 1)\n",
    "plt.grid(b = True, which = 'major', axis = 'x')\n",
    "plt.title('2016-2019 (15-day step) mean, median, and SD of NDRE for Saop Tile')\n",
    "plt.fill_between(x, plus_error, minus_error, color = \"grey\", alpha = .5, label = \"Standard Deviation\")\n",
    "mean = plt.plot(x,y, color = \"black\", label = \"Mean\")\n",
    "median = plt.plot(x,m, color = \"red\", label = \"Median\")\n",
    "plt.legend(loc = \"lower right\")\n",
    "plt.xticks(ticks = [0, 25, 50, 75, 99], labels = ['Jan 2016', 'Jan 2017', 'Jan 2018', 'Jan 2019', '26 Dec 2019'])\n",
    "plt.show()"
   ]
  },
  {
   "cell_type": "code",
   "execution_count": null,
   "metadata": {},
   "outputs": [],
   "source": [
    "#Saop\n",
    "#Median and Percentiles\n",
    "x = period\n",
    "plt.axes([2, 0, 2, 1])\n",
    "plt.ylim(bottom = 0, top = 1)\n",
    "plt.grid(b = True, which = 'major', axis = 'x')\n",
    "y5 = plt.plot(x,percentile_ndre[0], color = \"red\", label = \"P5\")\n",
    "y10 = plt.plot(x,percentile_ndre[1], color = \"orange\", label = \"P10\")\n",
    "y25 = plt.plot(x,percentile_ndre[2], color = \"green\", label = \"P25\")\n",
    "y75 = plt.plot(x,percentile_ndre[3], color = \"blue\", label = \"P75\")\n",
    "y90 = plt.plot(x,percentile_ndre[4], color = \"purple\", label = \"P90\")\n",
    "y95 = plt.plot(x,percentile_ndre[5], color = \"black\", label = \"P95\")\n",
    "plt.title('2016-2019 (15-day step) median NDRE and percentiles for Saop Tile')\n",
    "median = plt.plot(x,m, color = \"black\", linestyle = \":\", label = \"Median\")\n",
    "plt.legend(loc = \"lower right\")\n",
    "plt.xticks(ticks = [0, 25, 50, 75, 99], labels = ['Jan 2016', 'Jan 2017', 'Jan 2018', 'Jan 2019', '26 Dec 2019'])\n",
    "plt.show()"
   ]
  },
  {
   "cell_type": "code",
   "execution_count": null,
   "metadata": {},
   "outputs": [],
   "source": [
    "#Export images from a collection\n",
    "out_dir = '/home/6ru/tiles/manaus/'\n",
    "geemap.ee_export_image_collection(col, out_dir, region = manaus, scale = 20, file_per_band=False)"
   ]
  }
 ],
 "metadata": {
  "kernelspec": {
   "display_name": "Python 3",
   "language": "python",
   "name": "python3"
  },
  "language_info": {
   "codemirror_mode": {
    "name": "ipython",
    "version": 3
   },
   "file_extension": ".py",
   "mimetype": "text/x-python",
   "name": "python",
   "nbconvert_exporter": "python",
   "pygments_lexer": "ipython3",
   "version": "3.8.2"
  }
 },
 "nbformat": 4,
 "nbformat_minor": 4
}
