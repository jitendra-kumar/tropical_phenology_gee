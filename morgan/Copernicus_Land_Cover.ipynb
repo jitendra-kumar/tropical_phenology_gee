{
 "cells": [
  {
   "cell_type": "code",
   "execution_count": 192,
   "metadata": {},
   "outputs": [],
   "source": [
    "import ee\n",
    "import geemap\n",
    "import os\n",
    "import numpy as np\n",
    "from scipy import signal as sp\n",
    "from matplotlib import pyplot as plt"
   ]
  },
  {
   "cell_type": "code",
   "execution_count": 193,
   "metadata": {},
   "outputs": [
    {
     "data": {
      "application/vnd.jupyter.widget-view+json": {
       "model_id": "16bdb307b1014422a45446b7f4e4e4e3",
       "version_major": 2,
       "version_minor": 0
      },
      "text/plain": [
       "Map(center=[-2.609097222, -60.20929722], controls=(WidgetControl(options=['position'], widget=HBox(children=(T…"
      ]
     },
     "metadata": {},
     "output_type": "display_data"
    }
   ],
   "source": [
    "Map = geemap.Map(center = (-2.609097222, -60.20929722), zoom = 8)\n",
    "Map"
   ]
  },
  {
   "cell_type": "code",
   "execution_count": 208,
   "metadata": {},
   "outputs": [],
   "source": [
    "#Load manause Venus footprint\n",
    "manaus_shp = '/Users/morgansteckler/Downloads/venus_fgmanaus_footprint/venus_fgmanaus_footprint.shp'\n",
    "manaus = geemap.shp_to_ee(manaus_shp)"
   ]
  },
  {
   "cell_type": "code",
   "execution_count": 194,
   "metadata": {},
   "outputs": [],
   "source": [
    "#Load corumba Venus footprint\n",
    "corumba_shp = '/Users/morgansteckler/Downloads/venus_corumba_footprint/venus_corumba_footprint.shp'\n",
    "corumba = geemap.shp_to_ee(corumba_shp)"
   ]
  },
  {
   "cell_type": "code",
   "execution_count": 219,
   "metadata": {},
   "outputs": [],
   "source": [
    "atto_shp = '/Users/morgansteckler/Downloads/venus_atto_footprint/venus_atto_footprint.shp'\n",
    "atto = geemap.shp_to_ee(atto_shp)"
   ]
  },
  {
   "cell_type": "code",
   "execution_count": 231,
   "metadata": {},
   "outputs": [],
   "source": [
    "mato_shp = '/Users/morgansteckler/Downloads/venus_mato_footprint/venus_mato_footprint.shp'\n",
    "mato = geemap.shp_to_ee(mato_shp)"
   ]
  },
  {
   "cell_type": "code",
   "execution_count": 242,
   "metadata": {},
   "outputs": [],
   "source": [
    "saop_shp = '/Users/morgansteckler/Downloads/venus_saop_footprint/venus_saop_footprint.shp'\n",
    "saop = geemap.shp_to_ee(saop_shp)"
   ]
  },
  {
   "cell_type": "code",
   "execution_count": 243,
   "metadata": {},
   "outputs": [],
   "source": [
    "#Set choice footprint\n",
    "json = saop"
   ]
  },
  {
   "cell_type": "code",
   "execution_count": 244,
   "metadata": {},
   "outputs": [],
   "source": [
    "#Grab 2015 discrete landcover classes at 100 m resoltion\n",
    "lc = (ee.Image(\"COPERNICUS/Landcover/100m/Proba-V/Global/2015\")\n",
    "      .select('discrete_classification')\n",
    "      .clip(json))\n",
    "#Set palette for visualization\n",
    "lc_params = {'palette':\n",
    "             ['282828', 'FFBB22', 'FFFF4C', 'F096FF', \n",
    "              'FA0000', 'B4B4B4', 'F0F0F0', '0032C8', \n",
    "              '0096A0', 'FAE6A0', '58481F', '009900', \n",
    "              '70663E', '00CC00', '4E751F', '007800', \n",
    "              '666000', '8DB400', '8D7400', 'A0DC00', \n",
    "              '929900', '648C00', '000080']}"
   ]
  },
  {
   "cell_type": "code",
   "execution_count": 222,
   "metadata": {},
   "outputs": [],
   "source": [
    "Map.addLayer(lc, lc_params, 'corumba')"
   ]
  },
  {
   "cell_type": "code",
   "execution_count": 245,
   "metadata": {},
   "outputs": [],
   "source": [
    "#Calculate pixel area for each pixel in an image\n",
    "def pixelArea(img):\n",
    "    area = ee.Image.pixelArea()\n",
    "    return img.addBands(area)"
   ]
  },
  {
   "cell_type": "code",
   "execution_count": 246,
   "metadata": {},
   "outputs": [],
   "source": [
    "#Create an area image and combine with landcover classes\n",
    "area_img = pixelArea(lc);\n",
    "area_img = area_img.select('area')\n",
    "both = area_img.addBands(lc)"
   ]
  },
  {
   "cell_type": "code",
   "execution_count": 247,
   "metadata": {},
   "outputs": [
    {
     "name": "stdout",
     "output_type": "stream",
     "text": [
      "{'groups': [{'class': 20, 'sum': 16543012.944722734}, {'class': 30, 'sum': 281735015.2002375}, {'class': 40, 'sum': 396756693.7725992}, {'class': 50, 'sum': 6822790.371300551}, {'class': 60, 'sum': 164720.884765625}, {'class': 80, 'sum': 12466207.454484522}, {'class': 90, 'sum': 3467496.3362362133}, {'class': 112, 'sum': 566527914.3084749}, {'class': 114, 'sum': 10469800.103910077}, {'class': 116, 'sum': 128685260.12310816}, {'class': 122, 'sum': 23695088.42065334}, {'class': 124, 'sum': 606151.7892769608}, {'class': 126, 'sum': 282114830.179163}]}\n"
     ]
    }
   ],
   "source": [
    "#Calculate total area per landcover class\n",
    "def pixelSum(img):\n",
    "    reducer = (ee.Reducer\n",
    "               .sum()\n",
    "               .group(groupField= 1, groupName= 'class'))\n",
    "    return img.reduceRegion(reducer=reducer, geometry=json, scale=100, maxPixels=1e8)\n",
    "\n",
    "#Create dictionary as {'groups': [{'class':#, 'sum':#}, etc]} and print\n",
    "dictionary = pixelSum(both)\n",
    "area_sums = dictionary.getInfo()\n",
    "print(area_sums)"
   ]
  },
  {
   "cell_type": "code",
   "execution_count": 248,
   "metadata": {},
   "outputs": [
    {
     "name": "stdout",
     "output_type": "stream",
     "text": [
      "[{'class': 20, 'sum': 16543012.944722734}, {'class': 30, 'sum': 281735015.2002375}, {'class': 40, 'sum': 396756693.7725992}, {'class': 50, 'sum': 6822790.371300551}, {'class': 60, 'sum': 164720.884765625}, {'class': 80, 'sum': 12466207.454484522}, {'class': 90, 'sum': 3467496.3362362133}, {'class': 112, 'sum': 566527914.3084749}, {'class': 114, 'sum': 10469800.103910077}, {'class': 116, 'sum': 128685260.12310816}, {'class': 122, 'sum': 23695088.42065334}, {'class': 124, 'sum': 606151.7892769608}, {'class': 126, 'sum': 282114830.179163}]\n"
     ]
    }
   ],
   "source": [
    "#Grab the list of dicitonaries\n",
    "sums = list(area_sums['groups'])\n",
    "print(sums)"
   ]
  },
  {
   "cell_type": "code",
   "execution_count": 249,
   "metadata": {},
   "outputs": [
    {
     "name": "stdout",
     "output_type": "stream",
     "text": [
      "[16543012.944722734, 281735015.2002375, 396756693.7725992, 6822790.371300551, 164720.884765625, 12466207.454484522, 3467496.3362362133, 566527914.3084749, 10469800.103910077, 128685260.12310816, 23695088.42065334, 606151.7892769608, 282114830.179163]\n",
      "[20, 30, 40, 50, 60, 80, 90, 112, 114, 116, 122, 124, 126]\n"
     ]
    }
   ],
   "source": [
    "#Create a new list with just the values and print\n",
    "def valuesList(alist):\n",
    "    values = []\n",
    "    for value in alist:\n",
    "        values.append(value['sum'])\n",
    "    return values\n",
    "\n",
    "values_list = valuesList(sums)\n",
    "print(values_list)\n",
    "\n",
    "def keysList(alist):\n",
    "    keys = []\n",
    "    for key in alist:\n",
    "        keys.append(key['class'])\n",
    "    return keys\n",
    "\n",
    "keys_list = keysList(sums)\n",
    "print(keys_list)"
   ]
  },
  {
   "cell_type": "code",
   "execution_count": 250,
   "metadata": {},
   "outputs": [
    {
     "name": "stdout",
     "output_type": "stream",
     "text": [
      "1730054981.888933\n"
     ]
    }
   ],
   "source": [
    "#Calculate total area by summing all the sums\n",
    "total_area = sum(map(float, values_list))\n",
    "print(total_area)"
   ]
  },
  {
   "cell_type": "code",
   "execution_count": 251,
   "metadata": {},
   "outputs": [
    {
     "name": "stdout",
     "output_type": "stream",
     "text": [
      "[0.9562131329872828, 16.28474344165812, 22.933184085248364, 0.3943684127224209, 0.009521135830364022, 0.7205671256108573, 0.20042694437666267, 32.74623756118551, 0.6051715242297556, 7.438217945108612, 1.3696147618835925, 0.03503656216839673, 16.306697366990058]\n"
     ]
    }
   ],
   "source": [
    "#Create list of percent area per class and print\n",
    "def percentArea(alist):\n",
    "    percents = []\n",
    "    for value in alist:\n",
    "        percent = (value / total_area)*100\n",
    "        percents.append(percent)\n",
    "    return percents\n",
    "\n",
    "area_percents = percentArea(values_list)\n",
    "print(area_percents)"
   ]
  },
  {
   "cell_type": "code",
   "execution_count": 252,
   "metadata": {},
   "outputs": [
    {
     "name": "stdout",
     "output_type": "stream",
     "text": [
      "[(20, 0.9562131329872828), (30, 16.28474344165812), (40, 22.933184085248364), (50, 0.3943684127224209), (60, 0.009521135830364022), (80, 0.7205671256108573), (90, 0.20042694437666267), (112, 32.74623756118551), (114, 0.6051715242297556), (116, 7.438217945108612), (122, 1.3696147618835925), (124, 0.03503656216839673), (126, 16.306697366990058)]\n"
     ]
    }
   ],
   "source": [
    "class_percents = list(zip(keys_list, area_percents))\n",
    "print(class_percents)"
   ]
  },
  {
   "cell_type": "code",
   "execution_count": 295,
   "metadata": {},
   "outputs": [],
   "source": [
    "corumba_list = [(20, 12.882118384212607), (30, 24.998429848191886), (40, 23.705948144675805), (50, 0.284567771126083), (60, 0.008720130789419946), (80, 5.631341623091446), (90, 1.5813137388503122), (112, 2.8582962792901343), (114, 0.8714794256041105), (116, 8.01201487749318), (122, 0.04532739922923814), (124, 0.09590702524695108), (126, 19.024535352198814)]"
   ]
  },
  {
   "cell_type": "code",
   "execution_count": 296,
   "metadata": {},
   "outputs": [],
   "source": [
    "manaus_list = [(20, 0.000918746104623805), (30, 0.1322253840144901), (40, 0.0009186773060563634), (50, 0), (60,0), (80,0), (90,0), (112, 99.37287780284623), (114,0), (116, 0.11632269758649091), (122, 0.27126705058785705), (124,0), (126, 0.1054696415542391)]"
   ]
  },
  {
   "cell_type": "code",
   "execution_count": 297,
   "metadata": {},
   "outputs": [],
   "source": [
    "atto_list = [(20, 0.02729921500341903), (30, 0.2615468007245986), (40,0), (50,0), (60,0),(80, 1.8279081508069446), (90, 2.0984705453076864), (112, 94.52921547918731), (114,0), (116, 1.1745427084572961), (122, 0.0026418402255512148), (124,0), (126, 0.07837526028719781)]"
   ]
  },
  {
   "cell_type": "code",
   "execution_count": 298,
   "metadata": {},
   "outputs": [],
   "source": [
    "mato_list = [(20, 15.497364662478539), (30, 28.665491236672718), (40, 11.64874403705068), (50, 0.18499624339654286), (60, 0.07598692345273453), (80, 1.7174056855540756), (90, 0.42575453247721334), (112, 5.947169993916441), (114, 4.538274888419497), (116, 17.479305977356894), (122, 0.011902671026909097), (124, 0.006407953770433252), (126, 13.801195194427315)]"
   ]
  },
  {
   "cell_type": "code",
   "execution_count": 299,
   "metadata": {},
   "outputs": [],
   "source": [
    "saop_list = [(20, 0.9562131329872828), (30, 16.28474344165812), (40, 22.933184085248364), (50, 0.3943684127224209), (60, 0.009521135830364022), (80, 0.7205671256108573), (90, 0.20042694437666267), (112, 32.74623756118551), (114, 0.6051715242297556), (116, 7.438217945108612), (122, 1.3696147618835925), (124, 0.03503656216839673), (126, 16.306697366990058)]"
   ]
  },
  {
   "cell_type": "code",
   "execution_count": 300,
   "metadata": {},
   "outputs": [],
   "source": [
    "corumba_labels = [i[0] for i in corumba_list]\n",
    "manaus_labels = [i[0] for i in manaus_list]\n",
    "atto_labels = [i[0] for i in atto_list] \n",
    "mato_labels = [i[0] for i in mato_list]\n",
    "saop_labels = [i[0] for i in saop_list]"
   ]
  },
  {
   "cell_type": "code",
   "execution_count": 301,
   "metadata": {},
   "outputs": [],
   "source": [
    "corumba_values = [i[1] for i in corumba_list]\n",
    "manaus_values = [i[1] for i in manaus_list]\n",
    "atto_values = [i[1] for i in atto_list]\n",
    "mato_values = [i[1] for i in mato_list]\n",
    "saop_values = [i[1] for i in saop_list]"
   ]
  },
  {
   "cell_type": "code",
   "execution_count": 306,
   "metadata": {},
   "outputs": [],
   "source": [
    "def Union(lst1, lst2, lst3, lst4, lst5): \n",
    "    final_list = list(set().union(lst1, lst2, lst3, lst4, lst5)) \n",
    "    return sorted(final_list)\n",
    "\n",
    "labels = Union(corumba_labels, manaus_labels, atto_labels, mato_labels, saop_labels)"
   ]
  },
  {
   "cell_type": "code",
   "execution_count": 373,
   "metadata": {},
   "outputs": [
    {
     "data": {
      "image/png": "[encoded data removed]",
      "text/plain": [
       "<Figure size 432x288 with 1 Axes>"
      ]
     },
     "metadata": {
      "needs_background": "light"
     },
     "output_type": "display_data"
    }
   ],
   "source": [
    "#5 locations zoomed out\n",
    "#Set values\n",
    "x = np.arange(len(labels))\n",
    "bar_width = 0.1\n",
    "plt.axes([2, 0, 2, 1])\n",
    "\n",
    "#Create\n",
    "plt.ylim(bottom = 0, top = 100)\n",
    "plt.bar(x, height=manaus_values, width=bar_width, label=\"manaus\")\n",
    "plt.bar(x + bar_width, height=atto_values, width=bar_width, label=\"atto\")\n",
    "plt.bar(x + bar_width*2, height=corumba_values, width=bar_width, label=\"corumba\")\n",
    "plt.bar(x + bar_width*3, height=mato_values, width=bar_width, label=\"mato\")\n",
    "plt.bar(x + bar_width*4, height=saop_values, width=bar_width, label=\"saop\")\n",
    "\n",
    "#Format\n",
    "plt.title(\"Percent Area for each land cover class at 5 locations\")\n",
    "plt.ylabel(\"Percent\")\n",
    "plt.xlabel(\"Copernicus Land Cover Classification\")\n",
    "plt.xticks(x + bar_width / 5, labels = labels)\n",
    "plt.grid(b = True, which = 'major', axis = 'x')\n",
    "plt.legend(loc = \"upper right\")\n",
    "plt.show()"
   ]
  },
  {
   "cell_type": "code",
   "execution_count": 375,
   "metadata": {},
   "outputs": [
    {
     "data": {
      "image/png": "[encoded data removed]",
      "text/plain": [
       "<Figure size 432x288 with 1 Axes>"
      ]
     },
     "metadata": {
      "needs_background": "light"
     },
     "output_type": "display_data"
    }
   ],
   "source": [
    "#Zoomed in\n",
    "x = np.arange(len(labels))\n",
    "bar_width = 0.1\n",
    "plt.axes([2, 0, 2, 1])\n",
    "\n",
    "#Create\n",
    "plt.ylim(bottom = 0, top = 35)\n",
    "plt.bar(x, height=manaus_values, width=bar_width, label=\"manaus\")\n",
    "plt.bar(x + bar_width, height=atto_values, width=bar_width, label=\"atto\")\n",
    "plt.bar(x + bar_width*2, height=corumba_values, width=bar_width, label=\"corumba\")\n",
    "plt.bar(x + bar_width*3, height=mato_values, width=bar_width, label=\"mato\")\n",
    "plt.bar(x + bar_width*4, height=saop_values, width=bar_width, label=\"saop\")\n",
    "\n",
    "#Format\n",
    "plt.title(\"Percent Area for each land cover class at 5 locations\")\n",
    "plt.ylabel(\"Percent\")\n",
    "plt.xlabel(\"Copernicus Land Cover Classification\")\n",
    "plt.xticks(x + bar_width / 5, labels = labels)\n",
    "plt.grid(b = True, which = 'major', axis = 'x')\n",
    "plt.legend(loc = \"upper right\")\n",
    "plt.show()"
   ]
  },
  {
   "cell_type": "code",
   "execution_count": null,
   "metadata": {},
   "outputs": [],
   "source": []
  }
 ],
 "metadata": {
  "kernelspec": {
   "display_name": "Python 3",
   "language": "python",
   "name": "python3"
  },
  "language_info": {
   "codemirror_mode": {
    "name": "ipython",
    "version": 3
   },
   "file_extension": ".py",
   "mimetype": "text/x-python",
   "name": "python",
   "nbconvert_exporter": "python",
   "pygments_lexer": "ipython3",
   "version": "3.7.0"
  }
 },
 "nbformat": 4,
 "nbformat_minor": 4
}
