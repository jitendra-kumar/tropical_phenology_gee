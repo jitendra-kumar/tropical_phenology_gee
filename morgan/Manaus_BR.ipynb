{
 "cells": [
  {
   "cell_type": "code",
   "execution_count": null,
   "metadata": {},
   "outputs": [],
   "source": [
    "#Notes to self: \n",
    "#Median NDRE images have been created where one chunk == month\n",
    "    #Should I then make an Image Collection from median images? Probably easier to export.\n",
    "#Current code super bulky/slow. Looking for ways where code divides months for me.\n",
    "    #filter.And()? Would that work?\n",
    "#Image count seems to work, but it's giving me a giant number... What is it really counting??\n",
    "#Dr. Wu has a time series function but not for sentinel.\n",
    "#Matplotlib is super easy to use once I can export some dang LISTS\n",
    "#Jan, Feb 2016 are missing data; March is basically just clouds"
   ]
  },
  {
   "cell_type": "code",
   "execution_count": null,
   "metadata": {},
   "outputs": [],
   "source": [
    "#TODO:\n",
    "#I need to find code that will let me export NDRE values to a list\n",
    "    #So I can make a time series in matplotlib\n",
    "    #Also system:time_start isn't working for me\n",
    "    #Check code editor image count against python image count; maybe that will guide me\n",
    "#Write cloud mask QA60 < 1; I have example from internet below\n",
    "    #Is it really doing each individual layer?\n",
    "        #Dunno cuz I can't COUNT how many images there are. Annoying.\n",
    "#Look again @ Dr. Wu's code for exporting stats; maybe there's something I can use"
   ]
  },
  {
   "cell_type": "code",
   "execution_count": 1,
   "metadata": {},
   "outputs": [],
   "source": [
    "import ee\n",
    "import geemap\n",
    "import os\n",
    "import matplotlib as plt"
   ]
  },
  {
   "cell_type": "code",
   "execution_count": 2,
   "metadata": {},
   "outputs": [
    {
     "data": {
      "application/vnd.jupyter.widget-view+json": {
       "model_id": "726eb032a80f4480a920507f5bcce127",
       "version_major": 2,
       "version_minor": 0
      },
      "text/plain": [
       "Map(center=[-2.609097222, -60.20929722], controls=(WidgetControl(options=['position'], widget=HBox(children=(T…"
      ]
     },
     "metadata": {},
     "output_type": "display_data"
    }
   ],
   "source": [
    "#Create Map and center on Manauas EC Flux Tower coordinates\n",
    "Map = geemap.Map(center = (-2.609097222, -60.20929722), zoom = 10)\n",
    "\n",
    "#Create a point for EC Flux Tower\n",
    "brma2_point = ee.Geometry.Point(-60.20929722, -2.609097222)\n",
    "\n",
    "#Create a 0.5x0.5 deg region centered over the EC Flux Tower\n",
    "brma2_region = ee.Geometry.Rectangle(-60.50, -2.85, -60.00, -2.35)\n",
    "\n",
    "Map"
   ]
  },
  {
   "cell_type": "code",
   "execution_count": 3,
   "metadata": {},
   "outputs": [],
   "source": [
    "#Add the polygon to the map\n",
    "Map.addLayer(brma2_region, {}, 'Manauas Region')"
   ]
  },
  {
   "cell_type": "code",
   "execution_count": 4,
   "metadata": {},
   "outputs": [],
   "source": [
    "#Rated Cloudiness on the following scale:\n",
    "#Extra Cloudy > Very Cloudy > Fairly Cloudy > Fairly Clear > Very Clear > Extra Clear"
   ]
  },
  {
   "cell_type": "code",
   "execution_count": 5,
   "metadata": {},
   "outputs": [],
   "source": [
    "#Formula for NDRE\n",
    "def addNDRE(image):\n",
    "    ndre = image.normalizedDifference(['B8', 'B5']).rename('NDRE')\n",
    "    return image.addBands(ndre)\n",
    "\n",
    "#Set visual paramters for NDRE\n",
    "ndre_params = ({'min': 0.0,'max': 1.0, 'palette' : \n",
    "               ['FFFFFF', 'CE7E45', 'DF923D', 'F1B555', 'FCD163', '99B718',\n",
    "               '74A901', '66A000', '529400', '3E8601', '207401', '056201',\n",
    "               '004C00', '023B01', '012E01', '011D01', '011301']})"
   ]
  },
  {
   "cell_type": "code",
   "execution_count": 6,
   "metadata": {},
   "outputs": [],
   "source": [
    "#Create cloud mask; hasn't been implemented yet; will make a different one\n",
    "def maskclouds(image):\n",
    "        band_qa = image.select('QA60')\n",
    "        cloud_mask = ee.Number(2).pow(10).int()\n",
    "        cirrus_mask = ee.Number(2).pow(11).int()\n",
    "        mask = band_qa.bitwiseAnd(cloud_mask).eq(0) and(\n",
    "            band_qa.bitwiseAnd(cirrus_mask).eq(0))\n",
    "        return image.updateMask(mask).divide(10000)"
   ]
  },
  {
   "cell_type": "code",
   "execution_count": 10,
   "metadata": {},
   "outputs": [
    {
     "name": "stdout",
     "output_type": "stream",
     "text": [
      "126804\n"
     ]
    }
   ],
   "source": [
    "#Sentinel-2 January 2016\n",
    "#Missing swath over study area\n",
    "sentinel2 = (ee.ImageCollection('COPERNICUS/S2') \n",
    "    .filterDate('2016-01-01', '2016-01-31')\n",
    "    #.filter(ee.Filter.lt('CLOUDY_PIXEL_PERCENTAGE', 60)) \n",
    "    .sort('CLOUDY_PIXEL_PERCENTAGE', False)\n",
    "    .map(lambda image : image.clip(brma2_region)))\n",
    "\n",
    "#Show raw Sentinel imagery\n",
    "vis_params = {'bands': ['B4', 'B3', 'B2'], 'max': 2000}\n",
    "#Map.addLayer(sentinel2, vis_params, \"Raw Sentinel -- January 2016\")\n",
    "\n",
    "#Count something from the data; I don't think it's the number of images though.\n",
    "count = sentinel2.size().getInfo()\n",
    "print(count)\n",
    "\n",
    "#Use NDRE function on all images and extract the NDRE band\n",
    "sentinel2_ndre = sentinel2.map(addNDRE).select('NDRE')\n",
    "\n",
    "#Calculate the median NDRE and add to the map\n",
    "sentinel2_jan = sentinel2_ndre.median()\n",
    "Map.addLayer(sentinel2_jan, ndre_params, 'Sentinel Median NDRE -- January 2016')"
   ]
  },
  {
   "cell_type": "code",
   "execution_count": 11,
   "metadata": {},
   "outputs": [
    {
     "name": "stdout",
     "output_type": "stream",
     "text": [
      "99890\n"
     ]
    }
   ],
   "source": [
    "#Sentinel-2 February 2016\n",
    "#Missing swath over study area\n",
    "sentinel2 = (ee.ImageCollection('COPERNICUS/S2') \n",
    "    .filterDate('2016-02-01', '2016-02-29')\n",
    "    #.filter(ee.Filter.lt('CLOUDY_PIXEL_PERCENTAGE', 60)) \n",
    "    .sort('CLOUDY_PIXEL_PERCENTAGE', False)\n",
    "    .map(lambda image : image.clip(brma2_region)))\n",
    "\n",
    "#Show raw Sentinel imagery\n",
    "vis_params = {'bands': ['B4', 'B3', 'B2'], 'max': 2000}\n",
    "#Map.addLayer(sentinel2, vis_params, \"Raw Sentinel -- February 2016\")\n",
    "\n",
    "count = sentinel2.size().getInfo()\n",
    "print(count)\n",
    "\n",
    "#Use NDRE function on all images and extract the NDRE band\n",
    "sentinel2_ndre = sentinel2.map(addNDRE).select('NDRE')\n",
    "\n",
    "#Calculate the median NDRE and add to the map\n",
    "sentinel2_feb = sentinel2_ndre.median()\n",
    "Map.addLayer(sentinel2_feb, ndre_params, 'Sentinel Median NDRE -- February 2016')"
   ]
  },
  {
   "cell_type": "code",
   "execution_count": 12,
   "metadata": {},
   "outputs": [
    {
     "name": "stdout",
     "output_type": "stream",
     "text": [
      "159035\n"
     ]
    }
   ],
   "source": [
    "#Sentinel-2 March 2016\n",
    "#Extra cloudy\n",
    "sentinel2 = (ee.ImageCollection('COPERNICUS/S2') \n",
    "    .filterDate('2016-03-01', '2016-03-31')\n",
    "    #.filter(ee.Filter.lt('CLOUDY_PIXEL_PERCENTAGE', 60)) \n",
    "    .sort('CLOUDY_PIXEL_PERCENTAGE', False)\n",
    "    .map(lambda image : image.clip(brma2_region)))\n",
    "\n",
    "#Show raw Sentinel imagery\n",
    "vis_params = {'bands': ['B4', 'B3', 'B2'], 'max': 2000}\n",
    "#Map.addLayer(sentinel2, vis_params, \"Raw Sentinel -- March 2016\")\n",
    "\n",
    "count = sentinel2.size().getInfo()\n",
    "print(count)\n",
    "\n",
    "#Use NDRE function on all images and extract the NDRE band\n",
    "sentinel2_mar = sentinel2.map(addNDRE).select('NDRE')\n",
    "\n",
    "#Calculate the median NDRE and add to the map\n",
    "sentinel2_ndre_median = sentinel2_ndre.median()\n",
    "Map.addLayer(sentinel2_mar, ndre_params, 'Sentinel Median NDRE -- March 2016')"
   ]
  },
  {
   "cell_type": "code",
   "execution_count": 255,
   "metadata": {},
   "outputs": [
    {
     "name": "stdout",
     "output_type": "stream",
     "text": [
      "204384\n"
     ]
    }
   ],
   "source": [
    "#Sentinel-2 April 2016\n",
    "#Fairly cloudy\n",
    "sentinel2 = (ee.ImageCollection('COPERNICUS/S2') \n",
    "    .filterDate('2016-04-01', '2016-04-30')\n",
    "    #.filter(ee.Filter.lt('CLOUDY_PIXEL_PERCENTAGE', 60)) \n",
    "    .sort('CLOUDY_PIXEL_PERCENTAGE', False)\n",
    "    .map(lambda image : image.clip(brma2_region)))\n",
    "\n",
    "#Show raw Sentinel imagery\n",
    "vis_params = {'bands': ['B4', 'B3', 'B2'], 'max': 2000}\n",
    "#Map.addLayer(sentinel2, vis_params, \"Raw Sentinel -- April 2016\")\n",
    "\n",
    "count = sentinel2.size().getInfo()\n",
    "print(count)\n",
    "\n",
    "#Use NDRE function on all images and extract the NDRE band\n",
    "sentinel2_ndre = sentinel2.map(addNDRE).select('NDRE')\n",
    "\n",
    "#Calculate the median NDRE and add to the map\n",
    "sentinel2_apr = sentinel2_ndre.median()\n",
    "Map.addLayer(sentinel2_apr, ndre_params, 'Sentinel Median NDRE -- April 2016')"
   ]
  },
  {
   "cell_type": "code",
   "execution_count": 256,
   "metadata": {},
   "outputs": [
    {
     "name": "stdout",
     "output_type": "stream",
     "text": [
      "233351\n"
     ]
    }
   ],
   "source": [
    "#Sentinel-2 May 2016\n",
    "#Very cloudy\n",
    "sentinel2 = (ee.ImageCollection('COPERNICUS/S2') \n",
    "    .filterDate('2016-05-01', '2016-05-31')\n",
    "    #.filter(ee.Filter.lt('CLOUDY_PIXEL_PERCENTAGE', 60)) \n",
    "    .sort('CLOUDY_PIXEL_PERCENTAGE', False)\n",
    "    .map(lambda image : image.clip(brma2_region)))\n",
    "\n",
    "#Show raw Sentinel imagery\n",
    "vis_params = {'bands': ['B4', 'B3', 'B2'], 'max': 2000}\n",
    "#Map.addLayer(sentinel2, vis_params, \"Raw Sentinel -- May 2016\")\n",
    "\n",
    "count = sentinel2.size().getInfo()\n",
    "print(count)\n",
    "\n",
    "#Use NDRE function on all images and extract the NDRE band\n",
    "sentinel2_ndre = sentinel2.map(addNDRE).select('NDRE')\n",
    "\n",
    "#Calculate the median NDRE and add to the map\n",
    "sentinel2_may = sentinel2_ndre.median()\n",
    "Map.addLayer(sentinel2_may, ndre_params, 'Sentinel Median NDRE -- May 2016')"
   ]
  },
  {
   "cell_type": "code",
   "execution_count": 257,
   "metadata": {},
   "outputs": [
    {
     "name": "stdout",
     "output_type": "stream",
     "text": [
      "229380\n"
     ]
    }
   ],
   "source": [
    "#Sentinel-2 June 2016\n",
    "#Fairly cloudy\n",
    "sentinel2 = (ee.ImageCollection('COPERNICUS/S2') \n",
    "    .filterDate('2016-06-01', '2016-06-30')\n",
    "    #.filter(ee.Filter.lt('CLOUDY_PIXEL_PERCENTAGE', 60)) \n",
    "    .sort('CLOUDY_PIXEL_PERCENTAGE', False)\n",
    "    .map(lambda image : image.clip(brma2_region)))\n",
    "\n",
    "#Show raw Sentinel imagery\n",
    "vis_params = {'bands': ['B4', 'B3', 'B2'], 'max': 2000}\n",
    "#Map.addLayer(sentinel2, vis_params, \"Raw Sentinel -- June 2016\")\n",
    "\n",
    "count = sentinel2.size().getInfo()\n",
    "print(count)\n",
    "\n",
    "#Use NDRE function on all images and extract the NDRE band\n",
    "sentinel2_ndre = sentinel2.map(addNDRE).select('NDRE')\n",
    "\n",
    "#Calculate the median NDRE and add to the map\n",
    "sentinel2_jun = sentinel2_ndre.median()\n",
    "Map.addLayer(sentinel2_jun, ndre_params, 'Sentinel Median NDRE -- June 2016')"
   ]
  },
  {
   "cell_type": "code",
   "execution_count": 258,
   "metadata": {},
   "outputs": [
    {
     "name": "stdout",
     "output_type": "stream",
     "text": [
      "116628\n"
     ]
    }
   ],
   "source": [
    "#Sentinel-2 July 2016\n",
    "#Very clear\n",
    "sentinel2 = (ee.ImageCollection('COPERNICUS/S2') \n",
    "    .filterDate('2016-07-01', '2016-07-31')\n",
    "    #.filter(ee.Filter.lt('CLOUDY_PIXEL_PERCENTAGE', 60)) \n",
    "    .sort('CLOUDY_PIXEL_PERCENTAGE', False)\n",
    "    .map(lambda image : image.clip(brma2_region)))\n",
    "\n",
    "#Show raw Sentinel imagery\n",
    "vis_params = {'bands': ['B4', 'B3', 'B2'], 'max': 2000}\n",
    "#Map.addLayer(sentinel2, vis_params, \"Raw Sentinel -- July 2016\")\n",
    "\n",
    "count = sentinel2.size().getInfo()\n",
    "print(count)\n",
    "\n",
    "#Use NDRE function on all images and extract the NDRE band\n",
    "sentinel2_ndre = sentinel2.map(addNDRE).select('NDRE')\n",
    "\n",
    "#Calculate the median NDRE and add to the map\n",
    "sentinel2_jul = sentinel2_ndre.median()\n",
    "Map.addLayer(sentinel2_jul, ndre_params, 'Sentinel Median NDRE -- July 2016')"
   ]
  },
  {
   "cell_type": "code",
   "execution_count": 259,
   "metadata": {},
   "outputs": [
    {
     "name": "stdout",
     "output_type": "stream",
     "text": [
      "172711\n"
     ]
    }
   ],
   "source": [
    "#Sentinel-2 August 2016\n",
    "#Very clear\n",
    "sentinel2 = (ee.ImageCollection('COPERNICUS/S2') \n",
    "    .filterDate('2016-08-01', '2016-08-31')\n",
    "    #.filter(ee.Filter.lt('CLOUDY_PIXEL_PERCENTAGE', 60)) \n",
    "    .sort('CLOUDY_PIXEL_PERCENTAGE', False)\n",
    "    .map(lambda image : image.clip(brma2_region)))\n",
    "\n",
    "#Show raw Sentinel imagery\n",
    "vis_params = {'bands': ['B4', 'B3', 'B2'], 'max': 2000}\n",
    "#Map.addLayer(sentinel2, vis_params, \"Raw Sentinel -- August 2016\")\n",
    "\n",
    "count = sentinel2.size().getInfo()\n",
    "print(count)\n",
    "\n",
    "#Use NDRE function on all images and extract the NDRE band\n",
    "sentinel2_ndre = sentinel2.map(addNDRE).select('NDRE')\n",
    "\n",
    "#Calculate the median NDRE and add to the map\n",
    "sentinel2_aug = sentinel2_ndre.median()\n",
    "Map.addLayer(sentinel2_aug, ndre_params, 'Sentinel Median NDRE -- August 2016')"
   ]
  },
  {
   "cell_type": "code",
   "execution_count": 260,
   "metadata": {},
   "outputs": [
    {
     "name": "stdout",
     "output_type": "stream",
     "text": [
      "224114\n"
     ]
    }
   ],
   "source": [
    "#Sentinel-2 September 2016\n",
    "#Very cloudy\n",
    "sentinel2 = (ee.ImageCollection('COPERNICUS/S2') \n",
    "    .filterDate('2016-09-01', '2016-09-30')\n",
    "    #.filter(ee.Filter.lt('CLOUDY_PIXEL_PERCENTAGE', 60)) \n",
    "    .sort('CLOUDY_PIXEL_PERCENTAGE', False)\n",
    "    .map(lambda image : image.clip(brma2_region)))\n",
    "\n",
    "#Show raw Sentinel imagery\n",
    "vis_params = {'bands': ['B4', 'B3', 'B2'], 'max': 2000}\n",
    "#Map.addLayer(sentinel2, vis_params, \"Raw Sentinel -- September 2016\")\n",
    "\n",
    "count = sentinel2.size().getInfo()\n",
    "print(count)\n",
    "\n",
    "#Use NDRE function on all images and extract the NDRE band\n",
    "sentinel2_ndre = sentinel2.map(addNDRE).select('NDRE')\n",
    "\n",
    "#Calculate the median NDRE and add to the map\n",
    "sentinel2_sept = sentinel2_ndre.median()\n",
    "Map.addLayer(sentinel2_sept, ndre_params, 'Sentinel Median NDRE -- September 2016')"
   ]
  },
  {
   "cell_type": "code",
   "execution_count": 261,
   "metadata": {},
   "outputs": [
    {
     "name": "stdout",
     "output_type": "stream",
     "text": [
      "231216\n"
     ]
    }
   ],
   "source": [
    "#Sentinel-2 October 2016\n",
    "#Fairly cloudy\n",
    "sentinel2 = (ee.ImageCollection('COPERNICUS/S2') \n",
    "    .filterDate('2016-10-01', '2016-10-31')\n",
    "    #.filter(ee.Filter.lt('CLOUDY_PIXEL_PERCENTAGE', 60)) \n",
    "    .sort('CLOUDY_PIXEL_PERCENTAGE', False)\n",
    "    .map(lambda image : image.clip(brma2_region)))\n",
    "\n",
    "#Show raw Sentinel imagery\n",
    "vis_params = {'bands': ['B4', 'B3', 'B2'], 'max': 2000}\n",
    "#Map.addLayer(sentinel2, vis_params, \"Raw Sentinel -- October 2016\")\n",
    "\n",
    "count = sentinel2.size().getInfo()\n",
    "print(count)\n",
    "\n",
    "#Use NDRE function on all images and extract the NDRE band\n",
    "sentinel2_ndre = sentinel2.map(addNDRE).select('NDRE')\n",
    "\n",
    "#Calculate the median NDRE and add to the map\n",
    "sentinel2_oct = sentinel2_ndre.median()\n",
    "Map.addLayer(sentinel2_oct, ndre_params, 'Sentinel Median NDRE -- October 2016')"
   ]
  },
  {
   "cell_type": "code",
   "execution_count": 262,
   "metadata": {},
   "outputs": [
    {
     "name": "stdout",
     "output_type": "stream",
     "text": [
      "219265\n"
     ]
    }
   ],
   "source": [
    "#Sentinel-2 November 2016\n",
    "#Very cloudy\n",
    "sentinel2 = (ee.ImageCollection('COPERNICUS/S2') \n",
    "    .filterDate('2016-11-01', '2016-11-30')\n",
    "    #.filter(ee.Filter.lt('CLOUDY_PIXEL_PERCENTAGE', 60)) \n",
    "    .sort('CLOUDY_PIXEL_PERCENTAGE', False)\n",
    "    .map(lambda image : image.clip(brma2_region)))\n",
    "\n",
    "#Show raw Sentinel imagery\n",
    "vis_params = {'bands': ['B4', 'B3', 'B2'], 'max': 2000}\n",
    "#Map.addLayer(sentinel2, vis_params, \"Raw Sentinel -- November 2016\")\n",
    "\n",
    "count = sentinel2.size().getInfo()\n",
    "print(count)\n",
    "\n",
    "#Use NDRE function on all images and extract the NDRE band\n",
    "sentinel2_ndre = sentinel2.map(addNDRE).select('NDRE')\n",
    "\n",
    "#Calculate the median NDRE and add to the map\n",
    "sentinel2_nov = sentinel2_ndre.median()\n",
    "Map.addLayer(sentinel2_nov, ndre_params, 'Sentinel Median NDRE -- November 2016')"
   ]
  },
  {
   "cell_type": "code",
   "execution_count": 263,
   "metadata": {},
   "outputs": [
    {
     "name": "stdout",
     "output_type": "stream",
     "text": [
      "125482\n"
     ]
    }
   ],
   "source": [
    "#Sentinel-2 December 2016\n",
    "#Very/Extra Cloudy\n",
    "sentinel2 = (ee.ImageCollection('COPERNICUS/S2') \n",
    "    .filterDate('2016-12-01', '2016-12-31')\n",
    "    #.filter(ee.Filter.lt('CLOUDY_PIXEL_PERCENTAGE', 60)) \n",
    "    .sort('CLOUDY_PIXEL_PERCENTAGE', False)\n",
    "    .map(lambda image : image.clip(brma2_region)))\n",
    "\n",
    "#Show raw Sentinel imagery\n",
    "vis_params = {'bands': ['B4', 'B3', 'B2'], 'max': 2000}\n",
    "#Map.addLayer(sentinel2, vis_params, \"Raw Sentinel -- December 2016\")\n",
    "\n",
    "count = sentinel2.size().getInfo()\n",
    "print(count)\n",
    "\n",
    "#Use NDRE function on all images and extract the NDRE band\n",
    "sentinel2_ndre = sentinel2.map(addNDRE).select('NDRE')\n",
    "\n",
    "#Calculate the median NDRE and add to the map\n",
    "sentinel2_dec = sentinel2_ndre.median()\n",
    "Map.addLayer(sentinel2_dec, ndre_params, 'Sentinel Median NDRE -- December 2016')"
   ]
  },
  {
   "cell_type": "code",
   "execution_count": 264,
   "metadata": {},
   "outputs": [],
   "source": [
    "#Put the EC Tower on top of previous layer\n",
    "Map.addLayer(brma2_point, {}, 'Manauas EC Flux Location')"
   ]
  },
  {
   "cell_type": "code",
   "execution_count": 64,
   "metadata": {},
   "outputs": [
    {
     "name": "stdout",
     "output_type": "stream",
     "text": [
      "Generating URL ...\n",
      "An error occurred while downloading.\n",
      "'<' not supported between instances of 'builtin_function_or_method' and 'builtin_function_or_method'\n"
     ]
    }
   ],
   "source": [
    "#Exported for good fun; way to set palette for export? Directory is hard coded.\n",
    "out_dir = '/Users/morgansteckler/Desktop/'\n",
    "filename = os.path.join(out_dir, 'sentinel_ndre.tif')\n",
    "geemap.ee_export_image(median, filename = filename, scale = 90, region = square, file_per_band=False)"
   ]
  }
 ],
 "metadata": {
  "kernelspec": {
   "display_name": "Python 3",
   "language": "python",
   "name": "python3"
  },
  "language_info": {
   "codemirror_mode": {
    "name": "ipython",
    "version": 3
   },
   "file_extension": ".py",
   "mimetype": "text/x-python",
   "name": "python",
   "nbconvert_exporter": "python",
   "pygments_lexer": "ipython3",
   "version": "3.8.2"
  }
 },
 "nbformat": 4,
 "nbformat_minor": 4
}
