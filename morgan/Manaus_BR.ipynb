{
 "cells": [
  {
   "cell_type": "code",
   "execution_count": 2,
   "metadata": {},
   "outputs": [],
   "source": [
    "import ee\n",
    "import geemap\n",
    "import os"
   ]
  },
  {
   "cell_type": "code",
   "execution_count": 206,
   "metadata": {},
   "outputs": [
    {
     "data": {
      "text/html": [
       "<p>To authorize access needed by Earth Engine, open the following\n",
       "        URL in a web browser and follow the instructions:</p>\n",
       "        <p><a href=https://accounts.google.com/o/oauth2/auth?client_id=517222506229-vsmmajv00ul0bs7p89v5m89qs8eb9359.apps.googleusercontent.com&scope=https%3A%2F%2Fwww.googleapis.com%2Fauth%2Fearthengine+https%3A%2F%2Fwww.googleapis.com%2Fauth%2Fdevstorage.full_control&redirect_uri=urn%3Aietf%3Awg%3Aoauth%3A2.0%3Aoob&response_type=code&code_challenge=i_F9ynuVA-ijj6VuSp2IqBhkHfNeS2i7QA2e9eVIUsM&code_challenge_method=S256>https://accounts.google.com/o/oauth2/auth?client_id=517222506229-vsmmajv00ul0bs7p89v5m89qs8eb9359.apps.googleusercontent.com&scope=https%3A%2F%2Fwww.googleapis.com%2Fauth%2Fearthengine+https%3A%2F%2Fwww.googleapis.com%2Fauth%2Fdevstorage.full_control&redirect_uri=urn%3Aietf%3Awg%3Aoauth%3A2.0%3Aoob&response_type=code&code_challenge=i_F9ynuVA-ijj6VuSp2IqBhkHfNeS2i7QA2e9eVIUsM&code_challenge_method=S256</a></p>\n",
       "        <p>The authorization workflow will generate a code, which you\n",
       "        should paste in the box below</p>\n",
       "        "
      ],
      "text/plain": [
       "<IPython.core.display.HTML object>"
      ]
     },
     "metadata": {},
     "output_type": "display_data"
    },
    {
     "name": "stdout",
     "output_type": "stream",
     "text": [
      "Enter verification code: 4/0QFRh7h8C3a1AnL1RCbV8raixULcIeNCpSRSdU7zjyH-vpQUmFo-Pjk\n",
      "\n",
      "Successfully saved authorization token.\n"
     ]
    }
   ],
   "source": [
    "#Only have to do this once\n",
    "ee.Authenticate()\n",
    "\n",
    "#Not sure this is necessary every time\n",
    "ee.Initialize()"
   ]
  },
  {
   "cell_type": "code",
   "execution_count": 3,
   "metadata": {},
   "outputs": [
    {
     "data": {
      "application/vnd.jupyter.widget-view+json": {
       "model_id": "f617e4a89a5e473d906357d2db1c58d6",
       "version_major": 2,
       "version_minor": 0
      },
      "text/plain": [
       "Map(center=[-2.609097222, -60.20929722], controls=(WidgetControl(options=['position'], widget=HBox(children=(T…"
      ]
     },
     "metadata": {},
     "output_type": "display_data"
    }
   ],
   "source": [
    "#Create Map and center on Manauas EC Flux Tower coordinates\n",
    "Map = geemap.Map(center = (-2.609097222, -60.20929722), zoom = 10)\n",
    "Map"
   ]
  },
  {
   "cell_type": "code",
   "execution_count": 4,
   "metadata": {},
   "outputs": [],
   "source": [
    "#Create a point for EC Flux Tower\n",
    "brma2 = ee.Geometry.Point(-60.20929722, -2.609097222)\n",
    "\n",
    "#Determine the area I want my square buffer to be; can use ee.Geometry.Rectangle\n",
    "areaM2 = 3.087969e9\n",
    "square = brma2.buffer(ee.Number(areaM2).sqrt().divide(2), 1).bounds()\n",
    "\n",
    "#Add the polygon to the map\n",
    "Map.addLayer(square, {}, 'Manauas Buffer')"
   ]
  },
  {
   "cell_type": "code",
   "execution_count": 7,
   "metadata": {},
   "outputs": [],
   "source": [
    "#Create an NDRE function\n",
    "#There are four red edge bands (20 m) to choose from, I just picked the first\n",
    "def my_fun(image):\n",
    "    ndre = image.normalizedDifference(['B8', 'B5']).rename('NDRE')\n",
    "    return image.addBands(ndre)\n",
    "\n",
    "#Pull the Sentinel data, clip images to the square, and run NDRE function on all images\n",
    "sentinel2 = (ee.ImageCollection('COPERNICUS/S2') \n",
    "    .filterDate('2015-01-01', '2015-01-31') \n",
    "    .filter(ee.Filter.lt('CLOUDY_PIXEL_PERCENTAGE', 20)) \n",
    "    .sort('CLOUDY_PIXEL_PERCENTAGE', False)\n",
    "    .map(lambda image : image.clip(square))\n",
    "    .map(my_fun).select('NDRE'))\n",
    "\n",
    "#Set visual paramters for NDRE\n",
    "ndreParams={'min': 0.0,\n",
    "            'max': 1.0,\n",
    "            'palette' : ['FFFFFF', 'CE7E45', 'DF923D', 'F1B555', 'FCD163', '99B718',\n",
    "               '74A901', '66A000', '529400', '3E8601', '207401', '056201',\n",
    "               '004C00', '023B01', '012E01', '011D01', '011301']\n",
    "           }\n",
    "\n",
    "#Calculate the median NDRE and add to the map\n",
    "median = sentinel2.median()\n",
    "Map.addLayer(median, ndreParams, 'Sentinel Median NDRE')"
   ]
  },
  {
   "cell_type": "code",
   "execution_count": 5,
   "metadata": {},
   "outputs": [],
   "source": [
    "#Put the EC Tower on top of previous layer\n",
    "Map.addLayer(brma2, {'color': 'FF0000', 'size': 50}, 'Manauas EC Flux Location')"
   ]
  },
  {
   "cell_type": "code",
   "execution_count": 69,
   "metadata": {},
   "outputs": [],
   "source": [
    "#print(sentinel2.aggregate_array(\"system:time_start\").getInfo())\n",
    "#Above code times out. Too many images I guess."
   ]
  },
  {
   "cell_type": "code",
   "execution_count": 64,
   "metadata": {},
   "outputs": [
    {
     "name": "stdout",
     "output_type": "stream",
     "text": [
      "Generating URL ...\n",
      "An error occurred while downloading.\n",
      "'<' not supported between instances of 'builtin_function_or_method' and 'builtin_function_or_method'\n"
     ]
    }
   ],
   "source": [
    "#Exported for good fun; way to set palette for export? Directory is hard coded.\n",
    "out_dir = '/Users/morgansteckler/Desktop/'\n",
    "filename = os.path.join(out_dir, 'sentinel_ndre.tif')\n",
    "geemap.ee_export_image(median, filename = filename, scale = 90, region = square, file_per_band=False)"
   ]
  },
  {
   "cell_type": "code",
   "execution_count": null,
   "metadata": {},
   "outputs": [],
   "source": []
  }
 ],
 "metadata": {
  "kernelspec": {
   "display_name": "Python 3",
   "language": "python",
   "name": "python3"
  },
  "language_info": {
   "codemirror_mode": {
    "name": "ipython",
    "version": 3
   },
   "file_extension": ".py",
   "mimetype": "text/x-python",
   "name": "python",
   "nbconvert_exporter": "python",
   "pygments_lexer": "ipython3",
   "version": "3.8.2"
  }
 },
 "nbformat": 4,
 "nbformat_minor": 4
}
