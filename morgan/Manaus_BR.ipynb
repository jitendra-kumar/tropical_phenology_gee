{
 "cells": [
  {
   "cell_type": "code",
   "execution_count": null,
   "metadata": {},
   "outputs": [],
   "source": [
    "#Notes to self: \n",
    "#Image count seems to work, but it's giving me a giant number... What is it really counting??\n",
    "#Dr. Wu has a time series function but not for sentinel yet.\n",
    "#Matplotlib is super easy to use once I can export some dang LISTS\n",
    "#Jan, Feb 2016 are missing data; March is basically just clouds"
   ]
  },
  {
   "cell_type": "code",
   "execution_count": null,
   "metadata": {},
   "outputs": [],
   "source": [
    "#TODO:\n",
    "#I need to find code that will let me export NDRE values to a list\n",
    "    #So I can make a time series in matplotlib\n",
    "    #Also system:time_start isn't working for me\n",
    "    #Check code editor image count against python image count; maybe that will guide me"
   ]
  },
  {
   "cell_type": "code",
   "execution_count": 45,
   "metadata": {},
   "outputs": [],
   "source": [
    "import ee\n",
    "import geemap\n",
    "import os\n",
    "import matplotlib as plt"
   ]
  },
  {
   "cell_type": "code",
   "execution_count": 46,
   "metadata": {},
   "outputs": [
    {
     "data": {
      "application/vnd.jupyter.widget-view+json": {
       "model_id": "24c02c6fa1bd4689be7e0d0ace166383",
       "version_major": 2,
       "version_minor": 0
      },
      "text/plain": [
       "Map(center=[-2.609097222, -60.20929722], controls=(WidgetControl(options=['position'], widget=HBox(children=(T…"
      ]
     },
     "metadata": {},
     "output_type": "display_data"
    }
   ],
   "source": [
    "#Create Map and center on Manauas EC Flux Tower coordinates\n",
    "Map = geemap.Map(center = (-2.609097222, -60.20929722), zoom = 10)\n",
    "#Create a point for EC Flux Tower\n",
    "brma2_point = ee.Geometry.Point(-60.20929722, -2.609097222)\n",
    "#Create a 0.5x0.5 deg region centered over the EC Flux Tower\n",
    "brma2_region = ee.Geometry.Rectangle(-60.50, -2.85, -60.00, -2.35)\n",
    "Map"
   ]
  },
  {
   "cell_type": "code",
   "execution_count": 47,
   "metadata": {},
   "outputs": [],
   "source": [
    "#Add the polygon to the map\n",
    "Map.addLayer(brma2_region, {}, 'Manauas Region')"
   ]
  },
  {
   "cell_type": "code",
   "execution_count": 48,
   "metadata": {},
   "outputs": [],
   "source": [
    "#Formula for NDRE\n",
    "def addNDRE(image):\n",
    "    ndre = image.normalizedDifference(['B8', 'B5']).rename('NDRE')\n",
    "    return image.addBands(ndre)\n",
    "\n",
    "#Set visual paramters for NDRE\n",
    "ndre_params = ({'min': 0.0,'max': 1.0, 'palette' : \n",
    "               ['FFFFFF', 'CE7E45', 'DF923D', 'F1B555', 'FCD163', '99B718',\n",
    "               '74A901', '66A000', '529400', '3E8601', '207401', '056201',\n",
    "               '004C00', '023B01', '012E01', '011D01', '011301']})"
   ]
  },
  {
   "cell_type": "code",
   "execution_count": 49,
   "metadata": {},
   "outputs": [],
   "source": [
    "s2 = (ee.ImageCollection('COPERNICUS/S2')\n",
    "      .map(lambda image : image.clip(brma2_region))\n",
    "     .filter(ee.Filter.lt('CLOUDY_PIXEL_PERCENTAGE', 40)))\n",
    "\n",
    "visParams = {'bands' : ['B4', 'B3', 'B2'], 'max': 3000}"
   ]
  },
  {
   "cell_type": "code",
   "execution_count": 50,
   "metadata": {},
   "outputs": [],
   "source": [
    "#Create cloud mask; hasn't been implemented yet\n",
    "def maskclouds(image):\n",
    "        qa = image.select('QA60')\n",
    "        cloud_mask = ee.Number(2).pow(10).int()\n",
    "        mask = band_qa.bitwiseAnd(cloud_mask).eq(0)\n",
    "        return image.updateMask(mask)"
   ]
  },
  {
   "cell_type": "code",
   "execution_count": 51,
   "metadata": {},
   "outputs": [],
   "source": [
    "jan2016 = s2.filterDate('2016-01-01', '2016-01-31')\n",
    "feb2016 = s2.filterDate('2016-02-01', '2016-02-29')\n",
    "mar2016 = s2.filterDate('2016-03-01', '2016-03-31')\n",
    "apr2016 = s2.filterDate('2016-04-01', '2016-04-30')\n",
    "may2016 = s2.filterDate('2016-05-01', '2016-05-31')\n",
    "jun2016 = s2.filterDate('2016-06-01', '2016-06-30')\n",
    "jul2016 = s2.filterDate('2016-07-01', '2016-07-31')\n",
    "aug2016 = s2.filterDate('2016-08-01', '2016-08-31')\n",
    "sep2016 = s2.filterDate('2016-09-01', '2016-09-30')\n",
    "oct2016 = s2.filterDate('2016-10-01', '2016-10-31')\n",
    "nov2016 = s2.filterDate('2016-11-01', '2016-11-30')\n",
    "dec2016 = s2.filterDate('2016-12-01', '2016-12-31')"
   ]
  },
  {
   "cell_type": "code",
   "execution_count": 52,
   "metadata": {},
   "outputs": [],
   "source": [
    "allMonths = (jan2016\n",
    "             .merge(feb2016)\n",
    "             .merge(mar2016)\n",
    "             .merge(apr2016)\n",
    "             .merge(may2016)\n",
    "             .merge(jun2016)\n",
    "             .merge(jul2016)\n",
    "             .merge(aug2016)\n",
    "             .merge(sep2016)\n",
    "             .merge(oct2016)\n",
    "             .merge(nov2016)\n",
    "             .merge(dec2016))"
   ]
  },
  {
   "cell_type": "code",
   "execution_count": 53,
   "metadata": {},
   "outputs": [],
   "source": [
    "Map.addLayer(allMonths, visParams, 'Raw Monthly Collection')"
   ]
  },
  {
   "cell_type": "code",
   "execution_count": 29,
   "metadata": {},
   "outputs": [],
   "source": [
    "allMonths_ndre = allMonths.map(addNDRE).select('NDRE')\n",
    "Map.addLayer(allMonths_ndre, ndre_params, 'Monthly NDRE Collection')"
   ]
  },
  {
   "cell_type": "code",
   "execution_count": 30,
   "metadata": {},
   "outputs": [],
   "source": [
    "#Put the EC Tower on top of previous layer\n",
    "Map.addLayer(brma2_point, {}, 'Manauas EC Flux Location')"
   ]
  },
  {
   "cell_type": "code",
   "execution_count": 34,
   "metadata": {},
   "outputs": [
    {
     "name": "stdout",
     "output_type": "stream",
     "text": [
      "Generating URL ...\n",
      "Downloading data from https://earthengine.googleapis.com/v1alpha/projects/earthengine-legacy/thumbnails/003b7ad87c0632dbabf6cd5cdbe206f5-c274c9ec9eec08b95a7958897e3be521:getPixels\n",
      "Please wait ...\n",
      "Data downloaded to /Users/morgansteckler/Desktop/jan2016.tif\n"
     ]
    }
   ],
   "source": [
    "#Can only export one image\n",
    "Median_NDRE = allMonths_ndre.median()\n",
    "\n",
    "#Exported for good fun; way to set palette for export? Directory is hard coded.\n",
    "out_dir = '/Users/morgansteckler/Desktop/'\n",
    "filename = os.path.join(out_dir, 'jan2016.tif')\n",
    "geemap.ee_export_image(Median_NDRE, filename = filename, region = brma2_region, scale = 90, file_per_band=False)"
   ]
  },
  {
   "cell_type": "code",
   "execution_count": 32,
   "metadata": {},
   "outputs": [],
   "source": [
    "#This is a step in the right direction, I think. It at least works.\n",
    "#range = jan2016.reduceColumns(ee.Reducer.minMax(), [\"system:time_start\"])\n",
    "#print('Date range: ', str(ee.Date(range.get('min')).getInfo()), str(ee.Date(range.get('max')).getInfo())+'\\n')"
   ]
  }
 ],
 "metadata": {
  "kernelspec": {
   "display_name": "Python 3",
   "language": "python",
   "name": "python3"
  },
  "language_info": {
   "codemirror_mode": {
    "name": "ipython",
    "version": 3
   },
   "file_extension": ".py",
   "mimetype": "text/x-python",
   "name": "python",
   "nbconvert_exporter": "python",
   "pygments_lexer": "ipython3",
   "version": "3.8.2"
  }
 },
 "nbformat": 4,
 "nbformat_minor": 4
}
