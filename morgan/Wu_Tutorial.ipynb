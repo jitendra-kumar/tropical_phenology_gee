{
 "cells": [
  {
   "cell_type": "code",
   "execution_count": 1,
   "metadata": {},
   "outputs": [],
   "source": [
    "import geemap"
   ]
  },
  {
   "cell_type": "code",
   "execution_count": 2,
   "metadata": {},
   "outputs": [
    {
     "data": {
      "text/html": [
       "<p>To authorize access needed by Earth Engine, open the following\n",
       "        URL in a web browser and follow the instructions:</p>\n",
       "        <p><a href=https://accounts.google.com/o/oauth2/auth?client_id=517222506229-vsmmajv00ul0bs7p89v5m89qs8eb9359.apps.googleusercontent.com&scope=https%3A%2F%2Fwww.googleapis.com%2Fauth%2Fearthengine+https%3A%2F%2Fwww.googleapis.com%2Fauth%2Fdevstorage.full_control&redirect_uri=urn%3Aietf%3Awg%3Aoauth%3A2.0%3Aoob&response_type=code&code_challenge=zDSF_0sQ_LyinGXrf3C13Arx5aVLelpfp55OHLtneIs&code_challenge_method=S256>https://accounts.google.com/o/oauth2/auth?client_id=517222506229-vsmmajv00ul0bs7p89v5m89qs8eb9359.apps.googleusercontent.com&scope=https%3A%2F%2Fwww.googleapis.com%2Fauth%2Fearthengine+https%3A%2F%2Fwww.googleapis.com%2Fauth%2Fdevstorage.full_control&redirect_uri=urn%3Aietf%3Awg%3Aoauth%3A2.0%3Aoob&response_type=code&code_challenge=zDSF_0sQ_LyinGXrf3C13Arx5aVLelpfp55OHLtneIs&code_challenge_method=S256</a></p>\n",
       "        <p>The authorization workflow will generate a code, which you\n",
       "        should paste in the box below</p>\n",
       "        "
      ],
      "text/plain": [
       "<IPython.core.display.HTML object>"
      ]
     },
     "metadata": {},
     "output_type": "display_data"
    },
    {
     "name": "stdout",
     "output_type": "stream",
     "text": [
      "Enter verification code: 4/zwETpfIL2aj9ZUWZTNs3fQMo-KVSyRnYlBUVdBLL3ZGTXTEtBXvzJPA\n",
      "\n",
      "Successfully saved authorization token.\n"
     ]
    },
    {
     "data": {
      "application/vnd.jupyter.widget-view+json": {
       "model_id": "d67ea48c5d07427586a038da4205b863",
       "version_major": 2,
       "version_minor": 0
      },
      "text/plain": [
       "Map(center=[40, -100], controls=(WidgetControl(options=['position'], widget=HBox(children=(ToggleButton(value=…"
      ]
     },
     "metadata": {},
     "output_type": "display_data"
    }
   ],
   "source": [
    "#Tutorial 1 -- Installation\n",
    "map1 = geemap.Map()\n",
    "map1\n",
    "map1.add_basemap(\"Stamen.Watercolor\")"
   ]
  },
  {
   "cell_type": "code",
   "execution_count": 21,
   "metadata": {
    "scrolled": true
   },
   "outputs": [
    {
     "data": {
      "application/vnd.jupyter.widget-view+json": {
       "model_id": "c3da5a8685054068b774ddc66bfbf1a1",
       "version_major": 2,
       "version_minor": 0
      },
      "text/plain": [
       "Map(center=[36, -84.3], controls=(WidgetControl(options=['position'], widget=HBox(children=(ToggleButton(value…"
      ]
     },
     "metadata": {},
     "output_type": "display_data"
    }
   ],
   "source": [
    "#Tutorial 2 -- Basemaps\n",
    "#Center with coordinates and zoom map where 1 is far and >1 is close\n",
    "map2 = geemap.Map(center =(36,-84.3), zoom = 8)\n",
    "map2\n",
    "map2.add_basemap(\"SATELLITE\")"
   ]
  },
  {
   "cell_type": "code",
   "execution_count": 24,
   "metadata": {},
   "outputs": [
    {
     "data": {
      "application/vnd.jupyter.widget-view+json": {
       "model_id": "fdaf2f8d38f641abbe8d93dddc5bd291",
       "version_major": 2,
       "version_minor": 0
      },
      "text/plain": [
       "Map(center=[40, -100], controls=(WidgetControl(options=['position'], widget=HBox(children=(ToggleButton(value=…"
      ]
     },
     "metadata": {},
     "output_type": "display_data"
    }
   ],
   "source": [
    "#Tutorial 2 -- Basemaps\n",
    "#Gives you a dropdown with all the basemaps :-0\n",
    "map3 = geemap.Map()\n",
    "map3.basemap_demo()\n",
    "map3"
   ]
  },
  {
   "cell_type": "code",
   "execution_count": 35,
   "metadata": {},
   "outputs": [
    {
     "data": {
      "application/vnd.jupyter.widget-view+json": {
       "model_id": "91286286be174336adcb9a6b8cab197f",
       "version_major": 2,
       "version_minor": 0
      },
      "text/plain": [
       "Map(center=[40, -100], controls=(WidgetControl(options=['position'], widget=HBox(children=(ToggleButton(value=…"
      ]
     },
     "metadata": {},
     "output_type": "display_data"
    }
   ],
   "source": [
    "#Tutorial 2 -- Basemaps\n",
    "#Add a basemap from a URL from USGS national map WMS layer\n",
    "map4 = geemap.Map(center = (40,-100), zoom = 3.5)\n",
    "naip_url = 'https://services.nationalmap.gov/arcgis/services/USGSNAIPImagery/ImageServer/WMSServer?'\n",
    "map4.add_wms_layer(url=naip_url, layers='0', name='NAIP Imagery', format='image/png', shown=True)\n",
    "map4"
   ]
  },
  {
   "cell_type": "code",
   "execution_count": 36,
   "metadata": {},
   "outputs": [
    {
     "data": {
      "application/vnd.jupyter.widget-view+json": {
       "model_id": "30ba386ca10f44879aa01f779b1765e5",
       "version_major": 2,
       "version_minor": 0
      },
      "text/plain": [
       "Map(center=[40, -100], controls=(WidgetControl(options=['position'], widget=HBox(children=(ToggleButton(value=…"
      ]
     },
     "metadata": {},
     "output_type": "display_data"
    }
   ],
   "source": [
    "#Tutorial 3 -- Inspector Tool for GEE Python API\n",
    "#Inspector tells you about the information for all layers (like identity tool in Arc)\n",
    "import ee\n",
    "\n",
    "map5 = geemap.Map()\n",
    "map5.add_basemap()\n",
    "\n",
    "# Add Earth Engine dataset\n",
    "dem = ee.Image('USGS/SRTMGL1_003')\n",
    "landcover = ee.Image(\"ESA/GLOBCOVER_L4_200901_200912_V2_3\").select('landcover')\n",
    "landsat7 = ee.Image('LE7_TOA_5YEAR/1999_2003')\n",
    "states = ee.FeatureCollection(\"TIGER/2018/States\")\n",
    "\n",
    "# Set visualization parameters.\n",
    "vis_params = {\n",
    "  'min': 0,\n",
    "  'max': 4000,\n",
    "  'palette': ['006633', 'E5FFCC', '662A00', 'D8D8D8', 'F5F5F5']}\n",
    "\n",
    "# Add Earth Eninge layers to Map\n",
    "map5.addLayer(dem, vis_params, 'STRM DEM', True, 0.5)\n",
    "map5.addLayer(landcover, {}, 'Land cover')\n",
    "map5.addLayer(landsat7, {'bands': ['B4', 'B3', 'B2'], 'min': 20, 'max': 200}, 'Landsat 7')\n",
    "map5.addLayer(states, {}, \"US States\")\n",
    "\n",
    "map5"
   ]
  },
  {
   "cell_type": "code",
   "execution_count": 1,
   "metadata": {},
   "outputs": [
    {
     "data": {
      "application/vnd.jupyter.widget-view+json": {
       "model_id": "f2bba771f18d48a58962ef92f4422ccc",
       "version_major": 2,
       "version_minor": 0
      },
      "text/plain": [
       "Map(center=[40, -100], controls=(WidgetControl(options=['position'], widget=HBox(children=(ToggleButton(value=…"
      ]
     },
     "metadata": {},
     "output_type": "display_data"
    }
   ],
   "source": [
    "#Tutorial 4 -- Split Panel visualization\n",
    "#Default split is google hybrid and ESRI map\n",
    "#Shift+Tab shows you parameters in parenthesis (wish I knew that sooner)\n",
    "import geemap\n",
    "import ee\n",
    "map6 = geemap.Map()\n",
    "map6.split_map(left_layer=\"HYBRID\", right_layer=\"ROADMAP\")\n",
    "map6"
   ]
  },
  {
   "cell_type": "code",
   "execution_count": 2,
   "metadata": {},
   "outputs": [
    {
     "name": "stdout",
     "output_type": "stream",
     "text": [
      "ROADMAP\n",
      "SATELLITE\n",
      "TERRAIN\n",
      "HYBRID\n",
      "ESRI\n",
      "Esri Ocean\n",
      "Esri Satellite\n",
      "Esri Standard\n",
      "Esri Terrain\n",
      "Esri Transportation\n",
      "Esri Topo World\n",
      "Esri National Geographic\n",
      "Esri Shaded Relief\n",
      "Esri Physical Map\n",
      "FWS NWI Wetlands\n",
      "FWS NWI Wetlands Raster\n",
      "Google Maps\n",
      "Google Satellite\n",
      "Google Terrain\n",
      "Google Satellite Hybrid\n",
      "NLCD 2016 CONUS Land Cover\n",
      "NLCD 2013 CONUS Land Cover\n",
      "NLCD 2011 CONUS Land Cover\n",
      "NLCD 2008 CONUS Land Cover\n",
      "NLCD 2006 CONUS Land Cover\n",
      "NLCD 2004 CONUS Land Cover\n",
      "NLCD 2001 CONUS Land Cover\n",
      "USGS NAIP Imagery\n",
      "USGS Hydrography\n",
      "USGS 3DEP Elevation\n",
      "OpenStreetMap.Mapnik\n",
      "OpenStreetMap.BlackAndWhite\n",
      "OpenStreetMap.DE\n",
      "OpenStreetMap.France\n",
      "OpenStreetMap.HOT\n",
      "OpenTopoMap\n",
      "Hydda.Full\n",
      "Hydda.Base\n",
      "Esri.WorldStreetMap\n",
      "Esri.DeLorme\n",
      "Esri.WorldTopoMap\n",
      "Esri.WorldImagery\n",
      "Esri.NatGeoWorldMap\n",
      "HikeBike.HikeBike\n",
      "MtbMap\n",
      "CartoDB.Positron\n",
      "CartoDB.DarkMatter\n",
      "NASAGIBS.ModisTerraTrueColorCR\n",
      "NASAGIBS.ModisTerraBands367CR\n",
      "NASAGIBS.ModisTerraBands721CR\n",
      "NASAGIBS.ModisAquaTrueColorCR\n",
      "NASAGIBS.ModisAquaBands721CR\n",
      "NASAGIBS.ViirsTrueColorCR\n",
      "NASAGIBS.ViirsEarthAtNight2012\n",
      "Strava.All\n",
      "Strava.Ride\n",
      "Strava.Run\n",
      "Strava.Water\n",
      "Strava.Winter\n",
      "Stamen.Terrain\n",
      "Stamen.Toner\n",
      "Stamen.Watercolor\n"
     ]
    }
   ],
   "source": [
    "#Tutorial 4 -- Split Panel visualization\n",
    "#Show list of possible basemaps. There's 62!\n",
    "basemaps_table = geemap.ee_basemaps.keys()\n",
    "for basemap in basemaps_table:\n",
    "    print(basemap)"
   ]
  },
  {
   "cell_type": "code",
   "execution_count": 3,
   "metadata": {},
   "outputs": [
    {
     "data": {
      "application/vnd.jupyter.widget-view+json": {
       "model_id": "bc7996b5cfea48d29bb67e77bfbdb06c",
       "version_major": 2,
       "version_minor": 0
      },
      "text/plain": [
       "Map(center=[40, -100], controls=(WidgetControl(options=['position'], widget=HBox(children=(ToggleButton(value=…"
      ]
     },
     "metadata": {},
     "output_type": "display_data"
    }
   ],
   "source": [
    "#Tutorial 4 -- Split Panel visualization\n",
    "#Comapre Land Cover Example\n",
    "map7 = geemap.Map()\n",
    "map7.split_map(left_layer=\"NLCD 2008 CONUS Land Cover\", right_layer=\"NLCD 2016 CONUS Land Cover\")\n",
    "map7"
   ]
  },
  {
   "cell_type": "code",
   "execution_count": 4,
   "metadata": {},
   "outputs": [
    {
     "name": "stdout",
     "output_type": "stream",
     "text": [
      "['USGS/NLCD/NLCD1992', 'USGS/NLCD/NLCD2001', 'USGS/NLCD/NLCD2001_AK', 'USGS/NLCD/NLCD2001_HI', 'USGS/NLCD/NLCD2001_PR', 'USGS/NLCD/NLCD2004', 'USGS/NLCD/NLCD2006', 'USGS/NLCD/NLCD2008', 'USGS/NLCD/NLCD2011', 'USGS/NLCD/NLCD2011_AK', 'USGS/NLCD/NLCD2011_HI', 'USGS/NLCD/NLCD2011_PR', 'USGS/NLCD/NLCD2013', 'USGS/NLCD/NLCD2016']\n"
     ]
    }
   ],
   "source": [
    "#Tutorial 4 -- Split Panel visualization\n",
    "#Add data from GEE\n",
    "#See https://developers.google.com/earth-engine/datasets/catalog/USGS_NLCD?authuser=1\n",
    "collection = ee.ImageCollection(\"USGS/NLCD\")\n",
    "\n",
    "#Show what subsets are available\n",
    "print(collection.aggregate_array(\"system:id\").getInfo())"
   ]
  },
  {
   "cell_type": "code",
   "execution_count": 55,
   "metadata": {},
   "outputs": [
    {
     "data": {
      "application/vnd.jupyter.widget-view+json": {
       "model_id": "eb5f9e356ee548f189ba215b249e82fa",
       "version_major": 2,
       "version_minor": 0
      },
      "text/plain": [
       "Map(center=[40, -100], controls=(WidgetControl(options=['position'], widget=HBox(children=(ToggleButton(value=…"
      ]
     },
     "metadata": {},
     "output_type": "display_data"
    }
   ],
   "source": [
    "#Tutorial 4 -- Split Panel visualization\n",
    "#Select subsets and the band you're interest in (landcover)\n",
    "nlcd_2001 = ee.Image(\"USGS/NLCD/NLCD2001\").select(\"landcover\")\n",
    "nlcd_2016 = ee.Image(\"USGS/NLCD/NLCD2016\").select(\"landcover\")\n",
    "\n",
    "left_layer = geemap.ee_tile_layer(nlcd_2001, {}, \"NLCD 2001\")\n",
    "right_layer = geemap.ee_tile_layer(nlcd_2016, {}, \"NLCD 2016\")\n",
    "\n",
    "map8 = geemap.Map()\n",
    "map8.split_map(left_layer, right_layer)\n",
    "map8\n",
    "\n",
    "#Now, we can run stats on this data"
   ]
  },
  {
   "cell_type": "code",
   "execution_count": 63,
   "metadata": {},
   "outputs": [
    {
     "data": {
      "application/vnd.jupyter.widget-view+json": {
       "model_id": "3631a295e6e245b0856974b48e98252f",
       "version_major": 2,
       "version_minor": 0
      },
      "text/plain": [
       "Map(center=[40, -100], controls=(WidgetControl(options=['position'], widget=HBox(children=(ToggleButton(value=…"
      ]
     },
     "metadata": {},
     "output_type": "display_data"
    }
   ],
   "source": [
    "#Tutorial 5 -- Drawing Tools\n",
    "#Make map first\n",
    "map9 = geemap.Map()\n",
    "map9"
   ]
  },
  {
   "cell_type": "code",
   "execution_count": 67,
   "metadata": {},
   "outputs": [],
   "source": [
    "#Tutorial 5 -- Drawing Tools\n",
    "#Grab a tile and set some parameters you want\n",
    "image = ee.Image(\"USGS/SRTMGL1_003\")\n",
    "vis_params = {\n",
    "    'min':0,\n",
    "    'max':4000,\n",
    "    'palette':['006633', 'E5FFCC', '662A00', 'D8D8D8', 'F5F5F5']}\n",
    "\n",
    "#Create a map and add GEE DEM to map\n",
    "map9.addLayer(image, vis_params, \"SRTM DEM\")\n",
    "\n",
    "#Add a state boundary feature layer\n",
    "states = ee.FeatureCollection(\"TIGER/2018/States\")\n",
    "map9.addLayer(states, {}, \"US States\")\n",
    "\n",
    "#Outline coastal states using the polygon drawing GUI\n",
    "#Save the features (should give you a list of features)\n",
    "map9.draw_features\n",
    "\n",
    "#Select by feature\n",
    "roi = ee.FeatureCollection(map9.draw_features)\n",
    "selected_states = states.filterBounds(roi)\n",
    "map9.addLayer(selected_states, {}, \"Selected States\")\n",
    "\n",
    "#Clip DEM to ROI to make a very ugly map <- deselct things to make it look nice\n",
    "clipped_image = image.clip(selected_states)\n",
    "map9.addLayer(clipped_image, vis_params, \"Clipped Image\")"
   ]
  },
  {
   "cell_type": "code",
   "execution_count": 73,
   "metadata": {},
   "outputs": [
    {
     "data": {
      "application/vnd.jupyter.widget-view+json": {
       "model_id": "cf4416cc9ec74729af08598d4578ef31",
       "version_major": 2,
       "version_minor": 0
      },
      "text/plain": [
       "Map(center=[40, -100], controls=(WidgetControl(options=['position'], widget=HBox(children=(ToggleButton(value=…"
      ]
     },
     "metadata": {},
     "output_type": "display_data"
    }
   ],
   "source": [
    "#Tutorial 6 -- Interactive map with Marker Cluster\n",
    "map10 = geemap.Map(select = (30, -100), zoom = 3)\n",
    "map10"
   ]
  },
  {
   "cell_type": "code",
   "execution_count": 74,
   "metadata": {},
   "outputs": [],
   "source": [
    "#Tutorial 6 -- Interactive map with Marker Cluster\n",
    "import json\n",
    "import os\n",
    "import requests\n",
    "from geemap import geojson_to_ee, ee_to_geojson\n",
    "from ipyleaflet import GeoJSON, Marker, MarkerCluster"
   ]
  },
  {
   "cell_type": "code",
   "execution_count": 80,
   "metadata": {},
   "outputs": [],
   "source": [
    "#Tutorial 6 -- Interactive map with Marker Cluster\n",
    "#Download the json file from github into my folder and open it\n",
    "file_path = os.path.abspath('../geemap/us-cities.json')\n",
    "\n",
    "if not os.path.exists(file_path):\n",
    "    url = 'https://github.com/giswqs/geemap/raw/master/examples/data/us-cities.json'\n",
    "    r = requests.get(url)\n",
    "    with open(file_path, 'w') as f:\n",
    "        f.write(r.content.decode(\"utf-8\"))        \n",
    "\n",
    "with open(file_path) as f:\n",
    "    json_data = json.load(f)\n",
    "\n",
    "#Make you marker cluster\n",
    "#::- changes from long lat to lat long; otherwise your points will be in wrong place\n",
    "marker_cluster = MarkerCluster(\n",
    "    markers=[Marker(location=feature['geometry']['coordinates'][::-1]) for feature in json_data['features']],\n",
    "    name = 'Markers')\n",
    "\n",
    "#Stick you marker cluster on the map\n",
    "map10.add_layer(marker_cluster)\n",
    "\n",
    "#Save marker clusters a feature class so we can run analyses\n",
    "ee_fc = geojson_to_ee(json_data)\n",
    "map10.addLayer(ee_fc, {}, \"US Cities EE\")"
   ]
  },
  {
   "cell_type": "code",
   "execution_count": 81,
   "metadata": {},
   "outputs": [
    {
     "data": {
      "application/vnd.jupyter.widget-view+json": {
       "model_id": "2ffd563a60994a49bddd630034b51505",
       "version_major": 2,
       "version_minor": 0
      },
      "text/plain": [
       "Map(center=[40, -100], controls=(WidgetControl(options=['position'], widget=HBox(children=(ToggleButton(value=…"
      ]
     },
     "metadata": {},
     "output_type": "display_data"
    }
   ],
   "source": [
    "#Tutorial 7 -- Convert GeoJSON to EE object\n",
    "map11 = geemap.Map()\n",
    "map11"
   ]
  },
  {
   "cell_type": "code",
   "execution_count": null,
   "metadata": {},
   "outputs": [],
   "source": [
    "#Tutorial 7 -- Convert GeoJSON to EE object\n",
    "#Download data from Wu's github\n",
    "file_path = os.path.abspath('../geemap/us-states.json')\n",
    "\n",
    "if not os.path.exists(file_path):\n",
    "    url = 'https://github.com/giswqs/geemap/raw/master/examples/data/us-states.json'\n",
    "    r = requests.get(url)\n",
    "    with open(file_path, 'w') as f:\n",
    "        f.write(r.content.decode(\"utf-8\"))        \n",
    "\n",
    "with open(file_path) as f:\n",
    "    json_data = json.load(f)"
   ]
  },
  {
   "cell_type": "code",
   "execution_count": 88,
   "metadata": {},
   "outputs": [],
   "source": [
    "#Tutorial 7 -- Convert GeoJSON to EE object\n",
    "#Create layer with JSON and add to map\n",
    "json_layer = GeoJSON(data = json_data, name = 'US States JSON', hover_style={'fillColor': 'blue', 'fillOpacity': 0.5})\n",
    "map11.add_layer(json_layer)"
   ]
  },
  {
   "cell_type": "code",
   "execution_count": 89,
   "metadata": {},
   "outputs": [],
   "source": [
    "#Tutorial 7 -- Convert GeoJSON to EE object\n",
    "#Convert from JSON to EE object\n",
    "#ee_to_geojson can convert it back; not really necessary\n",
    "ee_data = geojson_to_ee(json_data)\n",
    "map11.addLayer(ee_data, {}, \"US States EE\")"
   ]
  },
  {
   "cell_type": "code",
   "execution_count": 95,
   "metadata": {},
   "outputs": [
    {
     "name": "stdout",
     "output_type": "stream",
     "text": [
      "Converting Earth Engine JavaScripts to Python scripts...\n",
      "\n",
      "Processing 1/78: /Users/morgansteckler/Desktop/geemap/javascript_examples/CodeEditor/MapStyle.js\n",
      "Processing 2/78: /Users/morgansteckler/Desktop/geemap/javascript_examples/CodeEditor/MapCenterObject.js\n",
      "Processing 3/78: /Users/morgansteckler/Desktop/geemap/javascript_examples/Primitive/DictionaryGet.js\n",
      "Processing 4/78: /Users/morgansteckler/Desktop/geemap/javascript_examples/FeatureCollection/Join.js\n",
      "Processing 5/78: /Users/morgansteckler/Desktop/geemap/javascript_examples/FeatureCollection/Distance.js\n",
      "Processing 6/78: /Users/morgansteckler/Desktop/geemap/javascript_examples/FeatureCollection/ReduceToImage.js\n",
      "Processing 7/78: /Users/morgansteckler/Desktop/geemap/javascript_examples/FeatureCollection/FromEarthEngineAsset.js\n",
      "Processing 8/78: /Users/morgansteckler/Desktop/geemap/javascript_examples/FeatureCollection/ComputedAreaFilter.js\n",
      "Processing 9/78: /Users/morgansteckler/Desktop/geemap/javascript_examples/FeatureCollection/FromPolygons.js\n",
      "Processing 10/78: /Users/morgansteckler/Desktop/geemap/javascript_examples/FeatureCollection/Buffer.js\n",
      "Processing 11/78: /Users/morgansteckler/Desktop/geemap/javascript_examples/Charts/ElevationHistogram.js\n",
      "Processing 12/78: /Users/morgansteckler/Desktop/geemap/javascript_examples/Charts/TemperatureDisparity.js\n",
      "Processing 13/78: /Users/morgansteckler/Desktop/geemap/javascript_examples/Charts/ElevationProfile.js\n",
      "Processing 14/78: /Users/morgansteckler/Desktop/geemap/javascript_examples/Charts/ColumnHistogram.js\n",
      "Processing 15/78: /Users/morgansteckler/Desktop/geemap/javascript_examples/Charts/ImageSpectra.js\n",
      "Processing 16/78: /Users/morgansteckler/Desktop/geemap/javascript_examples/Charts/SeasonalTemperatures.js\n",
      "Processing 17/78: /Users/morgansteckler/Desktop/geemap/javascript_examples/Charts/ImageTimeSeries.js\n",
      "Processing 18/78: /Users/morgansteckler/Desktop/geemap/javascript_examples/Charts/DoySeries.js\n",
      "Processing 19/78: /Users/morgansteckler/Desktop/geemap/javascript_examples/Charts/ElevationAndTemperature.js\n",
      "Processing 20/78: /Users/morgansteckler/Desktop/geemap/javascript_examples/Charts/ImageTimeSeriesByRegion.js\n",
      "Processing 21/78: /Users/morgansteckler/Desktop/geemap/javascript_examples/Image/PixelArea.js\n",
      "Processing 22/78: /Users/morgansteckler/Desktop/geemap/javascript_examples/Image/PixelLonLat.js\n",
      "Processing 23/78: /Users/morgansteckler/Desktop/geemap/javascript_examples/Image/CenterPivotIrrigationDetector.js\n",
      "Processing 24/78: /Users/morgansteckler/Desktop/geemap/javascript_examples/Image/HSVPanSharpening.js\n",
      "Processing 25/78: /Users/morgansteckler/Desktop/geemap/javascript_examples/Image/ZeroCrossing.js\n",
      "Processing 26/78: /Users/morgansteckler/Desktop/geemap/javascript_examples/Image/NormalizedDifference.js\n",
      "Processing 27/78: /Users/morgansteckler/Desktop/geemap/javascript_examples/Image/FromName.js\n",
      "Processing 28/78: /Users/morgansteckler/Desktop/geemap/javascript_examples/Image/LandcoverCleanup.js\n",
      "Processing 29/78: /Users/morgansteckler/Desktop/geemap/javascript_examples/Image/ModisQaBands.js\n",
      "Processing 30/78: /Users/morgansteckler/Desktop/geemap/javascript_examples/Image/Expression.js\n",
      "Processing 31/78: /Users/morgansteckler/Desktop/geemap/javascript_examples/Image/Polynomial.js\n",
      "Processing 32/78: /Users/morgansteckler/Desktop/geemap/javascript_examples/Image/Clamp.js\n",
      "Processing 33/78: /Users/morgansteckler/Desktop/geemap/javascript_examples/Image/Hillshade.js\n",
      "Processing 34/78: /Users/morgansteckler/Desktop/geemap/javascript_examples/Image/ConnectedPixelCount.js\n",
      "Processing 35/78: /Users/morgansteckler/Desktop/geemap/javascript_examples/Image/ReduceRegion.js\n",
      "Processing 36/78: /Users/morgansteckler/Desktop/geemap/javascript_examples/Image/CannyEdgeDetector.js\n",
      "Processing 37/78: /Users/morgansteckler/Desktop/geemap/javascript_examples/Image/HoughTransform.js\n",
      "Processing 38/78: /Users/morgansteckler/Desktop/geemap/javascript_examples/CloudMasking/Landsat8SurfaceReflectance.js\n",
      "Processing 39/78: /Users/morgansteckler/Desktop/geemap/javascript_examples/CloudMasking/Sentinel2.js\n",
      "Processing 40/78: /Users/morgansteckler/Desktop/geemap/javascript_examples/CloudMasking/MODISSurfaceReflectanceQABand.js\n",
      "Processing 41/78: /Users/morgansteckler/Desktop/geemap/javascript_examples/CloudMasking/Landsat457SurfaceReflectance.js\n",
      "Processing 42/78: /Users/morgansteckler/Desktop/geemap/javascript_examples/CloudMasking/Landsat8TOAReflectanceQABand.js\n",
      "Processing 43/78: /Users/morgansteckler/Desktop/geemap/javascript_examples/Arrays/SpectralUnmixing.js\n",
      "Processing 44/78: /Users/morgansteckler/Desktop/geemap/javascript_examples/Arrays/QualityMosaic.js\n",
      "Processing 45/78: /Users/morgansteckler/Desktop/geemap/javascript_examples/Arrays/DecorrelationStretch.js\n",
      "Processing 46/78: /Users/morgansteckler/Desktop/geemap/javascript_examples/Arrays/LinearRegression.js\n",
      "Processing 47/78: /Users/morgansteckler/Desktop/geemap/javascript_examples/tutorials/jrc_gsw/tutorial_global_surface_water_03.js\n",
      "Processing 48/78: /Users/morgansteckler/Desktop/geemap/javascript_examples/tutorials/jrc_gsw/tutorial_global_surface_water_02.js\n",
      "Processing 49/78: /Users/morgansteckler/Desktop/geemap/javascript_examples/tutorials/jrc_gsw/tutorial_global_surface_water_04.js\n",
      "Processing 50/78: /Users/morgansteckler/Desktop/geemap/javascript_examples/UserInterface/ForestChange.js\n",
      "Processing 51/78: /Users/morgansteckler/Desktop/geemap/javascript_examples/UserInterface/TwoChartInspector.js\n",
      "Processing 52/78: /Users/morgansteckler/Desktop/geemap/javascript_examples/UserInterface/CollectionSlider.js\n",
      "Processing 53/78: /Users/morgansteckler/Desktop/geemap/javascript_examples/UserInterface/ManualLegend.js\n",
      "Processing 54/78: /Users/morgansteckler/Desktop/geemap/javascript_examples/UserInterface/LinkedMaps.js\n",
      "Processing 55/78: /Users/morgansteckler/Desktop/geemap/javascript_examples/UserInterface/MobileFriendlyUI.js\n",
      "Processing 56/78: /Users/morgansteckler/Desktop/geemap/javascript_examples/UserInterface/LandsatExplorer.js\n",
      "Processing 57/78: /Users/morgansteckler/Desktop/geemap/javascript_examples/UserInterface/SplitPanel.js\n",
      "Processing 58/78: /Users/morgansteckler/Desktop/geemap/javascript_examples/UserInterface/AirstripThumbnails.js\n",
      "Processing 59/78: /Users/morgansteckler/Desktop/geemap/javascript_examples/UserInterface/AsyncInspector.js\n",
      "Processing 60/78: /Users/morgansteckler/Desktop/geemap/javascript_examples/UserInterface/PopulationExplorer.js\n",
      "Processing 61/78: /Users/morgansteckler/Desktop/geemap/javascript_examples/UserInterface/MosaicEditor.js\n",
      "Processing 62/78: /Users/morgansteckler/Desktop/geemap/javascript_examples/UserInterface/OceanTimeseriesInvestigator.js\n",
      "Processing 63/78: /Users/morgansteckler/Desktop/geemap/javascript_examples/UserInterface/LayerFilters.js\n",
      "Processing 64/78: /Users/morgansteckler/Desktop/geemap/javascript_examples/UserInterface/ZoomBox.js\n",
      "Processing 65/78: /Users/morgansteckler/Desktop/geemap/javascript_examples/ImageCollection/LandsatSimpleComposite.js\n",
      "Processing 66/78: /Users/morgansteckler/Desktop/geemap/javascript_examples/ImageCollection/ExpressionMap.js\n",
      "Processing 67/78: /Users/morgansteckler/Desktop/geemap/javascript_examples/ImageCollection/AnimatedThumbnail.js\n",
      "Processing 68/78: /Users/morgansteckler/Desktop/geemap/javascript_examples/ImageCollection/ClippedComposite.js\n",
      "Processing 69/78: /Users/morgansteckler/Desktop/geemap/javascript_examples/ImageCollection/LinearFit.js\n",
      "Processing 70/78: /Users/morgansteckler/Desktop/geemap/javascript_examples/ImageCollection/FilteredComposite.js\n",
      "Processing 71/78: /Users/morgansteckler/Desktop/geemap/javascript_examples/ImageCollection/SimpleCloudScore.js\n",
      "Processing 72/78: /Users/morgansteckler/Desktop/geemap/javascript_examples/Demos/Sentinel1Composite.js\n",
      "Processing 73/78: /Users/morgansteckler/Desktop/geemap/javascript_examples/Demos/Landsat8HarmonicModeling.js\n",
      "Processing 74/78: /Users/morgansteckler/Desktop/geemap/javascript_examples/Demos/Classification.js\n",
      "Processing 75/78: /Users/morgansteckler/Desktop/geemap/javascript_examples/Demos/TerrainVisualization.js\n",
      "Processing 76/78: /Users/morgansteckler/Desktop/geemap/javascript_examples/Demos/MODISHarmonicModeling.js\n",
      "Processing 77/78: /Users/morgansteckler/Desktop/geemap/javascript_examples/Demos/NASANEXClimateModeling.js\n",
      "Processing 78/78: /Users/morgansteckler/Desktop/geemap/javascript_examples/Demos/EgyptClassification.js\n",
      "Python scripts saved at: /Users/morgansteckler/Desktop/geemap/javascript_examples/\n"
     ]
    }
   ],
   "source": [
    "#Tutorial 8 -- EE Javascript to Python/Jupyter Notebooks\n",
    "#Note, make sure your directory is in right; didn't include that code here\n",
    "#This is magical... but I wonder if it only works in QGIS?\n",
    "import subprocess\n",
    "from geemap.conversion import *\n",
    "js_dir = \"/Users/morgansteckler/Desktop/geemap/javascript_examples/\"\n",
    "js_to_python_dir(in_dir = js_dir, out_dir = js_dir, use_qgis=True)\n",
    "print(\"Python scripts saved at: {}\".format(js_dir))\n"
   ]
  },
  {
   "cell_type": "code",
   "execution_count": 96,
   "metadata": {},
   "outputs": [
    {
     "data": {
      "application/vnd.jupyter.widget-view+json": {
       "model_id": "23fad96d03a34c14a22f5124bdd0dd22",
       "version_major": 2,
       "version_minor": 0
      },
      "text/plain": [
       "Map(center=[40, -100], controls=(WidgetControl(options=['position'], widget=HBox(children=(ToggleButton(value=…"
      ]
     },
     "metadata": {},
     "output_type": "display_data"
    }
   ],
   "source": [
    "#Tutorial 11 -- Download EE as GeoTiff\n",
    "map12 = geemap.Map()\n",
    "map12"
   ]
  },
  {
   "cell_type": "code",
   "execution_count": 114,
   "metadata": {},
   "outputs": [],
   "source": [
    "#Tutorial 11 -- Download EE as GeoTiff\n",
    "#Grab your EE data and add as a layer\n",
    "image = ee.Image('LE7_TOA_5YEAR/1999_2003')\n",
    "\n",
    "landsat_vis = {\n",
    "    'bands': ['B4', 'B3', 'B2'], \n",
    "    'gamma': 1.4\n",
    "}\n",
    "map12.addLayer(image, landsat_vis, \"LE7_TOA_5YEAR/1999_2003\", True, 0.7)"
   ]
  },
  {
   "cell_type": "code",
   "execution_count": 115,
   "metadata": {},
   "outputs": [],
   "source": [
    "#Tutorial 11 -- Download EE as GeoTiff\n",
    "#Draw some rectangles on the map first\n",
    "saltlake = map12.draw_last_feature\n",
    "saltlake\n",
    "roi = saltlake.geometry()"
   ]
  },
  {
   "cell_type": "code",
   "execution_count": 116,
   "metadata": {},
   "outputs": [],
   "source": [
    "#Tutorial 11 -- Download EE as GeoTiff\n",
    "#Set your directory\n",
    "out_dir = \"/Users/morgansteckler/Desktop/geemap/\"\n",
    "filename = os.path.join(out_dir, 'landsat.tif')"
   ]
  },
  {
   "cell_type": "code",
   "execution_count": 117,
   "metadata": {},
   "outputs": [
    {
     "name": "stdout",
     "output_type": "stream",
     "text": [
      "Generating URL ...\n",
      "Downloading data from https://earthengine.googleapis.com/v1alpha/projects/earthengine-legacy/thumbnails/a9bbd205861c63f7c20f2f56b37e9c74-d8631bba597b096d2b72dbe6bfa01903:getPixels\n",
      "Please wait ...\n",
      "Data downloaded to /Users/morgansteckler/Desktop/geemap/landsat.tif\n"
     ]
    }
   ],
   "source": [
    "#Tutorial 11 -- Download EE as GeoTiff\n",
    "#Export the tif file (note: won't let me open on computer)\n",
    "geemap.ee_export_image(image, filename = filename, scale = 90, region = roi, file_per_band=False)"
   ]
  },
  {
   "cell_type": "code",
   "execution_count": 118,
   "metadata": {},
   "outputs": [
    {
     "data": {
      "application/vnd.jupyter.widget-view+json": {
       "model_id": "862300364c3846a2918c74c2661fd37d",
       "version_major": 2,
       "version_minor": 0
      },
      "text/plain": [
       "Map(center=[40, -100], controls=(WidgetControl(options=['position'], widget=HBox(children=(ToggleButton(value=…"
      ]
     },
     "metadata": {},
     "output_type": "display_data"
    }
   ],
   "source": [
    "#Tutorial 12 -- Zonal Stats and Exporting Results as CSV/Shapefile\n",
    "map13 = geemap.Map()\n",
    "map13"
   ]
  },
  {
   "cell_type": "code",
   "execution_count": 119,
   "metadata": {},
   "outputs": [],
   "source": [
    "#Tutorial 12 -- Zonal Stats and Exporting Results as CSV/Shapefile\n",
    "#Here, my zones are states\n",
    "dem = ee.Image('USGS/SRTMGL1_003')\n",
    "\n",
    "# Set visualization parameters.\n",
    "dem_vis = {\n",
    "  'min': 0,\n",
    "  'max': 4000,\n",
    "  'palette': ['006633', 'E5FFCC', '662A00', 'D8D8D8', 'F5F5F5']}\n",
    "\n",
    "# Add Earth Engine DEM to map\n",
    "map13.addLayer(dem, dem_vis, 'SRTM DEM')\n",
    "\n",
    "# Add Landsat data to map\n",
    "landsat = ee.Image('LE7_TOA_5YEAR/1999_2003')\n",
    "\n",
    "landsat_vis = {\n",
    "    'bands': ['B4', 'B3', 'B2'], \n",
    "    'gamma': 1.4\n",
    "}\n",
    "map13.addLayer(landsat, landsat_vis, \"LE7_TOA_5YEAR/1999_2003\")\n",
    "\n",
    "states = ee.FeatureCollection(\"TIGER/2018/States\")\n",
    "map13.addLayer(states, {}, 'US States')"
   ]
  },
  {
   "cell_type": "code",
   "execution_count": 120,
   "metadata": {},
   "outputs": [
    {
     "name": "stdout",
     "output_type": "stream",
     "text": [
      "Computing statistics ...\n",
      "Generating URL ...\n",
      "An error occurred while downloading.\n",
      "'str' object has no attribute 'select'\n",
      "Computing statistics ...\n",
      "Generating URL ...\n",
      "An error occurred while downloading.\n",
      "'str' object has no attribute 'select'\n"
     ]
    }
   ],
   "source": [
    "out_stats = \"/Users/morgansteckler/Desktop/geemap/\"\n",
    "demfile = os.path.join(out_stats, 'dem_stats.csv')\n",
    "landsatfile = os.path.join(out_stats, 'landsat_stats.csv')\n",
    "\n",
    "geemap.zonal_statistics(dem, states, demfile, statistics_type='MEAN', scale=1000)\n",
    "geemap.zonal_statistics(landsat, states, landsatfile, statistics_type='SUM', scale=1000)"
   ]
  },
  {
   "cell_type": "code",
   "execution_count": 1,
   "metadata": {},
   "outputs": [
    {
     "data": {
      "application/vnd.jupyter.widget-view+json": {
       "model_id": "e5a23b3b65e14f1097926b224e2cbac0",
       "version_major": 2,
       "version_minor": 0
      },
      "text/plain": [
       "Map(center=[40, -100], controls=(WidgetControl(options=['position'], widget=HBox(children=(ToggleButton(value=…"
      ]
     },
     "metadata": {},
     "output_type": "display_data"
    }
   ],
   "source": [
    "#Tutorial 9 -- Plotting Data\n",
    "import ee\n",
    "import geemap\n",
    "map14 = geemap.Map()\n",
    "map14"
   ]
  },
  {
   "cell_type": "code",
   "execution_count": 3,
   "metadata": {},
   "outputs": [],
   "source": [
    "#Tutorial 9 -- Plotting Data\n",
    "landsat7 = ee.Image('LE7_TOA_5YEAR/1999_2003') \\\n",
    "    .select([0, 1, 2, 3, 4, 6])\n",
    "landsat_vis = {\n",
    "    'bands': ['B4', 'B3', 'B2'], \n",
    "    'gamma': 1.4\n",
    "}\n",
    "map14.addLayer(landsat7, landsat_vis, \"LE7_TOA_5YEAR/1999_2003\")\n",
    "\n",
    "hyperion = ee.ImageCollection('EO1/HYPERION') \\\n",
    "    .filter(ee.Filter.date('2016-01-01', '2017-03-01'));\n",
    "hyperion_vis = {\n",
    "  'min': 1000.0,\n",
    "  'max': 14000.0,\n",
    "  'gamma': 2.5,\n",
    "}\n",
    "map14.addLayer(hyperion, hyperion_vis, 'EO1/HYPERION');"
   ]
  },
  {
   "cell_type": "code",
   "execution_count": 4,
   "metadata": {},
   "outputs": [],
   "source": [
    "map14.set_plot_options(plot_type='bar', add_marker_cluster=True)"
   ]
  },
  {
   "cell_type": "code",
   "execution_count": null,
   "metadata": {},
   "outputs": [],
   "source": []
  }
 ],
 "metadata": {
  "kernelspec": {
   "display_name": "Python 3",
   "language": "python",
   "name": "python3"
  },
  "language_info": {
   "codemirror_mode": {
    "name": "ipython",
    "version": 3
   },
   "file_extension": ".py",
   "mimetype": "text/x-python",
   "name": "python",
   "nbconvert_exporter": "python",
   "pygments_lexer": "ipython3",
   "version": "3.8.2"
  }
 },
 "nbformat": 4,
 "nbformat_minor": 4
}
