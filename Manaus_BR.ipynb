{
 "cells": [
  {
   "cell_type": "code",
   "execution_count": 198,
   "metadata": {},
   "outputs": [],
   "source": [
    "import ee\n",
    "import geemap"
   ]
  },
  {
   "cell_type": "code",
   "execution_count": 206,
   "metadata": {},
   "outputs": [
    {
     "data": {
      "text/html": [
       "<p>To authorize access needed by Earth Engine, open the following\n",
       "        URL in a web browser and follow the instructions:</p>\n",
       "        <p><a href=https://accounts.google.com/o/oauth2/auth?client_id=517222506229-vsmmajv00ul0bs7p89v5m89qs8eb9359.apps.googleusercontent.com&scope=https%3A%2F%2Fwww.googleapis.com%2Fauth%2Fearthengine+https%3A%2F%2Fwww.googleapis.com%2Fauth%2Fdevstorage.full_control&redirect_uri=urn%3Aietf%3Awg%3Aoauth%3A2.0%3Aoob&response_type=code&code_challenge=i_F9ynuVA-ijj6VuSp2IqBhkHfNeS2i7QA2e9eVIUsM&code_challenge_method=S256>https://accounts.google.com/o/oauth2/auth?client_id=517222506229-vsmmajv00ul0bs7p89v5m89qs8eb9359.apps.googleusercontent.com&scope=https%3A%2F%2Fwww.googleapis.com%2Fauth%2Fearthengine+https%3A%2F%2Fwww.googleapis.com%2Fauth%2Fdevstorage.full_control&redirect_uri=urn%3Aietf%3Awg%3Aoauth%3A2.0%3Aoob&response_type=code&code_challenge=i_F9ynuVA-ijj6VuSp2IqBhkHfNeS2i7QA2e9eVIUsM&code_challenge_method=S256</a></p>\n",
       "        <p>The authorization workflow will generate a code, which you\n",
       "        should paste in the box below</p>\n",
       "        "
      ],
      "text/plain": [
       "<IPython.core.display.HTML object>"
      ]
     },
     "metadata": {},
     "output_type": "display_data"
    },
    {
     "name": "stdout",
     "output_type": "stream",
     "text": [
      "Enter verification code: 4/0QFRh7h8C3a1AnL1RCbV8raixULcIeNCpSRSdU7zjyH-vpQUmFo-Pjk\n",
      "\n",
      "Successfully saved authorization token.\n"
     ]
    }
   ],
   "source": [
    "#Only have to do this once\n",
    "ee.Authenticate()"
   ]
  },
  {
   "cell_type": "code",
   "execution_count": 207,
   "metadata": {},
   "outputs": [],
   "source": [
    "#Not sure this is necessary every time\n",
    "ee.Initialize()"
   ]
  },
  {
   "cell_type": "code",
   "execution_count": 237,
   "metadata": {},
   "outputs": [
    {
     "data": {
      "application/vnd.jupyter.widget-view+json": {
       "model_id": "3e2a4406fc7b47a0962d8f7bd369d541",
       "version_major": 2,
       "version_minor": 0
      },
      "text/plain": [
       "Map(center=[-2.609097222, -60.20929722], controls=(WidgetControl(options=['position'], widget=HBox(children=(T…"
      ]
     },
     "metadata": {},
     "output_type": "display_data"
    }
   ],
   "source": [
    "#Create Map and center on Manauas EC Flux Tower coordinates\n",
    "Map = geemap.Map(center = (-2.609097222, -60.20929722), zoom = 10)\n",
    "Map"
   ]
  },
  {
   "cell_type": "code",
   "execution_count": 238,
   "metadata": {},
   "outputs": [],
   "source": [
    "#Create a point for EC Flux Tower\n",
    "brma2 = ee.Geometry.Point(-60.20929722, -2.609097222)\n",
    "\n",
    "#Determine the area I want my square buffer to be\n",
    "areaM2 = 3.087969e9\n",
    "square = brma2.buffer(ee.Number(areaM2).sqrt().divide(2), 1).bounds()\n",
    "\n",
    "#Add the polygon to the map\n",
    "Map.addLayer(square, {}, 'Manauas Buffer')"
   ]
  },
  {
   "cell_type": "code",
   "execution_count": 240,
   "metadata": {},
   "outputs": [],
   "source": [
    "#Load Sentinel-2 data and filter out cloud cover for tiles with less than 20% coverage\n",
    "#Note: there is also a cloud masking function that I haven't tried. This was just easy.\n",
    "sentinel2 = (ee.ImageCollection(\"COPERNICUS/S2\") \n",
    "    .filterDate('2015-01-01', '2020-01-01') \n",
    "    .filter(ee.Filter.lt('CLOUDY_PIXEL_PERCENTAGE', 20)) \n",
    "    .sort('CLOUDY_PIXEL_PERCENTAGE', False)\n",
    "    .map(lambda image : image.clip(square)))\n",
    "\n",
    "#Create some parameters\n",
    "vis_params = {\n",
    "    'bands': ['B4', 'B3', 'B2'],\n",
    "    'max': 2000\n",
    "}\n",
    "\n",
    "Map.addLayer(sentinel2, vis_params, 'Raw Sentinel')"
   ]
  },
  {
   "cell_type": "code",
   "execution_count": 211,
   "metadata": {},
   "outputs": [],
   "source": [
    "#Calculate the median to create one image; can only use an image with clip function\n",
    "s2_median = sentinel2.median()\n",
    "\n",
    "#Clip median Sentinel-2 data to the square\n",
    "clipped = s2_median.clip(square)\n",
    "Map.addLayer(clipped, vis_params, 'Median Sentinel')"
   ]
  },
  {
   "cell_type": "code",
   "execution_count": null,
   "metadata": {},
   "outputs": [],
   "source": [
    "#Calculate NDRE\n",
    "#Select the least cloudy image\n",
    "#Note: having to select only one image of the collection to calculate NDRE is REALLY annoying\n",
    "#I can't find a way around it right now.\n",
    "image = (ee.Image(\n",
    "  sentinel2.filterBounds(square)\n",
    "    .filterDate('2015-01-01', '2020-01-01')\n",
    "    .sort('CLOUDY_PIXEL_PERCENTAGE')\n",
    "    .first()))\n",
    "\n",
    "#Set up NDRE calculation\n",
    "nir = image.select('B8')\n",
    "edge = image.select('B5')\n",
    "ndre = nir.subtract(edge).divide(nir.add(edge)).rename('NDRE')\n",
    "ndreParams = {min: -1, max: 1, 'palette': ['blue', 'white', 'green']}\n",
    "Map.addLayer(ndre, ndreParams, 'NDRE Image')\n",
    "\n",
    "addNDRE = (lambda image : image.addBands(ndre))\n",
    "\n",
    "withNDRE = sentinel2.map(addNDRE)"
   ]
  },
  {
   "cell_type": "code",
   "execution_count": 253,
   "metadata": {},
   "outputs": [],
   "source": [
    "#Make chart -- JK ui.Chart is only available in the code editor\n",
    "#chart = ui.Chart.image.series({\n",
    "#  imageCollection: withNDRE.select('NDRE'),\n",
    "#  region: brma2,\n",
    "#  reducer: ee.Reducer.first(),\n",
    "#  scale: 30\n",
    "#}).setOptions({title: 'NDRE over time'})\n",
    "#print(chart)"
   ]
  },
  {
   "cell_type": "code",
   "execution_count": 254,
   "metadata": {},
   "outputs": [],
   "source": [
    "#Put the EC Tower on top layer\n",
    "Map.addLayer(brma2, {'color': 'FF0000', 'size': 50}, 'Manauas EC Flux Location')"
   ]
  },
  {
   "cell_type": "code",
   "execution_count": null,
   "metadata": {},
   "outputs": [],
   "source": []
  }
 ],
 "metadata": {
  "kernelspec": {
   "display_name": "Python 3",
   "language": "python",
   "name": "python3"
  },
  "language_info": {
   "codemirror_mode": {
    "name": "ipython",
    "version": 3
   },
   "file_extension": ".py",
   "mimetype": "text/x-python",
   "name": "python",
   "nbconvert_exporter": "python",
   "pygments_lexer": "ipython3",
   "version": "3.8.2"
  }
 },
 "nbformat": 4,
 "nbformat_minor": 4
}
